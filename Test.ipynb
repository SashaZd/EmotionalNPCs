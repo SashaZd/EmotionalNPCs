{
 "cells": [
  {
   "cell_type": "code",
   "execution_count": 1,
   "metadata": {
    "collapsed": true
   },
   "outputs": [],
   "source": [
    "%load_ext autoreload\n",
    "%autoreload 2"
   ]
  },
  {
   "cell_type": "markdown",
   "metadata": {},
   "source": [
    "Shift + Enter ===> Runs the code \n",
    "\n",
    "Code | Markdown "
   ]
  },
  {
   "cell_type": "code",
   "execution_count": 2,
   "metadata": {},
   "outputs": [],
   "source": [
    "from Organization import *"
   ]
  },
  {
   "cell_type": "code",
   "execution_count": 3,
   "metadata": {},
   "outputs": [],
   "source": [
    "school = Organization(\"Barnes School\")"
   ]
  },
  {
   "cell_type": "code",
   "execution_count": 4,
   "metadata": {},
   "outputs": [
    {
     "data": {
      "text/plain": [
       "{'XYZ'}"
      ]
     },
     "execution_count": 4,
     "metadata": {},
     "output_type": "execute_result"
    }
   ],
   "source": [
    "school.add_member(\"XYZ\")\n",
    "school.current_members"
   ]
  },
  {
   "cell_type": "code",
   "execution_count": 5,
   "metadata": {},
   "outputs": [
    {
     "data": {
      "text/plain": [
       "'abc school'"
      ]
     },
     "execution_count": 5,
     "metadata": {},
     "output_type": "execute_result"
    }
   ],
   "source": [
    "school.assign_name(\"abc school\")\n",
    "school.name"
   ]
  },
  {
   "cell_type": "code",
   "execution_count": 6,
   "metadata": {},
   "outputs": [
    {
     "data": {
      "text/plain": [
       "[0, 1, 2, 3, 4]"
      ]
     },
     "execution_count": 6,
     "metadata": {},
     "output_type": "execute_result"
    }
   ],
   "source": [
    "school.days_of_meet"
   ]
  },
  {
   "cell_type": "code",
   "execution_count": 7,
   "metadata": {
    "collapsed": true
   },
   "outputs": [],
   "source": [
    "aBigCompany = Company(\"Dangaronpa team\")\n"
   ]
  },
  {
   "cell_type": "code",
   "execution_count": 8,
   "metadata": {},
   "outputs": [],
   "source": [
    "school2 = University(\"another school\")"
   ]
  },
  {
   "cell_type": "code",
   "execution_count": 9,
   "metadata": {},
   "outputs": [
    {
     "data": {
      "text/plain": [
       "[0, 1, 2, 3, 4, 5]"
      ]
     },
     "execution_count": 9,
     "metadata": {},
     "output_type": "execute_result"
    }
   ],
   "source": [
    "school2.days_of_meet"
   ]
  },
  {
   "cell_type": "code",
   "execution_count": 10,
   "metadata": {},
   "outputs": [],
   "source": [
    "from World import World\n",
    "world = World()"
   ]
  },
  {
   "cell_type": "code",
   "execution_count": null,
   "metadata": {
    "scrolled": true
   },
   "outputs": [],
   "source": []
  },
  {
   "cell_type": "code",
   "execution_count": 11,
   "metadata": {},
   "outputs": [
    {
     "data": {
      "text/plain": [
       "[William Eichenberger,\n",
       " Nina Walton,\n",
       " Wade Rebello,\n",
       " Raven Stone,\n",
       " Camille Crooks,\n",
       " Ian Kelley,\n",
       " Debra Boggs,\n",
       " Rick Kitsmiller,\n",
       " Mary Liptak,\n",
       " Jacob Williams,\n",
       " Samuel Duncan,\n",
       " Wendy Lafever,\n",
       " Hazel Henderson,\n",
       " Emily Glaude,\n",
       " Guy Smith,\n",
       " Edward Manning,\n",
       " Vicki Young,\n",
       " Anthony Fry,\n",
       " Tommy Harris,\n",
       " Caryn Harvey,\n",
       " Roy Howell,\n",
       " Sandra Smuin,\n",
       " Gloria Ryland,\n",
       " Michael Rice,\n",
       " Beatrice Martinez,\n",
       " Madeline Miller,\n",
       " Craig Breedlove,\n",
       " Roy Chiu,\n",
       " Sarah Papen,\n",
       " Ramon Weaver,\n",
       " Tony Smith,\n",
       " Jose Barry,\n",
       " Frank Aadland,\n",
       " Rebecca Mckinney,\n",
       " Robin Saylor,\n",
       " Mark Castillo,\n",
       " Edward Bush,\n",
       " William Brown,\n",
       " Darrell Hidalgo,\n",
       " Jimmy Lucas,\n",
       " Brad Malbon,\n",
       " John Cole,\n",
       " Jessica Savino,\n",
       " Clint Walden,\n",
       " Kathy Somogyi,\n",
       " Virginia Chase,\n",
       " Linda Batchelder,\n",
       " Michelle Wilson,\n",
       " Therese Alexander,\n",
       " Kenneth Helmick,\n",
       " John Hopkins,\n",
       " Kathrine Jette,\n",
       " Jesse Randall,\n",
       " William Muscara,\n",
       " Sandra Battle,\n",
       " Fred Allen,\n",
       " Mae Dupree,\n",
       " Sarah Harris,\n",
       " Bryon Henry,\n",
       " Norman Aldrich,\n",
       " Patrick Nielsen,\n",
       " Thelma Samons,\n",
       " Mack Gilbert,\n",
       " Jennifer Brown,\n",
       " Katherine Smith,\n",
       " James Crutcher,\n",
       " Phillip Norris,\n",
       " Sarah Knarr,\n",
       " Keith Peloquin,\n",
       " Rosalind Street,\n",
       " Kenyatta Mills,\n",
       " Christine Santiago,\n",
       " Timothy Ferreira,\n",
       " Robert Molter,\n",
       " Michael Humbert,\n",
       " Elizabeth Dodd,\n",
       " Phillip Magee,\n",
       " William Linton,\n",
       " Karen Clarence,\n",
       " Michele Hutcherson,\n",
       " Cody Childress,\n",
       " Morris Morris,\n",
       " Jean Sanford,\n",
       " Pamela Laumbach,\n",
       " Justin Paschke,\n",
       " Jim Coleman,\n",
       " Delbert Clemens,\n",
       " Corey Crockett,\n",
       " Frankie Nelson,\n",
       " Margaret Graff,\n",
       " Jerry Lasky,\n",
       " James Santos,\n",
       " Mary Wilson,\n",
       " Odell Conners,\n",
       " Violet Conley,\n",
       " Sara Cramer,\n",
       " Roger Kneser,\n",
       " Christopher Huddleston,\n",
       " Michael Seaberry,\n",
       " Michael Gustafson]"
      ]
     },
     "execution_count": 11,
     "metadata": {},
     "output_type": "execute_result"
    }
   ],
   "source": [
    "world.living_population"
   ]
  },
  {
   "cell_type": "code",
   "execution_count": 12,
   "metadata": {},
   "outputs": [],
   "source": [
    "from Attitude import *"
   ]
  },
  {
   "cell_type": "code",
   "execution_count": 13,
   "metadata": {},
   "outputs": [],
   "source": [
    "attitude1 = Attitude(\"Raymond Wright\", \"abortion\")\n",
    "attitude1.set_starting_attitude(0.2,0.1,True)"
   ]
  },
  {
   "cell_type": "code",
   "execution_count": 14,
   "metadata": {},
   "outputs": [
    {
     "data": {
      "text/plain": [
       "0.2"
      ]
     },
     "execution_count": 14,
     "metadata": {},
     "output_type": "execute_result"
    }
   ],
   "source": [
    "attitude1.affinity"
   ]
  },
  {
   "cell_type": "code",
   "execution_count": 15,
   "metadata": {},
   "outputs": [
    {
     "data": {
      "text/plain": [
       "1.0"
      ]
     },
     "execution_count": 15,
     "metadata": {},
     "output_type": "execute_result"
    }
   ],
   "source": [
    "attitude1.do_affinity(0.9)\n",
    "attitude1.affinity"
   ]
  },
  {
   "cell_type": "code",
   "execution_count": 16,
   "metadata": {},
   "outputs": [
    {
     "data": {
      "text/plain": [
       "True"
      ]
     },
     "execution_count": 16,
     "metadata": {},
     "output_type": "execute_result"
    }
   ],
   "source": [
    "attitude1.knowledge"
   ]
  },
  {
   "cell_type": "code",
   "execution_count": 17,
   "metadata": {},
   "outputs": [
    {
     "data": {
      "text/plain": [
       "True"
      ]
     },
     "execution_count": 17,
     "metadata": {},
     "output_type": "execute_result"
    }
   ],
   "source": [
    "attitude1.do_knowledge()\n",
    "attitude1.knowledge"
   ]
  },
  {
   "cell_type": "code",
   "execution_count": null,
   "metadata": {
    "collapsed": true
   },
   "outputs": [],
   "source": []
  }
 ],
 "metadata": {
  "kernelspec": {
   "display_name": "Python 2",
   "language": "python",
   "name": "python2"
  },
  "language_info": {
   "codemirror_mode": {
    "name": "ipython",
    "version": 2
   },
   "file_extension": ".py",
   "mimetype": "text/x-python",
   "name": "python",
   "nbconvert_exporter": "python",
   "pygments_lexer": "ipython2",
   "version": "2.7.13"
  }
 },
 "nbformat": 4,
 "nbformat_minor": 2
}
