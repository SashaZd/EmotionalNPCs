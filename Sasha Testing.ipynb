{
 "cells": [
  {
   "cell_type": "markdown",
   "metadata": {},
   "source": [
    "## Passsage of Time"
   ]
  },
  {
   "cell_type": "markdown",
   "metadata": {},
   "source": [
    "Testing the passage of time in the simulation using SimPy (?)"
   ]
  },
  {
   "cell_type": "code",
   "execution_count": 1,
   "metadata": {
    "collapsed": false
   },
   "outputs": [],
   "source": [
    "%load_ext autoreload\n",
    "%autoreload 2"
   ]
  },
  {
   "cell_type": "code",
   "execution_count": 2,
   "metadata": {
    "collapsed": false
   },
   "outputs": [
    {
     "data": {
      "text/plain": [
       "{'Atlanta': {'hospitals': [Atlanta Hospital],\n",
       "  'schools': [Downs View Infants School],\n",
       "  'universities': []},\n",
       " 'New York': {'hospitals': [New York Hospital],\n",
       "  'schools': [Barn End Centre],\n",
       "  'universities': []},\n",
       " 'Pittsburgh': {'hospitals': [Pittsburgh Hospital],\n",
       "  'schools': [Barming Primary School],\n",
       "  'universities': []},\n",
       " 'Raleigh': {'hospitals': [Raleigh Hospital],\n",
       "  'schools': [The Anthony Roper Primary School,\n",
       "   Chiddingstone CofE Primary School],\n",
       "  'universities': []},\n",
       " 'San Francisco': {'hospitals': [San Francisco Hospital],\n",
       "  'schools': [Brunswick House Primary School],\n",
       "  'universities': []}}"
      ]
     },
     "execution_count": 2,
     "metadata": {},
     "output_type": "execute_result"
    }
   ],
   "source": [
    "from World import World\n",
    "world = World()\n",
    "world.locations"
   ]
  },
  {
   "cell_type": "code",
   "execution_count": 8,
   "metadata": {
    "collapsed": false
   },
   "outputs": [
    {
     "name": "stdout",
     "output_type": "stream",
     "text": [
      "Simulating 10 years\n"
     ]
    }
   ],
   "source": [
    "world.simulate_time()"
   ]
  },
  {
   "cell_type": "code",
   "execution_count": 9,
   "metadata": {
    "collapsed": false,
    "scrolled": false
   },
   "outputs": [
    {
     "data": {
      "text/plain": [
       "{'_Person__age': 20,\n",
       " '_Person__first_name': 'Peter',\n",
       " '_Person__last_name': 'Hayden',\n",
       " 'aliases': set(),\n",
       " 'birth_location': 'Raleigh',\n",
       " 'city': 'Raleigh',\n",
       " 'current_location': None,\n",
       " 'current_relationships': {Jimmy Levitsky: (classmate_school) - 7,\n",
       "  Sonya Houston: (classmate_school) - 7,\n",
       "  Douglas Gomez: (classmate_school) - 7,\n",
       "  Stephanie Nielsen: (classmate_school) - 7,\n",
       "  Claude Goracke: (classmate_school) - 7,\n",
       "  Dawn Whitmire: (classmate_school) - 7,\n",
       "  Leonard Durst: (classmate_school) - 7},\n",
       " 'current_school': None,\n",
       " 'father': None,\n",
       " 'flag_activate_school': False,\n",
       " 'flag_activate_university': False,\n",
       " 'flag_sexually_active': True,\n",
       " 'gender': 'male',\n",
       " 'house_number': None,\n",
       " 'id': 2,\n",
       " 'journal': [u'01-01-1990 - I was born in Raleigh. I had no parents. '],\n",
       " 'mother': None,\n",
       " 'partner': None,\n",
       " 'past_addresses': [],\n",
       " 'past_relationships': {},\n",
       " 'past_schools': [Chiddingstone CofE Primary School,\n",
       "  Chiddingstone CofE Primary School,\n",
       "  Chiddingstone CofE Primary School],\n",
       " 'past_universities': None,\n",
       " 'school': None,\n",
       " 'sexual_preference': 'herosexual',\n",
       " 'spouse': None,\n",
       " 'university': None,\n",
       " 'world': <World.World at 0x10366b910>}"
      ]
     },
     "execution_count": 9,
     "metadata": {},
     "output_type": "execute_result"
    }
   ],
   "source": [
    "world.living_population[2].who_is()"
   ]
  },
  {
   "cell_type": "code",
   "execution_count": 24,
   "metadata": {
    "collapsed": false
   },
   "outputs": [],
   "source": [
    "# world.make_baby([12,3,1989], m, f)"
   ]
  },
  {
   "cell_type": "code",
   "execution_count": 25,
   "metadata": {
    "collapsed": false
   },
   "outputs": [],
   "source": [
    "# m = world.living_population[5]\n",
    "# f = world.living_population[2]"
   ]
  },
  {
   "cell_type": "code",
   "execution_count": 26,
   "metadata": {
    "collapsed": false
   },
   "outputs": [],
   "source": [
    "# world.living_population[-1].who_is()"
   ]
  },
  {
   "cell_type": "code",
   "execution_count": null,
   "metadata": {
    "collapsed": false
   },
   "outputs": [],
   "source": []
  },
  {
   "cell_type": "code",
   "execution_count": 4,
   "metadata": {
    "collapsed": false
   },
   "outputs": [],
   "source": [
    "from Town import Town\n",
    "t = Town(\"Raleigh\", world)"
   ]
  },
  {
   "cell_type": "markdown",
   "metadata": {},
   "source": [
    "## Generate People"
   ]
  },
  {
   "cell_type": "markdown",
   "metadata": {},
   "source": [
    "Generating a person with some basic random attributes as decided "
   ]
  },
  {
   "cell_type": "code",
   "execution_count": null,
   "metadata": {
    "collapsed": false
   },
   "outputs": [],
   "source": [
    "from Person import Person"
   ]
  },
  {
   "cell_type": "code",
   "execution_count": null,
   "metadata": {
    "collapsed": false
   },
   "outputs": [],
   "source": [
    "p = Person()"
   ]
  },
  {
   "cell_type": "code",
   "execution_count": null,
   "metadata": {
    "collapsed": false
   },
   "outputs": [],
   "source": [
    "world.living_population[0].who_is()"
   ]
  },
  {
   "cell_type": "code",
   "execution_count": null,
   "metadata": {
    "collapsed": false
   },
   "outputs": [],
   "source": [
    "p.aliases"
   ]
  },
  {
   "cell_type": "code",
   "execution_count": null,
   "metadata": {
    "collapsed": false
   },
   "outputs": [],
   "source": [
    "p.last_name = \"Tauro\""
   ]
  },
  {
   "cell_type": "code",
   "execution_count": null,
   "metadata": {
    "collapsed": false
   },
   "outputs": [],
   "source": [
    "p.get_full_name()\n"
   ]
  },
  {
   "cell_type": "code",
   "execution_count": null,
   "metadata": {
    "collapsed": false
   },
   "outputs": [],
   "source": [
    "import random\n",
    "random.random()"
   ]
  },
  {
   "cell_type": "code",
   "execution_count": null,
   "metadata": {
    "collapsed": true
   },
   "outputs": [],
   "source": []
  }
 ],
 "metadata": {
  "kernelspec": {
   "display_name": "Python 2",
   "language": "python",
   "name": "python2"
  },
  "language_info": {
   "codemirror_mode": {
    "name": "ipython",
    "version": 2
   },
   "file_extension": ".py",
   "mimetype": "text/x-python",
   "name": "python",
   "nbconvert_exporter": "python",
   "pygments_lexer": "ipython2",
   "version": "2.7.13"
  }
 },
 "nbformat": 4,
 "nbformat_minor": 2
}
