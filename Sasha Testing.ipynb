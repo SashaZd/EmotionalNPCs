{
 "cells": [
  {
   "cell_type": "markdown",
   "metadata": {},
   "source": [
    "## Passsage of Time"
   ]
  },
  {
   "cell_type": "markdown",
   "metadata": {},
   "source": [
    "Testing the passage of time in the simulation using SimPy (?)"
   ]
  },
  {
   "cell_type": "code",
   "execution_count": null,
   "metadata": {
    "collapsed": false
   },
   "outputs": [],
   "source": [
    "# %load_ext autoreload\n",
    "# %autoreload 2"
   ]
  },
  {
   "cell_type": "code",
   "execution_count": 4,
   "metadata": {
    "collapsed": false
   },
   "outputs": [
    {
     "name": "stdout",
     "output_type": "stream",
     "text": [
      "Big Bang!\n"
     ]
    },
    {
     "data": {
      "text/plain": [
       "{'Area 51': Area 51,\n",
       " 'Atlanta': Atlanta,\n",
       " 'New York': New York,\n",
       " 'Pittsburgh': Pittsburgh,\n",
       " 'Raleigh': Raleigh,\n",
       " 'San Francisco': San Francisco}"
      ]
     },
     "execution_count": 4,
     "metadata": {},
     "output_type": "execute_result"
    }
   ],
   "source": [
    "from World import World\n",
    "world = World()\n",
    "world.towns"
   ]
  },
  {
   "cell_type": "code",
   "execution_count": null,
   "metadata": {
    "collapsed": false
   },
   "outputs": [],
   "source": [
    "len(world.living_population)"
   ]
  },
  {
   "cell_type": "code",
   "execution_count": null,
   "metadata": {
    "collapsed": false
   },
   "outputs": [],
   "source": [
    "world.simulate_time()"
   ]
  },
  {
   "cell_type": "code",
   "execution_count": null,
   "metadata": {
    "collapsed": false,
    "scrolled": false
   },
   "outputs": [],
   "source": [
    "world.towns['New York'].__dict__"
   ]
  },
  {
   "cell_type": "code",
   "execution_count": 5,
   "metadata": {
    "collapsed": false
   },
   "outputs": [
    {
     "data": {
      "text/plain": [
       "defaultdict(dict,\n",
       "            {'democrat': {'democrat_0': {'attitude': -0.02,\n",
       "               'opinion': -0.31,\n",
       "               'pri_thr': 0.46,\n",
       "               'pub_thr': 0.6,\n",
       "               'unc': 0.29},\n",
       "              'democrat_1': {'attitude': 0.64,\n",
       "               'opinion': 0.73,\n",
       "               'pri_thr': 0.06,\n",
       "               'pub_thr': 0.6,\n",
       "               'unc': 0.08999999999999997},\n",
       "              'democrat_10': {'attitude': -0.34,\n",
       "               'opinion': -0.34,\n",
       "               'pri_thr': 0.17,\n",
       "               'pub_thr': 0.6,\n",
       "               'unc': 0.0},\n",
       "              'democrat_11': {'attitude': 0.71,\n",
       "               'opinion': 0.79,\n",
       "               'pri_thr': 0.44,\n",
       "               'pub_thr': 0.6,\n",
       "               'unc': 0.08000000000000007},\n",
       "              'democrat_12': {'attitude': -0.69,\n",
       "               'opinion': -0.45,\n",
       "               'pri_thr': 0.27,\n",
       "               'pub_thr': 0.6,\n",
       "               'unc': 0.23999999999999994},\n",
       "              'democrat_13': {'attitude': 0.77,\n",
       "               'opinion': 1.0,\n",
       "               'pri_thr': 0.42,\n",
       "               'pub_thr': 0.6,\n",
       "               'unc': 0.22999999999999998},\n",
       "              'democrat_14': {'attitude': 0.52,\n",
       "               'opinion': 0.79,\n",
       "               'pri_thr': 0.02,\n",
       "               'pub_thr': 0.6,\n",
       "               'unc': 0.27},\n",
       "              'democrat_3': {'attitude': -0.56,\n",
       "               'opinion': -0.48,\n",
       "               'pri_thr': 0.22,\n",
       "               'pub_thr': 0.6,\n",
       "               'unc': 0.08000000000000007},\n",
       "              'democrat_4': {'attitude': -0.99,\n",
       "               'opinion': -1.0,\n",
       "               'pri_thr': 0.69,\n",
       "               'pub_thr': 0.6,\n",
       "               'unc': 0.010000000000000009},\n",
       "              'democrat_5': {'attitude': 0.62,\n",
       "               'opinion': 0.3,\n",
       "               'pri_thr': 0.91,\n",
       "               'pub_thr': 0.6,\n",
       "               'unc': 0.32},\n",
       "              'democrat_6': {'attitude': 0.42,\n",
       "               'opinion': 0.73,\n",
       "               'pri_thr': 0.34,\n",
       "               'pub_thr': 0.6,\n",
       "               'unc': 0.31},\n",
       "              'democrat_7': {'attitude': -0.01,\n",
       "               'opinion': -0.33,\n",
       "               'pri_thr': 0.52,\n",
       "               'pub_thr': 0.6,\n",
       "               'unc': 0.32},\n",
       "              'democrat_8': {'attitude': 0.73,\n",
       "               'opinion': 0.97,\n",
       "               'pri_thr': 0.4,\n",
       "               'pub_thr': 0.6,\n",
       "               'unc': 0.24},\n",
       "              'democrat_9': {'attitude': 0.68,\n",
       "               'opinion': 0.63,\n",
       "               'pri_thr': 0.19,\n",
       "               'pub_thr': 0.6,\n",
       "               'unc': 0.050000000000000044}}})"
      ]
     },
     "execution_count": 5,
     "metadata": {},
     "output_type": "execute_result"
    }
   ],
   "source": [
    "world.towns['New York'].citizens[1].knowledge"
   ]
  },
  {
   "cell_type": "code",
   "execution_count": null,
   "metadata": {
    "collapsed": false
   },
   "outputs": [],
   "source": []
  },
  {
   "cell_type": "code",
   "execution_count": null,
   "metadata": {
    "collapsed": false
   },
   "outputs": [],
   "source": [
    "# world.birthdays"
   ]
  },
  {
   "cell_type": "code",
   "execution_count": null,
   "metadata": {
    "collapsed": false
   },
   "outputs": [],
   "source": [
    "world.knowledge.biases['democrat']"
   ]
  },
  {
   "cell_type": "code",
   "execution_count": null,
   "metadata": {
    "collapsed": false
   },
   "outputs": [],
   "source": []
  },
  {
   "cell_type": "markdown",
   "metadata": {},
   "source": [
    "## Generate People"
   ]
  },
  {
   "cell_type": "markdown",
   "metadata": {},
   "source": [
    "Generating a person with some basic random attributes as decided "
   ]
  },
  {
   "cell_type": "code",
   "execution_count": null,
   "metadata": {
    "collapsed": false
   },
   "outputs": [],
   "source": [
    "from Person import Person"
   ]
  },
  {
   "cell_type": "code",
   "execution_count": null,
   "metadata": {
    "collapsed": false
   },
   "outputs": [],
   "source": [
    "p = Person()"
   ]
  },
  {
   "cell_type": "code",
   "execution_count": null,
   "metadata": {
    "collapsed": false
   },
   "outputs": [],
   "source": [
    "world.living_population[0].who_is()"
   ]
  },
  {
   "cell_type": "code",
   "execution_count": null,
   "metadata": {
    "collapsed": false
   },
   "outputs": [],
   "source": [
    "p.aliases"
   ]
  },
  {
   "cell_type": "code",
   "execution_count": null,
   "metadata": {
    "collapsed": false
   },
   "outputs": [],
   "source": [
    "p.last_name = \"Tauro\""
   ]
  },
  {
   "cell_type": "code",
   "execution_count": null,
   "metadata": {
    "collapsed": false
   },
   "outputs": [],
   "source": [
    "p.get_full_name()\n"
   ]
  },
  {
   "cell_type": "code",
   "execution_count": null,
   "metadata": {
    "collapsed": false
   },
   "outputs": [],
   "source": [
    "import random\n",
    "random.random()"
   ]
  },
  {
   "cell_type": "code",
   "execution_count": null,
   "metadata": {
    "collapsed": true
   },
   "outputs": [],
   "source": []
  }
 ],
 "metadata": {
  "kernelspec": {
   "display_name": "Python 2",
   "language": "python",
   "name": "python2"
  },
  "language_info": {
   "codemirror_mode": {
    "name": "ipython",
    "version": 2
   },
   "file_extension": ".py",
   "mimetype": "text/x-python",
   "name": "python",
   "nbconvert_exporter": "python",
   "pygments_lexer": "ipython2",
   "version": "2.7.13"
  }
 },
 "nbformat": 4,
 "nbformat_minor": 2
}
