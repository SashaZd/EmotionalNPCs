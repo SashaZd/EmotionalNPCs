{
 "cells": [
  {
   "cell_type": "markdown",
   "metadata": {},
   "source": [
    "## Passsage of Time"
   ]
  },
  {
   "cell_type": "markdown",
   "metadata": {},
   "source": [
    "Testing the passage of time in the simulation using SimPy (?)"
   ]
  },
  {
   "cell_type": "code",
   "execution_count": 1,
   "metadata": {
    "collapsed": false
   },
   "outputs": [],
   "source": [
    "%load_ext autoreload\n",
    "%autoreload 2"
   ]
  },
  {
   "cell_type": "code",
   "execution_count": 2,
   "metadata": {
    "collapsed": false
   },
   "outputs": [
    {
     "name": "stdout",
     "output_type": "stream",
     "text": [
      "{'vaccination': vaccination(15 facts), 'heterosexuality': heterosexuality(10 facts), 'abortion': abortion(5 facts), 'democrat': democrat(20 facts), 'death_penalty': death_penalty(5 facts)}\n",
      "Big Bang!\n"
     ]
    },
    {
     "data": {
      "text/plain": [
       "{'Area 51': Area 51,\n",
       " 'Atlanta': Atlanta,\n",
       " 'New York': New York,\n",
       " 'Pittsburgh': Pittsburgh,\n",
       " 'Raleigh': Raleigh,\n",
       " 'San Francisco': San Francisco}"
      ]
     },
     "execution_count": 2,
     "metadata": {},
     "output_type": "execute_result"
    }
   ],
   "source": [
    "from World import World\n",
    "world = World()\n",
    "world.towns"
   ]
  },
  {
   "cell_type": "code",
   "execution_count": 3,
   "metadata": {
    "collapsed": false
   },
   "outputs": [
    {
     "name": "stdout",
     "output_type": "stream",
     "text": [
      "35\n"
     ]
    }
   ],
   "source": [
    "print len(world.living_population)"
   ]
  },
  {
   "cell_type": "code",
   "execution_count": 4,
   "metadata": {
    "collapsed": false
   },
   "outputs": [
    {
     "name": "stdout",
     "output_type": "stream",
     "text": [
      "Simulating 10 years\n",
      "Discussion of vaccination_0: Known to 2/2 people\n",
      "[{'person': Michael Owens, 'opinion': {'opinion': 0.0, 'attitude': 0.03, 'unc': 0.03, 'pri_thr': 0.38, 'pub_thr': 0.6}}, {'person': Odell Eckerson-Haas, 'opinion': {'opinion': 0.6, 'attitude': 0.7, 'unc': 0.1, 'pri_thr': 0.11, 'pub_thr': 0.6}}]\n",
      "Discussion of vaccination_10: Known to 2/2 people\n",
      "[{'person': Michael Owens, 'opinion': {'opinion': -0.36, 'attitude': -0.12, 'unc': 0.24, 'pri_thr': 0.29, 'pub_thr': 0.6}}, {'person': Odell Eckerson-Haas, 'opinion': {'opinion': -0.8, 'attitude': -0.68, 'unc': 0.12, 'pri_thr': 0.18, 'pub_thr': 0.6}}]\n",
      "Discussion of vaccination_13: Known to 2/2 people\n",
      "[{'person': Michael Owens, 'opinion': {'opinion': -0.29, 'attitude': -0.5, 'unc': 0.21, 'pri_thr': 0.73, 'pub_thr': 0.6}}, {'person': Odell Eckerson-Haas, 'opinion': {'opinion': -0.77, 'attitude': -0.41, 'unc': 0.36, 'pri_thr': 0.16, 'pub_thr': 0.6}}]\n",
      "Discussion of vaccination_13: Known to 2/2 people\n",
      "[{'person': Michael Owens, 'opinion': {'opinion': -0.01, 'attitude': 0.1, 'unc': 0.11, 'pri_thr': 0.78, 'pub_thr': 0.6}}, {'person': Odell Eckerson-Haas, 'opinion': {'opinion': 1.0, 'attitude': 0.96, 'unc': 0.04, 'pri_thr': 0.41, 'pub_thr': 0.6}}]\n",
      "Discussion of vaccination_13: Known to 2/2 people\n",
      "[{'person': Michael Owens, 'opinion': {'opinion': -0.01, 'attitude': 0.1, 'unc': 0.11, 'pri_thr': 0.78, 'pub_thr': 0.6}}, {'person': Odell Eckerson-Haas, 'opinion': {'opinion': 1.0, 'attitude': 0.96, 'unc': 0.04, 'pri_thr': 0.41, 'pub_thr': 0.6}}]\n",
      "Discussion of vaccination_14: Known to 2/2 people\n",
      "[{'person': Michael Owens, 'opinion': {'opinion': -0.56, 'attitude': -0.35, 'unc': 0.21, 'pri_thr': 0.65, 'pub_thr': 0.6}}, {'person': Odell Eckerson-Haas, 'opinion': {'opinion': -0.9, 'attitude': -0.93, 'unc': 0.03, 'pri_thr': 0.11, 'pub_thr': 0.6}}]\n",
      "Discussion of vaccination_13: Known to 2/2 people\n",
      "[{'person': Michael Owens, 'opinion': {'opinion': -0.01, 'attitude': 0.1, 'unc': 0.11, 'pri_thr': 0.78, 'pub_thr': 0.6}}, {'person': Odell Eckerson-Haas, 'opinion': {'opinion': 1.0, 'attitude': 0.96, 'unc': 0.04, 'pri_thr': 0.41, 'pub_thr': 0.6}}]\n",
      "Discussion of vaccination_13: Known to 2/2 people\n",
      "[{'person': Michael Owens, 'opinion': {'opinion': -0.01, 'attitude': 0.1, 'unc': 0.11, 'pri_thr': 0.78, 'pub_thr': 0.6}}, {'person': Odell Eckerson-Haas, 'opinion': {'opinion': 1.0, 'attitude': 0.96, 'unc': 0.04, 'pri_thr': 0.41, 'pub_thr': 0.6}}]\n",
      "Discussion of vaccination_13: Known to 2/2 people\n",
      "[{'person': Michael Owens, 'opinion': {'opinion': -0.13, 'attitude': 0.29, 'unc': 0.42, 'pri_thr': 0.64, 'pub_thr': 0.6}}, {'person': Odell Eckerson-Haas, 'opinion': {'opinion': -0.31, 'attitude': -0.66, 'unc': 0.35, 'pri_thr': 0.46, 'pub_thr': 0.6}}]\n",
      "Discussion of vaccination_13: Known to 2/2 people\n",
      "[{'person': Michael Owens, 'opinion': {'opinion': -0.13, 'attitude': 0.29, 'unc': 0.42, 'pri_thr': 0.64, 'pub_thr': 0.6}}, {'person': Odell Eckerson-Haas, 'opinion': {'opinion': -0.31, 'attitude': -0.66, 'unc': 0.35, 'pri_thr': 0.46, 'pub_thr': 0.6}}]\n",
      "Discussion of vaccination_14: Known to 2/2 people\n",
      "[{'person': Michael Owens, 'opinion': {'opinion': -0.56, 'attitude': -0.35, 'unc': 0.21, 'pri_thr': 0.65, 'pub_thr': 0.6}}, {'person': Odell Eckerson-Haas, 'opinion': {'opinion': -0.9, 'attitude': -0.93, 'unc': 0.03, 'pri_thr': 0.11, 'pub_thr': 0.6}}]\n",
      "Discussion of vaccination_14: Known to 2/2 people\n",
      "[{'person': Michael Owens, 'opinion': {'opinion': -0.56, 'attitude': -0.35, 'unc': 0.21, 'pri_thr': 0.65, 'pub_thr': 0.6}}, {'person': Odell Eckerson-Haas, 'opinion': {'opinion': -0.9, 'attitude': -0.93, 'unc': 0.03, 'pri_thr': 0.11, 'pub_thr': 0.6}}]\n",
      "Discussion of vaccination_14: Known to 2/2 people\n",
      "[{'person': Michael Owens, 'opinion': {'opinion': -0.56, 'attitude': -0.35, 'unc': 0.21, 'pri_thr': 0.65, 'pub_thr': 0.6}}, {'person': Odell Eckerson-Haas, 'opinion': {'opinion': -0.9, 'attitude': -0.93, 'unc': 0.03, 'pri_thr': 0.11, 'pub_thr': 0.6}}]\n",
      "Discussion of vaccination_14: Known to 2/2 people\n",
      "[{'person': Michael Owens, 'opinion': {'opinion': -0.56, 'attitude': -0.35, 'unc': 0.21, 'pri_thr': 0.65, 'pub_thr': 0.6}}, {'person': Odell Eckerson-Haas, 'opinion': {'opinion': -0.9, 'attitude': -0.93, 'unc': 0.03, 'pri_thr': 0.11, 'pub_thr': 0.6}}]\n",
      "Discussion of vaccination_14: Known to 2/2 people\n",
      "[{'person': Michael Owens, 'opinion': {'opinion': -0.56, 'attitude': -0.35, 'unc': 0.21, 'pri_thr': 0.65, 'pub_thr': 0.6}}, {'person': Odell Eckerson-Haas, 'opinion': {'opinion': -0.9, 'attitude': -0.93, 'unc': 0.03, 'pri_thr': 0.11, 'pub_thr': 0.6}}]\n",
      "Discussion of vaccination_13: Known to 2/2 people\n",
      "[{'person': Michael Owens, 'opinion': {'opinion': -0.13, 'attitude': 0.29, 'unc': 0.42, 'pri_thr': 0.64, 'pub_thr': 0.6}}, {'person': Odell Eckerson-Haas, 'opinion': {'opinion': -0.31, 'attitude': -0.66, 'unc': 0.35, 'pri_thr': 0.46, 'pub_thr': 0.6}}]\n",
      "Discussion of vaccination_14: Known to 2/2 people\n",
      "[{'person': Terry Robinson, 'opinion': {'opinion': -0.39, 'attitude': -0.88, 'unc': 0.49, 'pri_thr': 0.16, 'pub_thr': 0.6}}, {'person': Lourdes Beecher, 'opinion': {'opinion': 1.0, 'attitude': 0.95, 'unc': 0.05, 'pri_thr': 0.09, 'pub_thr': 0.6}}]\n",
      "Discussion of vaccination_13: Known to 2/2 people\n",
      "[{'person': Michael Owens, 'opinion': {'opinion': -0.13, 'attitude': 0.29, 'unc': 0.42, 'pri_thr': 0.64, 'pub_thr': 0.6}}, {'person': Odell Eckerson-Haas, 'opinion': {'opinion': -0.31, 'attitude': -0.66, 'unc': 0.35, 'pri_thr': 0.46, 'pub_thr': 0.6}}]\n",
      "Discussion of vaccination_13: Known to 2/2 people\n",
      "[{'person': Michael Owens, 'opinion': {'opinion': -0.13, 'attitude': 0.29, 'unc': 0.42, 'pri_thr': 0.64, 'pub_thr': 0.6}}, {'person': Odell Eckerson-Haas, 'opinion': {'opinion': -0.31, 'attitude': -0.66, 'unc': 0.35, 'pri_thr': 0.46, 'pub_thr': 0.6}}]\n",
      "Discussion of vaccination_14: Known to 2/2 people\n",
      "[{'person': Terry Robinson, 'opinion': {'opinion': -0.39, 'attitude': -0.88, 'unc': 0.49, 'pri_thr': 0.16, 'pub_thr': 0.6}}, {'person': Lourdes Beecher, 'opinion': {'opinion': 1.0, 'attitude': 0.95, 'unc': 0.05, 'pri_thr': 0.09, 'pub_thr': 0.6}}]\n",
      "Discussion of vaccination_14: Known to 2/2 people\n",
      "[{'person': Michael Owens, 'opinion': {'opinion': 0.15, 'attitude': 0.31, 'unc': 0.16, 'pri_thr': 0.52, 'pub_thr': 0.6}}, {'person': Odell Eckerson-Haas, 'opinion': {'opinion': 0.93, 'attitude': 0.66, 'unc': 0.27, 'pri_thr': 0.06, 'pub_thr': 0.6}}]\n",
      "Discussion of vaccination_13: Known to 2/2 people\n",
      "[{'person': Terry Robinson, 'opinion': {'opinion': -0.09, 'attitude': 0.25, 'unc': 0.34, 'pri_thr': 0.77, 'pub_thr': 0.6}}, {'person': Lourdes Beecher, 'opinion': {'opinion': -0.1, 'attitude': -0.16, 'unc': 0.06, 'pri_thr': 0.46, 'pub_thr': 0.6}}]\n",
      "Discussion of vaccination_13: Known to 2/2 people\n",
      "[{'person': Terry Robinson, 'opinion': {'opinion': -0.09, 'attitude': 0.25, 'unc': 0.34, 'pri_thr': 0.77, 'pub_thr': 0.6}}, {'person': Lourdes Beecher, 'opinion': {'opinion': -0.1, 'attitude': -0.16, 'unc': 0.06, 'pri_thr': 0.46, 'pub_thr': 0.6}}]\n",
      "Discussion of vaccination_13: Known to 2/2 people\n",
      "[{'person': Terry Robinson, 'opinion': {'opinion': 0.38, 'attitude': 0.59, 'unc': 0.21, 'pri_thr': 0.19, 'pub_thr': 0.6}}, {'person': Lourdes Beecher, 'opinion': {'opinion': -0.1, 'attitude': -0.16, 'unc': 0.06, 'pri_thr': 0.46, 'pub_thr': 0.6}}]\n",
      "Discussion of vaccination_14: Known to 2/3 people\n",
      "[{'person': Terry Robinson, 'opinion': {'opinion': -0.39, 'attitude': -0.88, 'unc': 0.49, 'pri_thr': 0.16, 'pub_thr': 0.6}}, {'person': Lourdes Beecher, 'opinion': {'opinion': 1.0, 'attitude': 0.95, 'unc': 0.05, 'pri_thr': 0.09, 'pub_thr': 0.6}}]\n",
      "Discussion of vaccination_14: Known to 2/2 people\n",
      "[{'person': Michael Owens, 'opinion': {'opinion': 0.15, 'attitude': 0.31, 'unc': 0.16, 'pri_thr': 0.52, 'pub_thr': 0.6}}, {'person': Odell Eckerson-Haas, 'opinion': {'opinion': 0.93, 'attitude': 0.66, 'unc': 0.27, 'pri_thr': 0.06, 'pub_thr': 0.6}}]\n",
      "Discussion of abortion_2: Known to 3/3 people\n",
      "[{'person': Terry Robinson, 'opinion': {'opinion': 0.22, 'attitude': 0.42, 'unc': 0.2, 'pri_thr': 0.45, 'pub_thr': 0.6}}, {'person': Lourdes Beecher, 'opinion': {'opinion': 0.29, 'attitude': 0.16, 'unc': 0.13, 'pri_thr': 0.47, 'pub_thr': 0.6}}, {'person': Linda Sedlock, 'opinion': {'opinion': -0.38, 'attitude': -0.79, 'unc': 0.41, 'pri_thr': 0.91, 'pub_thr': 0.6}}]\n",
      "Discussion of democrat_16: Known to 3/3 people\n",
      "[{'person': Terry Robinson, 'opinion': {'opinion': 0.66, 'attitude': 0.37, 'unc': 0.29, 'pri_thr': 0.22, 'pub_thr': 0.6}}, {'person': Lourdes Beecher, 'opinion': {'opinion': -0.24, 'attitude': -0.68, 'unc': 0.44, 'pri_thr': 0.68, 'pub_thr': 0.6}}, {'person': Linda Sedlock, 'opinion': {'opinion': 0.76, 'attitude': 0.28, 'unc': 0.48, 'pri_thr': 0.94, 'pub_thr': 0.6}}]\n",
      "Discussion of democrat_10: Known to 3/3 people\n",
      "[{'person': Terry Robinson, 'opinion': {'opinion': 0.16, 'attitude': -0.11, 'unc': 0.27, 'pri_thr': 0.09, 'pub_thr': 0.6}}, {'person': Lourdes Beecher, 'opinion': {'opinion': -0.96, 'attitude': -0.47, 'unc': 0.49, 'pri_thr': 0.15, 'pub_thr': 0.6}}, {'person': Linda Sedlock, 'opinion': {'opinion': 0.77, 'attitude': 0.41, 'unc': 0.36, 'pri_thr': 0.01, 'pub_thr': 0.6}}]\n",
      "Discussion of vaccination_14: Known to 2/2 people\n",
      "[{'person': Michael Owens, 'opinion': {'opinion': 0.15, 'attitude': 0.31, 'unc': 0.16, 'pri_thr': 0.52, 'pub_thr': 0.6}}, {'person': Odell Eckerson-Haas, 'opinion': {'opinion': 0.93, 'attitude': 0.66, 'unc': 0.27, 'pri_thr': 0.06, 'pub_thr': 0.6}}]\n",
      "Discussion of democrat_10: Known to 3/3 people\n",
      "[{'person': Michael Owens, 'opinion': {'opinion': 0.8, 'attitude': 0.52, 'unc': 0.28, 'pri_thr': 0.68, 'pub_thr': 0.6}}, {'person': Odell Eckerson-Haas, 'opinion': {'opinion': 1.0, 'attitude': 0.88, 'unc': 0.12, 'pri_thr': 0.2, 'pub_thr': 0.6}}, {'person': Carolyn Glover, 'opinion': {'opinion': -0.34, 'attitude': -0.78, 'unc': 0.44, 'pri_thr': 0.14, 'pub_thr': 0.6}}]\n",
      "Discussion of vaccination_14: Known to 3/3 people\n",
      "[{'person': Michael Owens, 'opinion': {'opinion': -0.07, 'attitude': 0.36, 'unc': 0.43, 'pri_thr': 0.15, 'pub_thr': 0.6}}, {'person': Odell Eckerson-Haas, 'opinion': {'opinion': -0.99, 'attitude': -0.77, 'unc': 0.22, 'pri_thr': 0.33, 'pub_thr': 0.6}}, {'person': Carolyn Glover, 'opinion': {'opinion': -0.9, 'attitude': -0.66, 'unc': 0.24, 'pri_thr': 0.77, 'pub_thr': 0.6}}]\n",
      "Discussion of democrat_18: Known to 3/3 people\n",
      "[{'person': Terry Robinson, 'opinion': {'opinion': 0.41, 'attitude': 0.4, 'unc': 0.01, 'pri_thr': 0.45, 'pub_thr': 0.6}}, {'person': Lourdes Beecher, 'opinion': {'opinion': -1.0, 'attitude': -0.64, 'unc': 0.36, 'pri_thr': 0.55, 'pub_thr': 0.6}}, {'person': Linda Sedlock, 'opinion': {'opinion': 0.85, 'attitude': 0.54, 'unc': 0.31, 'pri_thr': 0.49, 'pub_thr': 0.6}}]\n",
      "Discussion of vaccination_14: Known to 3/3 people\n",
      "[{'person': Michael Owens, 'opinion': {'opinion': -0.07, 'attitude': 0.36, 'unc': 0.43, 'pri_thr': 0.15, 'pub_thr': 0.6}}, {'person': Odell Eckerson-Haas, 'opinion': {'opinion': -0.99, 'attitude': -0.77, 'unc': 0.22, 'pri_thr': 0.33, 'pub_thr': 0.6}}, {'person': Carolyn Glover, 'opinion': {'opinion': -0.9, 'attitude': -0.66, 'unc': 0.24, 'pri_thr': 0.77, 'pub_thr': 0.6}}]\n",
      "Discussion of democrat_18: Known to 3/3 people\n",
      "[{'person': Terry Robinson, 'opinion': {'opinion': 0.41, 'attitude': 0.4, 'unc': 0.01, 'pri_thr': 0.45, 'pub_thr': 0.6}}, {'person': Lourdes Beecher, 'opinion': {'opinion': -1.0, 'attitude': -0.64, 'unc': 0.36, 'pri_thr': 0.55, 'pub_thr': 0.6}}, {'person': Linda Sedlock, 'opinion': {'opinion': 0.85, 'attitude': 0.54, 'unc': 0.31, 'pri_thr': 0.49, 'pub_thr': 0.6}}]\n",
      "Discussion of vaccination_11: Known to 3/3 people\n",
      "[{'person': Terry Robinson, 'opinion': {'opinion': -0.53, 'attitude': -0.61, 'unc': 0.08, 'pri_thr': 0.78, 'pub_thr': 0.6}}, {'person': Lourdes Beecher, 'opinion': {'opinion': 0.36, 'attitude': 0.16, 'unc': 0.2, 'pri_thr': 0.02, 'pub_thr': 0.6}}, {'person': Linda Sedlock, 'opinion': {'opinion': 0.38, 'attitude': -0.01, 'unc': 0.39, 'pri_thr': 0.53, 'pub_thr': 0.6}}]\n",
      "Discussion of vaccination_14: Known to 3/3 people\n",
      "[{'person': Michael Owens, 'opinion': {'opinion': -0.07, 'attitude': 0.36, 'unc': 0.43, 'pri_thr': 0.15, 'pub_thr': 0.6}}, {'person': Odell Eckerson-Haas, 'opinion': {'opinion': -0.99, 'attitude': -0.77, 'unc': 0.22, 'pri_thr': 0.33, 'pub_thr': 0.6}}, {'person': Carolyn Glover, 'opinion': {'opinion': -0.9, 'attitude': -0.66, 'unc': 0.24, 'pri_thr': 0.77, 'pub_thr': 0.6}}]\n",
      "Discussion of vaccination_13: Known to 3/3 people\n",
      "[{'person': Terry Robinson, 'opinion': {'opinion': 0.03, 'attitude': -0.15, 'unc': 0.18, 'pri_thr': 0.24, 'pub_thr': 0.6}}, {'person': Lourdes Beecher, 'opinion': {'opinion': -0.18, 'attitude': -0.25, 'unc': 0.07, 'pri_thr': 0.86, 'pub_thr': 0.6}}, {'person': Linda Sedlock, 'opinion': {'opinion': 0.89, 'attitude': 0.76, 'unc': 0.13, 'pri_thr': 0.93, 'pub_thr': 0.6}}]\n",
      "Discussion of vaccination_11: Known to 3/3 people\n",
      "[{'person': Terry Robinson, 'opinion': {'opinion': -0.53, 'attitude': -0.61, 'unc': 0.08, 'pri_thr': 0.78, 'pub_thr': 0.6}}, {'person': Lourdes Beecher, 'opinion': {'opinion': 0.36, 'attitude': 0.16, 'unc': 0.2, 'pri_thr': 0.02, 'pub_thr': 0.6}}, {'person': Linda Sedlock, 'opinion': {'opinion': 0.38, 'attitude': -0.01, 'unc': 0.39, 'pri_thr': 0.53, 'pub_thr': 0.6}}]\n",
      "Discussion of vaccination_12: Known to 3/3 people\n",
      "[{'person': Terry Robinson, 'opinion': {'opinion': -0.14, 'attitude': -0.57, 'unc': 0.43, 'pri_thr': 0.63, 'pub_thr': 0.6}}, {'person': Lourdes Beecher, 'opinion': {'opinion': -0.39, 'attitude': -0.07, 'unc': 0.32, 'pri_thr': 0.6, 'pub_thr': 0.6}}, {'person': Linda Sedlock, 'opinion': {'opinion': -0.48, 'attitude': -0.25, 'unc': 0.23, 'pri_thr': 0.51, 'pub_thr': 0.6}}]\n",
      "Discussion of vaccination_13: Known to 3/3 people\n",
      "[{'person': Michael Owens, 'opinion': {'opinion': 1.0, 'attitude': 0.95, 'unc': 0.05, 'pri_thr': 0.27, 'pub_thr': 0.6}}, {'person': Odell Eckerson-Haas, 'opinion': {'opinion': 1.0, 'attitude': 0.85, 'unc': 0.15, 'pri_thr': 0.71, 'pub_thr': 0.6}}, {'person': Carolyn Glover, 'opinion': {'opinion': -0.51, 'attitude': -0.46, 'unc': 0.05, 'pri_thr': 0.04, 'pub_thr': 0.6}}]\n",
      "Discussion of vaccination_11: Known to 3/3 people\n",
      "[{'person': Terry Robinson, 'opinion': {'opinion': -0.53, 'attitude': -0.61, 'unc': 0.08, 'pri_thr': 0.78, 'pub_thr': 0.6}}, {'person': Lourdes Beecher, 'opinion': {'opinion': 0.36, 'attitude': 0.16, 'unc': 0.2, 'pri_thr': 0.02, 'pub_thr': 0.6}}, {'person': Linda Sedlock, 'opinion': {'opinion': 0.38, 'attitude': -0.01, 'unc': 0.39, 'pri_thr': 0.53, 'pub_thr': 0.6}}]\n",
      "Discussion of vaccination_13: Known to 3/3 people\n",
      "[{'person': Michael Owens, 'opinion': {'opinion': 1.0, 'attitude': 0.95, 'unc': 0.05, 'pri_thr': 0.27, 'pub_thr': 0.6}}, {'person': Odell Eckerson-Haas, 'opinion': {'opinion': 1.0, 'attitude': 0.85, 'unc': 0.15, 'pri_thr': 0.71, 'pub_thr': 0.6}}, {'person': Carolyn Glover, 'opinion': {'opinion': -0.51, 'attitude': -0.46, 'unc': 0.05, 'pri_thr': 0.04, 'pub_thr': 0.6}}]\n",
      "Discussion of vaccination_11: Known to 3/3 people\n",
      "[{'person': Michael Owens, 'opinion': {'opinion': 1.0, 'attitude': 0.89, 'unc': 0.11, 'pri_thr': 0.79, 'pub_thr': 0.6}}, {'person': Odell Eckerson-Haas, 'opinion': {'opinion': -0.57, 'attitude': -0.88, 'unc': 0.31, 'pri_thr': 0.95, 'pub_thr': 0.6}}, {'person': Carolyn Glover, 'opinion': {'opinion': 0.89, 'attitude': 0.53, 'unc': 0.36, 'pri_thr': 0.2, 'pub_thr': 0.6}}]\n",
      "Discussion of vaccination_11: Known to 3/3 people\n",
      "[{'person': Michael Owens, 'opinion': {'opinion': 1.0, 'attitude': 0.89, 'unc': 0.11, 'pri_thr': 0.79, 'pub_thr': 0.6}}, {'person': Odell Eckerson-Haas, 'opinion': {'opinion': -0.57, 'attitude': -0.88, 'unc': 0.31, 'pri_thr': 0.95, 'pub_thr': 0.6}}, {'person': Carolyn Glover, 'opinion': {'opinion': 0.89, 'attitude': 0.53, 'unc': 0.36, 'pri_thr': 0.2, 'pub_thr': 0.6}}]\n",
      "Discussion of vaccination_11: Known to 3/3 people\n",
      "[{'person': Terry Robinson, 'opinion': {'opinion': -0.53, 'attitude': -0.61, 'unc': 0.08, 'pri_thr': 0.78, 'pub_thr': 0.6}}, {'person': Lourdes Beecher, 'opinion': {'opinion': 0.36, 'attitude': 0.16, 'unc': 0.2, 'pri_thr': 0.02, 'pub_thr': 0.6}}, {'person': Linda Sedlock, 'opinion': {'opinion': 0.38, 'attitude': -0.01, 'unc': 0.39, 'pri_thr': 0.53, 'pub_thr': 0.6}}]\n",
      "Discussion of vaccination_13: Known to 3/3 people\n",
      "[{'person': Michael Owens, 'opinion': {'opinion': 1.0, 'attitude': 0.95, 'unc': 0.05, 'pri_thr': 0.27, 'pub_thr': 0.6}}, {'person': Odell Eckerson-Haas, 'opinion': {'opinion': 1.0, 'attitude': 0.85, 'unc': 0.15, 'pri_thr': 0.71, 'pub_thr': 0.6}}, {'person': Carolyn Glover, 'opinion': {'opinion': -0.51, 'attitude': -0.46, 'unc': 0.05, 'pri_thr': 0.04, 'pub_thr': 0.6}}]\n",
      "Discussion of vaccination_11: Known to 3/3 people\n",
      "[{'person': Michael Owens, 'opinion': {'opinion': 1.0, 'attitude': 0.89, 'unc': 0.11, 'pri_thr': 0.79, 'pub_thr': 0.6}}, {'person': Odell Eckerson-Haas, 'opinion': {'opinion': -0.57, 'attitude': -0.88, 'unc': 0.31, 'pri_thr': 0.95, 'pub_thr': 0.6}}, {'person': Carolyn Glover, 'opinion': {'opinion': 0.89, 'attitude': 0.53, 'unc': 0.36, 'pri_thr': 0.2, 'pub_thr': 0.6}}]\n",
      "Discussion of vaccination_13: Known to 3/3 people\n",
      "[{'person': Terry Robinson, 'opinion': {'opinion': 0.03, 'attitude': -0.15, 'unc': 0.18, 'pri_thr': 0.24, 'pub_thr': 0.6}}, {'person': Lourdes Beecher, 'opinion': {'opinion': -0.18, 'attitude': -0.25, 'unc': 0.07, 'pri_thr': 0.86, 'pub_thr': 0.6}}, {'person': Linda Sedlock, 'opinion': {'opinion': 0.89, 'attitude': 0.76, 'unc': 0.13, 'pri_thr': 0.93, 'pub_thr': 0.6}}]\n",
      "Discussion of vaccination_14: Known to 3/3 people\n",
      "[{'person': Michael Owens, 'opinion': {'opinion': -0.07, 'attitude': 0.36, 'unc': 0.43, 'pri_thr': 0.15, 'pub_thr': 0.6}}, {'person': Odell Eckerson-Haas, 'opinion': {'opinion': -0.99, 'attitude': -0.77, 'unc': 0.22, 'pri_thr': 0.33, 'pub_thr': 0.6}}, {'person': Carolyn Glover, 'opinion': {'opinion': -0.9, 'attitude': -0.66, 'unc': 0.24, 'pri_thr': 0.77, 'pub_thr': 0.6}}]\n",
      "Discussion of vaccination_12: Known to 3/3 people\n",
      "[{'person': Michael Owens, 'opinion': {'opinion': 0.32, 'attitude': 0.71, 'unc': 0.39, 'pri_thr': 0.53, 'pub_thr': 0.6}}, {'person': Odell Eckerson-Haas, 'opinion': {'opinion': -0.82, 'attitude': -0.53, 'unc': 0.29, 'pri_thr': 0.79, 'pub_thr': 0.6}}, {'person': Carolyn Glover, 'opinion': {'opinion': 0.84, 'attitude': 0.93, 'unc': 0.09, 'pri_thr': 0.73, 'pub_thr': 0.6}}]\n",
      "Discussion of vaccination_13: Known to 3/3 people\n",
      "[{'person': Terry Robinson, 'opinion': {'opinion': 0.03, 'attitude': -0.15, 'unc': 0.18, 'pri_thr': 0.24, 'pub_thr': 0.6}}, {'person': Lourdes Beecher, 'opinion': {'opinion': -0.18, 'attitude': -0.25, 'unc': 0.07, 'pri_thr': 0.86, 'pub_thr': 0.6}}, {'person': Linda Sedlock, 'opinion': {'opinion': 0.89, 'attitude': 0.76, 'unc': 0.13, 'pri_thr': 0.93, 'pub_thr': 0.6}}]\n",
      "Discussion of vaccination_13: Known to 3/3 people\n",
      "[{'person': Michael Owens, 'opinion': {'opinion': 1.0, 'attitude': 0.95, 'unc': 0.05, 'pri_thr': 0.27, 'pub_thr': 0.6}}, {'person': Odell Eckerson-Haas, 'opinion': {'opinion': 1.0, 'attitude': 0.85, 'unc': 0.15, 'pri_thr': 0.71, 'pub_thr': 0.6}}, {'person': Carolyn Glover, 'opinion': {'opinion': -0.51, 'attitude': -0.46, 'unc': 0.05, 'pri_thr': 0.04, 'pub_thr': 0.6}}]\n",
      "Discussion of vaccination_11: Known to 3/3 people\n",
      "[{'person': Terry Robinson, 'opinion': {'opinion': -0.53, 'attitude': -0.61, 'unc': 0.08, 'pri_thr': 0.78, 'pub_thr': 0.6}}, {'person': Lourdes Beecher, 'opinion': {'opinion': 0.36, 'attitude': 0.16, 'unc': 0.2, 'pri_thr': 0.02, 'pub_thr': 0.6}}, {'person': Linda Sedlock, 'opinion': {'opinion': 0.38, 'attitude': -0.01, 'unc': 0.39, 'pri_thr': 0.53, 'pub_thr': 0.6}}]\n",
      "Discussion of vaccination_11: Known to 3/3 people\n",
      "[{'person': Terry Robinson, 'opinion': {'opinion': -0.53, 'attitude': -0.61, 'unc': 0.08, 'pri_thr': 0.78, 'pub_thr': 0.6}}, {'person': Lourdes Beecher, 'opinion': {'opinion': 0.36, 'attitude': 0.16, 'unc': 0.2, 'pri_thr': 0.02, 'pub_thr': 0.6}}, {'person': Linda Sedlock, 'opinion': {'opinion': 0.38, 'attitude': -0.01, 'unc': 0.39, 'pri_thr': 0.53, 'pub_thr': 0.6}}]\n",
      "Discussion of vaccination_12: Known to 3/3 people\n",
      "[{'person': Terry Robinson, 'opinion': {'opinion': 1.0, 'attitude': 0.84, 'unc': 0.16, 'pri_thr': 0.12, 'pub_thr': 0.6}}, {'person': Lourdes Beecher, 'opinion': {'opinion': -0.39, 'attitude': -0.07, 'unc': 0.32, 'pri_thr': 0.6, 'pub_thr': 0.6}}, {'person': Linda Sedlock, 'opinion': {'opinion': -0.48, 'attitude': -0.25, 'unc': 0.23, 'pri_thr': 0.51, 'pub_thr': 0.6}}]\n",
      "Discussion of vaccination_14: Known to 3/3 people\n",
      "[{'person': Michael Owens, 'opinion': {'opinion': 0.75, 'attitude': 0.96, 'unc': 0.21, 'pri_thr': 0.74, 'pub_thr': 0.6}}, {'person': Odell Eckerson-Haas, 'opinion': {'opinion': -1.01, 'attitude': -0.54, 'unc': 0.47, 'pri_thr': 0.22, 'pub_thr': 0.6}}, {'person': Carolyn Glover, 'opinion': {'opinion': -0.39, 'attitude': -0.88, 'unc': 0.49, 'pri_thr': 0.87, 'pub_thr': 0.6}}]\n",
      "Discussion of vaccination_13: Known to 3/3 people\n",
      "[{'person': Terry Robinson, 'opinion': {'opinion': -0.49, 'attitude': -0.4, 'unc': 0.09, 'pri_thr': 0.18, 'pub_thr': 0.6}}, {'person': Lourdes Beecher, 'opinion': {'opinion': 0.36, 'attitude': 0.46, 'unc': 0.1, 'pri_thr': 0.28, 'pub_thr': 0.6}}, {'person': Linda Sedlock, 'opinion': {'opinion': 0.16, 'attitude': 0.53, 'unc': 0.37, 'pri_thr': 0.65, 'pub_thr': 0.6}}]\n",
      "Discussion of vaccination_13: Known to 3/3 people\n",
      "[{'person': Terry Robinson, 'opinion': {'opinion': -0.49, 'attitude': -0.4, 'unc': 0.09, 'pri_thr': 0.18, 'pub_thr': 0.6}}, {'person': Lourdes Beecher, 'opinion': {'opinion': 0.36, 'attitude': 0.46, 'unc': 0.1, 'pri_thr': 0.28, 'pub_thr': 0.6}}, {'person': Linda Sedlock, 'opinion': {'opinion': 0.16, 'attitude': 0.53, 'unc': 0.37, 'pri_thr': 0.65, 'pub_thr': 0.6}}]\n",
      "Discussion of vaccination_13: Known to 3/3 people\n",
      "[{'person': Terry Robinson, 'opinion': {'opinion': -0.49, 'attitude': -0.4, 'unc': 0.09, 'pri_thr': 0.18, 'pub_thr': 0.6}}, {'person': Lourdes Beecher, 'opinion': {'opinion': 0.36, 'attitude': 0.46, 'unc': 0.1, 'pri_thr': 0.28, 'pub_thr': 0.6}}, {'person': Linda Sedlock, 'opinion': {'opinion': 0.16, 'attitude': 0.53, 'unc': 0.37, 'pri_thr': 0.65, 'pub_thr': 0.6}}]\n",
      "Discussion of vaccination_12: Known to 3/3 people\n",
      "[{'person': Michael Owens, 'opinion': {'opinion': 0.32, 'attitude': 0.71, 'unc': 0.39, 'pri_thr': 0.53, 'pub_thr': 0.6}}, {'person': Odell Eckerson-Haas, 'opinion': {'opinion': -0.82, 'attitude': -0.53, 'unc': 0.29, 'pri_thr': 0.79, 'pub_thr': 0.6}}, {'person': Carolyn Glover, 'opinion': {'opinion': 0.84, 'attitude': 0.93, 'unc': 0.09, 'pri_thr': 0.73, 'pub_thr': 0.6}}]\n",
      "Discussion of vaccination_13: Known to 3/3 people\n",
      "[{'person': Michael Owens, 'opinion': {'opinion': -0.29, 'attitude': -0.75, 'unc': 0.46, 'pri_thr': 0.0, 'pub_thr': 0.6}}, {'person': Odell Eckerson-Haas, 'opinion': {'opinion': 0.85, 'attitude': 0.6, 'unc': 0.25, 'pri_thr': 0.15, 'pub_thr': 0.6}}, {'person': Carolyn Glover, 'opinion': {'opinion': -0.22, 'attitude': -0.39, 'unc': 0.17, 'pri_thr': 0.25, 'pub_thr': 0.6}}]\n",
      "Discussion of vaccination_13: Known to 3/3 people\n",
      "[{'person': Michael Owens, 'opinion': {'opinion': -0.29, 'attitude': -0.75, 'unc': 0.46, 'pri_thr': 0.0, 'pub_thr': 0.6}}, {'person': Odell Eckerson-Haas, 'opinion': {'opinion': 0.85, 'attitude': 0.6, 'unc': 0.25, 'pri_thr': 0.15, 'pub_thr': 0.6}}, {'person': Carolyn Glover, 'opinion': {'opinion': -0.22, 'attitude': -0.39, 'unc': 0.17, 'pri_thr': 0.25, 'pub_thr': 0.6}}]\n",
      "Discussion of vaccination_11: Known to 3/3 people\n",
      "[{'person': Terry Robinson, 'opinion': {'opinion': -0.14, 'attitude': -0.53, 'unc': 0.39, 'pri_thr': 0.37, 'pub_thr': 0.6}}, {'person': Lourdes Beecher, 'opinion': {'opinion': 0.36, 'attitude': 0.16, 'unc': 0.2, 'pri_thr': 0.02, 'pub_thr': 0.6}}, {'person': Linda Sedlock, 'opinion': {'opinion': 0.38, 'attitude': -0.01, 'unc': 0.39, 'pri_thr': 0.53, 'pub_thr': 0.6}}]\n",
      "Discussion of vaccination_14: Known to 3/3 people\n",
      "[{'person': Michael Owens, 'opinion': {'opinion': 0.37, 'attitude': -0.06, 'unc': 0.43, 'pri_thr': 0.91, 'pub_thr': 0.6}}, {'person': Odell Eckerson-Haas, 'opinion': {'opinion': -0.43, 'attitude': -0.82, 'unc': 0.39, 'pri_thr': 0.62, 'pub_thr': 0.6}}, {'person': Carolyn Glover, 'opinion': {'opinion': -0.1, 'attitude': -0.3, 'unc': 0.2, 'pri_thr': 0.6, 'pub_thr': 0.6}}]\n",
      "Discussion of vaccination_13: Known to 3/3 people\n",
      "[{'person': Terry Robinson, 'opinion': {'opinion': 0.16, 'attitude': 0.05, 'unc': 0.11, 'pri_thr': 0.1, 'pub_thr': 0.6}}, {'person': Lourdes Beecher, 'opinion': {'opinion': -0.1, 'attitude': -0.12, 'unc': 0.02, 'pri_thr': 0.47, 'pub_thr': 0.6}}, {'person': Linda Sedlock, 'opinion': {'opinion': -0.38, 'attitude': 0.06, 'unc': 0.44, 'pri_thr': 0.13, 'pub_thr': 0.6}}]\n",
      "Discussion of vaccination_11: Known to 3/3 people\n",
      "[{'person': Terry Robinson, 'opinion': {'opinion': -0.14, 'attitude': -0.53, 'unc': 0.39, 'pri_thr': 0.37, 'pub_thr': 0.6}}, {'person': Lourdes Beecher, 'opinion': {'opinion': 0.36, 'attitude': 0.16, 'unc': 0.2, 'pri_thr': 0.02, 'pub_thr': 0.6}}, {'person': Linda Sedlock, 'opinion': {'opinion': 0.38, 'attitude': -0.01, 'unc': 0.39, 'pri_thr': 0.53, 'pub_thr': 0.6}}]\n",
      "Discussion of vaccination_12: Known to 3/3 people\n",
      "[{'person': Michael Owens, 'opinion': {'opinion': 0.41, 'attitude': 0.86, 'unc': 0.45, 'pri_thr': 1.0, 'pub_thr': 0.6}}, {'person': Odell Eckerson-Haas, 'opinion': {'opinion': -0.57, 'attitude': -0.65, 'unc': 0.08, 'pri_thr': 0.27, 'pub_thr': 0.6}}, {'person': Carolyn Glover, 'opinion': {'opinion': 0.28, 'attitude': 0.71, 'unc': 0.43, 'pri_thr': 0.94, 'pub_thr': 0.6}}]\n",
      "Discussion of vaccination_12: Known to 3/3 people\n",
      "[{'person': Terry Robinson, 'opinion': {'opinion': -0.71, 'attitude': -0.38, 'unc': 0.33, 'pri_thr': 0.14, 'pub_thr': 0.6}}, {'person': Lourdes Beecher, 'opinion': {'opinion': -0.13, 'attitude': -0.33, 'unc': 0.2, 'pri_thr': 0.15, 'pub_thr': 0.6}}, {'person': Linda Sedlock, 'opinion': {'opinion': -1.03, 'attitude': -0.83, 'unc': 0.2, 'pri_thr': 0.12, 'pub_thr': 0.6}}]\n",
      "Discussion of vaccination_12: Known to 3/3 people\n",
      "[{'person': Michael Owens, 'opinion': {'opinion': 0.41, 'attitude': 0.86, 'unc': 0.45, 'pri_thr': 1.0, 'pub_thr': 0.6}}, {'person': Odell Eckerson-Haas, 'opinion': {'opinion': -0.57, 'attitude': -0.65, 'unc': 0.08, 'pri_thr': 0.27, 'pub_thr': 0.6}}, {'person': Carolyn Glover, 'opinion': {'opinion': 0.28, 'attitude': 0.71, 'unc': 0.43, 'pri_thr': 0.94, 'pub_thr': 0.6}}]\n",
      "Discussion of vaccination_14: Known to 3/3 people\n",
      "[{'person': Michael Owens, 'opinion': {'opinion': 0.37, 'attitude': -0.06, 'unc': 0.43, 'pri_thr': 0.91, 'pub_thr': 0.6}}, {'person': Odell Eckerson-Haas, 'opinion': {'opinion': -0.43, 'attitude': -0.82, 'unc': 0.39, 'pri_thr': 0.62, 'pub_thr': 0.6}}, {'person': Carolyn Glover, 'opinion': {'opinion': -0.1, 'attitude': -0.3, 'unc': 0.2, 'pri_thr': 0.6, 'pub_thr': 0.6}}]\n",
      "Discussion of vaccination_13: Known to 3/3 people\n",
      "[{'person': Michael Owens, 'opinion': {'opinion': -0.29, 'attitude': -0.75, 'unc': 0.46, 'pri_thr': 0.0, 'pub_thr': 0.6}}, {'person': Odell Eckerson-Haas, 'opinion': {'opinion': 0.85, 'attitude': 0.6, 'unc': 0.25, 'pri_thr': 0.15, 'pub_thr': 0.6}}, {'person': Carolyn Glover, 'opinion': {'opinion': -0.22, 'attitude': -0.39, 'unc': 0.17, 'pri_thr': 0.25, 'pub_thr': 0.6}}]\n",
      "Discussion of vaccination_14: Known to 3/3 people\n",
      "[{'person': Michael Owens, 'opinion': {'opinion': 0.37, 'attitude': -0.06, 'unc': 0.43, 'pri_thr': 0.91, 'pub_thr': 0.6}}, {'person': Odell Eckerson-Haas, 'opinion': {'opinion': -0.43, 'attitude': -0.82, 'unc': 0.39, 'pri_thr': 0.62, 'pub_thr': 0.6}}, {'person': Carolyn Glover, 'opinion': {'opinion': -0.1, 'attitude': -0.3, 'unc': 0.2, 'pri_thr': 0.6, 'pub_thr': 0.6}}]\n",
      "Discussion of vaccination_14: Known to 3/3 people\n",
      "[{'person': Michael Owens, 'opinion': {'opinion': 0.37, 'attitude': -0.06, 'unc': 0.43, 'pri_thr': 0.91, 'pub_thr': 0.6}}, {'person': Odell Eckerson-Haas, 'opinion': {'opinion': -0.43, 'attitude': -0.82, 'unc': 0.39, 'pri_thr': 0.62, 'pub_thr': 0.6}}, {'person': Carolyn Glover, 'opinion': {'opinion': -0.1, 'attitude': -0.3, 'unc': 0.2, 'pri_thr': 0.6, 'pub_thr': 0.6}}]\n",
      "Discussion of vaccination_14: Known to 2/2 people\n",
      "[{'person': Ruben Giannetti, 'opinion': {'opinion': -0.83, 'attitude': -0.92, 'unc': 0.09, 'pri_thr': 0.23, 'pub_thr': 0.6}}, {'person': Clare Borland, 'opinion': {'opinion': -0.57, 'attitude': -0.51, 'unc': 0.06, 'pri_thr': 0.75, 'pub_thr': 0.6}}]\n",
      "Discussion of vaccination_12: Known to 3/3 people\n",
      "[{'person': Terry Robinson, 'opinion': {'opinion': 0.93, 'attitude': 0.59, 'unc': 0.34, 'pri_thr': 0.03, 'pub_thr': 0.6}}, {'person': Lourdes Beecher, 'opinion': {'opinion': -0.36, 'attitude': -0.49, 'unc': 0.13, 'pri_thr': 0.68, 'pub_thr': 0.6}}, {'person': Linda Sedlock, 'opinion': {'opinion': 0.39, 'attitude': -0.02, 'unc': 0.41, 'pri_thr': 0.99, 'pub_thr': 0.6}}]\n",
      "Discussion of vaccination_13: Known to 3/3 people\n",
      "[{'person': Terry Robinson, 'opinion': {'opinion': 0.18, 'attitude': -0.11, 'unc': 0.29, 'pri_thr': 0.6, 'pub_thr': 0.6}}, {'person': Lourdes Beecher, 'opinion': {'opinion': -0.1, 'attitude': -0.12, 'unc': 0.02, 'pri_thr': 0.47, 'pub_thr': 0.6}}, {'person': Linda Sedlock, 'opinion': {'opinion': -0.38, 'attitude': 0.06, 'unc': 0.44, 'pri_thr': 0.13, 'pub_thr': 0.6}}]\n",
      "Discussion of vaccination_13: Known to 2/2 people\n",
      "[{'person': Ruben Giannetti, 'opinion': {'opinion': 0.16, 'attitude': 0.37, 'unc': 0.21, 'pri_thr': 0.94, 'pub_thr': 0.6}}, {'person': Clare Borland, 'opinion': {'opinion': 1.0, 'attitude': 0.71, 'unc': 0.29, 'pri_thr': 0.13, 'pub_thr': 0.6}}]\n",
      "Discussion of vaccination_13: Known to 3/3 people\n",
      "[{'person': Michael Owens, 'opinion': {'opinion': 1.0, 'attitude': 0.89, 'unc': 0.11, 'pri_thr': 0.09, 'pub_thr': 0.6}}, {'person': Odell Eckerson-Haas, 'opinion': {'opinion': 1.0, 'attitude': 0.84, 'unc': 0.16, 'pri_thr': 0.81, 'pub_thr': 0.6}}, {'person': Carolyn Glover, 'opinion': {'opinion': -0.69, 'attitude': -0.89, 'unc': 0.2, 'pri_thr': 0.41, 'pub_thr': 0.6}}]\n",
      "Discussion of vaccination_13: Known to 3/3 people\n",
      "[{'person': Michael Owens, 'opinion': {'opinion': 1.0, 'attitude': 0.89, 'unc': 0.11, 'pri_thr': 0.09, 'pub_thr': 0.6}}, {'person': Odell Eckerson-Haas, 'opinion': {'opinion': 1.0, 'attitude': 0.84, 'unc': 0.16, 'pri_thr': 0.81, 'pub_thr': 0.6}}, {'person': Carolyn Glover, 'opinion': {'opinion': -0.69, 'attitude': -0.89, 'unc': 0.2, 'pri_thr': 0.41, 'pub_thr': 0.6}}]\n",
      "Discussion of vaccination_12: Known to 3/3 people\n",
      "[{'person': Terry Robinson, 'opinion': {'opinion': 0.93, 'attitude': 0.59, 'unc': 0.34, 'pri_thr': 0.03, 'pub_thr': 0.6}}, {'person': Lourdes Beecher, 'opinion': {'opinion': -0.36, 'attitude': -0.49, 'unc': 0.13, 'pri_thr': 0.68, 'pub_thr': 0.6}}, {'person': Linda Sedlock, 'opinion': {'opinion': 0.39, 'attitude': -0.02, 'unc': 0.41, 'pri_thr': 0.99, 'pub_thr': 0.6}}]\n",
      "Discussion of vaccination_14: Known to 3/3 people\n",
      "[{'person': Terry Robinson, 'opinion': {'opinion': 0.86, 'attitude': 0.39, 'unc': 0.47, 'pri_thr': 0.62, 'pub_thr': 0.6}}, {'person': Lourdes Beecher, 'opinion': {'opinion': 0.71, 'attitude': 0.59, 'unc': 0.12, 'pri_thr': 0.7, 'pub_thr': 0.6}}, {'person': Linda Sedlock, 'opinion': {'opinion': 0.39, 'attitude': 0.61, 'unc': 0.22, 'pri_thr': 0.38, 'pub_thr': 0.6}}]\n",
      "Discussion of heterosexuality_4: Known to 2/2 people\n",
      "[{'person': Terry Robinson, 'opinion': {'opinion': -0.67, 'attitude': -0.87, 'unc': 0.2, 'pri_thr': 0.19, 'pub_thr': 0.6}}, {'person': Mary Robinson, 'opinion': {'opinion': 0.96, 'attitude': 0.86, 'unc': 0.1, 'pri_thr': 0.34, 'pub_thr': 0.6}}]\n",
      "Discussion of vaccination_12: Known to 3/3 people\n",
      "[{'person': Michael Owens, 'opinion': {'opinion': 0.02, 'attitude': 0.43, 'unc': 0.41, 'pri_thr': 0.55, 'pub_thr': 0.6}}, {'person': Odell Eckerson-Haas, 'opinion': {'opinion': 0.87, 'attitude': 0.8, 'unc': 0.07, 'pri_thr': 0.13, 'pub_thr': 0.6}}, {'person': Carolyn Glover, 'opinion': {'opinion': -0.92, 'attitude': -0.86, 'unc': 0.06, 'pri_thr': 0.14, 'pub_thr': 0.6}}]\n",
      "Discussion of heterosexuality_4: Known to 2/2 people\n",
      "[{'person': Terry Robinson, 'opinion': {'opinion': -0.67, 'attitude': -0.87, 'unc': 0.2, 'pri_thr': 0.19, 'pub_thr': 0.6}}, {'person': Mary Robinson, 'opinion': {'opinion': 0.96, 'attitude': 0.86, 'unc': 0.1, 'pri_thr': 0.34, 'pub_thr': 0.6}}]\n",
      "Discussion of vaccination_12: Known to 3/3 people\n",
      "[{'person': Michael Owens, 'opinion': {'opinion': 0.02, 'attitude': 0.43, 'unc': 0.41, 'pri_thr': 0.55, 'pub_thr': 0.6}}, {'person': Odell Eckerson-Haas, 'opinion': {'opinion': 0.87, 'attitude': 0.8, 'unc': 0.07, 'pri_thr': 0.13, 'pub_thr': 0.6}}, {'person': Carolyn Glover, 'opinion': {'opinion': -0.92, 'attitude': -0.86, 'unc': 0.06, 'pri_thr': 0.14, 'pub_thr': 0.6}}]\n",
      "Discussion of vaccination_14: Known to 2/2 people\n",
      "[{'person': Ruben Giannetti, 'opinion': {'opinion': -0.83, 'attitude': -0.92, 'unc': 0.09, 'pri_thr': 0.23, 'pub_thr': 0.6}}, {'person': Clare Borland, 'opinion': {'opinion': -0.57, 'attitude': -0.51, 'unc': 0.06, 'pri_thr': 0.75, 'pub_thr': 0.6}}]\n",
      "Discussion of vaccination_13: Known to 3/3 people\n",
      "[{'person': Terry Robinson, 'opinion': {'opinion': 0.18, 'attitude': -0.11, 'unc': 0.29, 'pri_thr': 0.6, 'pub_thr': 0.6}}, {'person': Lourdes Beecher, 'opinion': {'opinion': -0.1, 'attitude': -0.12, 'unc': 0.02, 'pri_thr': 0.47, 'pub_thr': 0.6}}, {'person': Linda Sedlock, 'opinion': {'opinion': -0.38, 'attitude': 0.06, 'unc': 0.44, 'pri_thr': 0.13, 'pub_thr': 0.6}}]\n",
      "Discussion of vaccination_14: Known to 2/2 people\n",
      "[{'person': Ruben Giannetti, 'opinion': {'opinion': -0.83, 'attitude': -0.92, 'unc': 0.09, 'pri_thr': 0.23, 'pub_thr': 0.6}}, {'person': Clare Borland, 'opinion': {'opinion': -0.57, 'attitude': -0.51, 'unc': 0.06, 'pri_thr': 0.75, 'pub_thr': 0.6}}]\n",
      "Discussion of vaccination_14: Known to 2/2 people\n",
      "[{'person': Ruben Giannetti, 'opinion': {'opinion': -0.83, 'attitude': -0.92, 'unc': 0.09, 'pri_thr': 0.23, 'pub_thr': 0.6}}, {'person': Clare Borland, 'opinion': {'opinion': -0.57, 'attitude': -0.51, 'unc': 0.06, 'pri_thr': 0.75, 'pub_thr': 0.6}}]\n",
      "Discussion of vaccination_13: Known to 3/3 people\n",
      "[{'person': Terry Robinson, 'opinion': {'opinion': 0.18, 'attitude': -0.11, 'unc': 0.29, 'pri_thr': 0.6, 'pub_thr': 0.6}}, {'person': Lourdes Beecher, 'opinion': {'opinion': -0.1, 'attitude': -0.12, 'unc': 0.02, 'pri_thr': 0.47, 'pub_thr': 0.6}}, {'person': Linda Sedlock, 'opinion': {'opinion': -0.38, 'attitude': 0.06, 'unc': 0.44, 'pri_thr': 0.13, 'pub_thr': 0.6}}]\n",
      "Discussion of vaccination_13: Known to 2/2 people\n",
      "[{'person': Terry Robinson, 'opinion': {'opinion': 0.51, 'attitude': 0.4, 'unc': 0.11, 'pri_thr': 0.85, 'pub_thr': 0.6}}, {'person': Mary Robinson, 'opinion': {'opinion': 0.91, 'attitude': 0.71, 'unc': 0.2, 'pri_thr': 0.55, 'pub_thr': 0.6}}]\n",
      "Discussion of vaccination_12: Known to 3/3 people\n",
      "[{'person': Michael Owens, 'opinion': {'opinion': 0.02, 'attitude': 0.43, 'unc': 0.41, 'pri_thr': 0.55, 'pub_thr': 0.6}}, {'person': Odell Eckerson-Haas, 'opinion': {'opinion': 0.87, 'attitude': 0.8, 'unc': 0.07, 'pri_thr': 0.13, 'pub_thr': 0.6}}, {'person': Carolyn Glover, 'opinion': {'opinion': -0.92, 'attitude': -0.86, 'unc': 0.06, 'pri_thr': 0.14, 'pub_thr': 0.6}}]\n",
      "Discussion of vaccination_14: Known to 3/3 people\n",
      "[{'person': Terry Robinson, 'opinion': {'opinion': 0.86, 'attitude': 0.39, 'unc': 0.47, 'pri_thr': 0.62, 'pub_thr': 0.6}}, {'person': Lourdes Beecher, 'opinion': {'opinion': 0.71, 'attitude': 0.59, 'unc': 0.12, 'pri_thr': 0.7, 'pub_thr': 0.6}}, {'person': Linda Sedlock, 'opinion': {'opinion': 0.39, 'attitude': 0.61, 'unc': 0.22, 'pri_thr': 0.38, 'pub_thr': 0.6}}]\n",
      "Discussion of vaccination_13: Known to 3/3 people\n",
      "[{'person': Michael Owens, 'opinion': {'opinion': -0.71, 'attitude': -0.42, 'unc': 0.29, 'pri_thr': 0.65, 'pub_thr': 0.6}}, {'person': Odell Eckerson-Haas, 'opinion': {'opinion': -0.08, 'attitude': -0.34, 'unc': 0.26, 'pri_thr': 0.49, 'pub_thr': 0.6}}, {'person': Carolyn Glover, 'opinion': {'opinion': 0.65, 'attitude': 0.71, 'unc': 0.06, 'pri_thr': 0.2, 'pub_thr': 0.6}}]\n",
      "Discussion of vaccination_14: Known to 3/3 people\n",
      "[{'person': Terry Robinson, 'opinion': {'opinion': -0.37, 'attitude': -0.25, 'unc': 0.12, 'pri_thr': 0.52, 'pub_thr': 0.6}}, {'person': Lourdes Beecher, 'opinion': {'opinion': 0.71, 'attitude': 0.59, 'unc': 0.12, 'pri_thr': 0.7, 'pub_thr': 0.6}}, {'person': Linda Sedlock, 'opinion': {'opinion': 0.39, 'attitude': 0.61, 'unc': 0.22, 'pri_thr': 0.38, 'pub_thr': 0.6}}]\n",
      "Discussion of vaccination_13: Known to 2/2 people\n",
      "[{'person': Terry Robinson, 'opinion': {'opinion': 0.51, 'attitude': 0.4, 'unc': 0.11, 'pri_thr': 0.85, 'pub_thr': 0.6}}, {'person': Mary Robinson, 'opinion': {'opinion': 0.91, 'attitude': 0.71, 'unc': 0.2, 'pri_thr': 0.55, 'pub_thr': 0.6}}]\n",
      "Discussion of vaccination_14: Known to 3/3 people\n",
      "[{'person': Terry Robinson, 'opinion': {'opinion': -0.37, 'attitude': -0.25, 'unc': 0.12, 'pri_thr': 0.52, 'pub_thr': 0.6}}, {'person': Lourdes Beecher, 'opinion': {'opinion': 0.71, 'attitude': 0.59, 'unc': 0.12, 'pri_thr': 0.7, 'pub_thr': 0.6}}, {'person': Linda Sedlock, 'opinion': {'opinion': 0.39, 'attitude': 0.61, 'unc': 0.22, 'pri_thr': 0.38, 'pub_thr': 0.6}}]\n",
      "Discussion of vaccination_13: Known to 2/2 people\n",
      "[{'person': Terry Robinson, 'opinion': {'opinion': 0.51, 'attitude': 0.4, 'unc': 0.11, 'pri_thr': 0.85, 'pub_thr': 0.6}}, {'person': Mary Robinson, 'opinion': {'opinion': 0.91, 'attitude': 0.71, 'unc': 0.2, 'pri_thr': 0.55, 'pub_thr': 0.6}}]\n",
      "Discussion of vaccination_12: Known to 3/3 people\n",
      "[{'person': Terry Robinson, 'opinion': {'opinion': 0.27, 'attitude': 0.21, 'unc': 0.06, 'pri_thr': 0.94, 'pub_thr': 0.6}}, {'person': Lourdes Beecher, 'opinion': {'opinion': -0.97, 'attitude': -0.81, 'unc': 0.16, 'pri_thr': 0.1, 'pub_thr': 0.6}}, {'person': Linda Sedlock, 'opinion': {'opinion': -0.46, 'attitude': -0.69, 'unc': 0.23, 'pri_thr': 0.66, 'pub_thr': 0.6}}]\n",
      "Discussion of vaccination_13: Known to 2/2 people\n",
      "[{'person': Terry Robinson, 'opinion': {'opinion': 0.51, 'attitude': 0.4, 'unc': 0.11, 'pri_thr': 0.85, 'pub_thr': 0.6}}, {'person': Mary Robinson, 'opinion': {'opinion': 0.91, 'attitude': 0.71, 'unc': 0.2, 'pri_thr': 0.55, 'pub_thr': 0.6}}]\n",
      "Discussion of vaccination_14: Known to 3/3 people\n",
      "[{'person': Michael Owens, 'opinion': {'opinion': 0.32, 'attitude': 0.45, 'unc': 0.13, 'pri_thr': 0.25, 'pub_thr': 0.6}}, {'person': Odell Eckerson-Haas, 'opinion': {'opinion': 0.57, 'attitude': 0.26, 'unc': 0.31, 'pri_thr': 0.09, 'pub_thr': 0.6}}, {'person': Carolyn Glover, 'opinion': {'opinion': -0.79, 'attitude': -0.87, 'unc': 0.08, 'pri_thr': 0.09, 'pub_thr': 0.6}}]\n",
      "Discussion of vaccination_14: Known to 2/2 people\n",
      "[{'person': Ruben Giannetti, 'opinion': {'opinion': -0.74, 'attitude': -0.99, 'unc': 0.25, 'pri_thr': 0.01, 'pub_thr': 0.6}}, {'person': Clare Borland, 'opinion': {'opinion': 0.89, 'attitude': 0.44, 'unc': 0.45, 'pri_thr': 0.06, 'pub_thr': 0.6}}]\n",
      "Discussion of vaccination_14: Known to 2/2 people\n",
      "[{'person': Terry Robinson, 'opinion': {'opinion': -0.49, 'attitude': -0.74, 'unc': 0.25, 'pri_thr': 0.67, 'pub_thr': 0.6}}, {'person': Mary Robinson, 'opinion': {'opinion': 0.83, 'attitude': 0.86, 'unc': 0.03, 'pri_thr': 0.75, 'pub_thr': 0.6}}]\n",
      "Discussion of vaccination_14: Known to 2/2 people\n",
      "[{'person': Terry Robinson, 'opinion': {'opinion': -0.49, 'attitude': -0.74, 'unc': 0.25, 'pri_thr': 0.67, 'pub_thr': 0.6}}, {'person': Mary Robinson, 'opinion': {'opinion': 0.83, 'attitude': 0.86, 'unc': 0.03, 'pri_thr': 0.75, 'pub_thr': 0.6}}]\n",
      "Discussion of vaccination_13: Known to 2/2 people\n",
      "[{'person': Ruben Giannetti, 'opinion': {'opinion': 0.34, 'attitude': 0.11, 'unc': 0.23, 'pri_thr': 0.42, 'pub_thr': 0.6}}, {'person': Clare Borland, 'opinion': {'opinion': -0.82, 'attitude': -0.91, 'unc': 0.09, 'pri_thr': 0.03, 'pub_thr': 0.6}}]\n",
      "Discussion of vaccination_14: Known to 3/3 people\n",
      "[{'person': Terry Robinson, 'opinion': {'opinion': 1.0, 'attitude': 0.76, 'unc': 0.24, 'pri_thr': 0.62, 'pub_thr': 0.6}}, {'person': Lourdes Beecher, 'opinion': {'opinion': 0.1, 'attitude': 0.47, 'unc': 0.37, 'pri_thr': 0.42, 'pub_thr': 0.6}}, {'person': Linda Sedlock, 'opinion': {'opinion': -0.54, 'attitude': -0.32, 'unc': 0.22, 'pri_thr': 0.14, 'pub_thr': 0.6}}]\n",
      "Discussion of vaccination_14: Known to 3/3 people\n",
      "[{'person': Terry Robinson, 'opinion': {'opinion': 1.0, 'attitude': 0.76, 'unc': 0.24, 'pri_thr': 0.62, 'pub_thr': 0.6}}, {'person': Lourdes Beecher, 'opinion': {'opinion': 0.1, 'attitude': 0.47, 'unc': 0.37, 'pri_thr': 0.42, 'pub_thr': 0.6}}, {'person': Linda Sedlock, 'opinion': {'opinion': -0.54, 'attitude': -0.32, 'unc': 0.22, 'pri_thr': 0.14, 'pub_thr': 0.6}}]\n",
      "Discussion of vaccination_13: Known to 3/3 people\n",
      "[{'person': Michael Owens, 'opinion': {'opinion': 0.38, 'attitude': 0.43, 'unc': 0.05, 'pri_thr': 0.24, 'pub_thr': 0.6}}, {'person': Odell Eckerson-Haas, 'opinion': {'opinion': -0.02, 'attitude': 0.01, 'unc': 0.03, 'pri_thr': 0.46, 'pub_thr': 0.6}}, {'person': Carolyn Glover, 'opinion': {'opinion': -1.02, 'attitude': -0.9, 'unc': 0.12, 'pri_thr': 0.63, 'pub_thr': 0.6}}]\n",
      "Discussion of vaccination_13: Known to 3/3 people\n",
      "[{'person': Terry Robinson, 'opinion': {'opinion': 0.85, 'attitude': 0.53, 'unc': 0.32, 'pri_thr': 0.84, 'pub_thr': 0.6}}, {'person': Lourdes Beecher, 'opinion': {'opinion': -0.16, 'attitude': -0.37, 'unc': 0.21, 'pri_thr': 0.59, 'pub_thr': 0.6}}, {'person': Linda Sedlock, 'opinion': {'opinion': -0.28, 'attitude': -0.48, 'unc': 0.2, 'pri_thr': 0.83, 'pub_thr': 0.6}}]\n",
      "Discussion of vaccination_14: Known to 3/3 people\n",
      "[{'person': Michael Owens, 'opinion': {'opinion': -0.45, 'attitude': -0.04, 'unc': 0.41, 'pri_thr': 0.34, 'pub_thr': 0.6}}, {'person': Odell Eckerson-Haas, 'opinion': {'opinion': -0.49, 'attitude': -0.01, 'unc': 0.48, 'pri_thr': 0.86, 'pub_thr': 0.6}}, {'person': Carolyn Glover, 'opinion': {'opinion': 0.92, 'attitude': 0.48, 'unc': 0.44, 'pri_thr': 0.66, 'pub_thr': 0.6}}]\n",
      "Discussion of vaccination_14: Known to 2/2 people\n",
      "[{'person': Terry Robinson, 'opinion': {'opinion': 1.0, 'attitude': 0.76, 'unc': 0.24, 'pri_thr': 0.62, 'pub_thr': 0.6}}, {'person': Mary Robinson, 'opinion': {'opinion': 0.83, 'attitude': 0.86, 'unc': 0.03, 'pri_thr': 0.75, 'pub_thr': 0.6}}]\n",
      "Discussion of vaccination_14: Known to 2/2 people\n",
      "[{'person': Terry Robinson, 'opinion': {'opinion': 1.0, 'attitude': 0.76, 'unc': 0.24, 'pri_thr': 0.62, 'pub_thr': 0.6}}, {'person': Mary Robinson, 'opinion': {'opinion': 0.83, 'attitude': 0.86, 'unc': 0.03, 'pri_thr': 0.75, 'pub_thr': 0.6}}]\n",
      "Discussion of vaccination_10: Known to 3/3 people\n",
      "[{'person': Ruben Giannetti, 'opinion': {'opinion': -0.98, 'attitude': -0.54, 'unc': 0.44, 'pri_thr': 0.68, 'pub_thr': 0.6}}, {'person': Clare Borland, 'opinion': {'opinion': -0.48, 'attitude': -0.53, 'unc': 0.05, 'pri_thr': 0.3, 'pub_thr': 0.6}}, {'person': Pablo Turner, 'opinion': {'opinion': -0.18, 'attitude': 0.11, 'unc': 0.29, 'pri_thr': 0.56, 'pub_thr': 0.6}}]\n",
      "Discussion of vaccination_13: Known to 3/3 people\n",
      "[{'person': Terry Robinson, 'opinion': {'opinion': 0.85, 'attitude': 0.53, 'unc': 0.32, 'pri_thr': 0.84, 'pub_thr': 0.6}}, {'person': Lourdes Beecher, 'opinion': {'opinion': -0.16, 'attitude': -0.37, 'unc': 0.21, 'pri_thr': 0.59, 'pub_thr': 0.6}}, {'person': Linda Sedlock, 'opinion': {'opinion': -0.28, 'attitude': -0.48, 'unc': 0.2, 'pri_thr': 0.83, 'pub_thr': 0.6}}]\n",
      "Discussion of vaccination_14: Known to 2/2 people\n",
      "[{'person': Terry Robinson, 'opinion': {'opinion': 1.0, 'attitude': 0.76, 'unc': 0.24, 'pri_thr': 0.62, 'pub_thr': 0.6}}, {'person': Mary Robinson, 'opinion': {'opinion': 0.83, 'attitude': 0.86, 'unc': 0.03, 'pri_thr': 0.75, 'pub_thr': 0.6}}]\n",
      "Discussion of vaccination_13: Known to 2/2 people\n",
      "[{'person': Terry Robinson, 'opinion': {'opinion': 0.85, 'attitude': 0.53, 'unc': 0.32, 'pri_thr': 0.84, 'pub_thr': 0.6}}, {'person': Mary Robinson, 'opinion': {'opinion': -0.15, 'attitude': -0.01, 'unc': 0.14, 'pri_thr': 0.31, 'pub_thr': 0.6}}]\n",
      "Discussion of vaccination_13: Known to 2/2 people\n",
      "[{'person': Terry Robinson, 'opinion': {'opinion': 0.85, 'attitude': 0.53, 'unc': 0.32, 'pri_thr': 0.84, 'pub_thr': 0.6}}, {'person': Mary Robinson, 'opinion': {'opinion': -0.15, 'attitude': -0.01, 'unc': 0.14, 'pri_thr': 0.31, 'pub_thr': 0.6}}]\n",
      "Discussion of vaccination_12: Known to 3/3 people\n",
      "[{'person': Terry Robinson, 'opinion': {'opinion': 0.33, 'attitude': 0.72, 'unc': 0.39, 'pri_thr': 0.22, 'pub_thr': 0.6}}, {'person': Lourdes Beecher, 'opinion': {'opinion': -0.78, 'attitude': -0.4, 'unc': 0.38, 'pri_thr': 0.93, 'pub_thr': 0.6}}, {'person': Linda Sedlock, 'opinion': {'opinion': -0.15, 'attitude': -0.3, 'unc': 0.15, 'pri_thr': 0.0, 'pub_thr': 0.6}}]\n",
      "Discussion of vaccination_13: Known to 3/3 people\n",
      "[{'person': Michael Owens, 'opinion': {'opinion': 0.38, 'attitude': 0.43, 'unc': 0.05, 'pri_thr': 0.24, 'pub_thr': 0.6}}, {'person': Odell Eckerson-Haas, 'opinion': {'opinion': -0.02, 'attitude': 0.01, 'unc': 0.03, 'pri_thr': 0.46, 'pub_thr': 0.6}}, {'person': Carolyn Glover, 'opinion': {'opinion': -1.02, 'attitude': -0.9, 'unc': 0.12, 'pri_thr': 0.63, 'pub_thr': 0.6}}]\n",
      "Discussion of vaccination_11: Known to 3/3 people\n",
      "[{'person': Ruben Giannetti, 'opinion': {'opinion': -0.46, 'attitude': -0.92, 'unc': 0.46, 'pri_thr': 0.67, 'pub_thr': 0.6}}, {'person': Clare Borland, 'opinion': {'opinion': 1.0, 'attitude': 0.92, 'unc': 0.08, 'pri_thr': 0.17, 'pub_thr': 0.6}}, {'person': Pablo Turner, 'opinion': {'opinion': 0.65, 'attitude': 0.81, 'unc': 0.16, 'pri_thr': 0.04, 'pub_thr': 0.6}}]\n",
      "Discussion of vaccination_12: Known to 3/3 people\n",
      "[{'person': Ruben Giannetti, 'opinion': {'opinion': -0.19, 'attitude': -0.19, 'unc': 0.0, 'pri_thr': 0.84, 'pub_thr': 0.6}}, {'person': Clare Borland, 'opinion': {'opinion': 0.42, 'attitude': -0.04, 'unc': 0.46, 'pri_thr': 0.19, 'pub_thr': 0.6}}, {'person': Pablo Turner, 'opinion': {'opinion': 0.16, 'attitude': 0.28, 'unc': 0.12, 'pri_thr': 0.66, 'pub_thr': 0.6}}]\n",
      "Discussion of vaccination_12: Known to 3/3 people\n",
      "[{'person': Michael Owens, 'opinion': {'opinion': 0.02, 'attitude': 0.43, 'unc': 0.41, 'pri_thr': 0.55, 'pub_thr': 0.6}}, {'person': Odell Eckerson-Haas, 'opinion': {'opinion': 0.87, 'attitude': 0.8, 'unc': 0.07, 'pri_thr': 0.13, 'pub_thr': 0.6}}, {'person': Carolyn Glover, 'opinion': {'opinion': -0.92, 'attitude': -0.86, 'unc': 0.06, 'pri_thr': 0.14, 'pub_thr': 0.6}}]\n",
      "Discussion of vaccination_12: Known to 3/3 people\n",
      "[{'person': Terry Robinson, 'opinion': {'opinion': 0.33, 'attitude': 0.72, 'unc': 0.39, 'pri_thr': 0.22, 'pub_thr': 0.6}}, {'person': Lourdes Beecher, 'opinion': {'opinion': -0.78, 'attitude': -0.4, 'unc': 0.38, 'pri_thr': 0.93, 'pub_thr': 0.6}}, {'person': Linda Sedlock, 'opinion': {'opinion': -0.15, 'attitude': -0.3, 'unc': 0.15, 'pri_thr': 0.0, 'pub_thr': 0.6}}]\n",
      "Discussion of vaccination_13: Known to 3/3 people\n",
      "[{'person': Ruben Giannetti, 'opinion': {'opinion': 0.12, 'attitude': -0.18, 'unc': 0.3, 'pri_thr': 0.72, 'pub_thr': 0.6}}, {'person': Clare Borland, 'opinion': {'opinion': 0.83, 'attitude': 0.73, 'unc': 0.1, 'pri_thr': 0.52, 'pub_thr': 0.6}}, {'person': Pablo Turner, 'opinion': {'opinion': -0.57, 'attitude': -0.67, 'unc': 0.1, 'pri_thr': 0.2, 'pub_thr': 0.6}}]\n",
      "Discussion of vaccination_12: Known to 3/3 people\n",
      "[{'person': Michael Owens, 'opinion': {'opinion': 0.02, 'attitude': 0.43, 'unc': 0.41, 'pri_thr': 0.55, 'pub_thr': 0.6}}, {'person': Odell Eckerson-Haas, 'opinion': {'opinion': 0.87, 'attitude': 0.8, 'unc': 0.07, 'pri_thr': 0.13, 'pub_thr': 0.6}}, {'person': Carolyn Glover, 'opinion': {'opinion': -0.92, 'attitude': -0.86, 'unc': 0.06, 'pri_thr': 0.14, 'pub_thr': 0.6}}]\n",
      "Discussion of vaccination_14: Known to 2/2 people\n",
      "[{'person': Terry Robinson, 'opinion': {'opinion': 1.0, 'attitude': 0.76, 'unc': 0.24, 'pri_thr': 0.62, 'pub_thr': 0.6}}, {'person': Mary Robinson, 'opinion': {'opinion': 0.83, 'attitude': 0.86, 'unc': 0.03, 'pri_thr': 0.75, 'pub_thr': 0.6}}]\n",
      "Discussion of vaccination_13: Known to 3/3 people\n",
      "[{'person': Terry Robinson, 'opinion': {'opinion': 1.0, 'attitude': 0.87, 'unc': 0.13, 'pri_thr': 0.58, 'pub_thr': 0.6}}, {'person': Lourdes Beecher, 'opinion': {'opinion': -0.98, 'attitude': -0.55, 'unc': 0.43, 'pri_thr': 0.19, 'pub_thr': 0.6}}, {'person': Mary Robinson, 'opinion': {'opinion': -0.15, 'attitude': -0.01, 'unc': 0.14, 'pri_thr': 0.31, 'pub_thr': 0.6}}]\n",
      "Discussion of vaccination_13: Known to 3/3 people\n",
      "[{'person': Terry Robinson, 'opinion': {'opinion': 1.0, 'attitude': 0.87, 'unc': 0.13, 'pri_thr': 0.58, 'pub_thr': 0.6}}, {'person': Lourdes Beecher, 'opinion': {'opinion': -0.98, 'attitude': -0.55, 'unc': 0.43, 'pri_thr': 0.19, 'pub_thr': 0.6}}, {'person': Linda Sedlock, 'opinion': {'opinion': -0.58, 'attitude': -0.39, 'unc': 0.19, 'pri_thr': 0.52, 'pub_thr': 0.6}}]\n",
      "Discussion of vaccination_13: Known to 3/3 people\n",
      "[{'person': Ruben Giannetti, 'opinion': {'opinion': 1.0, 'attitude': 0.88, 'unc': 0.12, 'pri_thr': 0.96, 'pub_thr': 0.6}}, {'person': Clare Borland, 'opinion': {'opinion': 0.4, 'attitude': 0.61, 'unc': 0.21, 'pri_thr': 0.4, 'pub_thr': 0.6}}, {'person': Pablo Turner, 'opinion': {'opinion': 0.91, 'attitude': 0.92, 'unc': 0.01, 'pri_thr': 0.19, 'pub_thr': 0.6}}]\n",
      "Discussion of vaccination_12: Known to 3/3 people\n",
      "[{'person': Terry Robinson, 'opinion': {'opinion': -0.62, 'attitude': -0.45, 'unc': 0.17, 'pri_thr': 0.49, 'pub_thr': 0.6}}, {'person': Lourdes Beecher, 'opinion': {'opinion': 0.09, 'attitude': 0.04, 'unc': 0.05, 'pri_thr': 0.02, 'pub_thr': 0.6}}, {'person': Linda Sedlock, 'opinion': {'opinion': -0.15, 'attitude': -0.3, 'unc': 0.15, 'pri_thr': 0.0, 'pub_thr': 0.6}}]\n",
      "Discussion of vaccination_14: Known to 3/3 people\n",
      "[{'person': Terry Robinson, 'opinion': {'opinion': 1.0, 'attitude': 0.76, 'unc': 0.24, 'pri_thr': 0.62, 'pub_thr': 0.6}}, {'person': Lourdes Beecher, 'opinion': {'opinion': 0.1, 'attitude': 0.47, 'unc': 0.37, 'pri_thr': 0.42, 'pub_thr': 0.6}}, {'person': Linda Sedlock, 'opinion': {'opinion': -1.07, 'attitude': -0.96, 'unc': 0.11, 'pri_thr': 0.42, 'pub_thr': 0.6}}]\n",
      "Discussion of vaccination_12: Known to 3/3 people\n",
      "[{'person': Terry Robinson, 'opinion': {'opinion': -0.62, 'attitude': -0.45, 'unc': 0.17, 'pri_thr': 0.49, 'pub_thr': 0.6}}, {'person': Lourdes Beecher, 'opinion': {'opinion': 0.09, 'attitude': 0.04, 'unc': 0.05, 'pri_thr': 0.02, 'pub_thr': 0.6}}, {'person': Linda Sedlock, 'opinion': {'opinion': -0.15, 'attitude': -0.3, 'unc': 0.15, 'pri_thr': 0.0, 'pub_thr': 0.6}}]\n",
      "Discussion of vaccination_13: Known to 3/3 people\n",
      "[{'person': Ruben Giannetti, 'opinion': {'opinion': 1.0, 'attitude': 0.88, 'unc': 0.12, 'pri_thr': 0.96, 'pub_thr': 0.6}}, {'person': Clare Borland, 'opinion': {'opinion': 0.4, 'attitude': 0.61, 'unc': 0.21, 'pri_thr': 0.4, 'pub_thr': 0.6}}, {'person': Pablo Turner, 'opinion': {'opinion': 0.91, 'attitude': 0.92, 'unc': 0.01, 'pri_thr': 0.19, 'pub_thr': 0.6}}]\n",
      "Discussion of vaccination_13: Known to 3/3 people\n",
      "[{'person': Terry Robinson, 'opinion': {'opinion': 1.0, 'attitude': 0.87, 'unc': 0.13, 'pri_thr': 0.58, 'pub_thr': 0.6}}, {'person': Lourdes Beecher, 'opinion': {'opinion': -0.98, 'attitude': -0.55, 'unc': 0.43, 'pri_thr': 0.19, 'pub_thr': 0.6}}, {'person': Mary Robinson, 'opinion': {'opinion': -0.15, 'attitude': -0.01, 'unc': 0.14, 'pri_thr': 0.31, 'pub_thr': 0.6}}]\n",
      "Discussion of vaccination_14: Known to 3/3 people\n",
      "[{'person': Terry Robinson, 'opinion': {'opinion': 1.0, 'attitude': 0.76, 'unc': 0.24, 'pri_thr': 0.62, 'pub_thr': 0.6}}, {'person': Lourdes Beecher, 'opinion': {'opinion': 0.1, 'attitude': 0.47, 'unc': 0.37, 'pri_thr': 0.42, 'pub_thr': 0.6}}, {'person': Linda Sedlock, 'opinion': {'opinion': -1.07, 'attitude': -0.96, 'unc': 0.11, 'pri_thr': 0.42, 'pub_thr': 0.6}}]\n",
      "Discussion of vaccination_13: Known to 3/3 people\n",
      "[{'person': Michael Owens, 'opinion': {'opinion': 0.38, 'attitude': 0.43, 'unc': 0.05, 'pri_thr': 0.24, 'pub_thr': 0.6}}, {'person': Odell Eckerson-Haas, 'opinion': {'opinion': -0.02, 'attitude': 0.01, 'unc': 0.03, 'pri_thr': 0.46, 'pub_thr': 0.6}}, {'person': Carolyn Glover, 'opinion': {'opinion': -1.02, 'attitude': -0.9, 'unc': 0.12, 'pri_thr': 0.63, 'pub_thr': 0.6}}]\n",
      "Discussion of vaccination_14: Known to 3/3 people\n",
      "[{'person': Michael Owens, 'opinion': {'opinion': -0.45, 'attitude': -0.04, 'unc': 0.41, 'pri_thr': 0.34, 'pub_thr': 0.6}}, {'person': Odell Eckerson-Haas, 'opinion': {'opinion': -0.49, 'attitude': -0.01, 'unc': 0.48, 'pri_thr': 0.86, 'pub_thr': 0.6}}, {'person': Carolyn Glover, 'opinion': {'opinion': 0.92, 'attitude': 0.48, 'unc': 0.44, 'pri_thr': 0.66, 'pub_thr': 0.6}}]\n",
      "Discussion of vaccination_14: Known to 3/3 people\n",
      "[{'person': Terry Robinson, 'opinion': {'opinion': 1.0, 'attitude': 0.76, 'unc': 0.24, 'pri_thr': 0.62, 'pub_thr': 0.6}}, {'person': Lourdes Beecher, 'opinion': {'opinion': 0.1, 'attitude': 0.47, 'unc': 0.37, 'pri_thr': 0.42, 'pub_thr': 0.6}}, {'person': Linda Sedlock, 'opinion': {'opinion': -1.07, 'attitude': -0.96, 'unc': 0.11, 'pri_thr': 0.42, 'pub_thr': 0.6}}]\n",
      "Discussion of vaccination_12: Known to 3/3 people\n",
      "[{'person': Ruben Giannetti, 'opinion': {'opinion': -0.31, 'attitude': -0.38, 'unc': 0.07, 'pri_thr': 0.54, 'pub_thr': 0.6}}, {'person': Clare Borland, 'opinion': {'opinion': 0.28, 'attitude': 0.02, 'unc': 0.26, 'pri_thr': 0.25, 'pub_thr': 0.6}}, {'person': Pablo Turner, 'opinion': {'opinion': 0.23, 'attitude': 0.54, 'unc': 0.31, 'pri_thr': 0.5, 'pub_thr': 0.6}}]\n",
      "Discussion of vaccination_12: Known to 3/3 people\n",
      "[{'person': Michael Owens, 'opinion': {'opinion': 0.02, 'attitude': 0.43, 'unc': 0.41, 'pri_thr': 0.55, 'pub_thr': 0.6}}, {'person': Odell Eckerson-Haas, 'opinion': {'opinion': 0.87, 'attitude': 0.8, 'unc': 0.07, 'pri_thr': 0.13, 'pub_thr': 0.6}}, {'person': Carolyn Glover, 'opinion': {'opinion': -0.92, 'attitude': -0.86, 'unc': 0.06, 'pri_thr': 0.14, 'pub_thr': 0.6}}]\n",
      "Discussion of vaccination_12: Known to 3/3 people\n",
      "[{'person': Terry Robinson, 'opinion': {'opinion': -0.62, 'attitude': -0.45, 'unc': 0.17, 'pri_thr': 0.49, 'pub_thr': 0.6}}, {'person': Lourdes Beecher, 'opinion': {'opinion': 0.09, 'attitude': 0.04, 'unc': 0.05, 'pri_thr': 0.02, 'pub_thr': 0.6}}, {'person': Linda Sedlock, 'opinion': {'opinion': -0.15, 'attitude': -0.3, 'unc': 0.15, 'pri_thr': 0.0, 'pub_thr': 0.6}}]\n",
      "Discussion of vaccination_14: Known to 3/3 people\n",
      "[{'person': Ruben Giannetti, 'opinion': {'opinion': -0.23, 'attitude': 0.26, 'unc': 0.49, 'pri_thr': 0.44, 'pub_thr': 0.6}}, {'person': Clare Borland, 'opinion': {'opinion': -0.26, 'attitude': -0.35, 'unc': 0.09, 'pri_thr': 0.4, 'pub_thr': 0.6}}, {'person': Pablo Turner, 'opinion': {'opinion': -0.36, 'attitude': -0.6, 'unc': 0.24, 'pri_thr': 0.3, 'pub_thr': 0.6}}]\n",
      "Discussion of vaccination_12: Known to 3/3 people\n",
      "[{'person': Ruben Giannetti, 'opinion': {'opinion': -0.31, 'attitude': -0.38, 'unc': 0.07, 'pri_thr': 0.54, 'pub_thr': 0.6}}, {'person': Clare Borland, 'opinion': {'opinion': 0.28, 'attitude': 0.02, 'unc': 0.26, 'pri_thr': 0.25, 'pub_thr': 0.6}}, {'person': Pablo Turner, 'opinion': {'opinion': 0.23, 'attitude': 0.54, 'unc': 0.31, 'pri_thr': 0.5, 'pub_thr': 0.6}}]\n",
      "Discussion of vaccination_12: Known to 3/3 people\n",
      "[{'person': Michael Owens, 'opinion': {'opinion': 0.02, 'attitude': 0.43, 'unc': 0.41, 'pri_thr': 0.55, 'pub_thr': 0.6}}, {'person': Odell Eckerson-Haas, 'opinion': {'opinion': 0.87, 'attitude': 0.8, 'unc': 0.07, 'pri_thr': 0.13, 'pub_thr': 0.6}}, {'person': Carolyn Glover, 'opinion': {'opinion': -0.92, 'attitude': -0.86, 'unc': 0.06, 'pri_thr': 0.14, 'pub_thr': 0.6}}]\n",
      "Discussion of vaccination_12: Known to 3/3 people\n",
      "[{'person': Terry Robinson, 'opinion': {'opinion': -0.62, 'attitude': -0.45, 'unc': 0.17, 'pri_thr': 0.49, 'pub_thr': 0.6}}, {'person': Lourdes Beecher, 'opinion': {'opinion': 0.09, 'attitude': 0.04, 'unc': 0.05, 'pri_thr': 0.02, 'pub_thr': 0.6}}, {'person': Mary Robinson, 'opinion': {'opinion': 0.57, 'attitude': 0.63, 'unc': 0.06, 'pri_thr': 0.82, 'pub_thr': 0.6}}]\n",
      "Discussion of vaccination_14: Known to 3/3 people\n",
      "[{'person': Terry Robinson, 'opinion': {'opinion': -0.55, 'attitude': -0.45, 'unc': 0.1, 'pri_thr': 0.91, 'pub_thr': 0.6}}, {'person': Lourdes Beecher, 'opinion': {'opinion': 0.02, 'attitude': -0.08, 'unc': 0.1, 'pri_thr': 0.89, 'pub_thr': 0.6}}, {'person': Mary Robinson, 'opinion': {'opinion': 0.83, 'attitude': 0.86, 'unc': 0.03, 'pri_thr': 0.75, 'pub_thr': 0.6}}]\n",
      "Discussion of vaccination_13: Known to 3/3 people\n",
      "[{'person': Terry Robinson, 'opinion': {'opinion': -0.12, 'attitude': -0.17, 'unc': 0.05, 'pri_thr': 0.88, 'pub_thr': 0.6}}, {'person': Lourdes Beecher, 'opinion': {'opinion': -0.41, 'attitude': -0.47, 'unc': 0.06, 'pri_thr': 0.42, 'pub_thr': 0.6}}, {'person': Linda Sedlock, 'opinion': {'opinion': 0.99, 'attitude': 0.69, 'unc': 0.3, 'pri_thr': 0.94, 'pub_thr': 0.6}}]\n",
      "Discussion of vaccination_13: Known to 3/3 people\n",
      "[{'person': Ruben Giannetti, 'opinion': {'opinion': 0.81, 'attitude': 0.62, 'unc': 0.19, 'pri_thr': 0.38, 'pub_thr': 0.6}}, {'person': Clare Borland, 'opinion': {'opinion': 0.26, 'attitude': 0.34, 'unc': 0.08, 'pri_thr': 0.49, 'pub_thr': 0.6}}, {'person': Pablo Turner, 'opinion': {'opinion': 0.54, 'attitude': 0.11, 'unc': 0.43, 'pri_thr': 0.1, 'pub_thr': 0.6}}]\n",
      "Discussion of abortion_1: Known to 4/4 people\n",
      "[{'person': Anthony Giannetti, 'opinion': {'opinion': 0.75, 'attitude': 0.63, 'unc': 0.12, 'pri_thr': 0.9, 'pub_thr': 0.6}}, {'person': Ruben Giannetti, 'opinion': {'opinion': 1.0, 'attitude': 0.98, 'unc': 0.02, 'pri_thr': 0.98, 'pub_thr': 0.6}}, {'person': Clare Borland, 'opinion': {'opinion': 0.01, 'attitude': -0.32, 'unc': 0.33, 'pri_thr': 0.14, 'pub_thr': 0.6}}, {'person': Pablo Turner, 'opinion': {'opinion': -0.09, 'attitude': -0.0, 'unc': 0.09, 'pri_thr': 0.82, 'pub_thr': 0.6}}]\n",
      "Discussion of vaccination_12: Known to 3/3 people\n",
      "[{'person': Terry Robinson, 'opinion': {'opinion': -0.47, 'attitude': -0.81, 'unc': 0.34, 'pri_thr': 0.37, 'pub_thr': 0.6}}, {'person': Lourdes Beecher, 'opinion': {'opinion': 0.51, 'attitude': 0.55, 'unc': 0.04, 'pri_thr': 0.7, 'pub_thr': 0.6}}, {'person': Linda Sedlock, 'opinion': {'opinion': -0.15, 'attitude': -0.3, 'unc': 0.15, 'pri_thr': 0.0, 'pub_thr': 0.6}}]\n",
      "Discussion of vaccination_13: Known to 3/3 people\n",
      "[{'person': Terry Robinson, 'opinion': {'opinion': -0.12, 'attitude': -0.17, 'unc': 0.05, 'pri_thr': 0.88, 'pub_thr': 0.6}}, {'person': Lourdes Beecher, 'opinion': {'opinion': -0.41, 'attitude': -0.47, 'unc': 0.06, 'pri_thr': 0.42, 'pub_thr': 0.6}}, {'person': Linda Sedlock, 'opinion': {'opinion': 0.99, 'attitude': 0.69, 'unc': 0.3, 'pri_thr': 0.94, 'pub_thr': 0.6}}]\n",
      "Discussion of vaccination_12: Known to 3/3 people\n",
      "[{'person': Michael Owens, 'opinion': {'opinion': 0.5, 'attitude': 0.99, 'unc': 0.49, 'pri_thr': 0.59, 'pub_thr': 0.6}}, {'person': Odell Eckerson-Haas, 'opinion': {'opinion': 0.33, 'attitude': 0.8, 'unc': 0.47, 'pri_thr': 0.38, 'pub_thr': 0.6}}, {'person': Carolyn Glover, 'opinion': {'opinion': -0.21, 'attitude': 0.08, 'unc': 0.29, 'pri_thr': 0.35, 'pub_thr': 0.6}}]\n",
      "Discussion of vaccination_12: Known to 3/3 people\n",
      "[{'person': Terry Robinson, 'opinion': {'opinion': -0.47, 'attitude': -0.81, 'unc': 0.34, 'pri_thr': 0.37, 'pub_thr': 0.6}}, {'person': Lourdes Beecher, 'opinion': {'opinion': 0.51, 'attitude': 0.55, 'unc': 0.04, 'pri_thr': 0.7, 'pub_thr': 0.6}}, {'person': Mary Robinson, 'opinion': {'opinion': -0.34, 'attitude': -0.66, 'unc': 0.32, 'pri_thr': 0.66, 'pub_thr': 0.6}}]\n",
      "Discussion of vaccination_13: Known to 3/3 people\n",
      "[{'person': Terry Robinson, 'opinion': {'opinion': -0.12, 'attitude': -0.17, 'unc': 0.05, 'pri_thr': 0.88, 'pub_thr': 0.6}}, {'person': Lourdes Beecher, 'opinion': {'opinion': -0.41, 'attitude': -0.47, 'unc': 0.06, 'pri_thr': 0.42, 'pub_thr': 0.6}}, {'person': Mary Robinson, 'opinion': {'opinion': -0.48, 'attitude': -0.85, 'unc': 0.37, 'pri_thr': 0.53, 'pub_thr': 0.6}}]\n",
      "Discussion of vaccination_10: Known to 4/4 people\n",
      "[{'person': Anthony Giannetti, 'opinion': {'opinion': 0.2, 'attitude': -0.21, 'unc': 0.41, 'pri_thr': 0.76, 'pub_thr': 0.6}}, {'person': Ruben Giannetti, 'opinion': {'opinion': 0.41, 'attitude': 0.13, 'unc': 0.28, 'pri_thr': 0.38, 'pub_thr': 0.6}}, {'person': Clare Borland, 'opinion': {'opinion': -0.32, 'attitude': -0.66, 'unc': 0.34, 'pri_thr': 0.41, 'pub_thr': 0.6}}, {'person': Pablo Turner, 'opinion': {'opinion': -0.51, 'attitude': -0.38, 'unc': 0.13, 'pri_thr': 0.24, 'pub_thr': 0.6}}]\n",
      "Discussion of vaccination_13: Known to 2/2 people\n",
      "[{'person': Danielle Soukup-Worley, 'opinion': {'opinion': -0.75, 'attitude': -0.67, 'unc': 0.08, 'pri_thr': 0.7, 'pub_thr': 0.6}}, {'person': James Park, 'opinion': {'opinion': -0.16, 'attitude': -0.51, 'unc': 0.35, 'pri_thr': 0.61, 'pub_thr': 0.6}}]\n",
      "Discussion of vaccination_14: Known to 3/3 people\n",
      "[{'person': Terry Robinson, 'opinion': {'opinion': -0.55, 'attitude': -0.45, 'unc': 0.1, 'pri_thr': 0.91, 'pub_thr': 0.6}}, {'person': Lourdes Beecher, 'opinion': {'opinion': 0.02, 'attitude': -0.08, 'unc': 0.1, 'pri_thr': 0.89, 'pub_thr': 0.6}}, {'person': Linda Sedlock, 'opinion': {'opinion': -0.32, 'attitude': -0.05, 'unc': 0.27, 'pri_thr': 0.69, 'pub_thr': 0.6}}]\n",
      "Discussion of vaccination_10: Known to 4/4 people\n",
      "[{'person': Anthony Giannetti, 'opinion': {'opinion': 0.2, 'attitude': -0.21, 'unc': 0.41, 'pri_thr': 0.76, 'pub_thr': 0.6}}, {'person': Ruben Giannetti, 'opinion': {'opinion': 0.41, 'attitude': 0.13, 'unc': 0.28, 'pri_thr': 0.38, 'pub_thr': 0.6}}, {'person': Clare Borland, 'opinion': {'opinion': -0.32, 'attitude': -0.66, 'unc': 0.34, 'pri_thr': 0.41, 'pub_thr': 0.6}}, {'person': Pablo Turner, 'opinion': {'opinion': -0.51, 'attitude': -0.38, 'unc': 0.13, 'pri_thr': 0.24, 'pub_thr': 0.6}}]\n",
      "Discussion of vaccination_12: Known to 3/3 people\n",
      "[{'person': Michael Owens, 'opinion': {'opinion': 0.5, 'attitude': 0.99, 'unc': 0.49, 'pri_thr': 0.59, 'pub_thr': 0.6}}, {'person': Odell Eckerson-Haas, 'opinion': {'opinion': 0.33, 'attitude': 0.8, 'unc': 0.47, 'pri_thr': 0.38, 'pub_thr': 0.6}}, {'person': Carolyn Glover, 'opinion': {'opinion': -0.21, 'attitude': 0.08, 'unc': 0.29, 'pri_thr': 0.35, 'pub_thr': 0.6}}]\n",
      "Discussion of vaccination_13: Known to 3/3 people\n",
      "[{'person': Terry Robinson, 'opinion': {'opinion': 0.58, 'attitude': 0.1, 'unc': 0.48, 'pri_thr': 0.63, 'pub_thr': 0.6}}, {'person': Lourdes Beecher, 'opinion': {'opinion': 1.0, 'attitude': 0.66, 'unc': 0.34, 'pri_thr': 0.35, 'pub_thr': 0.6}}, {'person': Mary Robinson, 'opinion': {'opinion': -0.48, 'attitude': -0.85, 'unc': 0.37, 'pri_thr': 0.53, 'pub_thr': 0.6}}]\n",
      "Discussion of vaccination_13: Known to 3/4 people\n",
      "[{'person': Terry Robinson, 'opinion': {'opinion': 0.58, 'attitude': 0.1, 'unc': 0.48, 'pri_thr': 0.63, 'pub_thr': 0.6}}, {'person': Lourdes Beecher, 'opinion': {'opinion': 1.0, 'attitude': 0.66, 'unc': 0.34, 'pri_thr': 0.35, 'pub_thr': 0.6}}, {'person': Mary Robinson, 'opinion': {'opinion': -0.48, 'attitude': -0.85, 'unc': 0.37, 'pri_thr': 0.53, 'pub_thr': 0.6}}]\n",
      "Discussion of vaccination_14: Known to 3/4 people\n",
      "[{'person': Terry Robinson, 'opinion': {'opinion': -0.55, 'attitude': -0.45, 'unc': 0.1, 'pri_thr': 0.91, 'pub_thr': 0.6}}, {'person': Lourdes Beecher, 'opinion': {'opinion': 0.02, 'attitude': -0.08, 'unc': 0.1, 'pri_thr': 0.89, 'pub_thr': 0.6}}, {'person': Mary Robinson, 'opinion': {'opinion': 0.83, 'attitude': 0.86, 'unc': 0.03, 'pri_thr': 0.75, 'pub_thr': 0.6}}]\n",
      "Discussion of heterosexuality_9: Known to 4/4 people\n",
      "[{'person': Terry Robinson, 'opinion': {'opinion': -0.02, 'attitude': 0.3, 'unc': 0.32, 'pri_thr': 0.9, 'pub_thr': 0.6}}, {'person': Lourdes Beecher, 'opinion': {'opinion': 0.56, 'attitude': 0.16, 'unc': 0.4, 'pri_thr': 0.74, 'pub_thr': 0.6}}, {'person': Brian Scott, 'opinion': {'opinion': -0.94, 'attitude': -0.75, 'unc': 0.19, 'pri_thr': 0.82, 'pub_thr': 0.6}}, {'person': Mary Robinson, 'opinion': {'opinion': -0.05, 'attitude': 0.35, 'unc': 0.4, 'pri_thr': 0.24, 'pub_thr': 0.6}}]\n",
      "Discussion of vaccination_11: Known to 4/4 people\n",
      "[{'person': Terry Robinson, 'opinion': {'opinion': 0.13, 'attitude': 0.43, 'unc': 0.3, 'pri_thr': 0.53, 'pub_thr': 0.6}}, {'person': Franklin Scott, 'opinion': {'opinion': -0.04, 'attitude': 0.3, 'unc': 0.34, 'pri_thr': 0.71, 'pub_thr': 0.6}}, {'person': Lourdes Beecher, 'opinion': {'opinion': 0.84, 'attitude': 0.59, 'unc': 0.25, 'pri_thr': 0.58, 'pub_thr': 0.6}}, {'person': Linda Sedlock, 'opinion': {'opinion': -0.69, 'attitude': -0.64, 'unc': 0.05, 'pri_thr': 0.18, 'pub_thr': 0.6}}]\n",
      "Discussion of abortion_2: Known to 4/4 people\n",
      "[{'person': Anthony Giannetti, 'opinion': {'opinion': 0.46, 'attitude': 0.0, 'unc': 0.46, 'pri_thr': 0.02, 'pub_thr': 0.6}}, {'person': Ruben Giannetti, 'opinion': {'opinion': -1.13, 'attitude': -0.98, 'unc': 0.15, 'pri_thr': 0.65, 'pub_thr': 0.6}}, {'person': Clare Borland, 'opinion': {'opinion': 0.98, 'attitude': 0.76, 'unc': 0.22, 'pri_thr': 0.75, 'pub_thr': 0.6}}, {'person': Pablo Turner, 'opinion': {'opinion': -0.38, 'attitude': -0.81, 'unc': 0.43, 'pri_thr': 0.22, 'pub_thr': 0.6}}]\n",
      "Discussion of vaccination_14: Known to 4/4 people\n",
      "[{'person': Terry Robinson, 'opinion': {'opinion': -0.66, 'attitude': -0.32, 'unc': 0.34, 'pri_thr': 0.51, 'pub_thr': 0.6}}, {'person': Franklin Scott, 'opinion': {'opinion': 0.13, 'attitude': 0.17, 'unc': 0.04, 'pri_thr': 0.35, 'pub_thr': 0.6}}, {'person': Lourdes Beecher, 'opinion': {'opinion': 0.47, 'attitude': 0.68, 'unc': 0.21, 'pri_thr': 0.65, 'pub_thr': 0.6}}, {'person': Linda Sedlock, 'opinion': {'opinion': -1.01, 'attitude': -0.99, 'unc': 0.02, 'pri_thr': 0.17, 'pub_thr': 0.6}}]\n",
      "Discussion of vaccination_10: Known to 4/4 people\n",
      "[{'person': Anthony Giannetti, 'opinion': {'opinion': 0.2, 'attitude': -0.21, 'unc': 0.41, 'pri_thr': 0.76, 'pub_thr': 0.6}}, {'person': Ruben Giannetti, 'opinion': {'opinion': 0.41, 'attitude': 0.13, 'unc': 0.28, 'pri_thr': 0.38, 'pub_thr': 0.6}}, {'person': Clare Borland, 'opinion': {'opinion': -0.32, 'attitude': -0.66, 'unc': 0.34, 'pri_thr': 0.41, 'pub_thr': 0.6}}, {'person': Pablo Turner, 'opinion': {'opinion': -0.51, 'attitude': -0.38, 'unc': 0.13, 'pri_thr': 0.24, 'pub_thr': 0.6}}]\n",
      "Discussion of heterosexuality_4: Known to 4/4 people\n",
      "[{'person': Terry Robinson, 'opinion': {'opinion': -0.08, 'attitude': 0.41, 'unc': 0.49, 'pri_thr': 0.84, 'pub_thr': 0.6}}, {'person': Lourdes Beecher, 'opinion': {'opinion': -0.76, 'attitude': -0.52, 'unc': 0.24, 'pri_thr': 0.01, 'pub_thr': 0.6}}, {'person': Brian Scott, 'opinion': {'opinion': 0.99, 'attitude': 0.91, 'unc': 0.08, 'pri_thr': 0.03, 'pub_thr': 0.6}}, {'person': Mary Robinson, 'opinion': {'opinion': 0.11, 'attitude': 0.3, 'unc': 0.19, 'pri_thr': 0.94, 'pub_thr': 0.6}}]\n",
      "Discussion of vaccination_12: Known to 4/4 people\n",
      "[{'person': Anthony Giannetti, 'opinion': {'opinion': -0.79, 'attitude': -0.83, 'unc': 0.04, 'pri_thr': 0.62, 'pub_thr': 0.6}}, {'person': Ruben Giannetti, 'opinion': {'opinion': -0.32, 'attitude': -0.56, 'unc': 0.24, 'pri_thr': 0.65, 'pub_thr': 0.6}}, {'person': Clare Borland, 'opinion': {'opinion': -0.01, 'attitude': -0.02, 'unc': 0.01, 'pri_thr': 0.05, 'pub_thr': 0.6}}, {'person': Pablo Turner, 'opinion': {'opinion': 0.18, 'attitude': 0.31, 'unc': 0.13, 'pri_thr': 0.12, 'pub_thr': 0.6}}]\n",
      "Discussion of vaccination_13: Known to 2/2 people\n",
      "[{'person': Danielle Soukup-Worley, 'opinion': {'opinion': -0.75, 'attitude': -0.67, 'unc': 0.08, 'pri_thr': 0.7, 'pub_thr': 0.6}}, {'person': James Park, 'opinion': {'opinion': -0.16, 'attitude': -0.51, 'unc': 0.35, 'pri_thr': 0.61, 'pub_thr': 0.6}}]\n",
      "Discussion of vaccination_13: Known to 4/4 people\n",
      "[{'person': Terry Robinson, 'opinion': {'opinion': 0.58, 'attitude': 0.1, 'unc': 0.48, 'pri_thr': 0.63, 'pub_thr': 0.6}}, {'person': Franklin Scott, 'opinion': {'opinion': -1.1, 'attitude': -0.97, 'unc': 0.13, 'pri_thr': 0.29, 'pub_thr': 0.6}}, {'person': Lourdes Beecher, 'opinion': {'opinion': 1.0, 'attitude': 0.66, 'unc': 0.34, 'pri_thr': 0.35, 'pub_thr': 0.6}}, {'person': Linda Sedlock, 'opinion': {'opinion': 1.0, 'attitude': 0.57, 'unc': 0.43, 'pri_thr': 0.33, 'pub_thr': 0.6}}]\n",
      "Discussion of heterosexuality_2: Known to 4/4 people\n",
      "[{'person': Terry Robinson, 'opinion': {'opinion': 0.7, 'attitude': 0.43, 'unc': 0.27, 'pri_thr': 0.44, 'pub_thr': 0.6}}, {'person': Lourdes Beecher, 'opinion': {'opinion': -0.45, 'attitude': -0.94, 'unc': 0.49, 'pri_thr': 0.97, 'pub_thr': 0.6}}, {'person': Brian Scott, 'opinion': {'opinion': -0.17, 'attitude': -0.4, 'unc': 0.23, 'pri_thr': 0.08, 'pub_thr': 0.6}}, {'person': Mary Robinson, 'opinion': {'opinion': 0.94, 'attitude': 0.93, 'unc': 0.01, 'pri_thr': 0.5, 'pub_thr': 0.6}}]\n",
      "Discussion of vaccination_13: Known to 3/3 people\n",
      "[{'person': Michael Owens, 'opinion': {'opinion': 0.17, 'attitude': 0.37, 'unc': 0.2, 'pri_thr': 0.66, 'pub_thr': 0.6}}, {'person': Odell Eckerson-Haas, 'opinion': {'opinion': -0.12, 'attitude': -0.3, 'unc': 0.18, 'pri_thr': 0.46, 'pub_thr': 0.6}}, {'person': Carolyn Glover, 'opinion': {'opinion': -0.24, 'attitude': -0.27, 'unc': 0.03, 'pri_thr': 0.47, 'pub_thr': 0.6}}]\n",
      "Discussion of vaccination_10: Known to 4/4 people\n",
      "[{'person': Anthony Giannetti, 'opinion': {'opinion': 0.2, 'attitude': -0.21, 'unc': 0.41, 'pri_thr': 0.76, 'pub_thr': 0.6}}, {'person': Ruben Giannetti, 'opinion': {'opinion': 0.41, 'attitude': 0.13, 'unc': 0.28, 'pri_thr': 0.38, 'pub_thr': 0.6}}, {'person': Clare Borland, 'opinion': {'opinion': -0.32, 'attitude': -0.66, 'unc': 0.34, 'pri_thr': 0.41, 'pub_thr': 0.6}}, {'person': Pablo Turner, 'opinion': {'opinion': -0.51, 'attitude': -0.38, 'unc': 0.13, 'pri_thr': 0.24, 'pub_thr': 0.6}}]\n",
      "Discussion of vaccination_14: Known to 4/4 people\n",
      "[{'person': Anthony Giannetti, 'opinion': {'opinion': -0.79, 'attitude': -0.7, 'unc': 0.09, 'pri_thr': 0.42, 'pub_thr': 0.6}}, {'person': Ruben Giannetti, 'opinion': {'opinion': 0.16, 'attitude': -0.19, 'unc': 0.35, 'pri_thr': 0.44, 'pub_thr': 0.6}}, {'person': Clare Borland, 'opinion': {'opinion': 0.34, 'attitude': 0.79, 'unc': 0.45, 'pri_thr': 0.65, 'pub_thr': 0.6}}, {'person': Pablo Turner, 'opinion': {'opinion': -0.52, 'attitude': -0.39, 'unc': 0.13, 'pri_thr': 0.45, 'pub_thr': 0.6}}]\n",
      "Discussion of vaccination_14: Known to 2/2 people\n",
      "[{'person': Danielle Soukup-Worley, 'opinion': {'opinion': 0.82, 'attitude': 0.99, 'unc': 0.17, 'pri_thr': 0.57, 'pub_thr': 0.6}}, {'person': James Park, 'opinion': {'opinion': 0.15, 'attitude': 0.63, 'unc': 0.48, 'pri_thr': 0.6, 'pub_thr': 0.6}}]\n",
      "Discussion of vaccination_13: Known to 3/3 people\n",
      "[{'person': Michael Owens, 'opinion': {'opinion': 0.17, 'attitude': 0.37, 'unc': 0.2, 'pri_thr': 0.66, 'pub_thr': 0.6}}, {'person': Odell Eckerson-Haas, 'opinion': {'opinion': -0.12, 'attitude': -0.3, 'unc': 0.18, 'pri_thr': 0.46, 'pub_thr': 0.6}}, {'person': Carolyn Glover, 'opinion': {'opinion': -0.24, 'attitude': -0.27, 'unc': 0.03, 'pri_thr': 0.47, 'pub_thr': 0.6}}]\n",
      "Discussion of abortion_3: Known to 4/4 people\n",
      "[{'person': Anthony Giannetti, 'opinion': {'opinion': -0.64, 'attitude': -0.61, 'unc': 0.03, 'pri_thr': 0.27, 'pub_thr': 0.6}}, {'person': Ruben Giannetti, 'opinion': {'opinion': -0.38, 'attitude': -0.06, 'unc': 0.32, 'pri_thr': 0.69, 'pub_thr': 0.6}}, {'person': Clare Borland, 'opinion': {'opinion': -0.26, 'attitude': -0.66, 'unc': 0.4, 'pri_thr': 0.74, 'pub_thr': 0.6}}, {'person': Pablo Turner, 'opinion': {'opinion': -0.7, 'attitude': -0.87, 'unc': 0.17, 'pri_thr': 0.77, 'pub_thr': 0.6}}]\n",
      "Discussion of heterosexuality_2: Known to 4/4 people\n",
      "[{'person': Terry Robinson, 'opinion': {'opinion': -1.17, 'attitude': -0.85, 'unc': 0.32, 'pri_thr': 0.03, 'pub_thr': 0.6}}, {'person': Lourdes Beecher, 'opinion': {'opinion': -0.69, 'attitude': -0.96, 'unc': 0.27, 'pri_thr': 0.31, 'pub_thr': 0.6}}, {'person': Brian Scott, 'opinion': {'opinion': -0.17, 'attitude': -0.4, 'unc': 0.23, 'pri_thr': 0.08, 'pub_thr': 0.6}}, {'person': Mary Robinson, 'opinion': {'opinion': 0.94, 'attitude': 0.93, 'unc': 0.01, 'pri_thr': 0.5, 'pub_thr': 0.6}}]\n",
      "Discussion of vaccination_10: Known to 4/4 people\n",
      "[{'person': Anthony Giannetti, 'opinion': {'opinion': 0.2, 'attitude': -0.21, 'unc': 0.41, 'pri_thr': 0.76, 'pub_thr': 0.6}}, {'person': Ruben Giannetti, 'opinion': {'opinion': 0.41, 'attitude': 0.13, 'unc': 0.28, 'pri_thr': 0.38, 'pub_thr': 0.6}}, {'person': Clare Borland, 'opinion': {'opinion': -0.32, 'attitude': -0.66, 'unc': 0.34, 'pri_thr': 0.41, 'pub_thr': 0.6}}, {'person': Pablo Turner, 'opinion': {'opinion': -0.51, 'attitude': -0.38, 'unc': 0.13, 'pri_thr': 0.24, 'pub_thr': 0.6}}]\n",
      "Discussion of vaccination_13: Known to 3/3 people\n",
      "[{'person': Michael Owens, 'opinion': {'opinion': 0.17, 'attitude': 0.37, 'unc': 0.2, 'pri_thr': 0.66, 'pub_thr': 0.6}}, {'person': Odell Eckerson-Haas, 'opinion': {'opinion': -0.12, 'attitude': -0.3, 'unc': 0.18, 'pri_thr': 0.46, 'pub_thr': 0.6}}, {'person': Carolyn Glover, 'opinion': {'opinion': -0.24, 'attitude': -0.27, 'unc': 0.03, 'pri_thr': 0.47, 'pub_thr': 0.6}}]\n",
      "Discussion of vaccination_14: Known to 3/3 people\n",
      "[{'person': Michael Owens, 'opinion': {'opinion': -0.13, 'attitude': 0.05, 'unc': 0.18, 'pri_thr': 0.79, 'pub_thr': 0.6}}, {'person': Odell Eckerson-Haas, 'opinion': {'opinion': -0.53, 'attitude': -0.13, 'unc': 0.4, 'pri_thr': 0.18, 'pub_thr': 0.6}}, {'person': Carolyn Glover, 'opinion': {'opinion': 1.0, 'attitude': 0.82, 'unc': 0.18, 'pri_thr': 0.29, 'pub_thr': 0.6}}]\n",
      "Discussion of vaccination_13: Known to 3/3 people\n",
      "[{'person': Michael Owens, 'opinion': {'opinion': 0.17, 'attitude': 0.37, 'unc': 0.2, 'pri_thr': 0.66, 'pub_thr': 0.6}}, {'person': Odell Eckerson-Haas, 'opinion': {'opinion': -0.12, 'attitude': -0.3, 'unc': 0.18, 'pri_thr': 0.46, 'pub_thr': 0.6}}, {'person': Carolyn Glover, 'opinion': {'opinion': -0.24, 'attitude': -0.27, 'unc': 0.03, 'pri_thr': 0.47, 'pub_thr': 0.6}}]\n",
      "Discussion of abortion_4: Known to 4/4 people\n",
      "[{'person': Terry Robinson, 'opinion': {'opinion': 0.58, 'attitude': 0.14, 'unc': 0.44, 'pri_thr': 0.11, 'pub_thr': 0.6}}, {'person': Lourdes Beecher, 'opinion': {'opinion': -0.35, 'attitude': -0.1, 'unc': 0.25, 'pri_thr': 0.83, 'pub_thr': 0.6}}, {'person': Brian Scott, 'opinion': {'opinion': 0.66, 'attitude': 0.57, 'unc': 0.09, 'pri_thr': 0.26, 'pub_thr': 0.6}}, {'person': Mary Robinson, 'opinion': {'opinion': -1.33, 'attitude': -0.97, 'unc': 0.36, 'pri_thr': 0.42, 'pub_thr': 0.6}}]\n",
      "Discussion of vaccination_13: Known to 3/3 people\n",
      "[{'person': Michael Owens, 'opinion': {'opinion': 0.17, 'attitude': 0.37, 'unc': 0.2, 'pri_thr': 0.66, 'pub_thr': 0.6}}, {'person': Odell Eckerson-Haas, 'opinion': {'opinion': -0.12, 'attitude': -0.3, 'unc': 0.18, 'pri_thr': 0.46, 'pub_thr': 0.6}}, {'person': Carolyn Glover, 'opinion': {'opinion': -0.24, 'attitude': -0.27, 'unc': 0.03, 'pri_thr': 0.47, 'pub_thr': 0.6}}]\n",
      "Discussion of vaccination_14: Known to 3/3 people\n",
      "[{'person': Michael Owens, 'opinion': {'opinion': -0.13, 'attitude': 0.05, 'unc': 0.18, 'pri_thr': 0.79, 'pub_thr': 0.6}}, {'person': Odell Eckerson-Haas, 'opinion': {'opinion': -0.53, 'attitude': -0.13, 'unc': 0.4, 'pri_thr': 0.18, 'pub_thr': 0.6}}, {'person': Carolyn Glover, 'opinion': {'opinion': 1.0, 'attitude': 0.82, 'unc': 0.18, 'pri_thr': 0.29, 'pub_thr': 0.6}}]\n",
      "Discussion of vaccination_11: Known to 4/4 people\n",
      "[{'person': Terry Robinson, 'opinion': {'opinion': -0.62, 'attitude': -0.52, 'unc': 0.1, 'pri_thr': 0.07, 'pub_thr': 0.6}}, {'person': Franklin Scott, 'opinion': {'opinion': 0.21, 'attitude': 0.37, 'unc': 0.16, 'pri_thr': 0.42, 'pub_thr': 0.6}}, {'person': Lourdes Beecher, 'opinion': {'opinion': 0.58, 'attitude': 0.82, 'unc': 0.24, 'pri_thr': 0.08, 'pub_thr': 0.6}}, {'person': Linda Sedlock, 'opinion': {'opinion': -0.06, 'attitude': -0.27, 'unc': 0.21, 'pri_thr': 0.15, 'pub_thr': 0.6}}]\n",
      "Discussion of abortion_3: Known to 4/4 people\n",
      "[{'person': Terry Robinson, 'opinion': {'opinion': -0.47, 'attitude': -0.01, 'unc': 0.46, 'pri_thr': 0.97, 'pub_thr': 0.6}}, {'person': Lourdes Beecher, 'opinion': {'opinion': -0.15, 'attitude': -0.32, 'unc': 0.17, 'pri_thr': 0.88, 'pub_thr': 0.6}}, {'person': Brian Scott, 'opinion': {'opinion': 0.71, 'attitude': 0.23, 'unc': 0.48, 'pri_thr': 0.99, 'pub_thr': 0.6}}, {'person': Mary Robinson, 'opinion': {'opinion': -0.9, 'attitude': -0.9, 'unc': 0.0, 'pri_thr': 0.69, 'pub_thr': 0.6}}]\n",
      "Discussion of vaccination_13: Known to 2/2 people\n",
      "[{'person': Danielle Soukup-Worley, 'opinion': {'opinion': 0.1, 'attitude': 0.1, 'unc': 0.0, 'pri_thr': 0.35, 'pub_thr': 0.6}}, {'person': James Park, 'opinion': {'opinion': 0.79, 'attitude': 0.79, 'unc': 0.0, 'pri_thr': 0.86, 'pub_thr': 0.6}}]\n",
      "Discussion of vaccination_14: Known to 2/2 people\n",
      "[{'person': Danielle Soukup-Worley, 'opinion': {'opinion': 0.82, 'attitude': 0.99, 'unc': 0.17, 'pri_thr': 0.57, 'pub_thr': 0.6}}, {'person': James Park, 'opinion': {'opinion': 0.15, 'attitude': 0.63, 'unc': 0.48, 'pri_thr': 0.6, 'pub_thr': 0.6}}]\n",
      "Discussion of vaccination_10: Known to 4/4 people\n",
      "[{'person': Terry Robinson, 'opinion': {'opinion': -0.97, 'attitude': -0.75, 'unc': 0.22, 'pri_thr': 0.32, 'pub_thr': 0.6}}, {'person': Lourdes Beecher, 'opinion': {'opinion': -0.13, 'attitude': -0.0, 'unc': 0.13, 'pri_thr': 0.16, 'pub_thr': 0.6}}, {'person': Brian Scott, 'opinion': {'opinion': 0.08, 'attitude': 0.49, 'unc': 0.41, 'pri_thr': 0.76, 'pub_thr': 0.6}}, {'person': Mary Robinson, 'opinion': {'opinion': -0.6, 'attitude': -0.8, 'unc': 0.2, 'pri_thr': 0.26, 'pub_thr': 0.6}}]\n",
      "Discussion of vaccination_13: Known to 3/3 people\n",
      "[{'person': Michael Owens, 'opinion': {'opinion': 0.17, 'attitude': 0.37, 'unc': 0.2, 'pri_thr': 0.66, 'pub_thr': 0.6}}, {'person': Odell Eckerson-Haas, 'opinion': {'opinion': -0.12, 'attitude': -0.3, 'unc': 0.18, 'pri_thr': 0.46, 'pub_thr': 0.6}}, {'person': Carolyn Glover, 'opinion': {'opinion': -0.24, 'attitude': -0.27, 'unc': 0.03, 'pri_thr': 0.47, 'pub_thr': 0.6}}]\n",
      "Discussion of vaccination_14: Known to 4/4 people\n",
      "[{'person': Terry Robinson, 'opinion': {'opinion': -0.66, 'attitude': -0.32, 'unc': 0.34, 'pri_thr': 0.51, 'pub_thr': 0.6}}, {'person': Franklin Scott, 'opinion': {'opinion': 0.13, 'attitude': 0.17, 'unc': 0.04, 'pri_thr': 0.35, 'pub_thr': 0.6}}, {'person': Lourdes Beecher, 'opinion': {'opinion': 0.47, 'attitude': 0.68, 'unc': 0.21, 'pri_thr': 0.65, 'pub_thr': 0.6}}, {'person': Linda Sedlock, 'opinion': {'opinion': 0.6, 'attitude': 0.22, 'unc': 0.38, 'pri_thr': 0.01, 'pub_thr': 0.6}}]\n",
      "Discussion of abortion_3: Known to 4/4 people\n",
      "[{'person': Terry Robinson, 'opinion': {'opinion': -0.22, 'attitude': -0.04, 'unc': 0.18, 'pri_thr': 0.77, 'pub_thr': 0.6}}, {'person': Lourdes Beecher, 'opinion': {'opinion': -0.71, 'attitude': -0.87, 'unc': 0.16, 'pri_thr': 0.44, 'pub_thr': 0.6}}, {'person': Brian Scott, 'opinion': {'opinion': 0.71, 'attitude': 0.23, 'unc': 0.48, 'pri_thr': 0.99, 'pub_thr': 0.6}}, {'person': Mary Robinson, 'opinion': {'opinion': -0.9, 'attitude': -0.9, 'unc': 0.0, 'pri_thr': 0.69, 'pub_thr': 0.6}}]\n",
      "Discussion of vaccination_11: Known to 4/4 people\n",
      "[{'person': Anthony Giannetti, 'opinion': {'opinion': -0.56, 'attitude': -0.38, 'unc': 0.18, 'pri_thr': 0.94, 'pub_thr': 0.6}}, {'person': Ruben Giannetti, 'opinion': {'opinion': -0.07, 'attitude': 0.4, 'unc': 0.47, 'pri_thr': 0.61, 'pub_thr': 0.6}}, {'person': Clare Borland, 'opinion': {'opinion': 0.43, 'attitude': 0.66, 'unc': 0.23, 'pri_thr': 0.44, 'pub_thr': 0.6}}, {'person': Pablo Turner, 'opinion': {'opinion': 0.25, 'attitude': 0.75, 'unc': 0.5, 'pri_thr': 0.81, 'pub_thr': 0.6}}]\n",
      "Discussion of vaccination_13: Known to 3/3 people\n",
      "[{'person': Michael Owens, 'opinion': {'opinion': 0.17, 'attitude': 0.37, 'unc': 0.2, 'pri_thr': 0.66, 'pub_thr': 0.6}}, {'person': Odell Eckerson-Haas, 'opinion': {'opinion': -0.12, 'attitude': -0.3, 'unc': 0.18, 'pri_thr': 0.46, 'pub_thr': 0.6}}, {'person': Carolyn Glover, 'opinion': {'opinion': -0.24, 'attitude': -0.27, 'unc': 0.03, 'pri_thr': 0.47, 'pub_thr': 0.6}}]\n",
      "Discussion of vaccination_10: Known to 4/4 people\n",
      "[{'person': Terry Robinson, 'opinion': {'opinion': -0.97, 'attitude': -0.75, 'unc': 0.22, 'pri_thr': 0.32, 'pub_thr': 0.6}}, {'person': Lourdes Beecher, 'opinion': {'opinion': -0.13, 'attitude': -0.0, 'unc': 0.13, 'pri_thr': 0.16, 'pub_thr': 0.6}}, {'person': Brian Scott, 'opinion': {'opinion': 0.08, 'attitude': 0.49, 'unc': 0.41, 'pri_thr': 0.76, 'pub_thr': 0.6}}, {'person': Mary Robinson, 'opinion': {'opinion': -0.6, 'attitude': -0.8, 'unc': 0.2, 'pri_thr': 0.26, 'pub_thr': 0.6}}]\n",
      "Discussion of vaccination_13: Known to 4/4 people\n",
      "[{'person': Terry Robinson, 'opinion': {'opinion': 0.58, 'attitude': 0.1, 'unc': 0.48, 'pri_thr': 0.63, 'pub_thr': 0.6}}, {'person': Franklin Scott, 'opinion': {'opinion': 0.3, 'attitude': -0.18, 'unc': 0.48, 'pri_thr': 0.97, 'pub_thr': 0.6}}, {'person': Lourdes Beecher, 'opinion': {'opinion': 1.0, 'attitude': 0.66, 'unc': 0.34, 'pri_thr': 0.35, 'pub_thr': 0.6}}, {'person': Linda Sedlock, 'opinion': {'opinion': 1.0, 'attitude': 0.57, 'unc': 0.43, 'pri_thr': 0.33, 'pub_thr': 0.6}}]\n",
      "Discussion of vaccination_12: Known to 4/4 people\n",
      "[{'person': Terry Robinson, 'opinion': {'opinion': 0.36, 'attitude': 0.55, 'unc': 0.19, 'pri_thr': 0.81, 'pub_thr': 0.6}}, {'person': Lourdes Beecher, 'opinion': {'opinion': 0.47, 'attitude': 0.73, 'unc': 0.26, 'pri_thr': 0.01, 'pub_thr': 0.6}}, {'person': Brian Scott, 'opinion': {'opinion': -0.12, 'attitude': -0.24, 'unc': 0.12, 'pri_thr': 0.78, 'pub_thr': 0.6}}, {'person': Mary Robinson, 'opinion': {'opinion': 0.44, 'attitude': 0.39, 'unc': 0.05, 'pri_thr': 0.51, 'pub_thr': 0.6}}]\n",
      "Discussion of vaccination_14: Known to 2/2 people\n",
      "[{'person': Danielle Soukup-Worley, 'opinion': {'opinion': 0.82, 'attitude': 0.99, 'unc': 0.17, 'pri_thr': 0.57, 'pub_thr': 0.6}}, {'person': James Park, 'opinion': {'opinion': 0.15, 'attitude': 0.63, 'unc': 0.48, 'pri_thr': 0.6, 'pub_thr': 0.6}}]\n",
      "Discussion of vaccination_12: Known to 4/4 people\n",
      "[{'person': Terry Robinson, 'opinion': {'opinion': 0.36, 'attitude': 0.55, 'unc': 0.19, 'pri_thr': 0.81, 'pub_thr': 0.6}}, {'person': Franklin Scott, 'opinion': {'opinion': -0.07, 'attitude': -0.36, 'unc': 0.29, 'pri_thr': 0.48, 'pub_thr': 0.6}}, {'person': Lourdes Beecher, 'opinion': {'opinion': 0.47, 'attitude': 0.73, 'unc': 0.26, 'pri_thr': 0.01, 'pub_thr': 0.6}}, {'person': Linda Sedlock, 'opinion': {'opinion': 0.03, 'attitude': 0.12, 'unc': 0.09, 'pri_thr': 0.35, 'pub_thr': 0.6}}]\n",
      "Discussion of vaccination_10: Known to 4/4 people\n",
      "[{'person': Anthony Giannetti, 'opinion': {'opinion': 0.2, 'attitude': -0.21, 'unc': 0.41, 'pri_thr': 0.76, 'pub_thr': 0.6}}, {'person': Ruben Giannetti, 'opinion': {'opinion': 0.41, 'attitude': 0.13, 'unc': 0.28, 'pri_thr': 0.38, 'pub_thr': 0.6}}, {'person': Clare Borland, 'opinion': {'opinion': -0.32, 'attitude': -0.66, 'unc': 0.34, 'pri_thr': 0.41, 'pub_thr': 0.6}}, {'person': Pablo Turner, 'opinion': {'opinion': -0.51, 'attitude': -0.38, 'unc': 0.13, 'pri_thr': 0.24, 'pub_thr': 0.6}}]\n",
      "Discussion of vaccination_11: Known to 4/4 people\n",
      "[{'person': Anthony Giannetti, 'opinion': {'opinion': -0.56, 'attitude': -0.38, 'unc': 0.18, 'pri_thr': 0.94, 'pub_thr': 0.6}}, {'person': Ruben Giannetti, 'opinion': {'opinion': -0.07, 'attitude': 0.4, 'unc': 0.47, 'pri_thr': 0.61, 'pub_thr': 0.6}}, {'person': Clare Borland, 'opinion': {'opinion': 0.43, 'attitude': 0.66, 'unc': 0.23, 'pri_thr': 0.44, 'pub_thr': 0.6}}, {'person': Pablo Turner, 'opinion': {'opinion': 0.25, 'attitude': 0.75, 'unc': 0.5, 'pri_thr': 0.81, 'pub_thr': 0.6}}]\n",
      "Discussion of vaccination_14: Known to 3/3 people\n",
      "[{'person': Michael Owens, 'opinion': {'opinion': -0.13, 'attitude': 0.05, 'unc': 0.18, 'pri_thr': 0.79, 'pub_thr': 0.6}}, {'person': Odell Eckerson-Haas, 'opinion': {'opinion': -0.53, 'attitude': -0.13, 'unc': 0.4, 'pri_thr': 0.18, 'pub_thr': 0.6}}, {'person': Carolyn Glover, 'opinion': {'opinion': 1.0, 'attitude': 0.82, 'unc': 0.18, 'pri_thr': 0.29, 'pub_thr': 0.6}}]\n",
      "Discussion of abortion_3: Known to 4/4 people\n",
      "[{'person': Terry Robinson, 'opinion': {'opinion': 0.27, 'attitude': 0.47, 'unc': 0.2, 'pri_thr': 0.12, 'pub_thr': 0.6}}, {'person': Lourdes Beecher, 'opinion': {'opinion': -0.84, 'attitude': -0.36, 'unc': 0.48, 'pri_thr': 0.32, 'pub_thr': 0.6}}, {'person': Brian Scott, 'opinion': {'opinion': 0.38, 'attitude': 0.27, 'unc': 0.11, 'pri_thr': 0.85, 'pub_thr': 0.6}}, {'person': Mary Robinson, 'opinion': {'opinion': -0.93, 'attitude': -0.52, 'unc': 0.41, 'pri_thr': 0.07, 'pub_thr': 0.6}}]\n",
      "Discussion of vaccination_11: Known to 4/4 people\n",
      "[{'person': Anthony Giannetti, 'opinion': {'opinion': -0.56, 'attitude': -0.38, 'unc': 0.18, 'pri_thr': 0.94, 'pub_thr': 0.6}}, {'person': Ruben Giannetti, 'opinion': {'opinion': -0.07, 'attitude': 0.4, 'unc': 0.47, 'pri_thr': 0.61, 'pub_thr': 0.6}}, {'person': Clare Borland, 'opinion': {'opinion': 0.43, 'attitude': 0.66, 'unc': 0.23, 'pri_thr': 0.44, 'pub_thr': 0.6}}, {'person': Pablo Turner, 'opinion': {'opinion': 0.25, 'attitude': 0.75, 'unc': 0.5, 'pri_thr': 0.81, 'pub_thr': 0.6}}]\n",
      "Discussion of vaccination_11: Known to 4/4 people\n",
      "[{'person': Terry Robinson, 'opinion': {'opinion': -0.62, 'attitude': -0.52, 'unc': 0.1, 'pri_thr': 0.07, 'pub_thr': 0.6}}, {'person': Lourdes Beecher, 'opinion': {'opinion': 0.58, 'attitude': 0.82, 'unc': 0.24, 'pri_thr': 0.08, 'pub_thr': 0.6}}, {'person': Brian Scott, 'opinion': {'opinion': -0.68, 'attitude': -0.72, 'unc': 0.04, 'pri_thr': 0.81, 'pub_thr': 0.6}}, {'person': Mary Robinson, 'opinion': {'opinion': -0.72, 'attitude': -0.6, 'unc': 0.12, 'pri_thr': 0.86, 'pub_thr': 0.6}}]\n",
      "Discussion of vaccination_11: Known to 4/4 people\n",
      "[{'person': Anthony Giannetti, 'opinion': {'opinion': -0.56, 'attitude': -0.38, 'unc': 0.18, 'pri_thr': 0.94, 'pub_thr': 0.6}}, {'person': Ruben Giannetti, 'opinion': {'opinion': -0.07, 'attitude': 0.4, 'unc': 0.47, 'pri_thr': 0.61, 'pub_thr': 0.6}}, {'person': Clare Borland, 'opinion': {'opinion': 0.43, 'attitude': 0.66, 'unc': 0.23, 'pri_thr': 0.44, 'pub_thr': 0.6}}, {'person': Pablo Turner, 'opinion': {'opinion': 0.25, 'attitude': 0.75, 'unc': 0.5, 'pri_thr': 0.81, 'pub_thr': 0.6}}]\n",
      "Discussion of vaccination_13: Known to 3/3 people\n",
      "[{'person': Michael Owens, 'opinion': {'opinion': 0.17, 'attitude': 0.37, 'unc': 0.2, 'pri_thr': 0.66, 'pub_thr': 0.6}}, {'person': Odell Eckerson-Haas, 'opinion': {'opinion': -0.12, 'attitude': -0.3, 'unc': 0.18, 'pri_thr': 0.46, 'pub_thr': 0.6}}, {'person': Carolyn Glover, 'opinion': {'opinion': -0.24, 'attitude': -0.27, 'unc': 0.03, 'pri_thr': 0.47, 'pub_thr': 0.6}}]\n",
      "Discussion of vaccination_12: Known to 3/3 people\n",
      "[{'person': Michael Owens, 'opinion': {'opinion': 0.5, 'attitude': 0.99, 'unc': 0.49, 'pri_thr': 0.59, 'pub_thr': 0.6}}, {'person': Odell Eckerson-Haas, 'opinion': {'opinion': 0.33, 'attitude': 0.8, 'unc': 0.47, 'pri_thr': 0.38, 'pub_thr': 0.6}}, {'person': Carolyn Glover, 'opinion': {'opinion': -0.21, 'attitude': 0.08, 'unc': 0.29, 'pri_thr': 0.35, 'pub_thr': 0.6}}]\n",
      "Discussion of vaccination_12: Known to 3/3 people\n",
      "[{'person': Michael Owens, 'opinion': {'opinion': 0.5, 'attitude': 0.99, 'unc': 0.49, 'pri_thr': 0.59, 'pub_thr': 0.6}}, {'person': Odell Eckerson-Haas, 'opinion': {'opinion': 0.33, 'attitude': 0.8, 'unc': 0.47, 'pri_thr': 0.38, 'pub_thr': 0.6}}, {'person': Carolyn Glover, 'opinion': {'opinion': -0.21, 'attitude': 0.08, 'unc': 0.29, 'pri_thr': 0.35, 'pub_thr': 0.6}}]\n",
      "Discussion of vaccination_13: Known to 4/4 people\n",
      "[{'person': Terry Robinson, 'opinion': {'opinion': -0.67, 'attitude': -0.28, 'unc': 0.39, 'pri_thr': 0.42, 'pub_thr': 0.6}}, {'person': Lourdes Beecher, 'opinion': {'opinion': 0.02, 'attitude': -0.27, 'unc': 0.29, 'pri_thr': 0.67, 'pub_thr': 0.6}}, {'person': Brian Scott, 'opinion': {'opinion': -1.24, 'attitude': -0.88, 'unc': 0.36, 'pri_thr': 0.4, 'pub_thr': 0.6}}, {'person': Mary Robinson, 'opinion': {'opinion': -0.45, 'attitude': -0.69, 'unc': 0.24, 'pri_thr': 0.15, 'pub_thr': 0.6}}]\n",
      "Discussion of vaccination_13: Known to 3/3 people\n",
      "[{'person': Michael Owens, 'opinion': {'opinion': 0.17, 'attitude': 0.37, 'unc': 0.2, 'pri_thr': 0.66, 'pub_thr': 0.6}}, {'person': Odell Eckerson-Haas, 'opinion': {'opinion': -0.12, 'attitude': -0.3, 'unc': 0.18, 'pri_thr': 0.46, 'pub_thr': 0.6}}, {'person': Carolyn Glover, 'opinion': {'opinion': -0.24, 'attitude': -0.27, 'unc': 0.03, 'pri_thr': 0.47, 'pub_thr': 0.6}}]\n",
      "Discussion of vaccination_13: Known to 4/4 people\n",
      "[{'person': Terry Robinson, 'opinion': {'opinion': -0.67, 'attitude': -0.28, 'unc': 0.39, 'pri_thr': 0.42, 'pub_thr': 0.6}}, {'person': Franklin Scott, 'opinion': {'opinion': 0.3, 'attitude': -0.18, 'unc': 0.48, 'pri_thr': 0.97, 'pub_thr': 0.6}}, {'person': Lourdes Beecher, 'opinion': {'opinion': 0.02, 'attitude': -0.27, 'unc': 0.29, 'pri_thr': 0.67, 'pub_thr': 0.6}}, {'person': Linda Sedlock, 'opinion': {'opinion': 1.0, 'attitude': 0.57, 'unc': 0.43, 'pri_thr': 0.33, 'pub_thr': 0.6}}]\n",
      "Discussion of vaccination_14: Known to 3/3 people\n",
      "[{'person': Michael Owens, 'opinion': {'opinion': -0.13, 'attitude': 0.05, 'unc': 0.18, 'pri_thr': 0.79, 'pub_thr': 0.6}}, {'person': Odell Eckerson-Haas, 'opinion': {'opinion': -0.53, 'attitude': -0.13, 'unc': 0.4, 'pri_thr': 0.18, 'pub_thr': 0.6}}, {'person': Carolyn Glover, 'opinion': {'opinion': 1.0, 'attitude': 0.82, 'unc': 0.18, 'pri_thr': 0.29, 'pub_thr': 0.6}}]\n",
      "Discussion of vaccination_14: Known to 4/4 people\n",
      "[{'person': Anthony Giannetti, 'opinion': {'opinion': 0.11, 'attitude': 0.25, 'unc': 0.14, 'pri_thr': 0.46, 'pub_thr': 0.6}}, {'person': Ruben Giannetti, 'opinion': {'opinion': 0.4, 'attitude': 0.61, 'unc': 0.21, 'pri_thr': 0.2, 'pub_thr': 0.6}}, {'person': Clare Borland, 'opinion': {'opinion': 0.1, 'attitude': -0.28, 'unc': 0.38, 'pri_thr': 0.64, 'pub_thr': 0.6}}, {'person': Pablo Turner, 'opinion': {'opinion': 0.66, 'attitude': 0.59, 'unc': 0.07, 'pri_thr': 0.67, 'pub_thr': 0.6}}]\n",
      "Discussion of vaccination_10: Known to 4/4 people\n",
      "[{'person': Anthony Giannetti, 'opinion': {'opinion': 0.2, 'attitude': -0.21, 'unc': 0.41, 'pri_thr': 0.76, 'pub_thr': 0.6}}, {'person': Ruben Giannetti, 'opinion': {'opinion': 0.41, 'attitude': 0.13, 'unc': 0.28, 'pri_thr': 0.38, 'pub_thr': 0.6}}, {'person': Clare Borland, 'opinion': {'opinion': -0.32, 'attitude': -0.66, 'unc': 0.34, 'pri_thr': 0.41, 'pub_thr': 0.6}}, {'person': Pablo Turner, 'opinion': {'opinion': -0.51, 'attitude': -0.38, 'unc': 0.13, 'pri_thr': 0.24, 'pub_thr': 0.6}}]\n",
      "Discussion of vaccination_13: Known to 4/4 people\n",
      "[{'person': Terry Robinson, 'opinion': {'opinion': -0.67, 'attitude': -0.28, 'unc': 0.39, 'pri_thr': 0.42, 'pub_thr': 0.6}}, {'person': Franklin Scott, 'opinion': {'opinion': 0.3, 'attitude': -0.18, 'unc': 0.48, 'pri_thr': 0.97, 'pub_thr': 0.6}}, {'person': Lourdes Beecher, 'opinion': {'opinion': 0.02, 'attitude': -0.27, 'unc': 0.29, 'pri_thr': 0.67, 'pub_thr': 0.6}}, {'person': Linda Sedlock, 'opinion': {'opinion': 1.0, 'attitude': 0.92, 'unc': 0.08, 'pri_thr': 0.75, 'pub_thr': 0.6}}]\n",
      "Discussion of vaccination_14: Known to 4/4 people\n",
      "[{'person': Terry Robinson, 'opinion': {'opinion': 0.59, 'attitude': 0.3, 'unc': 0.29, 'pri_thr': 0.33, 'pub_thr': 0.6}}, {'person': Lourdes Beecher, 'opinion': {'opinion': 0.52, 'attitude': 0.03, 'unc': 0.49, 'pri_thr': 0.41, 'pub_thr': 0.6}}, {'person': Brian Scott, 'opinion': {'opinion': 0.8, 'attitude': 0.42, 'unc': 0.38, 'pri_thr': 0.77, 'pub_thr': 0.6}}, {'person': Mary Robinson, 'opinion': {'opinion': -1.43, 'attitude': -0.94, 'unc': 0.49, 'pri_thr': 0.38, 'pub_thr': 0.6}}]\n",
      "Discussion of vaccination_12: Known to 4/4 people\n",
      "[{'person': Anthony Giannetti, 'opinion': {'opinion': 1.0, 'attitude': 1.0, 'unc': 0.0, 'pri_thr': 0.82, 'pub_thr': 0.6}}, {'person': Ruben Giannetti, 'opinion': {'opinion': 0.51, 'attitude': 0.7, 'unc': 0.19, 'pri_thr': 0.01, 'pub_thr': 0.6}}, {'person': Clare Borland, 'opinion': {'opinion': 0.05, 'attitude': 0.03, 'unc': 0.02, 'pri_thr': 0.6, 'pub_thr': 0.6}}, {'person': Pablo Turner, 'opinion': {'opinion': -0.31, 'attitude': -0.64, 'unc': 0.33, 'pri_thr': 0.25, 'pub_thr': 0.6}}]\n",
      "Discussion of vaccination_12: Known to 4/4 people\n",
      "[{'person': Terry Robinson, 'opinion': {'opinion': -0.03, 'attitude': 0.19, 'unc': 0.22, 'pri_thr': 0.94, 'pub_thr': 0.6}}, {'person': Lourdes Beecher, 'opinion': {'opinion': 0.81, 'attitude': 0.36, 'unc': 0.45, 'pri_thr': 0.07, 'pub_thr': 0.6}}, {'person': Brian Scott, 'opinion': {'opinion': -0.59, 'attitude': -0.29, 'unc': 0.3, 'pri_thr': 0.7, 'pub_thr': 0.6}}, {'person': Mary Robinson, 'opinion': {'opinion': -0.64, 'attitude': -0.59, 'unc': 0.05, 'pri_thr': 0.69, 'pub_thr': 0.6}}]\n",
      "Discussion of vaccination_12: Known to 4/4 people\n",
      "[{'person': Terry Robinson, 'opinion': {'opinion': -0.03, 'attitude': 0.19, 'unc': 0.22, 'pri_thr': 0.94, 'pub_thr': 0.6}}, {'person': Lourdes Beecher, 'opinion': {'opinion': 0.81, 'attitude': 0.36, 'unc': 0.45, 'pri_thr': 0.07, 'pub_thr': 0.6}}, {'person': Brian Scott, 'opinion': {'opinion': -0.59, 'attitude': -0.29, 'unc': 0.3, 'pri_thr': 0.7, 'pub_thr': 0.6}}, {'person': Mary Robinson, 'opinion': {'opinion': -0.64, 'attitude': -0.59, 'unc': 0.05, 'pri_thr': 0.69, 'pub_thr': 0.6}}]\n",
      "Discussion of vaccination_13: Known to 2/2 people\n",
      "[{'person': Danielle Soukup-Worley, 'opinion': {'opinion': 0.1, 'attitude': 0.1, 'unc': 0.0, 'pri_thr': 0.35, 'pub_thr': 0.6}}, {'person': James Park, 'opinion': {'opinion': 0.79, 'attitude': 0.79, 'unc': 0.0, 'pri_thr': 0.86, 'pub_thr': 0.6}}]\n",
      "Discussion of vaccination_13: Known to 4/4 people\n",
      "[{'person': Terry Robinson, 'opinion': {'opinion': -0.67, 'attitude': -0.28, 'unc': 0.39, 'pri_thr': 0.42, 'pub_thr': 0.6}}, {'person': Lourdes Beecher, 'opinion': {'opinion': 0.02, 'attitude': -0.27, 'unc': 0.29, 'pri_thr': 0.67, 'pub_thr': 0.6}}, {'person': Brian Scott, 'opinion': {'opinion': -1.24, 'attitude': -0.88, 'unc': 0.36, 'pri_thr': 0.4, 'pub_thr': 0.6}}, {'person': Mary Robinson, 'opinion': {'opinion': -0.45, 'attitude': -0.69, 'unc': 0.24, 'pri_thr': 0.15, 'pub_thr': 0.6}}]\n",
      "Discussion of vaccination_12: Known to 4/4 people\n",
      "[{'person': Terry Robinson, 'opinion': {'opinion': -0.03, 'attitude': 0.19, 'unc': 0.22, 'pri_thr': 0.94, 'pub_thr': 0.6}}, {'person': Lourdes Beecher, 'opinion': {'opinion': 0.81, 'attitude': 0.36, 'unc': 0.45, 'pri_thr': 0.07, 'pub_thr': 0.6}}, {'person': Brian Scott, 'opinion': {'opinion': -0.59, 'attitude': -0.29, 'unc': 0.3, 'pri_thr': 0.7, 'pub_thr': 0.6}}, {'person': Mary Robinson, 'opinion': {'opinion': -0.64, 'attitude': -0.59, 'unc': 0.05, 'pri_thr': 0.69, 'pub_thr': 0.6}}]\n",
      "Discussion of vaccination_13: Known to 4/4 people\n",
      "[{'person': Terry Robinson, 'opinion': {'opinion': -0.67, 'attitude': -0.28, 'unc': 0.39, 'pri_thr': 0.42, 'pub_thr': 0.6}}, {'person': Franklin Scott, 'opinion': {'opinion': 0.3, 'attitude': -0.18, 'unc': 0.48, 'pri_thr': 0.97, 'pub_thr': 0.6}}, {'person': Lourdes Beecher, 'opinion': {'opinion': 0.02, 'attitude': -0.27, 'unc': 0.29, 'pri_thr': 0.67, 'pub_thr': 0.6}}, {'person': Linda Sedlock, 'opinion': {'opinion': 1.0, 'attitude': 0.92, 'unc': 0.08, 'pri_thr': 0.75, 'pub_thr': 0.6}}]\n",
      "Discussion of vaccination_13: Known to 4/4 people\n",
      "[{'person': Anthony Giannetti, 'opinion': {'opinion': -0.09, 'attitude': -0.44, 'unc': 0.35, 'pri_thr': 0.75, 'pub_thr': 0.6}}, {'person': Ruben Giannetti, 'opinion': {'opinion': 0.19, 'attitude': 0.57, 'unc': 0.38, 'pri_thr': 0.99, 'pub_thr': 0.6}}, {'person': Clare Borland, 'opinion': {'opinion': 0.57, 'attitude': 0.88, 'unc': 0.31, 'pri_thr': 0.07, 'pub_thr': 0.6}}, {'person': Pablo Turner, 'opinion': {'opinion': -0.95, 'attitude': -0.54, 'unc': 0.41, 'pri_thr': 0.34, 'pub_thr': 0.6}}]\n",
      "Discussion of vaccination_12: Known to 3/3 people\n",
      "[{'person': Michael Owens, 'opinion': {'opinion': 0.5, 'attitude': 0.99, 'unc': 0.49, 'pri_thr': 0.59, 'pub_thr': 0.6}}, {'person': Odell Eckerson-Haas, 'opinion': {'opinion': 0.33, 'attitude': 0.8, 'unc': 0.47, 'pri_thr': 0.38, 'pub_thr': 0.6}}, {'person': Carolyn Glover, 'opinion': {'opinion': -0.21, 'attitude': 0.08, 'unc': 0.29, 'pri_thr': 0.35, 'pub_thr': 0.6}}]\n",
      "Discussion of vaccination_11: Known to 4/4 people\n",
      "[{'person': Anthony Giannetti, 'opinion': {'opinion': 0.05, 'attitude': 0.36, 'unc': 0.31, 'pri_thr': 0.87, 'pub_thr': 0.6}}, {'person': Ruben Giannetti, 'opinion': {'opinion': -0.77, 'attitude': -0.35, 'unc': 0.42, 'pri_thr': 0.59, 'pub_thr': 0.6}}, {'person': Clare Borland, 'opinion': {'opinion': -0.93, 'attitude': -0.84, 'unc': 0.09, 'pri_thr': 0.95, 'pub_thr': 0.6}}, {'person': Pablo Turner, 'opinion': {'opinion': 0.34, 'attitude': 0.67, 'unc': 0.33, 'pri_thr': 0.56, 'pub_thr': 0.6}}]\n",
      "Discussion of vaccination_14: Known to 4/4 people\n",
      "[{'person': Anthony Giannetti, 'opinion': {'opinion': 0.11, 'attitude': 0.25, 'unc': 0.14, 'pri_thr': 0.46, 'pub_thr': 0.6}}, {'person': Ruben Giannetti, 'opinion': {'opinion': 0.4, 'attitude': 0.61, 'unc': 0.21, 'pri_thr': 0.2, 'pub_thr': 0.6}}, {'person': Clare Borland, 'opinion': {'opinion': 0.1, 'attitude': -0.28, 'unc': 0.38, 'pri_thr': 0.64, 'pub_thr': 0.6}}, {'person': Pablo Turner, 'opinion': {'opinion': 0.66, 'attitude': 0.59, 'unc': 0.07, 'pri_thr': 0.67, 'pub_thr': 0.6}}]\n",
      "Discussion of vaccination_14: Known to 2/2 people\n",
      "[{'person': Danielle Soukup-Worley, 'opinion': {'opinion': 0.82, 'attitude': 0.99, 'unc': 0.17, 'pri_thr': 0.57, 'pub_thr': 0.6}}, {'person': James Park, 'opinion': {'opinion': 0.15, 'attitude': 0.63, 'unc': 0.48, 'pri_thr': 0.6, 'pub_thr': 0.6}}]\n",
      "Discussion of vaccination_14: Known to 4/4 people\n",
      "[{'person': Terry Robinson, 'opinion': {'opinion': 0.64, 'attitude': 0.91, 'unc': 0.27, 'pri_thr': 0.16, 'pub_thr': 0.6}}, {'person': Lourdes Beecher, 'opinion': {'opinion': -0.3, 'attitude': -0.56, 'unc': 0.26, 'pri_thr': 0.1, 'pub_thr': 0.6}}, {'person': Brian Scott, 'opinion': {'opinion': -0.61, 'attitude': -0.88, 'unc': 0.27, 'pri_thr': 0.0, 'pub_thr': 0.6}}, {'person': Mary Robinson, 'opinion': {'opinion': -0.28, 'attitude': -0.69, 'unc': 0.41, 'pri_thr': 0.27, 'pub_thr': 0.6}}]\n",
      "Discussion of vaccination_13: Known to 2/2 people\n",
      "[{'person': Franklin Scott, 'opinion': {'opinion': 0.3, 'attitude': -0.18, 'unc': 0.48, 'pri_thr': 0.97, 'pub_thr': 0.6}}, {'person': Mary Robinson, 'opinion': {'opinion': -0.45, 'attitude': -0.69, 'unc': 0.24, 'pri_thr': 0.15, 'pub_thr': 0.6}}]\n",
      "Discussion of vaccination_14: Known to 4/4 people\n",
      "[{'person': Terry Robinson, 'opinion': {'opinion': 0.64, 'attitude': 0.91, 'unc': 0.27, 'pri_thr': 0.16, 'pub_thr': 0.6}}, {'person': Franklin Scott, 'opinion': {'opinion': 0.47, 'attitude': 0.81, 'unc': 0.34, 'pri_thr': 0.21, 'pub_thr': 0.6}}, {'person': Lourdes Beecher, 'opinion': {'opinion': -0.3, 'attitude': -0.56, 'unc': 0.26, 'pri_thr': 0.1, 'pub_thr': 0.6}}, {'person': Linda Sedlock, 'opinion': {'opinion': -0.48, 'attitude': -0.01, 'unc': 0.47, 'pri_thr': 0.57, 'pub_thr': 0.6}}]\n",
      "Discussion of vaccination_11: Known to 4/4 people\n",
      "[{'person': Terry Robinson, 'opinion': {'opinion': -0.73, 'attitude': -0.52, 'unc': 0.21, 'pri_thr': 0.26, 'pub_thr': 0.6}}, {'person': Lourdes Beecher, 'opinion': {'opinion': 1.0, 'attitude': 0.93, 'unc': 0.07, 'pri_thr': 0.83, 'pub_thr': 0.6}}, {'person': Brian Scott, 'opinion': {'opinion': -0.64, 'attitude': -0.61, 'unc': 0.03, 'pri_thr': 0.12, 'pub_thr': 0.6}}, {'person': Mary Robinson, 'opinion': {'opinion': 0.76, 'attitude': 0.88, 'unc': 0.12, 'pri_thr': 0.14, 'pub_thr': 0.6}}]\n",
      "Discussion of vaccination_12: Known to 3/3 people\n",
      "[{'person': Michael Owens, 'opinion': {'opinion': 0.5, 'attitude': 0.99, 'unc': 0.49, 'pri_thr': 0.59, 'pub_thr': 0.6}}, {'person': Odell Eckerson-Haas, 'opinion': {'opinion': 0.33, 'attitude': 0.8, 'unc': 0.47, 'pri_thr': 0.38, 'pub_thr': 0.6}}, {'person': Carolyn Glover, 'opinion': {'opinion': -0.21, 'attitude': 0.08, 'unc': 0.29, 'pri_thr': 0.35, 'pub_thr': 0.6}}]\n",
      "Discussion of vaccination_13: Known to 2/2 people\n",
      "[{'person': Franklin Scott, 'opinion': {'opinion': 0.3, 'attitude': -0.18, 'unc': 0.48, 'pri_thr': 0.97, 'pub_thr': 0.6}}, {'person': Mary Robinson, 'opinion': {'opinion': -0.45, 'attitude': -0.69, 'unc': 0.24, 'pri_thr': 0.15, 'pub_thr': 0.6}}]\n",
      "Discussion of vaccination_13: Known to 4/4 people\n",
      "[{'person': Anthony Giannetti, 'opinion': {'opinion': -0.09, 'attitude': -0.44, 'unc': 0.35, 'pri_thr': 0.75, 'pub_thr': 0.6}}, {'person': Ruben Giannetti, 'opinion': {'opinion': 0.19, 'attitude': 0.57, 'unc': 0.38, 'pri_thr': 0.99, 'pub_thr': 0.6}}, {'person': Clare Borland, 'opinion': {'opinion': 0.57, 'attitude': 0.88, 'unc': 0.31, 'pri_thr': 0.07, 'pub_thr': 0.6}}, {'person': Pablo Turner, 'opinion': {'opinion': -0.95, 'attitude': -0.54, 'unc': 0.41, 'pri_thr': 0.34, 'pub_thr': 0.6}}]\n",
      "Discussion of vaccination_11: Known to 4/4 people\n",
      "[{'person': Terry Robinson, 'opinion': {'opinion': 0.17, 'attitude': -0.01, 'unc': 0.18, 'pri_thr': 0.42, 'pub_thr': 0.6}}, {'person': Lourdes Beecher, 'opinion': {'opinion': -0.36, 'attitude': -0.04, 'unc': 0.32, 'pri_thr': 0.74, 'pub_thr': 0.6}}, {'person': Brian Scott, 'opinion': {'opinion': -0.64, 'attitude': -0.61, 'unc': 0.03, 'pri_thr': 0.12, 'pub_thr': 0.6}}, {'person': Mary Robinson, 'opinion': {'opinion': 0.76, 'attitude': 0.88, 'unc': 0.12, 'pri_thr': 0.14, 'pub_thr': 0.6}}]\n",
      "Discussion of vaccination_12: Known to 4/4 people\n",
      "[{'person': Terry Robinson, 'opinion': {'opinion': -0.03, 'attitude': 0.19, 'unc': 0.22, 'pri_thr': 0.94, 'pub_thr': 0.6}}, {'person': Franklin Scott, 'opinion': {'opinion': -0.07, 'attitude': -0.36, 'unc': 0.29, 'pri_thr': 0.48, 'pub_thr': 0.6}}, {'person': Lourdes Beecher, 'opinion': {'opinion': 0.81, 'attitude': 0.36, 'unc': 0.45, 'pri_thr': 0.07, 'pub_thr': 0.6}}, {'person': Linda Sedlock, 'opinion': {'opinion': 0.29, 'attitude': 0.77, 'unc': 0.48, 'pri_thr': 0.26, 'pub_thr': 0.6}}]\n",
      "Discussion of vaccination_11: Known to 4/4 people\n",
      "[{'person': Terry Robinson, 'opinion': {'opinion': 0.17, 'attitude': -0.01, 'unc': 0.18, 'pri_thr': 0.42, 'pub_thr': 0.6}}, {'person': Franklin Scott, 'opinion': {'opinion': 0.21, 'attitude': 0.41, 'unc': 0.2, 'pri_thr': 0.85, 'pub_thr': 0.6}}, {'person': Lourdes Beecher, 'opinion': {'opinion': -0.36, 'attitude': -0.04, 'unc': 0.32, 'pri_thr': 0.74, 'pub_thr': 0.6}}, {'person': Linda Sedlock, 'opinion': {'opinion': 0.13, 'attitude': 0.37, 'unc': 0.24, 'pri_thr': 0.98, 'pub_thr': 0.6}}]\n",
      "Discussion of vaccination_11: Known to 4/4 people\n",
      "[{'person': Terry Robinson, 'opinion': {'opinion': 0.17, 'attitude': -0.01, 'unc': 0.18, 'pri_thr': 0.42, 'pub_thr': 0.6}}, {'person': Lourdes Beecher, 'opinion': {'opinion': -0.36, 'attitude': -0.04, 'unc': 0.32, 'pri_thr': 0.74, 'pub_thr': 0.6}}, {'person': Brian Scott, 'opinion': {'opinion': -0.64, 'attitude': -0.61, 'unc': 0.03, 'pri_thr': 0.12, 'pub_thr': 0.6}}, {'person': Mary Robinson, 'opinion': {'opinion': 0.76, 'attitude': 0.88, 'unc': 0.12, 'pri_thr': 0.14, 'pub_thr': 0.6}}]\n",
      "Discussion of vaccination_12: Known to 4/4 people\n",
      "[{'person': Terry Robinson, 'opinion': {'opinion': -0.03, 'attitude': 0.19, 'unc': 0.22, 'pri_thr': 0.94, 'pub_thr': 0.6}}, {'person': Franklin Scott, 'opinion': {'opinion': -0.07, 'attitude': -0.36, 'unc': 0.29, 'pri_thr': 0.48, 'pub_thr': 0.6}}, {'person': Lourdes Beecher, 'opinion': {'opinion': 0.81, 'attitude': 0.36, 'unc': 0.45, 'pri_thr': 0.07, 'pub_thr': 0.6}}, {'person': Linda Sedlock, 'opinion': {'opinion': 0.29, 'attitude': 0.77, 'unc': 0.48, 'pri_thr': 0.26, 'pub_thr': 0.6}}]\n",
      "Discussion of vaccination_12: Known to 3/3 people\n",
      "[{'person': Michael Owens, 'opinion': {'opinion': -0.86, 'attitude': -0.99, 'unc': 0.13, 'pri_thr': 0.63, 'pub_thr': 0.6}}, {'person': Odell Eckerson-Haas, 'opinion': {'opinion': -1.29, 'attitude': -0.87, 'unc': 0.42, 'pri_thr': 0.59, 'pub_thr': 0.6}}, {'person': Carolyn Glover, 'opinion': {'opinion': 0.6, 'attitude': 0.2, 'unc': 0.4, 'pri_thr': 0.59, 'pub_thr': 0.6}}]\n",
      "Discussion of vaccination_14: Known to 4/4 people\n",
      "[{'person': Terry Robinson, 'opinion': {'opinion': 1.0, 'attitude': 0.77, 'unc': 0.23, 'pri_thr': 0.63, 'pub_thr': 0.6}}, {'person': Franklin Scott, 'opinion': {'opinion': 0.47, 'attitude': 0.81, 'unc': 0.34, 'pri_thr': 0.21, 'pub_thr': 0.6}}, {'person': Lourdes Beecher, 'opinion': {'opinion': 0.37, 'attitude': 0.37, 'unc': 0.0, 'pri_thr': 0.63, 'pub_thr': 0.6}}, {'person': Linda Sedlock, 'opinion': {'opinion': -0.48, 'attitude': -0.01, 'unc': 0.47, 'pri_thr': 0.57, 'pub_thr': 0.6}}]\n",
      "Discussion of vaccination_12: Known to 4/4 people\n",
      "[{'person': Anthony Giannetti, 'opinion': {'opinion': -0.41, 'attitude': -0.04, 'unc': 0.37, 'pri_thr': 0.33, 'pub_thr': 0.6}}, {'person': Ruben Giannetti, 'opinion': {'opinion': -0.27, 'attitude': -0.22, 'unc': 0.05, 'pri_thr': 0.29, 'pub_thr': 0.6}}, {'person': Clare Borland, 'opinion': {'opinion': -0.27, 'attitude': -0.66, 'unc': 0.39, 'pri_thr': 0.42, 'pub_thr': 0.6}}, {'person': Pablo Turner, 'opinion': {'opinion': -0.43, 'attitude': -0.21, 'unc': 0.22, 'pri_thr': 0.35, 'pub_thr': 0.6}}]\n",
      "Discussion of vaccination_12: Known to 3/3 people\n",
      "[{'person': Michael Owens, 'opinion': {'opinion': -0.86, 'attitude': -0.99, 'unc': 0.13, 'pri_thr': 0.63, 'pub_thr': 0.6}}, {'person': Odell Eckerson-Haas, 'opinion': {'opinion': -1.29, 'attitude': -0.87, 'unc': 0.42, 'pri_thr': 0.59, 'pub_thr': 0.6}}, {'person': Carolyn Glover, 'opinion': {'opinion': 0.6, 'attitude': 0.2, 'unc': 0.4, 'pri_thr': 0.59, 'pub_thr': 0.6}}]\n",
      "Discussion of vaccination_12: Known to 3/3 people\n",
      "[{'person': Michael Owens, 'opinion': {'opinion': -0.86, 'attitude': -0.99, 'unc': 0.13, 'pri_thr': 0.63, 'pub_thr': 0.6}}, {'person': Odell Eckerson-Haas, 'opinion': {'opinion': -1.29, 'attitude': -0.87, 'unc': 0.42, 'pri_thr': 0.59, 'pub_thr': 0.6}}, {'person': Carolyn Glover, 'opinion': {'opinion': 0.6, 'attitude': 0.2, 'unc': 0.4, 'pri_thr': 0.59, 'pub_thr': 0.6}}]\n",
      "Discussion of vaccination_12: Known to 4/4 people\n",
      "[{'person': Terry Robinson, 'opinion': {'opinion': -0.03, 'attitude': 0.19, 'unc': 0.22, 'pri_thr': 0.94, 'pub_thr': 0.6}}, {'person': Franklin Scott, 'opinion': {'opinion': -0.07, 'attitude': -0.36, 'unc': 0.29, 'pri_thr': 0.48, 'pub_thr': 0.6}}, {'person': Lourdes Beecher, 'opinion': {'opinion': 0.81, 'attitude': 0.36, 'unc': 0.45, 'pri_thr': 0.07, 'pub_thr': 0.6}}, {'person': Linda Sedlock, 'opinion': {'opinion': 0.29, 'attitude': 0.77, 'unc': 0.48, 'pri_thr': 0.26, 'pub_thr': 0.6}}]\n",
      "Discussion of vaccination_13: Known to 4/4 people\n",
      "[{'person': Anthony Giannetti, 'opinion': {'opinion': -0.09, 'attitude': -0.44, 'unc': 0.35, 'pri_thr': 0.75, 'pub_thr': 0.6}}, {'person': Ruben Giannetti, 'opinion': {'opinion': 0.19, 'attitude': 0.57, 'unc': 0.38, 'pri_thr': 0.99, 'pub_thr': 0.6}}, {'person': Clare Borland, 'opinion': {'opinion': 0.57, 'attitude': 0.88, 'unc': 0.31, 'pri_thr': 0.07, 'pub_thr': 0.6}}, {'person': Pablo Turner, 'opinion': {'opinion': -0.95, 'attitude': -0.54, 'unc': 0.41, 'pri_thr': 0.34, 'pub_thr': 0.6}}]\n",
      "Discussion of vaccination_14: Known to 4/4 people\n",
      "[{'person': Terry Robinson, 'opinion': {'opinion': 1.0, 'attitude': 0.77, 'unc': 0.23, 'pri_thr': 0.63, 'pub_thr': 0.6}}, {'person': Lourdes Beecher, 'opinion': {'opinion': 0.37, 'attitude': 0.37, 'unc': 0.0, 'pri_thr': 0.63, 'pub_thr': 0.6}}, {'person': Brian Scott, 'opinion': {'opinion': -0.91, 'attitude': -0.42, 'unc': 0.49, 'pri_thr': 0.11, 'pub_thr': 0.6}}, {'person': Mary Robinson, 'opinion': {'opinion': -0.91, 'attitude': -0.61, 'unc': 0.3, 'pri_thr': 0.02, 'pub_thr': 0.6}}]\n",
      "Discussion of vaccination_12: Known to 4/4 people\n",
      "[{'person': Anthony Giannetti, 'opinion': {'opinion': -0.41, 'attitude': -0.04, 'unc': 0.37, 'pri_thr': 0.33, 'pub_thr': 0.6}}, {'person': Ruben Giannetti, 'opinion': {'opinion': -0.27, 'attitude': -0.22, 'unc': 0.05, 'pri_thr': 0.29, 'pub_thr': 0.6}}, {'person': Clare Borland, 'opinion': {'opinion': -0.27, 'attitude': -0.66, 'unc': 0.39, 'pri_thr': 0.42, 'pub_thr': 0.6}}, {'person': Pablo Turner, 'opinion': {'opinion': -0.43, 'attitude': -0.21, 'unc': 0.22, 'pri_thr': 0.35, 'pub_thr': 0.6}}]\n",
      "Discussion of vaccination_14: Known to 2/2 people\n",
      "[{'person': Danielle Soukup-Worley, 'opinion': {'opinion': 0.68, 'attitude': 0.73, 'unc': 0.05, 'pri_thr': 0.89, 'pub_thr': 0.6}}, {'person': James Park, 'opinion': {'opinion': -0.33, 'attitude': -0.3, 'unc': 0.03, 'pri_thr': 0.87, 'pub_thr': 0.6}}]\n",
      "Discussion of vaccination_14: Known to 3/3 people\n",
      "[{'person': Michael Owens, 'opinion': {'opinion': -0.71, 'attitude': -0.31, 'unc': 0.4, 'pri_thr': 0.2, 'pub_thr': 0.6}}, {'person': Odell Eckerson-Haas, 'opinion': {'opinion': 1.0, 'attitude': 0.87, 'unc': 0.13, 'pri_thr': 0.11, 'pub_thr': 0.6}}, {'person': Carolyn Glover, 'opinion': {'opinion': -0.46, 'attitude': -0.5, 'unc': 0.04, 'pri_thr': 0.83, 'pub_thr': 0.6}}]\n",
      "Discussion of vaccination_13: Known to 4/4 people\n",
      "[{'person': Terry Robinson, 'opinion': {'opinion': -0.27, 'attitude': -0.37, 'unc': 0.1, 'pri_thr': 0.32, 'pub_thr': 0.6}}, {'person': Lourdes Beecher, 'opinion': {'opinion': -0.67, 'attitude': -0.78, 'unc': 0.11, 'pri_thr': 0.82, 'pub_thr': 0.6}}, {'person': Brian Scott, 'opinion': {'opinion': -1.24, 'attitude': -0.88, 'unc': 0.36, 'pri_thr': 0.4, 'pub_thr': 0.6}}, {'person': Mary Robinson, 'opinion': {'opinion': -0.45, 'attitude': -0.69, 'unc': 0.24, 'pri_thr': 0.15, 'pub_thr': 0.6}}]\n",
      "Discussion of vaccination_11: Known to 4/4 people\n",
      "[{'person': Terry Robinson, 'opinion': {'opinion': 0.17, 'attitude': -0.01, 'unc': 0.18, 'pri_thr': 0.42, 'pub_thr': 0.6}}, {'person': Lourdes Beecher, 'opinion': {'opinion': -0.36, 'attitude': -0.04, 'unc': 0.32, 'pri_thr': 0.74, 'pub_thr': 0.6}}, {'person': Brian Scott, 'opinion': {'opinion': -0.64, 'attitude': -0.61, 'unc': 0.03, 'pri_thr': 0.12, 'pub_thr': 0.6}}, {'person': Mary Robinson, 'opinion': {'opinion': 0.76, 'attitude': 0.88, 'unc': 0.12, 'pri_thr': 0.14, 'pub_thr': 0.6}}]\n",
      "Discussion of vaccination_13: Known to 2/2 people\n",
      "[{'person': Danielle Soukup-Worley, 'opinion': {'opinion': -0.73, 'attitude': -1.0, 'unc': 0.27, 'pri_thr': 0.27, 'pub_thr': 0.6}}, {'person': James Park, 'opinion': {'opinion': 0.24, 'attitude': 0.35, 'unc': 0.11, 'pri_thr': 0.86, 'pub_thr': 0.6}}]\n",
      "Discussion of vaccination_13: Known to 4/4 people\n",
      "[{'person': Terry Robinson, 'opinion': {'opinion': -0.27, 'attitude': -0.37, 'unc': 0.1, 'pri_thr': 0.32, 'pub_thr': 0.6}}, {'person': Franklin Scott, 'opinion': {'opinion': -0.65, 'attitude': -0.32, 'unc': 0.33, 'pri_thr': 0.66, 'pub_thr': 0.6}}, {'person': Lourdes Beecher, 'opinion': {'opinion': -0.67, 'attitude': -0.78, 'unc': 0.11, 'pri_thr': 0.82, 'pub_thr': 0.6}}, {'person': Linda Sedlock, 'opinion': {'opinion': -0.15, 'attitude': 0.17, 'unc': 0.32, 'pri_thr': 0.51, 'pub_thr': 0.6}}]\n",
      "Discussion of vaccination_11: Known to 4/4 people\n",
      "[{'person': Anthony Giannetti, 'opinion': {'opinion': -0.98, 'attitude': -0.6, 'unc': 0.38, 'pri_thr': 0.93, 'pub_thr': 0.6}}, {'person': Ruben Giannetti, 'opinion': {'opinion': 1.0, 'attitude': 0.81, 'unc': 0.19, 'pri_thr': 0.32, 'pub_thr': 0.6}}, {'person': Clare Borland, 'opinion': {'opinion': 0.48, 'attitude': 0.14, 'unc': 0.34, 'pri_thr': 0.78, 'pub_thr': 0.6}}, {'person': Pablo Turner, 'opinion': {'opinion': -0.84, 'attitude': -0.37, 'unc': 0.47, 'pri_thr': 0.73, 'pub_thr': 0.6}}]\n",
      "Discussion of democrat_10: Known to 2/2 people\n",
      "[{'person': James Park, 'opinion': {'opinion': 0.56, 'attitude': 0.5, 'unc': 0.06, 'pri_thr': 0.57, 'pub_thr': 0.6}}, {'person': Angela Soukup-Worley, 'opinion': {'opinion': 0.87, 'attitude': 0.43, 'unc': 0.44, 'pri_thr': 0.86, 'pub_thr': 0.6}}]\n",
      "Discussion of vaccination_14: Known to 2/2 people\n",
      "[{'person': James Park, 'opinion': {'opinion': -0.33, 'attitude': -0.3, 'unc': 0.03, 'pri_thr': 0.87, 'pub_thr': 0.6}}, {'person': Angela Soukup-Worley, 'opinion': {'opinion': 0.55, 'attitude': 0.71, 'unc': 0.16, 'pri_thr': 0.67, 'pub_thr': 0.6}}]\n",
      "Discussion of vaccination_12: Known to 3/3 people\n",
      "[{'person': Michael Owens, 'opinion': {'opinion': -0.86, 'attitude': -0.99, 'unc': 0.13, 'pri_thr': 0.63, 'pub_thr': 0.6}}, {'person': Odell Eckerson-Haas, 'opinion': {'opinion': -1.29, 'attitude': -0.87, 'unc': 0.42, 'pri_thr': 0.59, 'pub_thr': 0.6}}, {'person': Carolyn Glover, 'opinion': {'opinion': 0.6, 'attitude': 0.2, 'unc': 0.4, 'pri_thr': 0.59, 'pub_thr': 0.6}}]\n",
      "Discussion of vaccination_12: Known to 4/4 people\n",
      "[{'person': Terry Robinson, 'opinion': {'opinion': -0.03, 'attitude': 0.19, 'unc': 0.22, 'pri_thr': 0.94, 'pub_thr': 0.6}}, {'person': Franklin Scott, 'opinion': {'opinion': -0.07, 'attitude': -0.36, 'unc': 0.29, 'pri_thr': 0.48, 'pub_thr': 0.6}}, {'person': Lourdes Beecher, 'opinion': {'opinion': 0.81, 'attitude': 0.36, 'unc': 0.45, 'pri_thr': 0.07, 'pub_thr': 0.6}}, {'person': Linda Sedlock, 'opinion': {'opinion': 0.29, 'attitude': 0.77, 'unc': 0.48, 'pri_thr': 0.26, 'pub_thr': 0.6}}]\n",
      "Discussion of vaccination_11: Known to 4/4 people\n",
      "[{'person': Terry Robinson, 'opinion': {'opinion': 0.17, 'attitude': -0.01, 'unc': 0.18, 'pri_thr': 0.42, 'pub_thr': 0.6}}, {'person': Lourdes Beecher, 'opinion': {'opinion': -0.36, 'attitude': -0.04, 'unc': 0.32, 'pri_thr': 0.74, 'pub_thr': 0.6}}, {'person': Brian Scott, 'opinion': {'opinion': -0.64, 'attitude': -0.61, 'unc': 0.03, 'pri_thr': 0.12, 'pub_thr': 0.6}}, {'person': Mary Robinson, 'opinion': {'opinion': 0.76, 'attitude': 0.88, 'unc': 0.12, 'pri_thr': 0.14, 'pub_thr': 0.6}}]\n",
      "Discussion of vaccination_13: Known to 3/3 people\n",
      "[{'person': Michael Owens, 'opinion': {'opinion': 1.0, 'attitude': 0.61, 'unc': 0.39, 'pri_thr': 0.04, 'pub_thr': 0.6}}, {'person': Odell Eckerson-Haas, 'opinion': {'opinion': 0.45, 'attitude': 0.81, 'unc': 0.36, 'pri_thr': 0.58, 'pub_thr': 0.6}}, {'person': Carolyn Glover, 'opinion': {'opinion': 0.2, 'attitude': 0.17, 'unc': 0.03, 'pri_thr': 0.71, 'pub_thr': 0.6}}]\n",
      "Discussion of vaccination_13: Known to 4/4 people\n",
      "[{'person': Anthony Giannetti, 'opinion': {'opinion': -0.09, 'attitude': -0.44, 'unc': 0.35, 'pri_thr': 0.75, 'pub_thr': 0.6}}, {'person': Ruben Giannetti, 'opinion': {'opinion': 0.19, 'attitude': 0.57, 'unc': 0.38, 'pri_thr': 0.99, 'pub_thr': 0.6}}, {'person': Clare Borland, 'opinion': {'opinion': 0.57, 'attitude': 0.88, 'unc': 0.31, 'pri_thr': 0.07, 'pub_thr': 0.6}}, {'person': Pablo Turner, 'opinion': {'opinion': -0.95, 'attitude': -0.54, 'unc': 0.41, 'pri_thr': 0.34, 'pub_thr': 0.6}}]\n",
      "Discussion of vaccination_13: Known to 4/4 people\n",
      "[{'person': Terry Robinson, 'opinion': {'opinion': -0.27, 'attitude': -0.37, 'unc': 0.1, 'pri_thr': 0.32, 'pub_thr': 0.6}}, {'person': Lourdes Beecher, 'opinion': {'opinion': -0.67, 'attitude': -0.78, 'unc': 0.11, 'pri_thr': 0.82, 'pub_thr': 0.6}}, {'person': Brian Scott, 'opinion': {'opinion': -1.24, 'attitude': -0.88, 'unc': 0.36, 'pri_thr': 0.4, 'pub_thr': 0.6}}, {'person': Mary Robinson, 'opinion': {'opinion': -0.45, 'attitude': -0.69, 'unc': 0.24, 'pri_thr': 0.15, 'pub_thr': 0.6}}]\n",
      "Discussion of vaccination_11: Known to 4/4 people\n",
      "[{'person': Anthony Giannetti, 'opinion': {'opinion': -0.98, 'attitude': -0.6, 'unc': 0.38, 'pri_thr': 0.93, 'pub_thr': 0.6}}, {'person': Ruben Giannetti, 'opinion': {'opinion': 1.0, 'attitude': 0.81, 'unc': 0.19, 'pri_thr': 0.32, 'pub_thr': 0.6}}, {'person': Clare Borland, 'opinion': {'opinion': 0.48, 'attitude': 0.14, 'unc': 0.34, 'pri_thr': 0.78, 'pub_thr': 0.6}}, {'person': Pablo Turner, 'opinion': {'opinion': -0.84, 'attitude': -0.37, 'unc': 0.47, 'pri_thr': 0.73, 'pub_thr': 0.6}}]\n",
      "Discussion of vaccination_13: Known to 2/2 people\n",
      "[{'person': Franklin Scott, 'opinion': {'opinion': -0.65, 'attitude': -0.32, 'unc': 0.33, 'pri_thr': 0.66, 'pub_thr': 0.6}}, {'person': Mary Robinson, 'opinion': {'opinion': -0.45, 'attitude': -0.69, 'unc': 0.24, 'pri_thr': 0.15, 'pub_thr': 0.6}}]\n",
      "Discussion of vaccination_14: Known to 2/2 people\n",
      "[{'person': Danielle Soukup-Worley, 'opinion': {'opinion': 0.68, 'attitude': 0.73, 'unc': 0.05, 'pri_thr': 0.89, 'pub_thr': 0.6}}, {'person': James Park, 'opinion': {'opinion': -0.33, 'attitude': -0.3, 'unc': 0.03, 'pri_thr': 0.87, 'pub_thr': 0.6}}]\n",
      "Discussion of vaccination_11: Known to 4/4 people\n",
      "[{'person': Anthony Giannetti, 'opinion': {'opinion': -0.98, 'attitude': -0.6, 'unc': 0.38, 'pri_thr': 0.93, 'pub_thr': 0.6}}, {'person': Ruben Giannetti, 'opinion': {'opinion': 1.0, 'attitude': 0.81, 'unc': 0.19, 'pri_thr': 0.32, 'pub_thr': 0.6}}, {'person': Clare Borland, 'opinion': {'opinion': 0.48, 'attitude': 0.14, 'unc': 0.34, 'pri_thr': 0.78, 'pub_thr': 0.6}}, {'person': Pablo Turner, 'opinion': {'opinion': -0.84, 'attitude': -0.37, 'unc': 0.47, 'pri_thr': 0.73, 'pub_thr': 0.6}}]\n",
      "Discussion of abortion_4: Known to 5/5 people\n",
      "[{'person': Michael Sedlock, 'opinion': {'opinion': 0.25, 'attitude': 0.47, 'unc': 0.22, 'pri_thr': 0.4, 'pub_thr': 0.6}}, {'person': Terry Robinson, 'opinion': {'opinion': 0.49, 'attitude': 0.77, 'unc': 0.28, 'pri_thr': 0.79, 'pub_thr': 0.6}}, {'person': Franklin Scott, 'opinion': {'opinion': -0.55, 'attitude': -0.15, 'unc': 0.4, 'pri_thr': 0.78, 'pub_thr': 0.6}}, {'person': Lourdes Beecher, 'opinion': {'opinion': 0.21, 'attitude': 0.39, 'unc': 0.18, 'pri_thr': 0.03, 'pub_thr': 0.6}}, {'person': Linda Sedlock, 'opinion': {'opinion': -0.19, 'attitude': -0.5, 'unc': 0.31, 'pri_thr': 0.68, 'pub_thr': 0.6}}]\n",
      "Discussion of vaccination_12: Known to 3/3 people\n",
      "[{'person': Michael Owens, 'opinion': {'opinion': -0.86, 'attitude': -0.99, 'unc': 0.13, 'pri_thr': 0.63, 'pub_thr': 0.6}}, {'person': Odell Eckerson-Haas, 'opinion': {'opinion': -1.29, 'attitude': -0.87, 'unc': 0.42, 'pri_thr': 0.59, 'pub_thr': 0.6}}, {'person': Carolyn Glover, 'opinion': {'opinion': 0.6, 'attitude': 0.2, 'unc': 0.4, 'pri_thr': 0.59, 'pub_thr': 0.6}}]\n",
      "Discussion of vaccination_12: Known to 3/3 people\n",
      "[{'person': Michael Owens, 'opinion': {'opinion': -0.86, 'attitude': -0.99, 'unc': 0.13, 'pri_thr': 0.63, 'pub_thr': 0.6}}, {'person': Odell Eckerson-Haas, 'opinion': {'opinion': -1.29, 'attitude': -0.87, 'unc': 0.42, 'pri_thr': 0.59, 'pub_thr': 0.6}}, {'person': Carolyn Glover, 'opinion': {'opinion': 0.6, 'attitude': 0.2, 'unc': 0.4, 'pri_thr': 0.59, 'pub_thr': 0.6}}]\n",
      "Discussion of vaccination_13: Known to 3/3 people\n",
      "[{'person': Michael Owens, 'opinion': {'opinion': 0.82, 'attitude': 0.97, 'unc': 0.15, 'pri_thr': 0.77, 'pub_thr': 0.6}}, {'person': Odell Eckerson-Haas, 'opinion': {'opinion': 0.27, 'attitude': 0.14, 'unc': 0.13, 'pri_thr': 0.38, 'pub_thr': 0.6}}, {'person': Carolyn Glover, 'opinion': {'opinion': 1.0, 'attitude': 0.92, 'unc': 0.08, 'pri_thr': 0.94, 'pub_thr': 0.6}}]\n",
      "Discussion of abortion_3: Known to 5/5 people\n",
      "[{'person': Michael Sedlock, 'opinion': {'opinion': -0.62, 'attitude': -0.57, 'unc': 0.05, 'pri_thr': 0.18, 'pub_thr': 0.6}}, {'person': Terry Robinson, 'opinion': {'opinion': 1.0, 'attitude': 0.77, 'unc': 0.23, 'pri_thr': 1.0, 'pub_thr': 0.6}}, {'person': Franklin Scott, 'opinion': {'opinion': -0.75, 'attitude': -0.61, 'unc': 0.14, 'pri_thr': 0.29, 'pub_thr': 0.6}}, {'person': Lourdes Beecher, 'opinion': {'opinion': -0.99, 'attitude': -0.65, 'unc': 0.34, 'pri_thr': 0.72, 'pub_thr': 0.6}}, {'person': Linda Sedlock, 'opinion': {'opinion': -0.34, 'attitude': -0.31, 'unc': 0.03, 'pri_thr': 0.01, 'pub_thr': 0.6}}]\n",
      "Discussion of democrat_16: Known to 5/5 people\n",
      "[{'person': Michael Sedlock, 'opinion': {'opinion': -0.49, 'attitude': -0.86, 'unc': 0.37, 'pri_thr': 0.29, 'pub_thr': 0.6}}, {'person': Terry Robinson, 'opinion': {'opinion': 0.85, 'attitude': 0.45, 'unc': 0.4, 'pri_thr': 0.12, 'pub_thr': 0.6}}, {'person': Franklin Scott, 'opinion': {'opinion': -0.68, 'attitude': -0.65, 'unc': 0.03, 'pri_thr': 0.89, 'pub_thr': 0.6}}, {'person': Lourdes Beecher, 'opinion': {'opinion': 1.0, 'attitude': 0.79, 'unc': 0.21, 'pri_thr': 0.1, 'pub_thr': 0.6}}, {'person': Linda Sedlock, 'opinion': {'opinion': 0.61, 'attitude': 0.5, 'unc': 0.11, 'pri_thr': 0.2, 'pub_thr': 0.6}}]\n",
      "Discussion of vaccination_14: Known to 2/2 people\n",
      "[{'person': Franklin Scott, 'opinion': {'opinion': -0.44, 'attitude': -0.15, 'unc': 0.29, 'pri_thr': 0.83, 'pub_thr': 0.6}}, {'person': Mary Robinson, 'opinion': {'opinion': 0.71, 'attitude': 0.22, 'unc': 0.49, 'pri_thr': 0.18, 'pub_thr': 0.6}}]\n",
      "Discussion of vaccination_12: Known to 5/5 people\n",
      "[{'person': Michael Sedlock, 'opinion': {'opinion': -0.33, 'attitude': -0.74, 'unc': 0.41, 'pri_thr': 0.64, 'pub_thr': 0.6}}, {'person': Terry Robinson, 'opinion': {'opinion': 0.19, 'attitude': -0.12, 'unc': 0.31, 'pri_thr': 0.55, 'pub_thr': 0.6}}, {'person': Franklin Scott, 'opinion': {'opinion': -0.31, 'attitude': -0.6, 'unc': 0.29, 'pri_thr': 0.41, 'pub_thr': 0.6}}, {'person': Lourdes Beecher, 'opinion': {'opinion': -0.68, 'attitude': -0.96, 'unc': 0.28, 'pri_thr': 0.65, 'pub_thr': 0.6}}, {'person': Linda Sedlock, 'opinion': {'opinion': -0.27, 'attitude': -0.32, 'unc': 0.05, 'pri_thr': 0.58, 'pub_thr': 0.6}}]\n",
      "Discussion of vaccination_12: Known to 4/4 people\n",
      "[{'person': Terry Robinson, 'opinion': {'opinion': 0.19, 'attitude': -0.12, 'unc': 0.31, 'pri_thr': 0.55, 'pub_thr': 0.6}}, {'person': Lourdes Beecher, 'opinion': {'opinion': -0.68, 'attitude': -0.96, 'unc': 0.28, 'pri_thr': 0.65, 'pub_thr': 0.6}}, {'person': Brian Scott, 'opinion': {'opinion': -0.59, 'attitude': -0.29, 'unc': 0.3, 'pri_thr': 0.7, 'pub_thr': 0.6}}, {'person': Mary Robinson, 'opinion': {'opinion': -0.64, 'attitude': -0.59, 'unc': 0.05, 'pri_thr': 0.69, 'pub_thr': 0.6}}]\n",
      "Discussion of vaccination_12: Known to 5/5 people\n",
      "[{'person': Michael Sedlock, 'opinion': {'opinion': -0.33, 'attitude': -0.74, 'unc': 0.41, 'pri_thr': 0.64, 'pub_thr': 0.6}}, {'person': Terry Robinson, 'opinion': {'opinion': 0.19, 'attitude': -0.12, 'unc': 0.31, 'pri_thr': 0.55, 'pub_thr': 0.6}}, {'person': Franklin Scott, 'opinion': {'opinion': -0.31, 'attitude': -0.6, 'unc': 0.29, 'pri_thr': 0.41, 'pub_thr': 0.6}}, {'person': Lourdes Beecher, 'opinion': {'opinion': -0.68, 'attitude': -0.96, 'unc': 0.28, 'pri_thr': 0.65, 'pub_thr': 0.6}}, {'person': Linda Sedlock, 'opinion': {'opinion': -0.27, 'attitude': -0.32, 'unc': 0.05, 'pri_thr': 0.58, 'pub_thr': 0.6}}]\n",
      "Discussion of vaccination_14: Known to 4/4 people\n",
      "[{'person': Terry Robinson, 'opinion': {'opinion': -0.54, 'attitude': -0.71, 'unc': 0.17, 'pri_thr': 0.49, 'pub_thr': 0.6}}, {'person': Lourdes Beecher, 'opinion': {'opinion': 0.47, 'attitude': 0.73, 'unc': 0.26, 'pri_thr': 0.67, 'pub_thr': 0.6}}, {'person': Brian Scott, 'opinion': {'opinion': -0.34, 'attitude': -0.73, 'unc': 0.39, 'pri_thr': 0.87, 'pub_thr': 0.6}}, {'person': Mary Robinson, 'opinion': {'opinion': 0.71, 'attitude': 0.22, 'unc': 0.49, 'pri_thr': 0.18, 'pub_thr': 0.6}}]\n"
     ]
    }
   ],
   "source": [
    "world.simulate_time()"
   ]
  },
  {
   "cell_type": "code",
   "execution_count": null,
   "metadata": {
    "collapsed": false
   },
   "outputs": [],
   "source": [
    "fact = world.knowledge.get_random_fact()\n",
    "print fact"
   ]
  },
  {
   "cell_type": "code",
   "execution_count": null,
   "metadata": {
    "collapsed": false,
    "scrolled": false
   },
   "outputs": [],
   "source": [
    "world.living_population[40].knowledge.topics.values()[0].facts"
   ]
  },
  {
   "cell_type": "code",
   "execution_count": null,
   "metadata": {
    "collapsed": false
   },
   "outputs": [],
   "source": [
    "world.living_population[52].__dict__"
   ]
  },
  {
   "cell_type": "code",
   "execution_count": null,
   "metadata": {
    "collapsed": false
   },
   "outputs": [],
   "source": [
    "# world.towns['Raleigh'].homes[6]['family']=None\n",
    "# world.towns['Raleigh'].homes[6]['occupied']=False"
   ]
  },
  {
   "cell_type": "code",
   "execution_count": null,
   "metadata": {
    "collapsed": false
   },
   "outputs": [],
   "source": [
    "list(world.towns['New York'].schools[0].current_members)[0].__dict__"
   ]
  },
  {
   "cell_type": "code",
   "execution_count": null,
   "metadata": {
    "collapsed": false
   },
   "outputs": [],
   "source": [
    "world.organizations['school'][0].knowledge.get_random_fact().__dict__"
   ]
  },
  {
   "cell_type": "code",
   "execution_count": null,
   "metadata": {
    "collapsed": false
   },
   "outputs": [],
   "source": [
    "world.knowledge.topics.values()"
   ]
  },
  {
   "cell_type": "code",
   "execution_count": null,
   "metadata": {
    "collapsed": true
   },
   "outputs": [],
   "source": []
  },
  {
   "cell_type": "code",
   "execution_count": null,
   "metadata": {
    "collapsed": true
   },
   "outputs": [],
   "source": []
  },
  {
   "cell_type": "code",
   "execution_count": null,
   "metadata": {
    "collapsed": true
   },
   "outputs": [],
   "source": []
  },
  {
   "cell_type": "code",
   "execution_count": null,
   "metadata": {
    "collapsed": true
   },
   "outputs": [],
   "source": []
  },
  {
   "cell_type": "markdown",
   "metadata": {},
   "source": [
    "## Generate People"
   ]
  },
  {
   "cell_type": "markdown",
   "metadata": {},
   "source": [
    "Generating a person with some basic random attributes as decided "
   ]
  },
  {
   "cell_type": "code",
   "execution_count": null,
   "metadata": {
    "collapsed": false
   },
   "outputs": [],
   "source": [
    "from Person import Person"
   ]
  },
  {
   "cell_type": "code",
   "execution_count": null,
   "metadata": {
    "collapsed": false
   },
   "outputs": [],
   "source": [
    "p = Person()"
   ]
  },
  {
   "cell_type": "code",
   "execution_count": null,
   "metadata": {
    "collapsed": false
   },
   "outputs": [],
   "source": [
    "world.living_population[0].who_is()"
   ]
  },
  {
   "cell_type": "code",
   "execution_count": null,
   "metadata": {
    "collapsed": false
   },
   "outputs": [],
   "source": [
    "p.aliases"
   ]
  },
  {
   "cell_type": "code",
   "execution_count": null,
   "metadata": {
    "collapsed": false
   },
   "outputs": [],
   "source": [
    "p.last_name = \"Tauro\""
   ]
  },
  {
   "cell_type": "code",
   "execution_count": null,
   "metadata": {
    "collapsed": false
   },
   "outputs": [],
   "source": [
    "p.get_full_name()\n"
   ]
  },
  {
   "cell_type": "code",
   "execution_count": null,
   "metadata": {
    "collapsed": true
   },
   "outputs": [],
   "source": []
  },
  {
   "cell_type": "code",
   "execution_count": null,
   "metadata": {
    "collapsed": true
   },
   "outputs": [],
   "source": []
  },
  {
   "cell_type": "code",
   "execution_count": null,
   "metadata": {
    "collapsed": true
   },
   "outputs": [],
   "source": [
    "a = [\n",
    "    ['mathematics_0', 'art_1', 'home_ec_0', 'economics_8', 'literature_5', 'sex_ed_5', 'history_6', 'history_1', 'economics_5'], \n",
    "    ['economics_5', 'history_5', 'economics_8', 'mathematics_7', 'mathematics_0', 'geography_5', 'art_1', 'geography_7', 'geography_0', 'art_6', 'economics_12', 'literature_2', 'sex_ed_5', 'sex_ed_6', 'history_14', 'mathematics_13', 'history_12', 'history_10', 'geography_10', 'home_ec_0', 'home_ec_7', 'home_ec_9', 'history_6', 'history_7', 'history_1', 'commerce_9', 'commerce_14', 'commerce_15', 'commerce_11', 'literature_0', 'economics_13', 'economics_10', 'literature_5', 'economics_14', 'economics_15', 'literature_9']\n",
    "]\n"
   ]
  },
  {
   "cell_type": "code",
   "execution_count": null,
   "metadata": {
    "collapsed": true
   },
   "outputs": [],
   "source": [
    "import itertools\n",
    "import collections"
   ]
  },
  {
   "cell_type": "code",
   "execution_count": null,
   "metadata": {
    "collapsed": false
   },
   "outputs": [],
   "source": [
    "# counts = collections.Counter()\n",
    "# new_list = sorted(itertools.chain.from_iterable(a), key=counts.get, reverse=True)\n",
    "# sorted(b, key=b.count, reverse=True)\n",
    "# sorted(b, key=b.count)\n",
    "\n",
    "count = collections.Counter(b)"
   ]
  },
  {
   "cell_type": "code",
   "execution_count": null,
   "metadata": {
    "collapsed": false
   },
   "outputs": [],
   "source": [
    "b = list(itertools.chain.from_iterable(a))"
   ]
  },
  {
   "cell_type": "code",
   "execution_count": null,
   "metadata": {
    "collapsed": false
   },
   "outputs": [],
   "source": [
    "print max(count.values())\n",
    "\n",
    "print count.most_common(2)"
   ]
  },
  {
   "cell_type": "code",
   "execution_count": null,
   "metadata": {
    "collapsed": true
   },
   "outputs": [],
   "source": []
  }
 ],
 "metadata": {
  "kernelspec": {
   "display_name": "Python 2",
   "language": "python",
   "name": "python2"
  },
  "language_info": {
   "codemirror_mode": {
    "name": "ipython",
    "version": 2
   },
   "file_extension": ".py",
   "mimetype": "text/x-python",
   "name": "python",
   "nbconvert_exporter": "python",
   "pygments_lexer": "ipython2",
   "version": "2.7.13"
  }
 },
 "nbformat": 4,
 "nbformat_minor": 2
}
