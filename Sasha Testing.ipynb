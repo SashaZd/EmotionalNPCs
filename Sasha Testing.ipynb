{
 "cells": [
  {
   "cell_type": "markdown",
   "metadata": {},
   "source": [
    "## Passsage of Time"
   ]
  },
  {
   "cell_type": "markdown",
   "metadata": {},
   "source": [
    "Testing the passage of time in the simulation using SimPy (?)"
   ]
  },
  {
   "cell_type": "code",
   "execution_count": null,
   "metadata": {
    "collapsed": false
   },
   "outputs": [],
   "source": [
    "# %load_ext autoreload\n",
    "# %autoreload 2"
   ]
  },
  {
   "cell_type": "code",
   "execution_count": 1,
   "metadata": {
    "collapsed": false
   },
   "outputs": [
    {
     "name": "stdout",
     "output_type": "stream",
     "text": [
      "Big Bang!\n",
      "Charles Ladouceur vaccination vaccination_9 {'opinion': 0.45, 'attitude': 0.33, 'unc': 0.12, 'pri_thr': 0.69, 'pub_thr': 0.6}\n",
      "Charles Ladouceur vaccination vaccination_8 {'opinion': 0.6, 'attitude': 0.3, 'unc': 0.3, 'pri_thr': 0.36, 'pub_thr': 0.6}\n",
      "Charles Ladouceur vaccination vaccination_7 {'opinion': 0.06, 'attitude': 0.54, 'unc': 0.48000000000000004, 'pri_thr': 0.54, 'pub_thr': 0.6}\n",
      "Charles Ladouceur vaccination vaccination_6 {'opinion': -0.9, 'attitude': -0.88, 'unc': 0.020000000000000018, 'pri_thr': 0.59, 'pub_thr': 0.6}\n",
      "Charles Ladouceur vaccination vaccination_4 {'opinion': 0.86, 'attitude': 0.76, 'unc': 0.09999999999999998, 'pri_thr': 0.09, 'pub_thr': 0.6}\n",
      "Charles Ladouceur vaccination vaccination_3 {'opinion': -0.92, 'attitude': -0.72, 'unc': 0.20000000000000007, 'pri_thr': 0.33, 'pub_thr': 0.6}\n",
      "Charles Ladouceur vaccination vaccination_2 {'opinion': 0.31, 'attitude': 0.63, 'unc': 0.32, 'pri_thr': 0.14, 'pub_thr': 0.6}\n",
      "Charles Ladouceur vaccination vaccination_0 {'opinion': -0.14, 'attitude': 0.06, 'unc': 0.2, 'pri_thr': 0.29, 'pub_thr': 0.6}\n",
      "Christina Fonville vaccination vaccination_7 {'opinion': 0.42, 'attitude': 0.1, 'unc': 0.31999999999999995, 'pri_thr': 0.75, 'pub_thr': 0.6}\n",
      "Christina Fonville vaccination vaccination_5 {'opinion': 0.23, 'attitude': 0.63, 'unc': 0.4, 'pri_thr': 0.5, 'pub_thr': 0.6}\n",
      "Christina Fonville vaccination vaccination_4 {'opinion': 0.18, 'attitude': -0.16, 'unc': 0.33999999999999997, 'pri_thr': 0.35, 'pub_thr': 0.6}\n",
      "Christina Fonville vaccination vaccination_1 {'opinion': 0.15, 'attitude': -0.04, 'unc': 0.19, 'pri_thr': 0.44, 'pub_thr': 0.6}\n",
      "Christina Fonville vaccination vaccination_8 {'opinion': -0.57, 'attitude': -0.43, 'unc': 0.13999999999999996, 'pri_thr': 0.82, 'pub_thr': 0.6}\n",
      "Korey Kimble vaccination vaccination_9 {'opinion': -0.73, 'attitude': -0.5, 'unc': 0.22999999999999998, 'pri_thr': 0.77, 'pub_thr': 0.6}\n",
      "Korey Kimble vaccination vaccination_8 {'opinion': 1.0, 'attitude': 0.8, 'unc': 0.19999999999999996, 'pri_thr': 0.23, 'pub_thr': 0.6}\n",
      "Korey Kimble vaccination vaccination_7 {'opinion': -1.0, 'attitude': -0.75, 'unc': 0.25, 'pri_thr': 0.14, 'pub_thr': 0.6}\n",
      "Korey Kimble vaccination vaccination_6 {'opinion': 0.5, 'attitude': 0.94, 'unc': 0.43999999999999995, 'pri_thr': 0.34, 'pub_thr': 0.6}\n",
      "Korey Kimble vaccination vaccination_5 {'opinion': -0.6, 'attitude': -0.86, 'unc': 0.26, 'pri_thr': 0.55, 'pub_thr': 0.6}\n",
      "Korey Kimble vaccination vaccination_4 {'opinion': -0.85, 'attitude': -0.38, 'unc': 0.47, 'pri_thr': 0.92, 'pub_thr': 0.6}\n",
      "Korey Kimble vaccination vaccination_3 {'opinion': 0.59, 'attitude': 0.1, 'unc': 0.49, 'pri_thr': 0.93, 'pub_thr': 0.6}\n",
      "Korey Kimble vaccination vaccination_2 {'opinion': -0.9, 'attitude': -0.92, 'unc': 0.020000000000000018, 'pri_thr': 0.06, 'pub_thr': 0.6}\n",
      "Korey Kimble vaccination vaccination_1 {'opinion': 0.77, 'attitude': 0.37, 'unc': 0.4, 'pri_thr': 0.23, 'pub_thr': 0.6}\n",
      "Korey Kimble vaccination vaccination_0 {'opinion': -1.0, 'attitude': -0.96, 'unc': 0.040000000000000036, 'pri_thr': 0.93, 'pub_thr': 0.6}\n",
      "Larry Deluca democrat democrat_8 {'opinion': 0.28, 'attitude': 0.03, 'unc': 0.25, 'pri_thr': 0.61, 'pub_thr': 0.6}\n",
      "Larry Deluca democrat democrat_9 {'opinion': -0.52, 'attitude': -0.6, 'unc': 0.07999999999999996, 'pri_thr': 0.46, 'pub_thr': 0.6}\n",
      "Larry Deluca democrat democrat_2 {'opinion': 0.34, 'attitude': 0.0, 'unc': 0.34, 'pri_thr': 0.71, 'pub_thr': 0.6}\n",
      "Larry Deluca democrat democrat_3 {'opinion': 0.16, 'attitude': -0.01, 'unc': 0.17, 'pri_thr': 0.45, 'pub_thr': 0.6}\n",
      "Larry Deluca democrat democrat_0 {'opinion': -0.15, 'attitude': 0.3, 'unc': 0.44999999999999996, 'pri_thr': 0.61, 'pub_thr': 0.6}\n",
      "Larry Deluca democrat democrat_1 {'opinion': -0.17, 'attitude': 0.04, 'unc': 0.21000000000000002, 'pri_thr': 0.07, 'pub_thr': 0.6}\n",
      "Larry Deluca democrat democrat_5 {'opinion': 0.89, 'attitude': 0.93, 'unc': 0.040000000000000036, 'pri_thr': 0.57, 'pub_thr': 0.6}\n",
      "Larry Deluca democrat democrat_11 {'opinion': 0.56, 'attitude': 0.73, 'unc': 0.16999999999999993, 'pri_thr': 0.43, 'pub_thr': 0.6}\n",
      "Larry Deluca democrat democrat_12 {'opinion': 0.42, 'attitude': -0.03, 'unc': 0.44999999999999996, 'pri_thr': 0.11, 'pub_thr': 0.6}\n",
      "Larry Deluca democrat democrat_13 {'opinion': 0.66, 'attitude': 0.86, 'unc': 0.19999999999999996, 'pri_thr': 0.14, 'pub_thr': 0.6}\n",
      "Larry Deluca vaccination vaccination_7 {'opinion': 0.77, 'attitude': 0.44, 'unc': 0.33, 'pri_thr': 0.4, 'pub_thr': 0.6}\n",
      "Larry Deluca vaccination vaccination_4 {'opinion': -0.65, 'attitude': -0.62, 'unc': 0.030000000000000027, 'pri_thr': 0.03, 'pub_thr': 0.6}\n",
      "Larry Deluca vaccination vaccination_2 {'opinion': -0.62, 'attitude': -0.84, 'unc': 0.21999999999999997, 'pri_thr': 0.49, 'pub_thr': 0.6}\n",
      "Shannon Robley democrat democrat_8 {'opinion': -0.05, 'attitude': 0.06, 'unc': 0.11, 'pri_thr': 0.39, 'pub_thr': 0.6}\n",
      "Shannon Robley democrat democrat_2 {'opinion': -1.0, 'attitude': -0.99, 'unc': 0.010000000000000009, 'pri_thr': 0.78, 'pub_thr': 0.6}\n",
      "Shannon Robley democrat democrat_3 {'opinion': 0.37, 'attitude': 0.7, 'unc': 0.32999999999999996, 'pri_thr': 0.83, 'pub_thr': 0.6}\n",
      "Shannon Robley democrat democrat_0 {'opinion': -0.72, 'attitude': -0.72, 'unc': 0.0, 'pri_thr': 0.13, 'pub_thr': 0.6}\n",
      "Shannon Robley democrat democrat_6 {'opinion': 0.89, 'attitude': 0.93, 'unc': 0.040000000000000036, 'pri_thr': 0.91, 'pub_thr': 0.6}\n",
      "Shannon Robley democrat democrat_5 {'opinion': -0.37, 'attitude': 0.03, 'unc': 0.4, 'pri_thr': 0.18, 'pub_thr': 0.6}\n",
      "Shannon Robley democrat democrat_10 {'opinion': -1.0, 'attitude': -0.81, 'unc': 0.18999999999999995, 'pri_thr': 0.66, 'pub_thr': 0.6}\n",
      "Shannon Robley democrat democrat_11 {'opinion': 0.44, 'attitude': 0.38, 'unc': 0.06, 'pri_thr': 0.97, 'pub_thr': 0.6}\n",
      "Shannon Robley democrat democrat_13 {'opinion': -0.08, 'attitude': -0.26, 'unc': 0.18, 'pri_thr': 0.29, 'pub_thr': 0.6}\n",
      "Shannon Robley vaccination vaccination_9 {'opinion': -0.54, 'attitude': -0.48, 'unc': 0.06000000000000005, 'pri_thr': 0.91, 'pub_thr': 0.6}\n",
      "Shannon Robley vaccination vaccination_8 {'opinion': -0.71, 'attitude': -0.94, 'unc': 0.22999999999999998, 'pri_thr': 0.55, 'pub_thr': 0.6}\n",
      "Shannon Robley vaccination vaccination_7 {'opinion': -0.67, 'attitude': -0.57, 'unc': 0.10000000000000009, 'pri_thr': 0.69, 'pub_thr': 0.6}\n",
      "Shannon Robley vaccination vaccination_6 {'opinion': -0.35, 'attitude': -0.69, 'unc': 0.33999999999999997, 'pri_thr': 0.44, 'pub_thr': 0.6}\n",
      "Shannon Robley vaccination vaccination_5 {'opinion': 0.08, 'attitude': 0.49, 'unc': 0.41, 'pri_thr': 0.05, 'pub_thr': 0.6}\n",
      "Shannon Robley vaccination vaccination_4 {'opinion': 0.72, 'attitude': 0.76, 'unc': 0.040000000000000036, 'pri_thr': 0.0, 'pub_thr': 0.6}\n",
      "Shannon Robley vaccination vaccination_3 {'opinion': 0.94, 'attitude': 0.75, 'unc': 0.18999999999999995, 'pri_thr': 0.74, 'pub_thr': 0.6}\n",
      "Shannon Robley vaccination vaccination_2 {'opinion': -0.4, 'attitude': -0.01, 'unc': 0.39, 'pri_thr': 0.05, 'pub_thr': 0.6}\n",
      "Shannon Robley vaccination vaccination_1 {'opinion': -1.0, 'attitude': -0.76, 'unc': 0.24, 'pri_thr': 0.88, 'pub_thr': 0.6}\n",
      "Shannon Robley vaccination vaccination_0 {'opinion': 0.66, 'attitude': 0.99, 'unc': 0.32999999999999996, 'pri_thr': 0.03, 'pub_thr': 0.6}\n",
      "Carl Wyndham democrat democrat_8 {'opinion': 0.63, 'attitude': 0.97, 'unc': 0.33999999999999997, 'pri_thr': 0.34, 'pub_thr': 0.6}\n",
      "Carl Wyndham democrat democrat_9 {'opinion': 0.28, 'attitude': -0.15, 'unc': 0.43000000000000005, 'pri_thr': 0.8, 'pub_thr': 0.6}\n",
      "Carl Wyndham democrat democrat_2 {'opinion': 0.51, 'attitude': 0.21, 'unc': 0.30000000000000004, 'pri_thr': 0.88, 'pub_thr': 0.6}\n",
      "Carl Wyndham democrat democrat_3 {'opinion': -0.36, 'attitude': 0.12, 'unc': 0.48, 'pri_thr': 0.19, 'pub_thr': 0.6}\n",
      "Carl Wyndham democrat democrat_0 {'opinion': 0.1, 'attitude': -0.0, 'unc': 0.1, 'pri_thr': 0.99, 'pub_thr': 0.6}\n",
      "Carl Wyndham democrat democrat_1 {'opinion': 0.57, 'attitude': 0.19, 'unc': 0.37999999999999995, 'pri_thr': 0.09, 'pub_thr': 0.6}\n",
      "Carl Wyndham democrat democrat_6 {'opinion': -0.04, 'attitude': -0.13, 'unc': 0.09, 'pri_thr': 0.77, 'pub_thr': 0.6}\n",
      "Carl Wyndham democrat democrat_7 {'opinion': -0.06, 'attitude': -0.48, 'unc': 0.42, 'pri_thr': 0.1, 'pub_thr': 0.6}\n",
      "Carl Wyndham democrat democrat_4 {'opinion': 0.59, 'attitude': 0.18, 'unc': 0.41, 'pri_thr': 0.91, 'pub_thr': 0.6}\n",
      "Carl Wyndham democrat democrat_5 {'opinion': -0.27, 'attitude': -0.12, 'unc': 0.15000000000000002, 'pri_thr': 0.9, 'pub_thr': 0.6}\n",
      "Carl Wyndham democrat democrat_10 {'opinion': -0.85, 'attitude': -0.41, 'unc': 0.44, 'pri_thr': 0.37, 'pub_thr': 0.6}\n",
      "Carl Wyndham democrat democrat_11 {'opinion': 0.33, 'attitude': 0.74, 'unc': 0.41, 'pri_thr': 0.1, 'pub_thr': 0.6}\n",
      "Carl Wyndham democrat democrat_13 {'opinion': -0.42, 'attitude': -0.16, 'unc': 0.26, 'pri_thr': 0.55, 'pub_thr': 0.6}\n",
      "Carl Wyndham democrat democrat_14 {'opinion': 0.6, 'attitude': 0.84, 'unc': 0.24, 'pri_thr': 0.48, 'pub_thr': 0.6}\n",
      "Carl Wyndham vaccination vaccination_9 {'opinion': 1.0, 'attitude': 0.83, 'unc': 0.17000000000000004, 'pri_thr': 0.46, 'pub_thr': 0.6}\n",
      "Carl Wyndham vaccination vaccination_8 {'opinion': 0.22, 'attitude': 0.66, 'unc': 0.44000000000000006, 'pri_thr': 0.84, 'pub_thr': 0.6}\n",
      "Carl Wyndham vaccination vaccination_7 {'opinion': 1.0, 'attitude': 1.0, 'unc': 0.0, 'pri_thr': 0.53, 'pub_thr': 0.6}\n",
      "Carl Wyndham vaccination vaccination_6 {'opinion': -0.16, 'attitude': 0.21, 'unc': 0.37, 'pri_thr': 0.26, 'pub_thr': 0.6}\n",
      "Carl Wyndham vaccination vaccination_5 {'opinion': 0.07, 'attitude': -0.13, 'unc': 0.2, 'pri_thr': 0.86, 'pub_thr': 0.6}\n",
      "Carl Wyndham vaccination vaccination_4 {'opinion': 0.68, 'attitude': 0.75, 'unc': 0.06999999999999995, 'pri_thr': 0.84, 'pub_thr': 0.6}\n",
      "Carl Wyndham vaccination vaccination_3 {'opinion': -0.68, 'attitude': -0.6, 'unc': 0.08000000000000007, 'pri_thr': 0.81, 'pub_thr': 0.6}\n",
      "Carl Wyndham vaccination vaccination_2 {'opinion': 0.23, 'attitude': 0.23, 'unc': 0.0, 'pri_thr': 0.21, 'pub_thr': 0.6}\n",
      "Carl Wyndham vaccination vaccination_1 {'opinion': -0.14, 'attitude': -0.2, 'unc': 0.06, 'pri_thr': 0.88, 'pub_thr': 0.6}\n",
      "Carl Wyndham vaccination vaccination_0 {'opinion': 0.67, 'attitude': 0.66, 'unc': 0.010000000000000009, 'pri_thr': 0.18, 'pub_thr': 0.6}\n",
      "Danielle Guillette democrat democrat_2 {'opinion': 0.95, 'attitude': 0.49, 'unc': 0.45999999999999996, 'pri_thr': 0.77, 'pub_thr': 0.6}\n",
      "Danielle Guillette democrat democrat_7 {'opinion': -1.0, 'attitude': -0.98, 'unc': 0.020000000000000018, 'pri_thr': 0.56, 'pub_thr': 0.6}\n",
      "Danielle Guillette democrat democrat_5 {'opinion': -0.92, 'attitude': -0.86, 'unc': 0.06000000000000005, 'pri_thr': 0.25, 'pub_thr': 0.6}\n",
      "Danielle Guillette vaccination vaccination_7 {'opinion': 0.32, 'attitude': -0.04, 'unc': 0.36, 'pri_thr': 0.26, 'pub_thr': 0.6}\n",
      "Danielle Guillette vaccination vaccination_5 {'opinion': -0.26, 'attitude': 0.09, 'unc': 0.35, 'pri_thr': 0.11, 'pub_thr': 0.6}\n",
      "Danielle Guillette vaccination vaccination_4 {'opinion': -0.35, 'attitude': 0.08, 'unc': 0.43, 'pri_thr': 0.57, 'pub_thr': 0.6}\n",
      "Danielle Guillette vaccination vaccination_3 {'opinion': -0.63, 'attitude': -0.15, 'unc': 0.48, 'pri_thr': 0.87, 'pub_thr': 0.6}\n",
      "Danielle Guillette vaccination vaccination_2 {'opinion': 0.59, 'attitude': 0.86, 'unc': 0.27, 'pri_thr': 0.6, 'pub_thr': 0.6}\n",
      "Dustin Hunley democrat democrat_10 {'opinion': -0.75, 'attitude': -0.78, 'unc': 0.030000000000000027, 'pri_thr': 0.05, 'pub_thr': 0.6}\n",
      "Dustin Hunley democrat democrat_11 {'opinion': -0.46, 'attitude': 0.01, 'unc': 0.47000000000000003, 'pri_thr': 0.26, 'pub_thr': 0.6}\n",
      "Dustin Hunley democrat democrat_9 {'opinion': 0.11, 'attitude': -0.14, 'unc': 0.25, 'pri_thr': 0.01, 'pub_thr': 0.6}\n",
      "Dustin Hunley democrat democrat_6 {'opinion': 0.18, 'attitude': 0.04, 'unc': 0.13999999999999999, 'pri_thr': 0.67, 'pub_thr': 0.6}\n",
      "Dustin Hunley democrat democrat_4 {'opinion': -0.13, 'attitude': 0.03, 'unc': 0.16, 'pri_thr': 0.52, 'pub_thr': 0.6}\n",
      "Dustin Hunley vaccination vaccination_9 {'opinion': -0.98, 'attitude': -0.87, 'unc': 0.10999999999999999, 'pri_thr': 0.47, 'pub_thr': 0.6}\n",
      "Dustin Hunley vaccination vaccination_0 {'opinion': -0.63, 'attitude': -0.7, 'unc': 0.06999999999999995, 'pri_thr': 0.44, 'pub_thr': 0.6}\n",
      "Florence Walker vaccination vaccination_6 {'opinion': 0.01, 'attitude': 0.23, 'unc': 0.22, 'pri_thr': 0.11, 'pub_thr': 0.6}\n",
      "Florence Walker vaccination vaccination_3 {'opinion': -0.09, 'attitude': -0.47, 'unc': 0.38, 'pri_thr': 0.06, 'pub_thr': 0.6}\n",
      "Florence Walker vaccination vaccination_2 {'opinion': 0.23, 'attitude': 0.54, 'unc': 0.31000000000000005, 'pri_thr': 0.41, 'pub_thr': 0.6}\n",
      "Florence Walker vaccination vaccination_9 {'opinion': 0.24, 'attitude': 0.6, 'unc': 0.36, 'pri_thr': 0.63, 'pub_thr': 0.6}\n",
      "Florence Walker vaccination vaccination_0 {'opinion': 1.0, 'attitude': 0.94, 'unc': 0.06000000000000005, 'pri_thr': 0.09, 'pub_thr': 0.6}\n",
      "Florence Walker democrat democrat_9 {'opinion': -0.41, 'attitude': -0.54, 'unc': 0.13000000000000006, 'pri_thr': 0.73, 'pub_thr': 0.6}\n",
      "Florence Walker democrat democrat_1 {'opinion': 0.24, 'attitude': -0.03, 'unc': 0.27, 'pri_thr': 0.98, 'pub_thr': 0.6}\n",
      "Timothy Mahoney vaccination vaccination_9 {'opinion': -0.11, 'attitude': -0.35, 'unc': 0.24, 'pri_thr': 0.86, 'pub_thr': 0.6}\n",
      "Timothy Mahoney vaccination vaccination_8 {'opinion': 0.34, 'attitude': -0.14, 'unc': 0.48000000000000004, 'pri_thr': 0.89, 'pub_thr': 0.6}\n",
      "Timothy Mahoney vaccination vaccination_6 {'opinion': 0.43, 'attitude': 0.41, 'unc': 0.020000000000000018, 'pri_thr': 0.0, 'pub_thr': 0.6}\n",
      "Timothy Mahoney vaccination vaccination_5 {'opinion': -0.33, 'attitude': -0.79, 'unc': 0.46, 'pri_thr': 0.31, 'pub_thr': 0.6}\n",
      "Timothy Mahoney vaccination vaccination_4 {'opinion': -1.0, 'attitude': -1.0, 'unc': 0.0, 'pri_thr': 0.01, 'pub_thr': 0.6}\n",
      "Timothy Mahoney vaccination vaccination_3 {'opinion': -0.02, 'attitude': 0.13, 'unc': 0.15, 'pri_thr': 0.49, 'pub_thr': 0.6}\n",
      "Timothy Mahoney vaccination vaccination_2 {'opinion': 0.07, 'attitude': 0.06, 'unc': 0.010000000000000009, 'pri_thr': 0.03, 'pub_thr': 0.6}\n",
      "Timothy Mahoney vaccination vaccination_0 {'opinion': -0.55, 'attitude': -0.98, 'unc': 0.42999999999999994, 'pri_thr': 0.77, 'pub_thr': 0.6}\n",
      "Stephanie Mooney democrat democrat_9 {'opinion': 0.41, 'attitude': 0.87, 'unc': 0.46, 'pri_thr': 0.85, 'pub_thr': 0.6}\n",
      "Stephanie Mooney democrat democrat_1 {'opinion': -0.16, 'attitude': -0.5, 'unc': 0.33999999999999997, 'pri_thr': 0.45, 'pub_thr': 0.6}\n",
      "Stephanie Mooney democrat democrat_7 {'opinion': -0.51, 'attitude': -0.13, 'unc': 0.38, 'pri_thr': 0.68, 'pub_thr': 0.6}\n",
      "Stephanie Mooney democrat democrat_4 {'opinion': -0.15, 'attitude': -0.33, 'unc': 0.18000000000000002, 'pri_thr': 0.43, 'pub_thr': 0.6}\n",
      "Stephanie Mooney democrat democrat_11 {'opinion': -0.02, 'attitude': 0.13, 'unc': 0.15, 'pri_thr': 0.07, 'pub_thr': 0.6}\n",
      "Stephanie Mooney democrat democrat_12 {'opinion': -0.19, 'attitude': -0.16, 'unc': 0.03, 'pri_thr': 0.66, 'pub_thr': 0.6}\n",
      "Stephanie Mooney democrat democrat_13 {'opinion': -0.31, 'attitude': -0.58, 'unc': 0.26999999999999996, 'pri_thr': 0.83, 'pub_thr': 0.6}\n",
      "Alma Sideris vaccination vaccination_7 {'opinion': 0.17, 'attitude': 0.37, 'unc': 0.19999999999999998, 'pri_thr': 0.11, 'pub_thr': 0.6}\n",
      "Alma Sideris vaccination vaccination_6 {'opinion': 0.48, 'attitude': 0.18, 'unc': 0.3, 'pri_thr': 0.72, 'pub_thr': 0.6}\n",
      "Alma Sideris vaccination vaccination_4 {'opinion': -0.48, 'attitude': -0.04, 'unc': 0.44, 'pri_thr': 0.67, 'pub_thr': 0.6}\n",
      "Alma Sideris vaccination vaccination_8 {'opinion': 0.31, 'attitude': 0.72, 'unc': 0.41, 'pri_thr': 0.84, 'pub_thr': 0.6}\n",
      "Hector Sierra democrat democrat_8 {'opinion': 1.0, 'attitude': 0.88, 'unc': 0.12, 'pri_thr': 0.21, 'pub_thr': 0.6}\n",
      "Hector Sierra democrat democrat_9 {'opinion': 0.95, 'attitude': 0.84, 'unc': 0.10999999999999999, 'pri_thr': 0.92, 'pub_thr': 0.6}\n",
      "Hector Sierra democrat democrat_2 {'opinion': 0.84, 'attitude': 0.71, 'unc': 0.13, 'pri_thr': 0.4, 'pub_thr': 0.6}\n",
      "Hector Sierra democrat democrat_3 {'opinion': -0.19, 'attitude': -0.15, 'unc': 0.04000000000000001, 'pri_thr': 0.32, 'pub_thr': 0.6}\n",
      "Hector Sierra democrat democrat_0 {'opinion': 0.12, 'attitude': -0.11, 'unc': 0.22999999999999998, 'pri_thr': 0.02, 'pub_thr': 0.6}\n",
      "Hector Sierra democrat democrat_6 {'opinion': -0.21, 'attitude': 0.03, 'unc': 0.24, 'pri_thr': 0.1, 'pub_thr': 0.6}\n",
      "Hector Sierra democrat democrat_7 {'opinion': -0.87, 'attitude': -0.6, 'unc': 0.27, 'pri_thr': 0.32, 'pub_thr': 0.6}\n",
      "Hector Sierra democrat democrat_4 {'opinion': 0.48, 'attitude': 0.25, 'unc': 0.22999999999999998, 'pri_thr': 0.36, 'pub_thr': 0.6}\n",
      "Hector Sierra democrat democrat_5 {'opinion': -0.16, 'attitude': -0.1, 'unc': 0.06, 'pri_thr': 0.96, 'pub_thr': 0.6}\n",
      "Hector Sierra democrat democrat_10 {'opinion': -0.23, 'attitude': -0.65, 'unc': 0.42000000000000004, 'pri_thr': 0.48, 'pub_thr': 0.6}\n",
      "Hector Sierra democrat democrat_11 {'opinion': 0.49, 'attitude': 0.24, 'unc': 0.25, 'pri_thr': 0.29, 'pub_thr': 0.6}\n",
      "Hector Sierra democrat democrat_12 {'opinion': 0.89, 'attitude': 0.58, 'unc': 0.31000000000000005, 'pri_thr': 0.91, 'pub_thr': 0.6}\n",
      "Hector Sierra democrat democrat_13 {'opinion': 0.11, 'attitude': 0.21, 'unc': 0.09999999999999999, 'pri_thr': 0.07, 'pub_thr': 0.6}\n",
      "Hector Sierra democrat democrat_14 {'opinion': 0.26, 'attitude': 0.6, 'unc': 0.33999999999999997, 'pri_thr': 0.24, 'pub_thr': 0.6}\n",
      "Hector Sierra vaccination vaccination_9 {'opinion': -0.13, 'attitude': 0.09, 'unc': 0.22, 'pri_thr': 0.39, 'pub_thr': 0.6}\n",
      "Hector Sierra vaccination vaccination_8 {'opinion': 1.0, 'attitude': 0.83, 'unc': 0.17000000000000004, 'pri_thr': 0.26, 'pub_thr': 0.6}\n",
      "Hector Sierra vaccination vaccination_7 {'opinion': 0.37, 'attitude': 0.7, 'unc': 0.32999999999999996, 'pri_thr': 0.97, 'pub_thr': 0.6}\n",
      "Hector Sierra vaccination vaccination_6 {'opinion': 0.49, 'attitude': 0.43, 'unc': 0.06, 'pri_thr': 0.99, 'pub_thr': 0.6}\n",
      "Hector Sierra vaccination vaccination_5 {'opinion': -0.41, 'attitude': -0.22, 'unc': 0.18999999999999997, 'pri_thr': 0.27, 'pub_thr': 0.6}\n",
      "Hector Sierra vaccination vaccination_4 {'opinion': 0.47, 'attitude': 0.04, 'unc': 0.43, 'pri_thr': 0.52, 'pub_thr': 0.6}\n",
      "Hector Sierra vaccination vaccination_3 {'opinion': -0.26, 'attitude': 0.16, 'unc': 0.42000000000000004, 'pri_thr': 0.1, 'pub_thr': 0.6}\n",
      "Hector Sierra vaccination vaccination_2 {'opinion': -0.77, 'attitude': -0.58, 'unc': 0.19000000000000006, 'pri_thr': 0.68, 'pub_thr': 0.6}\n",
      "Hector Sierra vaccination vaccination_1 {'opinion': 0.95, 'attitude': 0.46, 'unc': 0.48999999999999994, 'pri_thr': 0.06, 'pub_thr': 0.6}\n",
      "Hector Sierra vaccination vaccination_0 {'opinion': -1.0, 'attitude': -0.84, 'unc': 0.16000000000000003, 'pri_thr': 0.23, 'pub_thr': 0.6}\n",
      "Dessie Davis democrat democrat_9 {'opinion': 0.88, 'attitude': 0.47, 'unc': 0.41000000000000003, 'pri_thr': 0.97, 'pub_thr': 0.6}\n",
      "Dessie Davis democrat democrat_2 {'opinion': -0.52, 'attitude': -0.37, 'unc': 0.15000000000000002, 'pri_thr': 0.55, 'pub_thr': 0.6}\n",
      "Dessie Davis democrat democrat_3 {'opinion': -0.5, 'attitude': -0.71, 'unc': 0.20999999999999996, 'pri_thr': 0.24, 'pub_thr': 0.6}\n",
      "Dessie Davis democrat democrat_0 {'opinion': 0.64, 'attitude': 0.67, 'unc': 0.030000000000000027, 'pri_thr': 0.8, 'pub_thr': 0.6}\n",
      "Dessie Davis democrat democrat_1 {'opinion': 0.18, 'attitude': -0.02, 'unc': 0.19999999999999998, 'pri_thr': 0.11, 'pub_thr': 0.6}\n",
      "Dessie Davis democrat democrat_6 {'opinion': -0.02, 'attitude': -0.51, 'unc': 0.49, 'pri_thr': 0.22, 'pub_thr': 0.6}\n",
      "Dessie Davis democrat democrat_7 {'opinion': -0.38, 'attitude': -0.72, 'unc': 0.33999999999999997, 'pri_thr': 0.07, 'pub_thr': 0.6}\n",
      "Dessie Davis democrat democrat_4 {'opinion': -0.46, 'attitude': 0.03, 'unc': 0.49, 'pri_thr': 0.28, 'pub_thr': 0.6}\n",
      "Dessie Davis democrat democrat_5 {'opinion': -0.16, 'attitude': -0.21, 'unc': 0.04999999999999999, 'pri_thr': 0.28, 'pub_thr': 0.6}\n",
      "Dessie Davis democrat democrat_10 {'opinion': -1.0, 'attitude': -0.93, 'unc': 0.06999999999999995, 'pri_thr': 0.56, 'pub_thr': 0.6}\n",
      "Dessie Davis democrat democrat_11 {'opinion': 0.42, 'attitude': 0.23, 'unc': 0.18999999999999997, 'pri_thr': 0.55, 'pub_thr': 0.6}\n",
      "Dessie Davis democrat democrat_12 {'opinion': 0.5, 'attitude': 0.88, 'unc': 0.38, 'pri_thr': 0.75, 'pub_thr': 0.6}\n",
      "Dessie Davis democrat democrat_13 {'opinion': -1.0, 'attitude': -0.7, 'unc': 0.30000000000000004, 'pri_thr': 0.21, 'pub_thr': 0.6}\n",
      "Dessie Davis democrat democrat_14 {'opinion': 0.45, 'attitude': 0.72, 'unc': 0.26999999999999996, 'pri_thr': 0.44, 'pub_thr': 0.6}\n",
      "Brenda Stanier vaccination vaccination_6 {'opinion': 0.3, 'attitude': 0.32, 'unc': 0.020000000000000018, 'pri_thr': 0.35, 'pub_thr': 0.6}\n",
      "Brenda Stanier vaccination vaccination_1 {'opinion': -0.21, 'attitude': 0.21, 'unc': 0.42, 'pri_thr': 0.26, 'pub_thr': 0.6}\n",
      "Paul Cope vaccination vaccination_2 {'opinion': -0.65, 'attitude': -0.88, 'unc': 0.22999999999999998, 'pri_thr': 0.44, 'pub_thr': 0.6}\n",
      "Ashley Vanconant vaccination vaccination_3 {'opinion': 0.71, 'attitude': 0.28, 'unc': 0.42999999999999994, 'pri_thr': 0.31, 'pub_thr': 0.6}\n",
      "Ashley Vanconant vaccination vaccination_8 {'opinion': 0.35, 'attitude': 0.54, 'unc': 0.19000000000000006, 'pri_thr': 0.94, 'pub_thr': 0.6}\n",
      "Ronnie Cornelius democrat democrat_2 {'opinion': 0.15, 'attitude': -0.05, 'unc': 0.2, 'pri_thr': 0.35, 'pub_thr': 0.6}\n",
      "Ronnie Cornelius democrat democrat_0 {'opinion': -0.74, 'attitude': -0.29, 'unc': 0.45, 'pri_thr': 0.83, 'pub_thr': 0.6}\n",
      "Ronnie Cornelius democrat democrat_1 {'opinion': -0.9, 'attitude': -0.56, 'unc': 0.33999999999999997, 'pri_thr': 0.52, 'pub_thr': 0.6}\n",
      "Ronnie Cornelius democrat democrat_6 {'opinion': -0.45, 'attitude': -0.31, 'unc': 0.14, 'pri_thr': 0.65, 'pub_thr': 0.6}\n",
      "Ronnie Cornelius democrat democrat_7 {'opinion': -0.95, 'attitude': -0.53, 'unc': 0.41999999999999993, 'pri_thr': 0.63, 'pub_thr': 0.6}\n",
      "Ronnie Cornelius democrat democrat_4 {'opinion': -0.47, 'attitude': -0.86, 'unc': 0.39, 'pri_thr': 0.22, 'pub_thr': 0.6}\n",
      "Ronnie Cornelius democrat democrat_5 {'opinion': 0.54, 'attitude': 0.66, 'unc': 0.12, 'pri_thr': 0.05, 'pub_thr': 0.6}\n",
      "Ronnie Cornelius democrat democrat_10 {'opinion': 0.38, 'attitude': -0.07, 'unc': 0.45, 'pri_thr': 0.58, 'pub_thr': 0.6}\n",
      "Ronnie Cornelius democrat democrat_11 {'opinion': -0.51, 'attitude': -0.54, 'unc': 0.030000000000000027, 'pri_thr': 0.65, 'pub_thr': 0.6}\n",
      "Ronnie Cornelius democrat democrat_12 {'opinion': -0.9, 'attitude': -0.42, 'unc': 0.48000000000000004, 'pri_thr': 0.64, 'pub_thr': 0.6}\n",
      "Ronnie Cornelius democrat democrat_13 {'opinion': -0.52, 'attitude': -0.79, 'unc': 0.27, 'pri_thr': 0.79, 'pub_thr': 0.6}\n",
      "Ronnie Cornelius democrat democrat_14 {'opinion': -0.46, 'attitude': -0.58, 'unc': 0.11999999999999994, 'pri_thr': 0.58, 'pub_thr': 0.6}\n",
      "John Vines vaccination vaccination_7 {'opinion': -0.36, 'attitude': 0.11, 'unc': 0.47, 'pri_thr': 0.54, 'pub_thr': 0.6}\n",
      "John Vines vaccination vaccination_0 {'opinion': 0.33, 'attitude': 0.08, 'unc': 0.25, 'pri_thr': 0.53, 'pub_thr': 0.6}\n",
      "Rosa Dupuis democrat democrat_8 {'opinion': -0.47, 'attitude': -0.53, 'unc': 0.06000000000000005, 'pri_thr': 0.71, 'pub_thr': 0.6}\n",
      "Rosa Dupuis democrat democrat_6 {'opinion': -1.0, 'attitude': -0.95, 'unc': 0.050000000000000044, 'pri_thr': 0.02, 'pub_thr': 0.6}\n",
      "Rosa Dupuis democrat democrat_0 {'opinion': 0.11, 'attitude': 0.07, 'unc': 0.039999999999999994, 'pri_thr': 0.49, 'pub_thr': 0.6}\n",
      "Rosa Dupuis democrat democrat_12 {'opinion': -1.0, 'attitude': -0.9, 'unc': 0.09999999999999998, 'pri_thr': 0.91, 'pub_thr': 0.6}\n",
      "Karen Flores vaccination vaccination_9 {'opinion': 0.57, 'attitude': 0.45, 'unc': 0.11999999999999994, 'pri_thr': 0.79, 'pub_thr': 0.6}\n",
      "Karen Flores vaccination vaccination_8 {'opinion': 0.45, 'attitude': 0.7, 'unc': 0.24999999999999994, 'pri_thr': 0.02, 'pub_thr': 0.6}\n",
      "Karen Flores vaccination vaccination_7 {'opinion': -0.3, 'attitude': -0.67, 'unc': 0.37000000000000005, 'pri_thr': 0.52, 'pub_thr': 0.6}\n",
      "Karen Flores vaccination vaccination_6 {'opinion': 0.33, 'attitude': 0.62, 'unc': 0.29, 'pri_thr': 0.27, 'pub_thr': 0.6}\n",
      "Karen Flores vaccination vaccination_5 {'opinion': 0.73, 'attitude': 0.59, 'unc': 0.14, 'pri_thr': 0.79, 'pub_thr': 0.6}\n",
      "Karen Flores vaccination vaccination_4 {'opinion': -0.21, 'attitude': -0.6, 'unc': 0.39, 'pri_thr': 0.33, 'pub_thr': 0.6}\n",
      "Karen Flores vaccination vaccination_3 {'opinion': 0.67, 'attitude': 0.37, 'unc': 0.30000000000000004, 'pri_thr': 0.39, 'pub_thr': 0.6}\n",
      "Karen Flores vaccination vaccination_2 {'opinion': 0.34, 'attitude': 0.76, 'unc': 0.42, 'pri_thr': 0.35, 'pub_thr': 0.6}\n",
      "Karen Flores vaccination vaccination_1 {'opinion': -0.56, 'attitude': -0.36, 'unc': 0.20000000000000007, 'pri_thr': 0.79, 'pub_thr': 0.6}\n",
      "Karen Flores vaccination vaccination_0 {'opinion': -0.75, 'attitude': -0.94, 'unc': 0.18999999999999995, 'pri_thr': 0.44, 'pub_thr': 0.6}\n",
      "Dale Ibarra democrat democrat_9 {'opinion': 0.05, 'attitude': -0.22, 'unc': 0.27, 'pri_thr': 0.51, 'pub_thr': 0.6}\n",
      "Dale Ibarra democrat democrat_2 {'opinion': -0.25, 'attitude': -0.32, 'unc': 0.07, 'pri_thr': 0.05, 'pub_thr': 0.6}\n",
      "Dale Ibarra democrat democrat_3 {'opinion': -0.42, 'attitude': -0.33, 'unc': 0.08999999999999997, 'pri_thr': 0.86, 'pub_thr': 0.6}\n",
      "Dale Ibarra democrat democrat_0 {'opinion': -0.2, 'attitude': 0.24, 'unc': 0.44, 'pri_thr': 0.67, 'pub_thr': 0.6}\n",
      "Dale Ibarra democrat democrat_1 {'opinion': 0.04, 'attitude': 0.26, 'unc': 0.22, 'pri_thr': 0.62, 'pub_thr': 0.6}\n",
      "Dale Ibarra democrat democrat_7 {'opinion': 0.59, 'attitude': 0.24, 'unc': 0.35, 'pri_thr': 0.83, 'pub_thr': 0.6}\n",
      "Dale Ibarra democrat democrat_10 {'opinion': -0.14, 'attitude': 0.31, 'unc': 0.45, 'pri_thr': 0.97, 'pub_thr': 0.6}\n",
      "Dale Ibarra democrat democrat_14 {'opinion': 0.4, 'attitude': 0.39, 'unc': 0.010000000000000009, 'pri_thr': 0.73, 'pub_thr': 0.6}\n",
      "Thomas Mcphearson vaccination vaccination_8 {'opinion': -1.0, 'attitude': -0.84, 'unc': 0.16000000000000003, 'pri_thr': 0.32, 'pub_thr': 0.6}\n",
      "Thomas Mcphearson vaccination vaccination_7 {'opinion': 0.05, 'attitude': -0.21, 'unc': 0.26, 'pri_thr': 0.64, 'pub_thr': 0.6}\n",
      "Thomas Mcphearson vaccination vaccination_6 {'opinion': 0.49, 'attitude': 0.41, 'unc': 0.08000000000000002, 'pri_thr': 0.24, 'pub_thr': 0.6}\n",
      "Thomas Mcphearson vaccination vaccination_5 {'opinion': -0.11, 'attitude': -0.08, 'unc': 0.03, 'pri_thr': 0.11, 'pub_thr': 0.6}\n",
      "Thomas Mcphearson vaccination vaccination_3 {'opinion': -0.1, 'attitude': 0.08, 'unc': 0.18, 'pri_thr': 0.84, 'pub_thr': 0.6}\n",
      "Thomas Mcphearson vaccination vaccination_2 {'opinion': -0.31, 'attitude': 0.1, 'unc': 0.41000000000000003, 'pri_thr': 0.88, 'pub_thr': 0.6}\n",
      "Thomas Mcphearson democrat democrat_8 {'opinion': 0.72, 'attitude': 1.0, 'unc': 0.28, 'pri_thr': 0.36, 'pub_thr': 0.6}\n",
      "Thomas Mcphearson democrat democrat_3 {'opinion': -1.0, 'attitude': -0.85, 'unc': 0.15000000000000002, 'pri_thr': 0.07, 'pub_thr': 0.6}\n",
      "Thomas Mcphearson democrat democrat_0 {'opinion': -0.72, 'attitude': -0.35, 'unc': 0.37, 'pri_thr': 0.41, 'pub_thr': 0.6}\n",
      "Thomas Mcphearson democrat democrat_1 {'opinion': 0.12, 'attitude': 0.07, 'unc': 0.04999999999999999, 'pri_thr': 0.62, 'pub_thr': 0.6}\n",
      "Thomas Mcphearson democrat democrat_6 {'opinion': 0.38, 'attitude': 0.75, 'unc': 0.37, 'pri_thr': 0.33, 'pub_thr': 0.6}\n",
      "Thomas Mcphearson democrat democrat_7 {'opinion': -1.0, 'attitude': -0.78, 'unc': 0.21999999999999997, 'pri_thr': 0.45, 'pub_thr': 0.6}\n",
      "Thomas Mcphearson democrat democrat_11 {'opinion': -0.13, 'attitude': -0.16, 'unc': 0.03, 'pri_thr': 0.54, 'pub_thr': 0.6}\n",
      "Thomas Mcphearson democrat democrat_12 {'opinion': 0.72, 'attitude': 0.32, 'unc': 0.39999999999999997, 'pri_thr': 0.25, 'pub_thr': 0.6}\n",
      "Thomas Mcphearson democrat democrat_13 {'opinion': -1.0, 'attitude': -0.78, 'unc': 0.21999999999999997, 'pri_thr': 0.1, 'pub_thr': 0.6}\n",
      "Rhonda Wright vaccination vaccination_8 {'opinion': -0.73, 'attitude': -0.26, 'unc': 0.47, 'pri_thr': 0.49, 'pub_thr': 0.6}\n",
      "Rhonda Wright vaccination vaccination_7 {'opinion': -0.83, 'attitude': -0.5, 'unc': 0.32999999999999996, 'pri_thr': 0.62, 'pub_thr': 0.6}\n",
      "Rhonda Wright vaccination vaccination_5 {'opinion': -0.1, 'attitude': 0.34, 'unc': 0.44000000000000006, 'pri_thr': 0.78, 'pub_thr': 0.6}\n",
      "Rhonda Wright vaccination vaccination_3 {'opinion': -0.32, 'attitude': -0.06, 'unc': 0.26, 'pri_thr': 0.02, 'pub_thr': 0.6}\n",
      "Rhonda Wright vaccination vaccination_1 {'opinion': -1.0, 'attitude': -0.94, 'unc': 0.06000000000000005, 'pri_thr': 0.63, 'pub_thr': 0.6}\n",
      "Rhonda Wright vaccination vaccination_0 {'opinion': 0.41, 'attitude': 0.53, 'unc': 0.12000000000000005, 'pri_thr': 0.26, 'pub_thr': 0.6}\n",
      "James Davis vaccination vaccination_6 {'opinion': -0.23, 'attitude': -0.54, 'unc': 0.31000000000000005, 'pri_thr': 0.08, 'pub_thr': 0.6}\n",
      "James Davis vaccination vaccination_8 {'opinion': 0.99, 'attitude': 0.92, 'unc': 0.06999999999999995, 'pri_thr': 0.96, 'pub_thr': 0.6}\n",
      "Sal Anderson democrat democrat_2 {'opinion': -0.37, 'attitude': -0.41, 'unc': 0.03999999999999998, 'pri_thr': 0.1, 'pub_thr': 0.6}\n",
      "Sal Anderson democrat democrat_3 {'opinion': -0.04, 'attitude': 0.4, 'unc': 0.44, 'pri_thr': 0.59, 'pub_thr': 0.6}\n",
      "Sal Anderson democrat democrat_8 {'opinion': -0.17, 'attitude': 0.32, 'unc': 0.49, 'pri_thr': 0.48, 'pub_thr': 0.6}\n",
      "Sal Anderson democrat democrat_6 {'opinion': 0.38, 'attitude': 0.22, 'unc': 0.16, 'pri_thr': 0.34, 'pub_thr': 0.6}\n",
      "Sal Anderson vaccination vaccination_6 {'opinion': 1.0, 'attitude': 0.79, 'unc': 0.20999999999999996, 'pri_thr': 0.97, 'pub_thr': 0.6}\n",
      "Sal Anderson vaccination vaccination_5 {'opinion': -0.21, 'attitude': 0.23, 'unc': 0.44, 'pri_thr': 0.88, 'pub_thr': 0.6}\n",
      "Sal Anderson vaccination vaccination_4 {'opinion': 0.45, 'attitude': 0.28, 'unc': 0.16999999999999998, 'pri_thr': 0.62, 'pub_thr': 0.6}\n",
      "Lucy Minihane democrat democrat_3 {'opinion': 0.53, 'attitude': 0.74, 'unc': 0.20999999999999996, 'pri_thr': 0.3, 'pub_thr': 0.6}\n",
      "Lucy Minihane democrat democrat_0 {'opinion': -0.08, 'attitude': 0.4, 'unc': 0.48000000000000004, 'pri_thr': 0.03, 'pub_thr': 0.6}\n",
      "Lucy Minihane democrat democrat_6 {'opinion': 0.59, 'attitude': 0.76, 'unc': 0.17000000000000004, 'pri_thr': 0.87, 'pub_thr': 0.6}\n",
      "Lucy Minihane democrat democrat_4 {'opinion': -0.25, 'attitude': -0.57, 'unc': 0.31999999999999995, 'pri_thr': 0.5, 'pub_thr': 0.6}\n",
      "Lucy Minihane democrat democrat_10 {'opinion': -0.7, 'attitude': -0.24, 'unc': 0.45999999999999996, 'pri_thr': 0.8, 'pub_thr': 0.6}\n",
      "Lucy Minihane democrat democrat_12 {'opinion': -0.95, 'attitude': -0.97, 'unc': 0.020000000000000018, 'pri_thr': 0.3, 'pub_thr': 0.6}\n",
      "Lucy Minihane democrat democrat_13 {'opinion': 0.25, 'attitude': 0.15, 'unc': 0.1, 'pri_thr': 0.12, 'pub_thr': 0.6}\n",
      "Richard Hoffman vaccination vaccination_9 {'opinion': -1.0, 'attitude': -0.97, 'unc': 0.030000000000000027, 'pri_thr': 0.13, 'pub_thr': 0.6}\n",
      "Richard Hoffman vaccination vaccination_8 {'opinion': -0.54, 'attitude': -0.83, 'unc': 0.2899999999999999, 'pri_thr': 0.68, 'pub_thr': 0.6}\n",
      "Richard Hoffman vaccination vaccination_7 {'opinion': 0.98, 'attitude': 0.79, 'unc': 0.18999999999999995, 'pri_thr': 0.04, 'pub_thr': 0.6}\n",
      "Richard Hoffman vaccination vaccination_6 {'opinion': -1.0, 'attitude': -0.94, 'unc': 0.06000000000000005, 'pri_thr': 0.77, 'pub_thr': 0.6}\n",
      "Richard Hoffman vaccination vaccination_5 {'opinion': 0.71, 'attitude': 0.23, 'unc': 0.48, 'pri_thr': 0.86, 'pub_thr': 0.6}\n",
      "Richard Hoffman vaccination vaccination_4 {'opinion': 0.87, 'attitude': 0.4, 'unc': 0.47, 'pri_thr': 0.94, 'pub_thr': 0.6}\n",
      "Richard Hoffman vaccination vaccination_3 {'opinion': -0.87, 'attitude': -0.48, 'unc': 0.39, 'pri_thr': 0.31, 'pub_thr': 0.6}\n",
      "Richard Hoffman vaccination vaccination_2 {'opinion': 0.16, 'attitude': 0.37, 'unc': 0.21, 'pri_thr': 0.34, 'pub_thr': 0.6}\n",
      "Richard Hoffman vaccination vaccination_1 {'opinion': 0.62, 'attitude': 0.57, 'unc': 0.050000000000000044, 'pri_thr': 0.64, 'pub_thr': 0.6}\n",
      "James Moore vaccination vaccination_9 {'opinion': -0.5, 'attitude': -0.96, 'unc': 0.45999999999999996, 'pri_thr': 0.24, 'pub_thr': 0.6}\n",
      "James Moore vaccination vaccination_8 {'opinion': -0.67, 'attitude': -0.2, 'unc': 0.47000000000000003, 'pri_thr': 0.77, 'pub_thr': 0.6}\n",
      "James Moore vaccination vaccination_7 {'opinion': -0.41, 'attitude': 0.07, 'unc': 0.48, 'pri_thr': 0.79, 'pub_thr': 0.6}\n",
      "James Moore vaccination vaccination_6 {'opinion': 0.19, 'attitude': -0.19, 'unc': 0.38, 'pri_thr': 0.8, 'pub_thr': 0.6}\n",
      "James Moore vaccination vaccination_5 {'opinion': 0.76, 'attitude': 0.52, 'unc': 0.24, 'pri_thr': 0.07, 'pub_thr': 0.6}\n",
      "James Moore vaccination vaccination_4 {'opinion': -0.54, 'attitude': -0.92, 'unc': 0.38, 'pri_thr': 0.24, 'pub_thr': 0.6}\n",
      "James Moore vaccination vaccination_3 {'opinion': -1.0, 'attitude': -0.85, 'unc': 0.15000000000000002, 'pri_thr': 0.7, 'pub_thr': 0.6}\n",
      "James Moore vaccination vaccination_2 {'opinion': 0.04, 'attitude': -0.17, 'unc': 0.21000000000000002, 'pri_thr': 0.97, 'pub_thr': 0.6}\n",
      "James Moore vaccination vaccination_1 {'opinion': -0.98, 'attitude': -0.5, 'unc': 0.48, 'pri_thr': 0.12, 'pub_thr': 0.6}\n",
      "James Moore vaccination vaccination_0 {'opinion': 1.0, 'attitude': 0.92, 'unc': 0.07999999999999996, 'pri_thr': 0.52, 'pub_thr': 0.6}\n",
      "Lyle Allen vaccination vaccination_9 {'opinion': 0.6, 'attitude': 0.59, 'unc': 0.010000000000000009, 'pri_thr': 0.01, 'pub_thr': 0.6}\n",
      "Lyle Allen vaccination vaccination_0 {'opinion': -0.67, 'attitude': -0.35, 'unc': 0.32000000000000006, 'pri_thr': 0.39, 'pub_thr': 0.6}\n",
      "Karen Greenwald democrat democrat_8 {'opinion': -0.06, 'attitude': -0.14, 'unc': 0.08000000000000002, 'pri_thr': 0.59, 'pub_thr': 0.6}\n",
      "Karen Greenwald democrat democrat_3 {'opinion': -1.0, 'attitude': -0.77, 'unc': 0.22999999999999998, 'pri_thr': 0.09, 'pub_thr': 0.6}\n",
      "Karen Greenwald democrat democrat_1 {'opinion': 1.0, 'attitude': 0.98, 'unc': 0.020000000000000018, 'pri_thr': 0.58, 'pub_thr': 0.6}\n",
      "Karen Greenwald democrat democrat_6 {'opinion': 0.76, 'attitude': 0.39, 'unc': 0.37, 'pri_thr': 0.65, 'pub_thr': 0.6}\n",
      "Karen Greenwald democrat democrat_7 {'opinion': -0.31, 'attitude': -0.24, 'unc': 0.07, 'pri_thr': 0.63, 'pub_thr': 0.6}\n",
      "Karen Greenwald democrat democrat_5 {'opinion': -0.56, 'attitude': -0.54, 'unc': 0.020000000000000018, 'pri_thr': 0.14, 'pub_thr': 0.6}\n",
      "Karen Greenwald democrat democrat_10 {'opinion': -0.48, 'attitude': -0.3, 'unc': 0.18, 'pri_thr': 0.63, 'pub_thr': 0.6}\n",
      "Karen Greenwald democrat democrat_13 {'opinion': -0.78, 'attitude': -0.47, 'unc': 0.31000000000000005, 'pri_thr': 0.09, 'pub_thr': 0.6}\n",
      "Karen Greenwald democrat democrat_14 {'opinion': 0.49, 'attitude': 0.42, 'unc': 0.07, 'pri_thr': 0.97, 'pub_thr': 0.6}\n",
      "Lavern Laferriere democrat democrat_8 {'opinion': -0.07, 'attitude': 0.12, 'unc': 0.19, 'pri_thr': 0.77, 'pub_thr': 0.6}\n",
      "Lavern Laferriere democrat democrat_9 {'opinion': -0.93, 'attitude': -0.57, 'unc': 0.3600000000000001, 'pri_thr': 0.88, 'pub_thr': 0.6}\n",
      "Lavern Laferriere democrat democrat_2 {'opinion': 1.0, 'attitude': 0.81, 'unc': 0.18999999999999995, 'pri_thr': 0.96, 'pub_thr': 0.6}\n",
      "Lavern Laferriere democrat democrat_3 {'opinion': -0.76, 'attitude': -0.39, 'unc': 0.37, 'pri_thr': 0.25, 'pub_thr': 0.6}\n",
      "Lavern Laferriere democrat democrat_0 {'opinion': 0.69, 'attitude': 0.86, 'unc': 0.17000000000000004, 'pri_thr': 0.33, 'pub_thr': 0.6}\n",
      "Lavern Laferriere democrat democrat_1 {'opinion': -0.2, 'attitude': -0.31, 'unc': 0.10999999999999999, 'pri_thr': 0.3, 'pub_thr': 0.6}\n",
      "Lavern Laferriere democrat democrat_7 {'opinion': -0.96, 'attitude': -0.68, 'unc': 0.2799999999999999, 'pri_thr': 0.89, 'pub_thr': 0.6}\n",
      "Lavern Laferriere democrat democrat_4 {'opinion': -0.04, 'attitude': 0.11, 'unc': 0.15, 'pri_thr': 0.08, 'pub_thr': 0.6}\n",
      "Lavern Laferriere democrat democrat_5 {'opinion': -0.01, 'attitude': 0.16, 'unc': 0.17, 'pri_thr': 0.87, 'pub_thr': 0.6}\n",
      "Lavern Laferriere democrat democrat_10 {'opinion': -1.0, 'attitude': -0.57, 'unc': 0.43000000000000005, 'pri_thr': 0.21, 'pub_thr': 0.6}\n",
      "Lavern Laferriere democrat democrat_11 {'opinion': -0.96, 'attitude': -0.97, 'unc': 0.010000000000000009, 'pri_thr': 0.5, 'pub_thr': 0.6}\n",
      "Lavern Laferriere democrat democrat_13 {'opinion': 0.05, 'attitude': -0.26, 'unc': 0.31, 'pri_thr': 0.15, 'pub_thr': 0.6}\n",
      "Lavern Laferriere democrat democrat_14 {'opinion': 0.59, 'attitude': 0.78, 'unc': 0.19000000000000006, 'pri_thr': 0.1, 'pub_thr': 0.6}\n",
      "Lavern Laferriere vaccination vaccination_9 {'opinion': -1.0, 'attitude': -0.72, 'unc': 0.28, 'pri_thr': 0.51, 'pub_thr': 0.6}\n",
      "Lavern Laferriere vaccination vaccination_6 {'opinion': 0.89, 'attitude': 0.51, 'unc': 0.38, 'pri_thr': 0.94, 'pub_thr': 0.6}\n",
      "Lavern Laferriere vaccination vaccination_4 {'opinion': -0.14, 'attitude': 0.32, 'unc': 0.46, 'pri_thr': 0.34, 'pub_thr': 0.6}\n",
      "Lavern Laferriere vaccination vaccination_2 {'opinion': -0.34, 'attitude': -0.67, 'unc': 0.33, 'pri_thr': 0.97, 'pub_thr': 0.6}\n",
      "Lavern Laferriere vaccination vaccination_1 {'opinion': 0.44, 'attitude': -0.06, 'unc': 0.5, 'pri_thr': 0.97, 'pub_thr': 0.6}\n",
      "Lavern Laferriere vaccination vaccination_0 {'opinion': 0.58, 'attitude': 0.59, 'unc': 0.010000000000000009, 'pri_thr': 0.55, 'pub_thr': 0.6}\n",
      "Brenda Ferrigno vaccination vaccination_8 {'opinion': -1.0, 'attitude': -0.88, 'unc': 0.12, 'pri_thr': 0.49, 'pub_thr': 0.6}\n",
      "Brenda Ferrigno vaccination vaccination_6 {'opinion': -0.67, 'attitude': -0.29, 'unc': 0.38000000000000006, 'pri_thr': 0.89, 'pub_thr': 0.6}\n",
      "Brenda Ferrigno vaccination vaccination_5 {'opinion': -0.11, 'attitude': 0.35, 'unc': 0.45999999999999996, 'pri_thr': 0.04, 'pub_thr': 0.6}\n",
      "Brenda Ferrigno vaccination vaccination_3 {'opinion': 0.81, 'attitude': 0.71, 'unc': 0.10000000000000009, 'pri_thr': 0.14, 'pub_thr': 0.6}\n",
      "Brenda Ferrigno vaccination vaccination_2 {'opinion': -0.34, 'attitude': -0.01, 'unc': 0.33, 'pri_thr': 0.7, 'pub_thr': 0.6}\n",
      "Brenda Ferrigno vaccination vaccination_1 {'opinion': -0.7, 'attitude': -0.41, 'unc': 0.29, 'pri_thr': 0.26, 'pub_thr': 0.6}\n",
      "Larry Tomassi vaccination vaccination_7 {'opinion': -0.29, 'attitude': 0.19, 'unc': 0.48, 'pri_thr': 0.7, 'pub_thr': 0.6}\n",
      "Larry Tomassi vaccination vaccination_8 {'opinion': 0.81, 'attitude': 0.44, 'unc': 0.37000000000000005, 'pri_thr': 0.7, 'pub_thr': 0.6}\n",
      "Larry Tomassi vaccination vaccination_2 {'opinion': -0.74, 'attitude': -0.66, 'unc': 0.07999999999999996, 'pri_thr': 0.05, 'pub_thr': 0.6}\n",
      "Larry Tomassi vaccination vaccination_9 {'opinion': -0.45, 'attitude': -0.76, 'unc': 0.31, 'pri_thr': 0.12, 'pub_thr': 0.6}\n",
      "Larry Tomassi vaccination vaccination_0 {'opinion': 0.4, 'attitude': 0.65, 'unc': 0.25, 'pri_thr': 0.13, 'pub_thr': 0.6}\n",
      "Harold Daniels democrat democrat_8 {'opinion': -0.25, 'attitude': -0.33, 'unc': 0.08000000000000002, 'pri_thr': 0.86, 'pub_thr': 0.6}\n",
      "Harold Daniels democrat democrat_3 {'opinion': 0.58, 'attitude': 0.7, 'unc': 0.12, 'pri_thr': 0.3, 'pub_thr': 0.6}\n",
      "Harold Daniels democrat democrat_0 {'opinion': 0.44, 'attitude': 0.86, 'unc': 0.42, 'pri_thr': 0.72, 'pub_thr': 0.6}\n",
      "Harold Daniels democrat democrat_1 {'opinion': 0.33, 'attitude': 0.76, 'unc': 0.43, 'pri_thr': 0.68, 'pub_thr': 0.6}\n",
      "Harold Daniels democrat democrat_6 {'opinion': -0.55, 'attitude': -0.17, 'unc': 0.38, 'pri_thr': 0.04, 'pub_thr': 0.6}\n",
      "Harold Daniels democrat democrat_7 {'opinion': 0.07, 'attitude': 0.38, 'unc': 0.31, 'pri_thr': 0.38, 'pub_thr': 0.6}\n",
      "Harold Daniels democrat democrat_5 {'opinion': 0.63, 'attitude': 0.83, 'unc': 0.19999999999999996, 'pri_thr': 0.55, 'pub_thr': 0.6}\n",
      "Sarah Chavez vaccination vaccination_9 {'opinion': 0.82, 'attitude': 0.49, 'unc': 0.32999999999999996, 'pri_thr': 0.69, 'pub_thr': 0.6}\n",
      "Sarah Chavez vaccination vaccination_8 {'opinion': 0.98, 'attitude': 0.9, 'unc': 0.07999999999999996, 'pri_thr': 0.71, 'pub_thr': 0.6}\n",
      "Sarah Chavez vaccination vaccination_6 {'opinion': 1.0, 'attitude': 0.68, 'unc': 0.31999999999999995, 'pri_thr': 0.47, 'pub_thr': 0.6}\n",
      "Sarah Chavez vaccination vaccination_4 {'opinion': 0.49, 'attitude': 0.84, 'unc': 0.35, 'pri_thr': 0.06, 'pub_thr': 0.6}\n",
      "Sarah Chavez vaccination vaccination_3 {'opinion': -0.35, 'attitude': -0.37, 'unc': 0.020000000000000018, 'pri_thr': 0.99, 'pub_thr': 0.6}\n",
      "Sarah Chavez vaccination vaccination_2 {'opinion': 0.11, 'attitude': 0.04, 'unc': 0.07, 'pri_thr': 0.54, 'pub_thr': 0.6}\n",
      "Sarah Chavez vaccination vaccination_1 {'opinion': -0.15, 'attitude': 0.04, 'unc': 0.19, 'pri_thr': 0.32, 'pub_thr': 0.6}\n",
      "Sarah Chavez democrat democrat_9 {'opinion': -1.0, 'attitude': -0.84, 'unc': 0.16000000000000003, 'pri_thr': 0.82, 'pub_thr': 0.6}\n",
      "Sarah Chavez democrat democrat_2 {'opinion': -0.29, 'attitude': 0.13, 'unc': 0.42, 'pri_thr': 0.52, 'pub_thr': 0.6}\n",
      "Sarah Chavez democrat democrat_0 {'opinion': -0.15, 'attitude': -0.56, 'unc': 0.41000000000000003, 'pri_thr': 0.07, 'pub_thr': 0.6}\n",
      "Sarah Chavez democrat democrat_1 {'opinion': 0.17, 'attitude': 0.65, 'unc': 0.48, 'pri_thr': 0.95, 'pub_thr': 0.6}\n",
      "Sarah Chavez democrat democrat_4 {'opinion': 0.51, 'attitude': 0.26, 'unc': 0.25, 'pri_thr': 0.71, 'pub_thr': 0.6}\n",
      "Sarah Chavez democrat democrat_5 {'opinion': -0.54, 'attitude': -0.18, 'unc': 0.36000000000000004, 'pri_thr': 0.96, 'pub_thr': 0.6}\n",
      "Sarah Chavez democrat democrat_10 {'opinion': 0.64, 'attitude': 0.93, 'unc': 0.29000000000000004, 'pri_thr': 0.51, 'pub_thr': 0.6}\n",
      "Sarah Chavez democrat democrat_11 {'opinion': -0.61, 'attitude': -0.76, 'unc': 0.15000000000000002, 'pri_thr': 0.17, 'pub_thr': 0.6}\n",
      "Sarah Chavez democrat democrat_12 {'opinion': 1.0, 'attitude': 0.74, 'unc': 0.26, 'pri_thr': 0.42, 'pub_thr': 0.6}\n",
      "Sarah Chavez democrat democrat_14 {'opinion': -0.16, 'attitude': -0.2, 'unc': 0.04000000000000001, 'pri_thr': 0.86, 'pub_thr': 0.6}\n",
      "Carrie Scriven democrat democrat_8 {'opinion': -1.0, 'attitude': -0.72, 'unc': 0.28, 'pri_thr': 0.45, 'pub_thr': 0.6}\n",
      "Carrie Scriven democrat democrat_2 {'opinion': -1.0, 'attitude': -0.92, 'unc': 0.07999999999999996, 'pri_thr': 0.79, 'pub_thr': 0.6}\n",
      "Carrie Scriven democrat democrat_3 {'opinion': 0.57, 'attitude': 0.72, 'unc': 0.15000000000000002, 'pri_thr': 0.19, 'pub_thr': 0.6}\n",
      "Carrie Scriven democrat democrat_0 {'opinion': 0.42, 'attitude': 0.09, 'unc': 0.32999999999999996, 'pri_thr': 0.25, 'pub_thr': 0.6}\n",
      "Carrie Scriven democrat democrat_1 {'opinion': 0.84, 'attitude': 0.71, 'unc': 0.13, 'pri_thr': 0.11, 'pub_thr': 0.6}\n",
      "Carrie Scriven democrat democrat_6 {'opinion': 0.08, 'attitude': 0.41, 'unc': 0.32999999999999996, 'pri_thr': 0.58, 'pub_thr': 0.6}\n",
      "Carrie Scriven democrat democrat_4 {'opinion': 0.83, 'attitude': 0.39, 'unc': 0.43999999999999995, 'pri_thr': 0.29, 'pub_thr': 0.6}\n",
      "Carrie Scriven democrat democrat_11 {'opinion': 0.07, 'attitude': 0.31, 'unc': 0.24, 'pri_thr': 0.19, 'pub_thr': 0.6}\n",
      "Carrie Scriven vaccination vaccination_5 {'opinion': 0.08, 'attitude': 0.24, 'unc': 0.15999999999999998, 'pri_thr': 0.35, 'pub_thr': 0.6}\n",
      "Carrie Scriven vaccination vaccination_0 {'opinion': 0.12, 'attitude': 0.59, 'unc': 0.47, 'pri_thr': 0.34, 'pub_thr': 0.6}\n",
      "Carrie Scriven vaccination vaccination_2 {'opinion': -0.24, 'attitude': -0.57, 'unc': 0.32999999999999996, 'pri_thr': 0.73, 'pub_thr': 0.6}\n",
      "Carrie Scriven vaccination vaccination_1 {'opinion': -0.14, 'attitude': -0.15, 'unc': 0.009999999999999981, 'pri_thr': 0.41, 'pub_thr': 0.6}\n",
      "Carrie Scriven vaccination vaccination_8 {'opinion': -0.81, 'attitude': -0.85, 'unc': 0.039999999999999925, 'pri_thr': 0.89, 'pub_thr': 0.6}\n",
      "Sherry Drake vaccination vaccination_5 {'opinion': 0.77, 'attitude': 0.57, 'unc': 0.20000000000000007, 'pri_thr': 0.09, 'pub_thr': 0.6}\n",
      "Sherry Drake vaccination vaccination_1 {'opinion': -0.52, 'attitude': -0.33, 'unc': 0.19, 'pri_thr': 0.53, 'pub_thr': 0.6}\n",
      "Sherry Drake vaccination vaccination_9 {'opinion': 0.44, 'attitude': 0.49, 'unc': 0.04999999999999999, 'pri_thr': 0.84, 'pub_thr': 0.6}\n",
      "Sherry Drake vaccination vaccination_8 {'opinion': -1.0, 'attitude': -0.74, 'unc': 0.26, 'pri_thr': 0.17, 'pub_thr': 0.6}\n",
      "Brian Douglass democrat democrat_8 {'opinion': -0.2, 'attitude': -0.38, 'unc': 0.18, 'pri_thr': 0.93, 'pub_thr': 0.6}\n",
      "Brian Douglass democrat democrat_9 {'opinion': -0.66, 'attitude': -0.44, 'unc': 0.22000000000000003, 'pri_thr': 0.8, 'pub_thr': 0.6}\n",
      "Brian Douglass democrat democrat_2 {'opinion': 0.83, 'attitude': 0.63, 'unc': 0.19999999999999996, 'pri_thr': 0.17, 'pub_thr': 0.6}\n",
      "Brian Douglass democrat democrat_3 {'opinion': 0.63, 'attitude': 0.32, 'unc': 0.31, 'pri_thr': 0.93, 'pub_thr': 0.6}\n",
      "Brian Douglass democrat democrat_0 {'opinion': -1.0, 'attitude': -0.7, 'unc': 0.30000000000000004, 'pri_thr': 0.39, 'pub_thr': 0.6}\n",
      "Brian Douglass democrat democrat_1 {'opinion': -0.2, 'attitude': 0.25, 'unc': 0.45, 'pri_thr': 0.07, 'pub_thr': 0.6}\n",
      "Brian Douglass democrat democrat_6 {'opinion': -0.96, 'attitude': -0.74, 'unc': 0.21999999999999997, 'pri_thr': 0.23, 'pub_thr': 0.6}\n",
      "Brian Douglass democrat democrat_7 {'opinion': 0.57, 'attitude': 0.87, 'unc': 0.30000000000000004, 'pri_thr': 0.61, 'pub_thr': 0.6}\n",
      "Brian Douglass democrat democrat_4 {'opinion': 1.0, 'attitude': 0.93, 'unc': 0.06999999999999995, 'pri_thr': 0.66, 'pub_thr': 0.6}\n",
      "Brian Douglass democrat democrat_5 {'opinion': -0.12, 'attitude': 0.19, 'unc': 0.31, 'pri_thr': 0.19, 'pub_thr': 0.6}\n",
      "Brian Douglass democrat democrat_10 {'opinion': 0.99, 'attitude': 0.69, 'unc': 0.30000000000000004, 'pri_thr': 0.06, 'pub_thr': 0.6}\n",
      "Brian Douglass democrat democrat_11 {'opinion': -0.89, 'attitude': -0.51, 'unc': 0.38, 'pri_thr': 1.0, 'pub_thr': 0.6}\n",
      "Brian Douglass democrat democrat_12 {'opinion': -0.79, 'attitude': -0.97, 'unc': 0.17999999999999994, 'pri_thr': 0.6, 'pub_thr': 0.6}\n",
      "Brian Douglass democrat democrat_13 {'opinion': -0.22, 'attitude': -0.22, 'unc': 0.0, 'pri_thr': 0.41, 'pub_thr': 0.6}\n",
      "Brian Douglass democrat democrat_14 {'opinion': -0.86, 'attitude': -0.95, 'unc': 0.08999999999999997, 'pri_thr': 0.26, 'pub_thr': 0.6}\n",
      "John Dowell vaccination vaccination_3 {'opinion': -0.93, 'attitude': -0.72, 'unc': 0.21000000000000008, 'pri_thr': 0.74, 'pub_thr': 0.6}\n",
      "John Dowell vaccination vaccination_9 {'opinion': -0.52, 'attitude': -0.43, 'unc': 0.09000000000000002, 'pri_thr': 0.29, 'pub_thr': 0.6}\n",
      "Paul Lewis democrat democrat_13 {'opinion': -0.04, 'attitude': -0.42, 'unc': 0.38, 'pri_thr': 0.69, 'pub_thr': 0.6}\n",
      "Elena Somma vaccination vaccination_1 {'opinion': 0.36, 'attitude': 0.18, 'unc': 0.18, 'pri_thr': 0.9, 'pub_thr': 0.6}\n",
      "Elena Somma vaccination vaccination_6 {'opinion': -0.66, 'attitude': -0.59, 'unc': 0.07000000000000006, 'pri_thr': 0.38, 'pub_thr': 0.6}\n",
      "Elena Somma vaccination vaccination_2 {'opinion': 0.43, 'attitude': 0.18, 'unc': 0.25, 'pri_thr': 0.31, 'pub_thr': 0.6}\n",
      "Elena Somma vaccination vaccination_9 {'opinion': 0.9, 'attitude': 0.78, 'unc': 0.12, 'pri_thr': 0.54, 'pub_thr': 0.6}\n",
      "Elena Somma vaccination vaccination_0 {'opinion': -0.98, 'attitude': -0.66, 'unc': 0.31999999999999995, 'pri_thr': 0.58, 'pub_thr': 0.6}\n",
      "Richard Williams democrat democrat_9 {'opinion': -0.19, 'attitude': -0.67, 'unc': 0.48000000000000004, 'pri_thr': 0.22, 'pub_thr': 0.6}\n",
      "Richard Williams democrat democrat_1 {'opinion': -1.0, 'attitude': -0.52, 'unc': 0.48, 'pri_thr': 0.86, 'pub_thr': 0.6}\n",
      "Richard Williams democrat democrat_6 {'opinion': -0.8, 'attitude': -0.42, 'unc': 0.38000000000000006, 'pri_thr': 0.53, 'pub_thr': 0.6}\n",
      "Richard Williams democrat democrat_5 {'opinion': -0.2, 'attitude': -0.25, 'unc': 0.04999999999999999, 'pri_thr': 0.34, 'pub_thr': 0.6}\n",
      "Richard Williams democrat democrat_10 {'opinion': 0.31, 'attitude': 0.15, 'unc': 0.16, 'pri_thr': 0.71, 'pub_thr': 0.6}\n",
      "Richard Williams democrat democrat_11 {'opinion': 0.09, 'attitude': 0.19, 'unc': 0.1, 'pri_thr': 0.38, 'pub_thr': 0.6}\n",
      "Richard Williams democrat democrat_12 {'opinion': -0.47, 'attitude': -0.68, 'unc': 0.21000000000000008, 'pri_thr': 0.02, 'pub_thr': 0.6}\n",
      "Richard Williams democrat democrat_13 {'opinion': 0.35, 'attitude': -0.03, 'unc': 0.38, 'pri_thr': 0.89, 'pub_thr': 0.6}\n",
      "Richard Williams democrat democrat_14 {'opinion': 0.88, 'attitude': 0.81, 'unc': 0.06999999999999995, 'pri_thr': 0.21, 'pub_thr': 0.6}\n",
      "Fanny Bunning democrat democrat_8 {'opinion': 0.47, 'attitude': 0.03, 'unc': 0.43999999999999995, 'pri_thr': 0.65, 'pub_thr': 0.6}\n",
      "Fanny Bunning democrat democrat_0 {'opinion': 1.0, 'attitude': 0.88, 'unc': 0.12, 'pri_thr': 0.71, 'pub_thr': 0.6}\n",
      "Fanny Bunning democrat democrat_6 {'opinion': 0.75, 'attitude': 0.69, 'unc': 0.06000000000000005, 'pri_thr': 0.03, 'pub_thr': 0.6}\n",
      "Fanny Bunning democrat democrat_7 {'opinion': -0.07, 'attitude': -0.5, 'unc': 0.43, 'pri_thr': 0.95, 'pub_thr': 0.6}\n",
      "Fanny Bunning democrat democrat_4 {'opinion': -1.0, 'attitude': -0.75, 'unc': 0.25, 'pri_thr': 0.54, 'pub_thr': 0.6}\n",
      "Fanny Bunning democrat democrat_5 {'opinion': -1.0, 'attitude': -0.88, 'unc': 0.12, 'pri_thr': 0.47, 'pub_thr': 0.6}\n",
      "Fanny Bunning democrat democrat_10 {'opinion': -0.14, 'attitude': -0.57, 'unc': 0.42999999999999994, 'pri_thr': 0.68, 'pub_thr': 0.6}\n",
      "Fanny Bunning democrat democrat_11 {'opinion': -0.28, 'attitude': -0.29, 'unc': 0.009999999999999953, 'pri_thr': 0.5, 'pub_thr': 0.6}\n",
      "Fanny Bunning democrat democrat_13 {'opinion': 1.0, 'attitude': 0.98, 'unc': 0.020000000000000018, 'pri_thr': 0.25, 'pub_thr': 0.6}\n",
      "Brock Arevalo vaccination vaccination_0 {'opinion': -0.37, 'attitude': -0.36, 'unc': 0.010000000000000009, 'pri_thr': 0.11, 'pub_thr': 0.6}\n",
      "Brock Arevalo democrat democrat_8 {'opinion': 0.56, 'attitude': 0.91, 'unc': 0.35, 'pri_thr': 0.5, 'pub_thr': 0.6}\n",
      "Brock Arevalo democrat democrat_9 {'opinion': -0.46, 'attitude': -0.62, 'unc': 0.15999999999999998, 'pri_thr': 0.76, 'pub_thr': 0.6}\n",
      "Brock Arevalo democrat democrat_0 {'opinion': 0.28, 'attitude': -0.01, 'unc': 0.29000000000000004, 'pri_thr': 0.63, 'pub_thr': 0.6}\n",
      "Brock Arevalo democrat democrat_1 {'opinion': 0.62, 'attitude': 0.65, 'unc': 0.030000000000000027, 'pri_thr': 0.92, 'pub_thr': 0.6}\n",
      "Brock Arevalo democrat democrat_6 {'opinion': -0.87, 'attitude': -0.42, 'unc': 0.45, 'pri_thr': 0.88, 'pub_thr': 0.6}\n",
      "Brock Arevalo democrat democrat_7 {'opinion': 1.0, 'attitude': 0.7, 'unc': 0.30000000000000004, 'pri_thr': 0.63, 'pub_thr': 0.6}\n",
      "Brock Arevalo democrat democrat_5 {'opinion': 0.54, 'attitude': 0.86, 'unc': 0.31999999999999995, 'pri_thr': 0.68, 'pub_thr': 0.6}\n",
      "Brock Arevalo democrat democrat_10 {'opinion': -0.43, 'attitude': -0.49, 'unc': 0.06, 'pri_thr': 0.81, 'pub_thr': 0.6}\n",
      "Brock Arevalo democrat democrat_11 {'opinion': 0.01, 'attitude': -0.26, 'unc': 0.27, 'pri_thr': 0.16, 'pub_thr': 0.6}\n",
      "Brock Arevalo democrat democrat_12 {'opinion': 0.31, 'attitude': 0.62, 'unc': 0.31, 'pri_thr': 0.21, 'pub_thr': 0.6}\n",
      "Brock Arevalo democrat democrat_13 {'opinion': 0.57, 'attitude': 0.43, 'unc': 0.13999999999999996, 'pri_thr': 0.49, 'pub_thr': 0.6}\n",
      "Bradley Penny democrat democrat_8 {'opinion': 0.27, 'attitude': -0.16, 'unc': 0.43000000000000005, 'pri_thr': 0.78, 'pub_thr': 0.6}\n",
      "Bradley Penny democrat democrat_9 {'opinion': 0.83, 'attitude': 0.38, 'unc': 0.44999999999999996, 'pri_thr': 0.08, 'pub_thr': 0.6}\n",
      "Bradley Penny democrat democrat_2 {'opinion': -0.05, 'attitude': -0.17, 'unc': 0.12000000000000001, 'pri_thr': 0.74, 'pub_thr': 0.6}\n",
      "Bradley Penny democrat democrat_0 {'opinion': 0.29, 'attitude': 0.33, 'unc': 0.040000000000000036, 'pri_thr': 0.27, 'pub_thr': 0.6}\n",
      "Bradley Penny democrat democrat_1 {'opinion': -0.36, 'attitude': -0.66, 'unc': 0.30000000000000004, 'pri_thr': 0.56, 'pub_thr': 0.6}\n",
      "Bradley Penny democrat democrat_6 {'opinion': -0.32, 'attitude': -0.38, 'unc': 0.06, 'pri_thr': 0.33, 'pub_thr': 0.6}\n",
      "Bradley Penny democrat democrat_7 {'opinion': -0.61, 'attitude': -0.62, 'unc': 0.010000000000000009, 'pri_thr': 0.95, 'pub_thr': 0.6}\n",
      "Bradley Penny democrat democrat_4 {'opinion': 1.0, 'attitude': 0.81, 'unc': 0.18999999999999995, 'pri_thr': 0.04, 'pub_thr': 0.6}\n",
      "Bradley Penny democrat democrat_10 {'opinion': -0.84, 'attitude': -0.73, 'unc': 0.10999999999999999, 'pri_thr': 0.62, 'pub_thr': 0.6}\n",
      "Bradley Penny democrat democrat_11 {'opinion': -0.62, 'attitude': -0.18, 'unc': 0.44, 'pri_thr': 0.65, 'pub_thr': 0.6}\n",
      "Bradley Penny democrat democrat_12 {'opinion': 1.0, 'attitude': 0.72, 'unc': 0.28, 'pri_thr': 0.41, 'pub_thr': 0.6}\n",
      "Bradley Penny democrat democrat_13 {'opinion': 0.96, 'attitude': 0.63, 'unc': 0.32999999999999996, 'pri_thr': 0.33, 'pub_thr': 0.6}\n",
      "Bradley Penny democrat democrat_14 {'opinion': -0.29, 'attitude': -0.72, 'unc': 0.43, 'pri_thr': 0.64, 'pub_thr': 0.6}\n",
      "Debbie Ragle democrat democrat_8 {'opinion': -0.8, 'attitude': -0.49, 'unc': 0.31000000000000005, 'pri_thr': 0.02, 'pub_thr': 0.6}\n",
      "Debbie Ragle democrat democrat_9 {'opinion': 0.13, 'attitude': 0.57, 'unc': 0.43999999999999995, 'pri_thr': 0.52, 'pub_thr': 0.6}\n",
      "Debbie Ragle democrat democrat_3 {'opinion': 0.1, 'attitude': 0.42, 'unc': 0.31999999999999995, 'pri_thr': 0.21, 'pub_thr': 0.6}\n",
      "Debbie Ragle democrat democrat_1 {'opinion': 0.53, 'attitude': 0.4, 'unc': 0.13, 'pri_thr': 0.18, 'pub_thr': 0.6}\n",
      "Debbie Ragle democrat democrat_7 {'opinion': 0.8, 'attitude': 0.43, 'unc': 0.37000000000000005, 'pri_thr': 0.11, 'pub_thr': 0.6}\n",
      "Debbie Ragle democrat democrat_5 {'opinion': -0.13, 'attitude': 0.01, 'unc': 0.14, 'pri_thr': 0.04, 'pub_thr': 0.6}\n",
      "Debbie Ragle democrat democrat_10 {'opinion': -0.15, 'attitude': 0.28, 'unc': 0.43000000000000005, 'pri_thr': 0.41, 'pub_thr': 0.6}\n",
      "Debbie Ragle democrat democrat_11 {'opinion': 0.17, 'attitude': 0.06, 'unc': 0.11000000000000001, 'pri_thr': 0.05, 'pub_thr': 0.6}\n",
      "Debbie Ragle democrat democrat_12 {'opinion': 0.3, 'attitude': 0.8, 'unc': 0.5, 'pri_thr': 0.07, 'pub_thr': 0.6}\n",
      "Debbie Ragle vaccination vaccination_0 {'opinion': -1.0, 'attitude': -0.78, 'unc': 0.21999999999999997, 'pri_thr': 0.42, 'pub_thr': 0.6}\n",
      "Cleveland Wynder democrat democrat_8 {'opinion': -0.61, 'attitude': -0.2, 'unc': 0.41, 'pri_thr': 0.72, 'pub_thr': 0.6}\n",
      "Cleveland Wynder democrat democrat_9 {'opinion': 0.51, 'attitude': 0.02, 'unc': 0.49, 'pri_thr': 0.81, 'pub_thr': 0.6}\n",
      "Cleveland Wynder democrat democrat_2 {'opinion': -0.66, 'attitude': -0.89, 'unc': 0.22999999999999998, 'pri_thr': 0.66, 'pub_thr': 0.6}\n",
      "Cleveland Wynder democrat democrat_3 {'opinion': 0.9, 'attitude': 0.79, 'unc': 0.10999999999999999, 'pri_thr': 0.99, 'pub_thr': 0.6}\n",
      "Cleveland Wynder democrat democrat_0 {'opinion': -0.68, 'attitude': -0.87, 'unc': 0.18999999999999995, 'pri_thr': 0.43, 'pub_thr': 0.6}\n",
      "Cleveland Wynder democrat democrat_1 {'opinion': 0.16, 'attitude': 0.48, 'unc': 0.31999999999999995, 'pri_thr': 0.48, 'pub_thr': 0.6}\n",
      "Cleveland Wynder democrat democrat_6 {'opinion': 0.34, 'attitude': -0.01, 'unc': 0.35000000000000003, 'pri_thr': 0.15, 'pub_thr': 0.6}\n",
      "Cleveland Wynder democrat democrat_7 {'opinion': -0.01, 'attitude': -0.45, 'unc': 0.44, 'pri_thr': 0.85, 'pub_thr': 0.6}\n",
      "Cleveland Wynder democrat democrat_4 {'opinion': 0.42, 'attitude': -0.03, 'unc': 0.44999999999999996, 'pri_thr': 0.54, 'pub_thr': 0.6}\n",
      "Cleveland Wynder democrat democrat_5 {'opinion': -1.0, 'attitude': -0.77, 'unc': 0.22999999999999998, 'pri_thr': 0.91, 'pub_thr': 0.6}\n",
      "Cleveland Wynder democrat democrat_10 {'opinion': -0.17, 'attitude': -0.03, 'unc': 0.14, 'pri_thr': 0.29, 'pub_thr': 0.6}\n",
      "Cleveland Wynder democrat democrat_11 {'opinion': -0.21, 'attitude': -0.44, 'unc': 0.23, 'pri_thr': 0.71, 'pub_thr': 0.6}\n",
      "Cleveland Wynder democrat democrat_12 {'opinion': 0.07, 'attitude': -0.34, 'unc': 0.41000000000000003, 'pri_thr': 0.29, 'pub_thr': 0.6}\n",
      "Cleveland Wynder democrat democrat_13 {'opinion': 0.65, 'attitude': 0.69, 'unc': 0.039999999999999925, 'pri_thr': 0.68, 'pub_thr': 0.6}\n",
      "Cleveland Wynder democrat democrat_14 {'opinion': 0.49, 'attitude': 0.05, 'unc': 0.44, 'pri_thr': 0.75, 'pub_thr': 0.6}\n",
      "Jennifer Murphy vaccination vaccination_7 {'opinion': -0.17, 'attitude': 0.28, 'unc': 0.45000000000000007, 'pri_thr': 0.23, 'pub_thr': 0.6}\n",
      "Jennifer Murphy vaccination vaccination_6 {'opinion': 0.65, 'attitude': 0.67, 'unc': 0.020000000000000018, 'pri_thr': 0.47, 'pub_thr': 0.6}\n",
      "Jennifer Murphy vaccination vaccination_5 {'opinion': -0.3, 'attitude': 0.17, 'unc': 0.47, 'pri_thr': 0.84, 'pub_thr': 0.6}\n",
      "Jennifer Murphy vaccination vaccination_4 {'opinion': 0.49, 'attitude': 0.24, 'unc': 0.25, 'pri_thr': 0.81, 'pub_thr': 0.6}\n",
      "Jennifer Murphy vaccination vaccination_3 {'opinion': -0.77, 'attitude': -0.63, 'unc': 0.14, 'pri_thr': 0.08, 'pub_thr': 0.6}\n",
      "Jennifer Murphy vaccination vaccination_2 {'opinion': 0.27, 'attitude': 0.46, 'unc': 0.19, 'pri_thr': 0.62, 'pub_thr': 0.6}\n",
      "Jennifer Murphy vaccination vaccination_1 {'opinion': 0.41, 'attitude': 0.11, 'unc': 0.3, 'pri_thr': 0.16, 'pub_thr': 0.6}\n",
      "Sally Collins democrat democrat_8 {'opinion': 0.27, 'attitude': 0.13, 'unc': 0.14, 'pri_thr': 0.38, 'pub_thr': 0.6}\n",
      "Sally Collins democrat democrat_2 {'opinion': -1.0, 'attitude': -0.76, 'unc': 0.24, 'pri_thr': 0.41, 'pub_thr': 0.6}\n",
      "Sally Collins democrat democrat_0 {'opinion': 0.38, 'attitude': 0.45, 'unc': 0.07, 'pri_thr': 0.85, 'pub_thr': 0.6}\n",
      "Sally Collins democrat democrat_1 {'opinion': 0.08, 'attitude': 0.45, 'unc': 0.37, 'pri_thr': 0.39, 'pub_thr': 0.6}\n",
      "Sally Collins democrat democrat_6 {'opinion': 0.06, 'attitude': 0.24, 'unc': 0.18, 'pri_thr': 0.03, 'pub_thr': 0.6}\n",
      "Sally Collins democrat democrat_5 {'opinion': -0.71, 'attitude': -0.77, 'unc': 0.06000000000000005, 'pri_thr': 0.53, 'pub_thr': 0.6}\n",
      "Sally Collins democrat democrat_10 {'opinion': 0.08, 'attitude': -0.39, 'unc': 0.47000000000000003, 'pri_thr': 0.53, 'pub_thr': 0.6}\n",
      "Sally Collins democrat democrat_11 {'opinion': -0.97, 'attitude': -0.89, 'unc': 0.07999999999999996, 'pri_thr': 0.84, 'pub_thr': 0.6}\n",
      "Sally Collins democrat democrat_12 {'opinion': 0.22, 'attitude': 0.67, 'unc': 0.45000000000000007, 'pri_thr': 0.58, 'pub_thr': 0.6}\n",
      "Sally Collins democrat democrat_13 {'opinion': -0.08, 'attitude': 0.27, 'unc': 0.35000000000000003, 'pri_thr': 0.74, 'pub_thr': 0.6}\n",
      "Sally Collins democrat democrat_14 {'opinion': -0.23, 'attitude': -0.09, 'unc': 0.14, 'pri_thr': 0.91, 'pub_thr': 0.6}\n"
     ]
    },
    {
     "data": {
      "text/plain": [
       "{'Area 51': Area 51,\n",
       " 'Atlanta': Atlanta,\n",
       " 'New York': New York,\n",
       " 'Pittsburgh': Pittsburgh,\n",
       " 'Raleigh': Raleigh,\n",
       " 'San Francisco': San Francisco}"
      ]
     },
     "execution_count": 1,
     "metadata": {},
     "output_type": "execute_result"
    }
   ],
   "source": [
    "from World import World\n",
    "world = World()\n",
    "world.towns"
   ]
  },
  {
   "cell_type": "code",
   "execution_count": null,
   "metadata": {
    "collapsed": false
   },
   "outputs": [],
   "source": [
    "len(world.living_population)"
   ]
  },
  {
   "cell_type": "code",
   "execution_count": null,
   "metadata": {
    "collapsed": false
   },
   "outputs": [],
   "source": [
    "world.simulate_time()"
   ]
  },
  {
   "cell_type": "code",
   "execution_count": null,
   "metadata": {
    "collapsed": false,
    "scrolled": false
   },
   "outputs": [],
   "source": [
    "world.towns['New York'].__dict__"
   ]
  },
  {
   "cell_type": "code",
   "execution_count": null,
   "metadata": {
    "collapsed": false
   },
   "outputs": [],
   "source": [
    "world.towns['New York'].citizens[1].__dict__"
   ]
  },
  {
   "cell_type": "code",
   "execution_count": null,
   "metadata": {
    "collapsed": false
   },
   "outputs": [],
   "source": []
  },
  {
   "cell_type": "code",
   "execution_count": null,
   "metadata": {
    "collapsed": false
   },
   "outputs": [],
   "source": [
    "# world.birthdays"
   ]
  },
  {
   "cell_type": "code",
   "execution_count": null,
   "metadata": {
    "collapsed": false
   },
   "outputs": [],
   "source": [
    "world.knowledge.biases['democrat']"
   ]
  },
  {
   "cell_type": "code",
   "execution_count": null,
   "metadata": {
    "collapsed": false
   },
   "outputs": [],
   "source": []
  },
  {
   "cell_type": "markdown",
   "metadata": {},
   "source": [
    "## Generate People"
   ]
  },
  {
   "cell_type": "markdown",
   "metadata": {},
   "source": [
    "Generating a person with some basic random attributes as decided "
   ]
  },
  {
   "cell_type": "code",
   "execution_count": null,
   "metadata": {
    "collapsed": false
   },
   "outputs": [],
   "source": [
    "from Person import Person"
   ]
  },
  {
   "cell_type": "code",
   "execution_count": null,
   "metadata": {
    "collapsed": false
   },
   "outputs": [],
   "source": [
    "p = Person()"
   ]
  },
  {
   "cell_type": "code",
   "execution_count": null,
   "metadata": {
    "collapsed": false
   },
   "outputs": [],
   "source": [
    "world.living_population[0].who_is()"
   ]
  },
  {
   "cell_type": "code",
   "execution_count": null,
   "metadata": {
    "collapsed": false
   },
   "outputs": [],
   "source": [
    "p.aliases"
   ]
  },
  {
   "cell_type": "code",
   "execution_count": null,
   "metadata": {
    "collapsed": false
   },
   "outputs": [],
   "source": [
    "p.last_name = \"Tauro\""
   ]
  },
  {
   "cell_type": "code",
   "execution_count": null,
   "metadata": {
    "collapsed": false
   },
   "outputs": [],
   "source": [
    "p.get_full_name()\n"
   ]
  },
  {
   "cell_type": "code",
   "execution_count": null,
   "metadata": {
    "collapsed": false
   },
   "outputs": [],
   "source": [
    "import random\n",
    "random.random()"
   ]
  },
  {
   "cell_type": "code",
   "execution_count": null,
   "metadata": {
    "collapsed": true
   },
   "outputs": [],
   "source": []
  }
 ],
 "metadata": {
  "kernelspec": {
   "display_name": "Python 2",
   "language": "python",
   "name": "python2"
  },
  "language_info": {
   "codemirror_mode": {
    "name": "ipython",
    "version": 2
   },
   "file_extension": ".py",
   "mimetype": "text/x-python",
   "name": "python",
   "nbconvert_exporter": "python",
   "pygments_lexer": "ipython2",
   "version": "2.7.13"
  }
 },
 "nbformat": 4,
 "nbformat_minor": 2
}
