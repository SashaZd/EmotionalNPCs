{
 "cells": [
  {
   "cell_type": "markdown",
   "metadata": {},
   "source": [
    "## Passsage of Time"
   ]
  },
  {
   "cell_type": "markdown",
   "metadata": {},
   "source": [
    "Testing the passage of time in the simulation using SimPy (?)"
   ]
  },
  {
   "cell_type": "code",
   "execution_count": 1,
   "metadata": {
    "collapsed": false
   },
   "outputs": [],
   "source": [
    "%load_ext autoreload\n",
    "%autoreload 2"
   ]
  },
  {
   "cell_type": "code",
   "execution_count": 5,
   "metadata": {
    "collapsed": false
   },
   "outputs": [],
   "source": [
    "from World import World\n",
    "world = World()"
   ]
  },
  {
   "cell_type": "code",
   "execution_count": null,
   "metadata": {
    "collapsed": false
   },
   "outputs": [],
   "source": [
    "world.simulate_time()"
   ]
  },
  {
   "cell_type": "code",
   "execution_count": 4,
   "metadata": {
    "collapsed": false,
    "scrolled": false
   },
   "outputs": [
    {
     "data": {
      "text/plain": [
       "defaultdict(list,\n",
       "            {(1, 1): [Stanley Cintron],\n",
       "             (1, 2): [Sarah Pride],\n",
       "             (1, 7): [Patricia Lewis],\n",
       "             (1, 8): [Adam Orio],\n",
       "             (1, 10): [Donald Hodges],\n",
       "             (2, 3): [Steve Gioe],\n",
       "             (2, 5): [Otto Garrett],\n",
       "             (2, 6): [Jeffrey Raygoza],\n",
       "             (3, 2): [Adam Denn],\n",
       "             (3, 3): [Kevin Bergseng],\n",
       "             (3, 7): [David Henson],\n",
       "             (4, 10): [Robert Bulle],\n",
       "             (5, 6): [Jennifer Grossi],\n",
       "             (5, 8): [Cynthia Freeman],\n",
       "             (5, 12): [Mary George, Dorothy Short],\n",
       "             (6, 12): [Margaret Chapman, Terrence Jules],\n",
       "             (7, 4): [Michelle Bogle],\n",
       "             (7, 8): [Karen Dessert, Elizabeth Feinstein],\n",
       "             (7, 11): [Laura Best],\n",
       "             (8, 1): [Christopher Gonzales],\n",
       "             (8, 3): [Celia Bell, Monica Thomas],\n",
       "             (8, 5): [Willie Shreve],\n",
       "             (8, 11): [Frances West],\n",
       "             (9, 2): [Billy Novack],\n",
       "             (9, 8): [Patricia Watson],\n",
       "             (10, 3): [Beatrice Ashurst],\n",
       "             (11, 3): [Sally Williams],\n",
       "             (11, 4): [Marilyn Woodruff],\n",
       "             (11, 8): [Kristen Franz],\n",
       "             (11, 12): [William Cameron],\n",
       "             (12, 4): [Edward Williams],\n",
       "             (12, 6): [Marvin Brockway],\n",
       "             (12, 7): [Marie Blockmon, John Olvera],\n",
       "             (13, 2): [James Brooks],\n",
       "             (13, 8): [Charles Riggan],\n",
       "             (13, 10): [Stacey Tanner],\n",
       "             (14, 2): [David Weisgarber],\n",
       "             (14, 4): [Daniel Buck],\n",
       "             (14, 5): [Michael Taylor],\n",
       "             (14, 9): [Carmen Wilson],\n",
       "             (16, 5): [Jackie Kroll],\n",
       "             (16, 7): [Lou Berkowitz],\n",
       "             (16, 9): [Gladys Goodwin],\n",
       "             (17, 2): [Eloise White],\n",
       "             (17, 8): [Nanette Delrio],\n",
       "             (17, 12): [Ryan Mathews, Suzanne Bridgeman],\n",
       "             (18, 3): [Priscilla Richardson, Jessica Bartels],\n",
       "             (18, 5): [Walter Kirby],\n",
       "             (18, 6): [Carrie Edwards],\n",
       "             (18, 7): [Bruce Fleming],\n",
       "             (18, 8): [Beatrice Taylor],\n",
       "             (18, 10): [Herbert Christensen],\n",
       "             (18, 11): [Karla Childers],\n",
       "             (18, 12): [Barbara Gilbert],\n",
       "             (19, 2): [Joseph Gibson],\n",
       "             (19, 3): [Patricia Hackett],\n",
       "             (20, 3): [James Black],\n",
       "             (20, 6): [Kristy Ikeda],\n",
       "             (20, 9): [Janice Hershey],\n",
       "             (20, 10): [Tom Stacy],\n",
       "             (20, 11): [Julia Skousen],\n",
       "             (22, 3): [Bryan Peterson],\n",
       "             (22, 11): [Michael Philbeck],\n",
       "             (22, 12): [Kirk Washinton],\n",
       "             (23, 1): [Ronald Wagner],\n",
       "             (23, 5): [Daniel Johnson],\n",
       "             (23, 7): [James Cantu],\n",
       "             (23, 9): [Brian Mcglone],\n",
       "             (23, 10): [Paul Green],\n",
       "             (25, 2): [Ariel Hart],\n",
       "             (25, 3): [Charles Horvath],\n",
       "             (25, 8): [Sylvia Rigdon],\n",
       "             (25, 11): [Anthony Schleusner],\n",
       "             (25, 12): [Michelle Sol],\n",
       "             (26, 5): [William Williams],\n",
       "             (26, 7): [Larry Clements],\n",
       "             (26, 11): [Stephen Lamm],\n",
       "             (27, 8): [Marisha Moberg],\n",
       "             (27, 9): [Fred Belanger],\n",
       "             (28, 4): [Joseph Pemberton],\n",
       "             (29, 4): [Hugh Meads, Elmer Barnes, Henry Collier],\n",
       "             (29, 7): [Linda Hamilton],\n",
       "             (29, 11): [Jessica Garcia],\n",
       "             (30, 3): [Hiram Riffe],\n",
       "             (30, 7): [Gladys Saravia],\n",
       "             (30, 8): [Donald Andersen, William Marshall],\n",
       "             (30, 9): [Heather Bayard],\n",
       "             (30, 10): [Jacqueline Bruno],\n",
       "             (31, 7): [Brandi Johnson],\n",
       "             (31, 10): [Richard Douglas]})"
      ]
     },
     "execution_count": 4,
     "metadata": {},
     "output_type": "execute_result"
    }
   ],
   "source": [
    "world.birthdays"
   ]
  },
  {
   "cell_type": "code",
   "execution_count": null,
   "metadata": {
    "collapsed": false
   },
   "outputs": [],
   "source": []
  },
  {
   "cell_type": "code",
   "execution_count": null,
   "metadata": {
    "collapsed": false
   },
   "outputs": [],
   "source": []
  },
  {
   "cell_type": "code",
   "execution_count": 3,
   "metadata": {
    "collapsed": false
   },
   "outputs": [
    {
     "data": {
      "text/plain": [
       "[Paul Green,\n",
       " Linda Hamilton,\n",
       " Jessica Garcia,\n",
       " Joseph Pemberton,\n",
       " Anthony Schleusner,\n",
       " Karla Childers,\n",
       " Mary George,\n",
       " Karen Dessert,\n",
       " Gladys Saravia,\n",
       " Nanette Delrio,\n",
       " Hugh Meads,\n",
       " Eloise White,\n",
       " Stacey Tanner,\n",
       " Gladys Goodwin,\n",
       " Lou Berkowitz,\n",
       " Daniel Johnson,\n",
       " Willie Shreve,\n",
       " Joseph Gibson,\n",
       " Cynthia Freeman,\n",
       " Marie Blockmon,\n",
       " Heather Bayard,\n",
       " Kevin Bergseng,\n",
       " Steve Gioe,\n",
       " Jackie Kroll,\n",
       " Ryan Mathews,\n",
       " Janice Hershey,\n",
       " Donald Andersen,\n",
       " Dorothy Short,\n",
       " Marvin Brockway,\n",
       " Robert Bulle,\n",
       " Michelle Sol,\n",
       " Priscilla Richardson,\n",
       " Kirk Washinton,\n",
       " Donald Hodges,\n",
       " Michael Taylor,\n",
       " Sarah Pride,\n",
       " David Henson,\n",
       " Kristy Ikeda,\n",
       " Sally Williams,\n",
       " Tom Stacy,\n",
       " Adam Orio,\n",
       " Bryan Peterson,\n",
       " Larry Clements,\n",
       " Richard Douglas,\n",
       " Stephen Lamm,\n",
       " Brandi Johnson,\n",
       " Margaret Chapman,\n",
       " Billy Novack,\n",
       " James Black,\n",
       " William Williams,\n",
       " Marilyn Woodruff,\n",
       " Kristen Franz,\n",
       " Patricia Lewis,\n",
       " Jacqueline Bruno,\n",
       " Christopher Gonzales,\n",
       " Michelle Bogle,\n",
       " Barbara Gilbert,\n",
       " Michael Philbeck,\n",
       " Terrence Jules,\n",
       " Fred Belanger,\n",
       " William Marshall,\n",
       " Edward Williams,\n",
       " Ariel Hart,\n",
       " Charles Horvath,\n",
       " John Olvera,\n",
       " Sylvia Rigdon,\n",
       " Patricia Hackett,\n",
       " Marisha Moberg,\n",
       " Suzanne Bridgeman,\n",
       " David Weisgarber,\n",
       " James Cantu,\n",
       " Celia Bell,\n",
       " Jeffrey Raygoza,\n",
       " Beatrice Taylor,\n",
       " Laura Best,\n",
       " Brian Mcglone,\n",
       " Frances West,\n",
       " Carrie Edwards,\n",
       " Beatrice Ashurst,\n",
       " Elmer Barnes,\n",
       " Bruce Fleming,\n",
       " Julia Skousen,\n",
       " Otto Garrett,\n",
       " Monica Thomas,\n",
       " James Brooks,\n",
       " Ronald Wagner,\n",
       " Hiram Riffe,\n",
       " Patricia Watson,\n",
       " Charles Riggan,\n",
       " Henry Collier,\n",
       " Walter Kirby,\n",
       " Daniel Buck,\n",
       " Elizabeth Feinstein,\n",
       " Herbert Christensen,\n",
       " Carmen Wilson,\n",
       " Jessica Bartels,\n",
       " Adam Denn,\n",
       " Stanley Cintron,\n",
       " William Cameron,\n",
       " Jennifer Grossi]"
      ]
     },
     "execution_count": 3,
     "metadata": {},
     "output_type": "execute_result"
    }
   ],
   "source": [
    "world.living_population"
   ]
  },
  {
   "cell_type": "code",
   "execution_count": null,
   "metadata": {
    "collapsed": false
   },
   "outputs": [],
   "source": []
  },
  {
   "cell_type": "markdown",
   "metadata": {},
   "source": [
    "## Generate People"
   ]
  },
  {
   "cell_type": "markdown",
   "metadata": {},
   "source": [
    "Generating a person with some basic random attributes as decided "
   ]
  },
  {
   "cell_type": "code",
   "execution_count": null,
   "metadata": {
    "collapsed": false
   },
   "outputs": [],
   "source": [
    "from Person import Person"
   ]
  },
  {
   "cell_type": "code",
   "execution_count": null,
   "metadata": {
    "collapsed": false
   },
   "outputs": [],
   "source": [
    "p = Person()"
   ]
  },
  {
   "cell_type": "code",
   "execution_count": null,
   "metadata": {
    "collapsed": false
   },
   "outputs": [],
   "source": [
    "print p"
   ]
  },
  {
   "cell_type": "code",
   "execution_count": null,
   "metadata": {
    "collapsed": false
   },
   "outputs": [],
   "source": [
    "p.aliases"
   ]
  },
  {
   "cell_type": "code",
   "execution_count": null,
   "metadata": {
    "collapsed": false
   },
   "outputs": [],
   "source": [
    "p.last_name = \"Tauro\""
   ]
  },
  {
   "cell_type": "code",
   "execution_count": null,
   "metadata": {
    "collapsed": false
   },
   "outputs": [],
   "source": [
    "p.get_full_name()\n"
   ]
  },
  {
   "cell_type": "code",
   "execution_count": null,
   "metadata": {
    "collapsed": false
   },
   "outputs": [],
   "source": [
    "import random\n",
    "random.random()"
   ]
  },
  {
   "cell_type": "code",
   "execution_count": null,
   "metadata": {
    "collapsed": true
   },
   "outputs": [],
   "source": []
  }
 ],
 "metadata": {
  "kernelspec": {
   "display_name": "Python 2",
   "language": "python",
   "name": "python2"
  },
  "language_info": {
   "codemirror_mode": {
    "name": "ipython",
    "version": 2
   },
   "file_extension": ".py",
   "mimetype": "text/x-python",
   "name": "python",
   "nbconvert_exporter": "python",
   "pygments_lexer": "ipython2",
   "version": "2.7.13"
  }
 },
 "nbformat": 4,
 "nbformat_minor": 2
}
