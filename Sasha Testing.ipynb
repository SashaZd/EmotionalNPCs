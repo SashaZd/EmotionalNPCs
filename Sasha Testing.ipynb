{
 "cells": [
  {
   "cell_type": "markdown",
   "metadata": {},
   "source": [
    "## Passsage of Time"
   ]
  },
  {
   "cell_type": "markdown",
   "metadata": {},
   "source": [
    "Testing the passage of time in the simulation using SimPy (?)"
   ]
  },
  {
   "cell_type": "code",
   "execution_count": 1,
   "metadata": {
    "collapsed": false
   },
   "outputs": [],
   "source": [
    "%load_ext autoreload\n",
    "%autoreload 2"
   ]
  },
  {
   "cell_type": "code",
   "execution_count": 2,
   "metadata": {
    "collapsed": false
   },
   "outputs": [
    {
     "name": "stdout",
     "output_type": "stream",
     "text": [
      "{'vaccination': vaccination(15 facts), 'heterosexuality': heterosexuality(10 facts), 'abortion': abortion(5 facts), 'democrat': democrat(20 facts), 'death_penalty': death_penalty(5 facts)}\n",
      "Big Bang!\n"
     ]
    },
    {
     "data": {
      "text/plain": [
       "{'Area 51': Area 51,\n",
       " 'Atlanta': Atlanta,\n",
       " 'New York': New York,\n",
       " 'Pittsburgh': Pittsburgh,\n",
       " 'Raleigh': Raleigh,\n",
       " 'San Francisco': San Francisco}"
      ]
     },
     "execution_count": 2,
     "metadata": {},
     "output_type": "execute_result"
    }
   ],
   "source": [
    "from World import World\n",
    "world = World()\n",
    "world.towns"
   ]
  },
  {
   "cell_type": "code",
   "execution_count": 3,
   "metadata": {
    "collapsed": false
   },
   "outputs": [
    {
     "name": "stdout",
     "output_type": "stream",
     "text": [
      "35\n"
     ]
    }
   ],
   "source": [
    "print len(world.living_population)"
   ]
  },
  {
   "cell_type": "code",
   "execution_count": 4,
   "metadata": {
    "collapsed": false
   },
   "outputs": [
    {
     "name": "stdout",
     "output_type": "stream",
     "text": [
      "Simulating 10 years\n",
      "Want to adopt, but no such feature in game yet\n",
      "Want to adopt, but no such feature in game yet\n",
      "Want to adopt, but no such feature in game yet\n",
      "Want to adopt, but no such feature in game yet\n",
      "Want to adopt, but no such feature in game yet\n",
      "For Demo check:  36 Constance Bates vaccination_14\n",
      "For Demo check:  41 Phillip Penn democrat_18\n",
      "For Demo check:  36 Constance Bates democrat_18\n",
      "For Demo check:  41 Phillip Penn vaccination_10\n",
      "For Demo check:  36 Constance Bates vaccination_10\n",
      "For Demo check:  42 Dona Nichols-Rodenberg democrat_11\n",
      "For Demo check:  44 William Espinoza democrat_11\n",
      "For Demo check:  42 Dona Nichols-Rodenberg democrat_18\n",
      "For Demo check:  44 William Espinoza democrat_18\n",
      "For Demo check:  41 Phillip Penn vaccination_12\n",
      "For Demo check:  36 Constance Bates vaccination_12\n",
      "For Demo check:  37 Loretta Williams vaccination_14\n",
      "For Demo check:  39 Ronald Rozzi vaccination_14\n",
      "For Demo check:  42 Dona Nichols-Rodenberg democrat_19\n",
      "For Demo check:  44 William Espinoza democrat_19\n",
      "For Demo check:  45 Patricia Rozzi vaccination_14\n",
      "For Demo check:  45 Patricia Rozzi vaccination_13\n",
      "For Demo check:  46 John Meadows vaccination_13\n",
      "For Demo check:  39 Ronald Rozzi vaccination_13\n",
      "For Demo check:  37 Loretta Williams vaccination_13\n",
      "For Demo check:  41 Phillip Penn vaccination_14\n",
      "For Demo check:  41 Phillip Penn vaccination_13\n",
      "For Demo check:  36 Constance Bates vaccination_13\n",
      "For Demo check:  47 Daniel Nichols-Rodenberg democrat_19\n",
      "For Demo check:  44 William Espinoza democrat_19\n",
      "For Demo check:  42 Dona Nichols-Rodenberg democrat_19\n",
      "For Demo check:  47 Daniel Nichols-Rodenberg democrat_18\n",
      "For Demo check:  48 Roxanne Parsons vaccination_14\n",
      "For Demo check:  38 Virginia Parsons vaccination_14\n",
      "For Demo check:  46 John Meadows vaccination_14\n",
      "For Demo check:  48 Roxanne Parsons vaccination_13\n",
      "For Demo check:  38 Virginia Parsons vaccination_13\n"
     ]
    }
   ],
   "source": [
    "world.simulate_time()"
   ]
  },
  {
   "cell_type": "code",
   "execution_count": null,
   "metadata": {
    "collapsed": false
   },
   "outputs": [],
   "source": [
    "fact = world.knowledge.get_random_fact()\n",
    "print fact"
   ]
  },
  {
   "cell_type": "code",
   "execution_count": null,
   "metadata": {
    "collapsed": false,
    "scrolled": false
   },
   "outputs": [],
   "source": [
    "# world.living_population[40].knowledge.topics.values()[0].facts"
   ]
  },
  {
   "cell_type": "code",
   "execution_count": null,
   "metadata": {
    "collapsed": false
   },
   "outputs": [],
   "source": [
    "world.living_population[55]"
   ]
  },
  {
   "cell_type": "code",
   "execution_count": null,
   "metadata": {
    "collapsed": false
   },
   "outputs": [],
   "source": [
    "# world.towns['Raleigh'].homes[6]['family']=None\n",
    "# world.towns['Raleigh'].homes[6]['occupied']=False"
   ]
  },
  {
   "cell_type": "code",
   "execution_count": null,
   "metadata": {
    "collapsed": false
   },
   "outputs": [],
   "source": [
    "list(world.towns['New York'].schools[0].current_members)[0].__dict__"
   ]
  },
  {
   "cell_type": "code",
   "execution_count": null,
   "metadata": {
    "collapsed": false
   },
   "outputs": [],
   "source": [
    "world.organizations['school'][0].knowledge.get_random_fact().__dict__"
   ]
  },
  {
   "cell_type": "code",
   "execution_count": 8,
   "metadata": {
    "collapsed": false
   },
   "outputs": [
    {
     "data": {
      "text/plain": [
       "[u'24-05-1992 - I was born in Pittsburgh. My mother is Matilda Espinoza.My father is Stephen Espinoza ',\n",
       " 'I met William Espinoza. We discussed democrat_11 for 2 minutes.',\n",
       " 'I met Dona Nichols-Rodenberg. We discussed democrat_11 for 2 minutes.',\n",
       " 'I changed my opinions about democrat_11 after the discussion.',\n",
       " 'I met William Espinoza. We discussed democrat_18 for 7 minutes.',\n",
       " 'I met Dona Nichols-Rodenberg. We discussed democrat_18 for 7 minutes.',\n",
       " 'I changed my opinions about democrat_18 after the discussion.',\n",
       " 'I met William Espinoza. We discussed democrat_18 for 3 minutes.',\n",
       " 'I met Dona Nichols-Rodenberg. We discussed democrat_18 for 3 minutes.',\n",
       " 'I met William Espinoza. We discussed democrat_18 for 2 minutes.',\n",
       " 'I met Dona Nichols-Rodenberg. We discussed democrat_18 for 2 minutes.',\n",
       " 'I met William Espinoza. We discussed democrat_19 for 7 minutes.',\n",
       " 'I met Dona Nichols-Rodenberg. We discussed democrat_19 for 7 minutes.',\n",
       " 'I changed my opinions about democrat_19 after the discussion.',\n",
       " 'I met William Espinoza. We discussed democrat_19 for 5 minutes.',\n",
       " 'I met Dona Nichols-Rodenberg. We discussed democrat_19 for 5 minutes.',\n",
       " 'I met William Espinoza. We discussed democrat_18 for 4 minutes.',\n",
       " 'I met Dona Nichols-Rodenberg. We discussed democrat_18 for 4 minutes.',\n",
       " 'I met William Espinoza. We discussed democrat_18 for 3 minutes.',\n",
       " 'I met Dona Nichols-Rodenberg. We discussed democrat_18 for 3 minutes.',\n",
       " 'I met William Espinoza. We discussed democrat_18 for 9 minutes.',\n",
       " 'I met Dona Nichols-Rodenberg. We discussed democrat_18 for 9 minutes.',\n",
       " 'I met William Espinoza. We discussed democrat_18 for 1 minutes.',\n",
       " 'I met Dona Nichols-Rodenberg. We discussed democrat_18 for 1 minutes.',\n",
       " 'I met William Espinoza. We discussed democrat_19 for 5 minutes.',\n",
       " 'I met Daniel Nichols-Rodenberg. We discussed democrat_19 for 5 minutes.',\n",
       " 'I changed my opinions about democrat_19 after the discussion.',\n",
       " 'I met William Espinoza. We discussed democrat_19 for 7 minutes.',\n",
       " 'I met Dona Nichols-Rodenberg. We discussed democrat_19 for 7 minutes.',\n",
       " 'I met William Espinoza. We discussed democrat_18 for 2 minutes.',\n",
       " 'I met Dona Nichols-Rodenberg. We discussed democrat_18 for 2 minutes.',\n",
       " 'I met William Espinoza. We discussed democrat_18 for 1 minutes.',\n",
       " 'I met Daniel Nichols-Rodenberg. We discussed democrat_18 for 1 minutes.',\n",
       " 'I met William Espinoza. We discussed democrat_18 for 1 minutes.',\n",
       " 'I met Dona Nichols-Rodenberg. We discussed democrat_18 for 1 minutes.',\n",
       " 'I met William Espinoza. We discussed democrat_19 for 1 minutes.',\n",
       " 'I met Daniel Nichols-Rodenberg. We discussed democrat_19 for 1 minutes.',\n",
       " 'I met William Espinoza. We discussed democrat_19 for 3 minutes.',\n",
       " 'I met Daniel Nichols-Rodenberg. We discussed democrat_19 for 3 minutes.',\n",
       " 'I met William Espinoza. We discussed democrat_18 for 9 minutes.',\n",
       " 'I met Dona Nichols-Rodenberg. We discussed democrat_18 for 9 minutes.',\n",
       " 'I met William Espinoza. We discussed democrat_18 for 1 minutes.',\n",
       " 'I met Dona Nichols-Rodenberg. We discussed democrat_18 for 1 minutes.',\n",
       " 'I met William Espinoza. We discussed democrat_18 for 3 minutes.',\n",
       " 'I met Dona Nichols-Rodenberg. We discussed democrat_18 for 3 minutes.',\n",
       " 'I met William Espinoza. We discussed democrat_18 for 2 minutes.',\n",
       " 'I met Daniel Nichols-Rodenberg. We discussed democrat_18 for 2 minutes.',\n",
       " 'I met William Espinoza. We discussed democrat_18 for 4 minutes.',\n",
       " 'I met Daniel Nichols-Rodenberg. We discussed democrat_18 for 4 minutes.',\n",
       " 'I met William Espinoza. We discussed democrat_18 for 9 minutes.',\n",
       " 'I met Dona Nichols-Rodenberg. We discussed democrat_18 for 9 minutes.',\n",
       " 'I met William Espinoza. We discussed democrat_19 for 10 minutes.',\n",
       " 'I met Dona Nichols-Rodenberg. We discussed democrat_19 for 10 minutes.']"
      ]
     },
     "execution_count": 8,
     "metadata": {},
     "output_type": "execute_result"
    }
   ],
   "source": [
    "world.living_population[43].journal"
   ]
  },
  {
   "cell_type": "code",
   "execution_count": 10,
   "metadata": {
    "collapsed": false
   },
   "outputs": [
    {
     "data": {
      "text/plain": [
       "{'historical_opinions': [attitude: -0.1 | opinion: 0.505055171382 | unc: 0.61,\n",
       "  attitude: -0.3 | opinion: 0.26 | unc: 0.56],\n",
       " 'name': 'democrat_19',\n",
       " 'opinion': attitude: 0.04 | opinion: 0.06 | unc: 0.02,\n",
       " 'tag': 'politics',\n",
       " 'topic': 'democrat'}"
      ]
     },
     "execution_count": 10,
     "metadata": {},
     "output_type": "execute_result"
    }
   ],
   "source": [
    "world.living_population[43].knowledge.topics['democrat'].facts['democrat_19'].__dict__"
   ]
  },
  {
   "cell_type": "code",
   "execution_count": null,
   "metadata": {
    "collapsed": true
   },
   "outputs": [],
   "source": []
  },
  {
   "cell_type": "code",
   "execution_count": null,
   "metadata": {
    "collapsed": true
   },
   "outputs": [],
   "source": []
  },
  {
   "cell_type": "code",
   "execution_count": null,
   "metadata": {
    "collapsed": true
   },
   "outputs": [],
   "source": []
  },
  {
   "cell_type": "markdown",
   "metadata": {},
   "source": [
    "## Generate People"
   ]
  },
  {
   "cell_type": "markdown",
   "metadata": {},
   "source": [
    "Generating a person with some basic random attributes as decided "
   ]
  },
  {
   "cell_type": "code",
   "execution_count": null,
   "metadata": {
    "collapsed": false
   },
   "outputs": [],
   "source": [
    "from Person import Person"
   ]
  },
  {
   "cell_type": "code",
   "execution_count": null,
   "metadata": {
    "collapsed": false
   },
   "outputs": [],
   "source": [
    "p = Person()"
   ]
  },
  {
   "cell_type": "code",
   "execution_count": null,
   "metadata": {
    "collapsed": false
   },
   "outputs": [],
   "source": [
    "world.living_population[0].who_is()"
   ]
  },
  {
   "cell_type": "code",
   "execution_count": null,
   "metadata": {
    "collapsed": false
   },
   "outputs": [],
   "source": [
    "p.aliases"
   ]
  },
  {
   "cell_type": "code",
   "execution_count": null,
   "metadata": {
    "collapsed": false
   },
   "outputs": [],
   "source": [
    "p.last_name = \"Tauro\""
   ]
  },
  {
   "cell_type": "code",
   "execution_count": null,
   "metadata": {
    "collapsed": false
   },
   "outputs": [],
   "source": [
    "p.get_full_name()\n"
   ]
  },
  {
   "cell_type": "code",
   "execution_count": null,
   "metadata": {
    "collapsed": true
   },
   "outputs": [],
   "source": []
  },
  {
   "cell_type": "code",
   "execution_count": null,
   "metadata": {
    "collapsed": true
   },
   "outputs": [],
   "source": []
  },
  {
   "cell_type": "code",
   "execution_count": null,
   "metadata": {
    "collapsed": true
   },
   "outputs": [],
   "source": [
    "a = [\n",
    "    ['mathematics_0', 'art_1', 'home_ec_0', 'economics_8', 'literature_5', 'sex_ed_5', 'history_6', 'history_1', 'economics_5'], \n",
    "    ['economics_5', 'history_5', 'economics_8', 'mathematics_7', 'mathematics_0', 'geography_5', 'art_1', 'geography_7', 'geography_0', 'art_6', 'economics_12', 'literature_2', 'sex_ed_5', 'sex_ed_6', 'history_14', 'mathematics_13', 'history_12', 'history_10', 'geography_10', 'home_ec_0', 'home_ec_7', 'home_ec_9', 'history_6', 'history_7', 'history_1', 'commerce_9', 'commerce_14', 'commerce_15', 'commerce_11', 'literature_0', 'economics_13', 'economics_10', 'literature_5', 'economics_14', 'economics_15', 'literature_9']\n",
    "]\n"
   ]
  },
  {
   "cell_type": "code",
   "execution_count": null,
   "metadata": {
    "collapsed": true
   },
   "outputs": [],
   "source": [
    "import random"
   ]
  },
  {
   "cell_type": "code",
   "execution_count": null,
   "metadata": {
    "collapsed": false
   },
   "outputs": [],
   "source": []
  },
  {
   "cell_type": "raw",
   "metadata": {
    "collapsed": false
   },
   "source": []
  },
  {
   "cell_type": "code",
   "execution_count": null,
   "metadata": {
    "collapsed": false
   },
   "outputs": [],
   "source": []
  },
  {
   "cell_type": "code",
   "execution_count": null,
   "metadata": {
    "collapsed": false
   },
   "outputs": [],
   "source": []
  },
  {
   "cell_type": "code",
   "execution_count": null,
   "metadata": {
    "collapsed": true
   },
   "outputs": [],
   "source": []
  }
 ],
 "metadata": {
  "kernelspec": {
   "display_name": "Python 2",
   "language": "python",
   "name": "python2"
  },
  "language_info": {
   "codemirror_mode": {
    "name": "ipython",
    "version": 2
   },
   "file_extension": ".py",
   "mimetype": "text/x-python",
   "name": "python",
   "nbconvert_exporter": "python",
   "pygments_lexer": "ipython2",
   "version": "2.7.13"
  }
 },
 "nbformat": 4,
 "nbformat_minor": 2
}
