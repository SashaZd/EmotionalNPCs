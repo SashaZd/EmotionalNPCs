{
 "cells": [
  {
   "cell_type": "markdown",
   "metadata": {},
   "source": [
    "## Passsage of Time"
   ]
  },
  {
   "cell_type": "markdown",
   "metadata": {},
   "source": [
    "Testing the passage of time in the simulation using SimPy (?)"
   ]
  },
  {
   "cell_type": "code",
   "execution_count": 1,
   "metadata": {
    "collapsed": false
   },
   "outputs": [],
   "source": [
    "%load_ext autoreload\n",
    "%autoreload 2"
   ]
  },
  {
   "cell_type": "code",
   "execution_count": 2,
   "metadata": {
    "collapsed": false
   },
   "outputs": [
    {
     "name": "stdout",
     "output_type": "stream",
     "text": [
      "Big Bang!\n"
     ]
    },
    {
     "data": {
      "text/plain": [
       "{'Area 51': <Town.Town at 0x1111e2890>,\n",
       " 'Atlanta': <Town.Town at 0x1112ce410>,\n",
       " 'New York': <Town.Town at 0x1112ce6d0>,\n",
       " 'Pittsburgh': <Town.Town at 0x1112ce590>,\n",
       " 'Raleigh': <Town.Town at 0x1112046d0>,\n",
       " 'San Francisco': <Town.Town at 0x1112ce850>}"
      ]
     },
     "execution_count": 2,
     "metadata": {},
     "output_type": "execute_result"
    }
   ],
   "source": [
    "from World import World\n",
    "world = World()\n",
    "world.towns"
   ]
  },
  {
   "cell_type": "code",
   "execution_count": null,
   "metadata": {
    "collapsed": false
   },
   "outputs": [],
   "source": [
    "world.simulate_time()"
   ]
  },
  {
   "cell_type": "code",
   "execution_count": null,
   "metadata": {
    "collapsed": false,
    "scrolled": false
   },
   "outputs": [],
   "source": [
    "world.towns['Pittsburgh'].__dict__"
   ]
  },
  {
   "cell_type": "code",
   "execution_count": 3,
   "metadata": {
    "collapsed": false
   },
   "outputs": [
    {
     "data": {
      "text/plain": [
       "{'_Person__age': 24,\n",
       " '_Person__first_name': 'John',\n",
       " '_Person__last_name': 'Taylor-Lewis',\n",
       " 'aliases': {'John Taylor'},\n",
       " 'birth_location': <Town.Town at 0x1111e2890>,\n",
       " 'birthdate': <Arrow [1966-01-01T00:00:00+00:00]>,\n",
       " 'current_location': None,\n",
       " 'current_relationships': {Whitney Taylor-Lewis: (Spouse) - 1},\n",
       " 'events': [<Event.Birth at 0x1112ced50>, <Event.Marriage at 0x1112ff690>],\n",
       " 'father': None,\n",
       " 'flag_activate_school': False,\n",
       " 'flag_activate_university': False,\n",
       " 'flag_sexually_active': False,\n",
       " 'gender': 'male',\n",
       " 'house_number': None,\n",
       " 'id': 2,\n",
       " 'journal': [u'01-01-1990 - I was born in <Town.Town object at 0x1111e2890>. I had no parents. ',\n",
       "  u'30-11-1990 - Got married to Whitney Lewis. ',\n",
       "  u\"30-11-1990 - We hyphenated our names! I'm now Taylor-Lewis \",\n",
       "  u'01-01-1990 - This place is spooky. Moving to a new town, Pittsburgh. '],\n",
       " 'mother': None,\n",
       " 'partner': None,\n",
       " 'past_addresses': [],\n",
       " 'past_relationships': {},\n",
       " 'past_schools': [],\n",
       " 'past_universities': None,\n",
       " 'school': None,\n",
       " 'sexual_preference': 'heterosexual',\n",
       " 'spouse': Whitney Taylor-Lewis,\n",
       " 'town': <Town.Town at 0x1111e2890>,\n",
       " 'university': None,\n",
       " 'world': <World.World at 0x1111e2910>}"
      ]
     },
     "execution_count": 3,
     "metadata": {},
     "output_type": "execute_result"
    }
   ],
   "source": [
    "world.towns['Pittsburgh'].citizens[1].__dict__ "
   ]
  },
  {
   "cell_type": "code",
   "execution_count": null,
   "metadata": {
    "collapsed": false
   },
   "outputs": [],
   "source": [
    "world.organizations['school'][0].__dict__"
   ]
  },
  {
   "cell_type": "code",
   "execution_count": null,
   "metadata": {
    "collapsed": false
   },
   "outputs": [],
   "source": [
    "world.locations"
   ]
  },
  {
   "cell_type": "code",
   "execution_count": null,
   "metadata": {
    "collapsed": false
   },
   "outputs": [],
   "source": []
  },
  {
   "cell_type": "code",
   "execution_count": null,
   "metadata": {
    "collapsed": false
   },
   "outputs": [],
   "source": []
  },
  {
   "cell_type": "markdown",
   "metadata": {},
   "source": [
    "## Generate People"
   ]
  },
  {
   "cell_type": "markdown",
   "metadata": {},
   "source": [
    "Generating a person with some basic random attributes as decided "
   ]
  },
  {
   "cell_type": "code",
   "execution_count": null,
   "metadata": {
    "collapsed": false
   },
   "outputs": [],
   "source": [
    "from Person import Person"
   ]
  },
  {
   "cell_type": "code",
   "execution_count": null,
   "metadata": {
    "collapsed": false
   },
   "outputs": [],
   "source": [
    "p = Person()"
   ]
  },
  {
   "cell_type": "code",
   "execution_count": null,
   "metadata": {
    "collapsed": false
   },
   "outputs": [],
   "source": [
    "world.living_population[0].who_is()"
   ]
  },
  {
   "cell_type": "code",
   "execution_count": null,
   "metadata": {
    "collapsed": false
   },
   "outputs": [],
   "source": [
    "p.aliases"
   ]
  },
  {
   "cell_type": "code",
   "execution_count": null,
   "metadata": {
    "collapsed": false
   },
   "outputs": [],
   "source": [
    "p.last_name = \"Tauro\""
   ]
  },
  {
   "cell_type": "code",
   "execution_count": null,
   "metadata": {
    "collapsed": false
   },
   "outputs": [],
   "source": [
    "p.get_full_name()\n"
   ]
  },
  {
   "cell_type": "code",
   "execution_count": null,
   "metadata": {
    "collapsed": false
   },
   "outputs": [],
   "source": [
    "import random\n",
    "random.random()"
   ]
  },
  {
   "cell_type": "code",
   "execution_count": null,
   "metadata": {
    "collapsed": true
   },
   "outputs": [],
   "source": []
  }
 ],
 "metadata": {
  "kernelspec": {
   "display_name": "Python 2",
   "language": "python",
   "name": "python2"
  },
  "language_info": {
   "codemirror_mode": {
    "name": "ipython",
    "version": 2
   },
   "file_extension": ".py",
   "mimetype": "text/x-python",
   "name": "python",
   "nbconvert_exporter": "python",
   "pygments_lexer": "ipython2",
   "version": "2.7.13"
  }
 },
 "nbformat": 4,
 "nbformat_minor": 2
}
