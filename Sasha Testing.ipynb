{
 "cells": [
  {
   "cell_type": "markdown",
   "metadata": {},
   "source": [
    "## Passsage of Time"
   ]
  },
  {
   "cell_type": "markdown",
   "metadata": {},
   "source": [
    "Testing the passage of time in the simulation using Simpy (?)"
   ]
  },
  {
   "cell_type": "code",
   "execution_count": 1,
   "metadata": {
    "collapsed": false
   },
   "outputs": [],
   "source": [
    "%load_ext autoreload\n",
    "%autoreload 2"
   ]
  },
  {
   "cell_type": "code",
   "execution_count": 3,
   "metadata": {
    "collapsed": false
   },
   "outputs": [],
   "source": [
    "from World import World"
   ]
  },
  {
   "cell_type": "code",
   "execution_count": 4,
   "metadata": {
    "collapsed": false
   },
   "outputs": [],
   "source": [
    "world = World()"
   ]
  },
  {
   "cell_type": "code",
   "execution_count": 7,
   "metadata": {
    "collapsed": false
   },
   "outputs": [
    {
     "name": "stdout",
     "output_type": "stream",
     "text": [
      "Year passed:  31-12-2015\n",
      "Year passed:  31-12-2016\n",
      "Year passed:  31-12-2017\n",
      "Year passed:  31-12-2018\n",
      "Year passed:  31-12-2019\n",
      "Year passed:  31-12-2020\n",
      "Year passed:  31-12-2021\n",
      "Year passed:  31-12-2022\n",
      "Year passed:  31-12-2023\n",
      "Year passed:  31-12-2024\n",
      "Year passed:  31-12-2025\n",
      "Year passed:  31-12-2026\n",
      "Year passed:  31-12-2027\n",
      "Year passed:  31-12-2028\n",
      "Year passed:  31-12-2029\n",
      "Year passed:  31-12-2030\n",
      "Year passed:  31-12-2031\n",
      "Year passed:  31-12-2032\n",
      "Year passed:  31-12-2033\n",
      "Year passed:  31-12-2034\n",
      "Year passed:  31-12-2035\n",
      "Year passed:  31-12-2036\n",
      "Year passed:  31-12-2037\n",
      "Year passed:  31-12-2038\n",
      "Year passed:  31-12-2039\n",
      "Year passed:  31-12-2040\n",
      "Year passed:  31-12-2041\n",
      "Year passed:  31-12-2042\n",
      "Year passed:  31-12-2043\n",
      "Year passed:  31-12-2044\n",
      "Year passed:  31-12-2045\n",
      "Year passed:  31-12-2046\n",
      "Year passed:  31-12-2047\n",
      "Year passed:  31-12-2048\n",
      "Year passed:  31-12-2049\n",
      "Year passed:  31-12-2050\n",
      "Year passed:  31-12-2051\n",
      "Year passed:  31-12-2052\n",
      "Year passed:  31-12-2053\n",
      "Year passed:  31-12-2054\n",
      "Year passed:  31-12-2055\n",
      "Year passed:  31-12-2056\n",
      "Year passed:  31-12-2057\n",
      "Year passed:  31-12-2058\n",
      "Year passed:  31-12-2059\n",
      "Year passed:  31-12-2060\n",
      "Year passed:  31-12-2061\n",
      "Year passed:  31-12-2062\n",
      "Year passed:  31-12-2063\n"
     ]
    }
   ],
   "source": [
    "world.simulate_time()"
   ]
  },
  {
   "cell_type": "code",
   "execution_count": null,
   "metadata": {
    "collapsed": false,
    "scrolled": false
   },
   "outputs": [],
   "source": []
  },
  {
   "cell_type": "markdown",
   "metadata": {},
   "source": [
    "## Generate People"
   ]
  },
  {
   "cell_type": "markdown",
   "metadata": {},
   "source": [
    "Generating a person with some basic random attributes as decided "
   ]
  },
  {
   "cell_type": "code",
   "execution_count": 43,
   "metadata": {
    "collapsed": false
   },
   "outputs": [],
   "source": [
    "from Person import Person"
   ]
  },
  {
   "cell_type": "code",
   "execution_count": 44,
   "metadata": {
    "collapsed": false
   },
   "outputs": [],
   "source": [
    "p = Person(1)"
   ]
  },
  {
   "cell_type": "code",
   "execution_count": 47,
   "metadata": {
    "collapsed": false
   },
   "outputs": [
    {
     "name": "stdout",
     "output_type": "stream",
     "text": [
      "\n",
      " id: 1,\n",
      " age: 0,\n",
      " gender: female,\n",
      " name: Irene Fischer,\n",
      " parents: None\n",
      "\t\t\t\n"
     ]
    }
   ],
   "source": [
    "print p"
   ]
  },
  {
   "cell_type": "code",
   "execution_count": null,
   "metadata": {
    "collapsed": true
   },
   "outputs": [],
   "source": []
  }
 ],
 "metadata": {
  "kernelspec": {
   "display_name": "Python 2",
   "language": "python",
   "name": "python2"
  },
  "language_info": {
   "codemirror_mode": {
    "name": "ipython",
    "version": 2
   },
   "file_extension": ".py",
   "mimetype": "text/x-python",
   "name": "python",
   "nbconvert_exporter": "python",
   "pygments_lexer": "ipython2",
   "version": "2.7.13"
  }
 },
 "nbformat": 4,
 "nbformat_minor": 2
}
