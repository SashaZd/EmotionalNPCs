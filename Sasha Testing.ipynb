{
 "cells": [
  {
   "cell_type": "markdown",
   "metadata": {},
   "source": [
    "## Passsage of Time"
   ]
  },
  {
   "cell_type": "markdown",
   "metadata": {},
   "source": [
    "Testing the passage of time in the simulation using SimPy (?)"
   ]
  },
  {
   "cell_type": "code",
   "execution_count": 1,
   "metadata": {
    "collapsed": false
   },
   "outputs": [],
   "source": [
    "%load_ext autoreload\n",
    "%autoreload 2"
   ]
  },
  {
   "cell_type": "code",
   "execution_count": 2,
   "metadata": {
    "collapsed": false
   },
   "outputs": [],
   "source": [
    "from World import World\n",
    "world = World()"
   ]
  },
  {
   "cell_type": "code",
   "execution_count": 4,
   "metadata": {
    "collapsed": false
   },
   "outputs": [
    {
     "name": "stdout",
     "output_type": "stream",
     "text": [
      "[24, 3, 'Jeanette Royston']\n",
      "[17, 6, 'Ed Colantro']\n",
      "[7, 7, 'Earline Ivancic']\n",
      "[19, 7, 'June Yamashita']\n",
      "[7, 12, 'Patricia Bartlett']\n",
      "Year:  2015  | Children born:  5\n",
      "Jeanette Royston\n",
      "Ed Colantro\n",
      "Earline Ivancic\n",
      "June Yamashita\n",
      "Patricia Bartlett\n",
      "[20, 7, 'Sandra Hunter']\n",
      "[1, 8, 'David Bixby']\n",
      "Year:  2016  | Children born:  2\n",
      "Sandra Hunter\n",
      "David Bixby\n",
      "[18, 3, 'James Collins']\n",
      "[14, 6, 'Bennett Caro']\n",
      "[8, 9, 'Gary Ullman']\n",
      "[29, 12, 'Michael Mejia']\n",
      "Year:  2017  | Children born:  4\n",
      "James Collins\n",
      "Bennett Caro\n",
      "Gary Ullman\n",
      "Michael Mejia\n",
      "[21, 4, 'Margarette Kimes']\n",
      "[9, 6, 'William Weiss']\n",
      "Year:  2018  | Children born:  2\n",
      "Margarette Kimes\n",
      "William Weiss\n",
      "[28, 6, 'Martha Miller']\n",
      "[15, 7, 'Sarah Pullen']\n",
      "[13, 11, 'Charles Eddy']\n",
      "[27, 11, 'Jerry Cruz']\n",
      "Year:  2019  | Children born:  4\n",
      "Martha Miller\n",
      "Sarah Pullen\n",
      "Charles Eddy\n",
      "Jerry Cruz\n"
     ]
    }
   ],
   "source": [
    "world.simulate_time()"
   ]
  },
  {
   "cell_type": "code",
   "execution_count": 6,
   "metadata": {
    "collapsed": false,
    "scrolled": false
   },
   "outputs": [
    {
     "data": {
      "text/plain": [
       "defaultdict(list,\n",
       "            {(1, 8): ['David Bixby'],\n",
       "             (7, 7): ['Earline Ivancic'],\n",
       "             (7, 12): ['Patricia Bartlett'],\n",
       "             (8, 9): ['Gary Ullman'],\n",
       "             (9, 6): ['William Weiss'],\n",
       "             (13, 11): ['Charles Eddy'],\n",
       "             (14, 6): ['Bennett Caro'],\n",
       "             (15, 7): ['Sarah Pullen'],\n",
       "             (17, 6): ['Ed Colantro'],\n",
       "             (18, 3): ['James Collins'],\n",
       "             (19, 7): ['June Yamashita'],\n",
       "             (20, 7): ['Sandra Hunter'],\n",
       "             (21, 4): ['Margarette Kimes'],\n",
       "             (24, 3): ['Jeanette Royston'],\n",
       "             (27, 11): ['Jerry Cruz'],\n",
       "             (28, 6): ['Martha Miller'],\n",
       "             (29, 12): ['Michael Mejia']})"
      ]
     },
     "execution_count": 6,
     "metadata": {},
     "output_type": "execute_result"
    }
   ],
   "source": [
    "world.birthdays"
   ]
  },
  {
   "cell_type": "code",
   "execution_count": 5,
   "metadata": {
    "collapsed": false
   },
   "outputs": [
    {
     "data": {
      "text/plain": [
       "[Jeanette Royston,\n",
       " Ed Colantro,\n",
       " Earline Ivancic,\n",
       " June Yamashita,\n",
       " Patricia Bartlett,\n",
       " Sandra Hunter,\n",
       " David Bixby,\n",
       " James Collins,\n",
       " Bennett Caro,\n",
       " Gary Ullman,\n",
       " Michael Mejia,\n",
       " Margarette Kimes,\n",
       " William Weiss,\n",
       " Martha Miller,\n",
       " Sarah Pullen,\n",
       " Charles Eddy,\n",
       " Jerry Cruz]"
      ]
     },
     "execution_count": 5,
     "metadata": {},
     "output_type": "execute_result"
    }
   ],
   "source": [
    "world.living_population"
   ]
  },
  {
   "cell_type": "code",
   "execution_count": null,
   "metadata": {
    "collapsed": true
   },
   "outputs": [],
   "source": []
  },
  {
   "cell_type": "code",
   "execution_count": null,
   "metadata": {
    "collapsed": true
   },
   "outputs": [],
   "source": []
  },
  {
   "cell_type": "code",
   "execution_count": null,
   "metadata": {
    "collapsed": true
   },
   "outputs": [],
   "source": []
  },
  {
   "cell_type": "markdown",
   "metadata": {},
   "source": [
    "## Generate People"
   ]
  },
  {
   "cell_type": "markdown",
   "metadata": {},
   "source": [
    "Generating a person with some basic random attributes as decided "
   ]
  },
  {
   "cell_type": "code",
   "execution_count": null,
   "metadata": {
    "collapsed": false
   },
   "outputs": [],
   "source": [
    "from Person import Person"
   ]
  },
  {
   "cell_type": "code",
   "execution_count": null,
   "metadata": {
    "collapsed": false
   },
   "outputs": [],
   "source": [
    "p = Person()"
   ]
  },
  {
   "cell_type": "code",
   "execution_count": null,
   "metadata": {
    "collapsed": false
   },
   "outputs": [],
   "source": [
    "print p"
   ]
  },
  {
   "cell_type": "code",
   "execution_count": null,
   "metadata": {
    "collapsed": false
   },
   "outputs": [],
   "source": [
    "p.aliases"
   ]
  },
  {
   "cell_type": "code",
   "execution_count": null,
   "metadata": {
    "collapsed": false
   },
   "outputs": [],
   "source": [
    "p.last_name = \"Tauro\""
   ]
  },
  {
   "cell_type": "code",
   "execution_count": null,
   "metadata": {
    "collapsed": false
   },
   "outputs": [],
   "source": [
    "p.get_full_name()\n"
   ]
  },
  {
   "cell_type": "code",
   "execution_count": null,
   "metadata": {
    "collapsed": false
   },
   "outputs": [],
   "source": [
    "import random\n",
    "random.random()"
   ]
  },
  {
   "cell_type": "code",
   "execution_count": null,
   "metadata": {
    "collapsed": true
   },
   "outputs": [],
   "source": []
  }
 ],
 "metadata": {
  "kernelspec": {
   "display_name": "Python 2",
   "language": "python",
   "name": "python2"
  },
  "language_info": {
   "codemirror_mode": {
    "name": "ipython",
    "version": 2
   },
   "file_extension": ".py",
   "mimetype": "text/x-python",
   "name": "python",
   "nbconvert_exporter": "python",
   "pygments_lexer": "ipython2",
   "version": "2.7.13"
  }
 },
 "nbformat": 4,
 "nbformat_minor": 2
}
