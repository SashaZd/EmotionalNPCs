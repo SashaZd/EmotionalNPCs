{
 "cells": [
  {
   "cell_type": "markdown",
   "metadata": {},
   "source": [
    "## Passsage of Time"
   ]
  },
  {
   "cell_type": "markdown",
   "metadata": {},
   "source": [
    "Testing the passage of time in the simulation using SimPy (?)"
   ]
  },
  {
   "cell_type": "code",
   "execution_count": null,
   "metadata": {
    "collapsed": false
   },
   "outputs": [],
   "source": [
    "# %load_ext autoreload\n",
    "# %autoreload 2"
   ]
  },
  {
   "cell_type": "code",
   "execution_count": 1,
   "metadata": {
    "collapsed": false
   },
   "outputs": [
    {
     "name": "stdout",
     "output_type": "stream",
     "text": [
      "Big Bang!\n"
     ]
    },
    {
     "data": {
      "text/plain": [
       "{'Area 51': Area 51,\n",
       " 'Atlanta': Atlanta,\n",
       " 'New York': New York,\n",
       " 'Pittsburgh': Pittsburgh,\n",
       " 'Raleigh': Raleigh,\n",
       " 'San Francisco': San Francisco}"
      ]
     },
     "execution_count": 1,
     "metadata": {},
     "output_type": "execute_result"
    }
   ],
   "source": [
    "from World import World\n",
    "world = World()\n",
    "world.towns"
   ]
  },
  {
   "cell_type": "code",
   "execution_count": 2,
   "metadata": {
    "collapsed": false
   },
   "outputs": [
    {
     "name": "stdout",
     "output_type": "stream",
     "text": [
      "30\n"
     ]
    }
   ],
   "source": [
    "print len(world.living_population)\n",
    "# world.living_population"
   ]
  },
  {
   "cell_type": "code",
   "execution_count": null,
   "metadata": {
    "collapsed": false
   },
   "outputs": [],
   "source": [
    "world.simulate_time()"
   ]
  },
  {
   "cell_type": "code",
   "execution_count": null,
   "metadata": {
    "collapsed": false,
    "scrolled": false
   },
   "outputs": [],
   "source": [
    "world.towns['Raleigh'].__dict__"
   ]
  },
  {
   "cell_type": "code",
   "execution_count": null,
   "metadata": {
    "collapsed": false
   },
   "outputs": [],
   "source": [
    "world.towns['New York']"
   ]
  },
  {
   "cell_type": "code",
   "execution_count": null,
   "metadata": {
    "collapsed": false
   },
   "outputs": [],
   "source": [
    "# world.towns['Raleigh'].homes[6]['family']=None\n",
    "# world.towns['Raleigh'].homes[6]['occupied']=False"
   ]
  },
  {
   "cell_type": "code",
   "execution_count": 4,
   "metadata": {
    "collapsed": false
   },
   "outputs": [
    {
     "data": {
      "text/plain": [
       "defaultdict(dict,\n",
       "            {'democrat': {'facts': [{'attitude': 0.11,\n",
       "                'opinion': 0.41,\n",
       "                'pri_thr': 0.53,\n",
       "                'pub_thr': 0.6,\n",
       "                'unc': 0.3},\n",
       "               {'attitude': 0.64,\n",
       "                'opinion': 0.82,\n",
       "                'pri_thr': 0.73,\n",
       "                'pub_thr': 0.6,\n",
       "                'unc': 0.18},\n",
       "               {'attitude': -0.33,\n",
       "                'opinion': -0.46,\n",
       "                'pri_thr': 0.95,\n",
       "                'pub_thr': 0.6,\n",
       "                'unc': 0.13},\n",
       "               {'attitude': -0.43,\n",
       "                'opinion': -0.48,\n",
       "                'pri_thr': 0.76,\n",
       "                'pub_thr': 0.6,\n",
       "                'unc': 0.05}],\n",
       "              'representative_attitude': 0.07,\n",
       "              'representative_opinion': 0.07,\n",
       "              'representative_unc': 0.08},\n",
       "             'vaccination': {'facts': [{'attitude': 0.88,\n",
       "                'opinion': 0.45,\n",
       "                'pri_thr': 0.22,\n",
       "                'pub_thr': 0.6,\n",
       "                'unc': 0.43},\n",
       "               {'attitude': 0.92,\n",
       "                'opinion': 0.42,\n",
       "                'pri_thr': 0.09,\n",
       "                'pub_thr': 0.6,\n",
       "                'unc': 0.5},\n",
       "               {'attitude': 0.08,\n",
       "                'opinion': 0.38,\n",
       "                'pri_thr': 0.93,\n",
       "                'pub_thr': 0.6,\n",
       "                'unc': 0.3},\n",
       "               {'attitude': -0.35,\n",
       "                'opinion': -0.83,\n",
       "                'pri_thr': 0.28,\n",
       "                'pub_thr': 0.6,\n",
       "                'unc': 0.48},\n",
       "               {'attitude': 0.39,\n",
       "                'opinion': 0.64,\n",
       "                'pri_thr': 0.25,\n",
       "                'pub_thr': 0.6,\n",
       "                'unc': 0.25},\n",
       "               {'attitude': -0.68,\n",
       "                'opinion': -0.33,\n",
       "                'pri_thr': 0.26,\n",
       "                'pub_thr': 0.6,\n",
       "                'unc': 0.35},\n",
       "               {'attitude': 0.48,\n",
       "                'opinion': 0.68,\n",
       "                'pri_thr': 0.12,\n",
       "                'pub_thr': 0.6,\n",
       "                'unc': 0.2},\n",
       "               {'attitude': 0.16,\n",
       "                'opinion': 0.29,\n",
       "                'pri_thr': 0.21,\n",
       "                'pub_thr': 0.6,\n",
       "                'unc': 0.13},\n",
       "               {'attitude': -0.35,\n",
       "                'opinion': -0.58,\n",
       "                'pri_thr': 0.51,\n",
       "                'pub_thr': 0.6,\n",
       "                'unc': 0.23}],\n",
       "              'representative_attitude': 0.12,\n",
       "              'representative_opinion': 0.12,\n",
       "              'representative_unc': 0.05}})"
      ]
     },
     "execution_count": 4,
     "metadata": {},
     "output_type": "execute_result"
    }
   ],
   "source": [
    "world.towns['Raleigh'].citizens[2].knowledge"
   ]
  },
  {
   "cell_type": "code",
   "execution_count": null,
   "metadata": {
    "collapsed": false
   },
   "outputs": [],
   "source": [
    "world.knowledge.biases['democrat']"
   ]
  },
  {
   "cell_type": "code",
   "execution_count": null,
   "metadata": {
    "collapsed": false
   },
   "outputs": [],
   "source": []
  },
  {
   "cell_type": "markdown",
   "metadata": {},
   "source": [
    "## Generate People"
   ]
  },
  {
   "cell_type": "markdown",
   "metadata": {},
   "source": [
    "Generating a person with some basic random attributes as decided "
   ]
  },
  {
   "cell_type": "code",
   "execution_count": null,
   "metadata": {
    "collapsed": false
   },
   "outputs": [],
   "source": [
    "from Person import Person"
   ]
  },
  {
   "cell_type": "code",
   "execution_count": null,
   "metadata": {
    "collapsed": false
   },
   "outputs": [],
   "source": [
    "p = Person()"
   ]
  },
  {
   "cell_type": "code",
   "execution_count": null,
   "metadata": {
    "collapsed": false
   },
   "outputs": [],
   "source": [
    "world.living_population[0].who_is()"
   ]
  },
  {
   "cell_type": "code",
   "execution_count": null,
   "metadata": {
    "collapsed": false
   },
   "outputs": [],
   "source": [
    "p.aliases"
   ]
  },
  {
   "cell_type": "code",
   "execution_count": null,
   "metadata": {
    "collapsed": false
   },
   "outputs": [],
   "source": [
    "p.last_name = \"Tauro\""
   ]
  },
  {
   "cell_type": "code",
   "execution_count": null,
   "metadata": {
    "collapsed": false
   },
   "outputs": [],
   "source": [
    "p.get_full_name()\n"
   ]
  },
  {
   "cell_type": "code",
   "execution_count": null,
   "metadata": {
    "collapsed": false
   },
   "outputs": [],
   "source": [
    "import random\n",
    "random.random()"
   ]
  },
  {
   "cell_type": "code",
   "execution_count": null,
   "metadata": {
    "collapsed": true
   },
   "outputs": [],
   "source": []
  }
 ],
 "metadata": {
  "kernelspec": {
   "display_name": "Python 2",
   "language": "python",
   "name": "python2"
  },
  "language_info": {
   "codemirror_mode": {
    "name": "ipython",
    "version": 2
   },
   "file_extension": ".py",
   "mimetype": "text/x-python",
   "name": "python",
   "nbconvert_exporter": "python",
   "pygments_lexer": "ipython2",
   "version": "2.7.13"
  }
 },
 "nbformat": 4,
 "nbformat_minor": 2
}
