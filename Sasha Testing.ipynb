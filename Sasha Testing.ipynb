{
 "cells": [
  {
   "cell_type": "markdown",
   "metadata": {},
   "source": [
    "## Passsage of Time"
   ]
  },
  {
   "cell_type": "markdown",
   "metadata": {},
   "source": [
    "Testing the passage of time in the simulation using Simpy (?)"
   ]
  },
  {
   "cell_type": "code",
   "execution_count": 7,
   "metadata": {
    "collapsed": false
   },
   "outputs": [
    {
     "name": "stdout",
     "output_type": "stream",
     "text": [
      "The autoreload extension is already loaded. To reload it, use:\n",
      "  %reload_ext autoreload\n"
     ]
    }
   ],
   "source": [
    "%load_ext autoreload\n",
    "%autoreload 2"
   ]
  },
  {
   "cell_type": "code",
   "execution_count": 8,
   "metadata": {
    "collapsed": false
   },
   "outputs": [],
   "source": [
    "from World import World\n",
    "world = World()"
   ]
  },
  {
   "cell_type": "code",
   "execution_count": 9,
   "metadata": {
    "collapsed": false
   },
   "outputs": [
    {
     "name": "stdout",
     "output_type": "stream",
     "text": [
      "Year:  2015  | Children born:  5\n",
      "Chad Bailey\n",
      "Michael Lavoy\n",
      "Darline Weed\n",
      "Dennis Strand\n",
      "Blake Ellefson\n",
      "Year:  2016  | Children born:  6\n",
      "Shirley Chandler\n",
      "Robert Mahaffy\n",
      "Michael Brown\n",
      "Lynn Corlew\n",
      "Stephen Beasley\n",
      "Mary Garner\n",
      "Year:  2017  | Children born:  4\n",
      "Michael Branner\n",
      "Johnnie Boyd\n",
      "Robert Bise\n",
      "Marvin Simm\n",
      "Year:  2018  | Children born:  4\n",
      "Oscar Bunch\n",
      "Reba Fahey\n",
      "Sharon Krueger\n",
      "David Brake\n"
     ]
    }
   ],
   "source": [
    "world.simulate_time()"
   ]
  },
  {
   "cell_type": "code",
   "execution_count": 6,
   "metadata": {
    "collapsed": false,
    "scrolled": false
   },
   "outputs": [
    {
     "name": "stdout",
     "output_type": "stream",
     "text": [
      "Wendell Holloway\n",
      "Charlie Herndon\n",
      "Gabriel Kidd\n",
      "Tamara Garvin\n",
      "Kenneth Graybill\n",
      "John Pishko\n",
      "Maurice Simmons\n",
      "Lucy Crawford\n",
      "Cary Rodriguez\n",
      "Joseph Woodruff\n",
      "Mamie Hardinger\n",
      "Christian Decker\n",
      "Thomas Zamudio\n",
      "Tameka Bradford\n",
      "Jackie Vega\n",
      "Sandra Madison\n",
      "Sue Simpson\n",
      "Lora Burridge\n",
      "Daniel Estes\n",
      "Timothy Ritter\n",
      "Kimberly Sughrue\n",
      "Rachelle Nelson\n",
      "Launa Hogan\n",
      "Malissa Zuleger\n",
      "John Patel\n",
      "Daniel Norris\n",
      "Paul Knight\n",
      "Amanda Kaye\n",
      "Jason Heinz\n",
      "Vicki Morgan\n",
      "Thomas Gibson\n",
      "Rosa Midgett\n",
      "Russell Becker\n",
      "Kathy Aiello\n",
      "Dan Berry\n",
      "Charles Godfrey\n",
      "Jennifer Butler\n",
      "Amy Blackstock\n",
      "Deborah Simmons\n",
      "Jean Slater\n",
      "Roberta Gokey\n"
     ]
    }
   ],
   "source": [
    "# for person in world.living_population:\n",
    "#     print person"
   ]
  },
  {
   "cell_type": "markdown",
   "metadata": {},
   "source": [
    "## Generate People"
   ]
  },
  {
   "cell_type": "markdown",
   "metadata": {},
   "source": [
    "Generating a person with some basic random attributes as decided "
   ]
  },
  {
   "cell_type": "code",
   "execution_count": null,
   "metadata": {
    "collapsed": false
   },
   "outputs": [],
   "source": [
    "from Person import Person"
   ]
  },
  {
   "cell_type": "code",
   "execution_count": null,
   "metadata": {
    "collapsed": false
   },
   "outputs": [],
   "source": [
    "p = Person()"
   ]
  },
  {
   "cell_type": "code",
   "execution_count": null,
   "metadata": {
    "collapsed": false
   },
   "outputs": [],
   "source": [
    "print p"
   ]
  },
  {
   "cell_type": "code",
   "execution_count": null,
   "metadata": {
    "collapsed": false
   },
   "outputs": [],
   "source": [
    "p.aliases"
   ]
  },
  {
   "cell_type": "code",
   "execution_count": null,
   "metadata": {
    "collapsed": false
   },
   "outputs": [],
   "source": [
    "p.last_name = \"Tauro\""
   ]
  },
  {
   "cell_type": "code",
   "execution_count": null,
   "metadata": {
    "collapsed": false
   },
   "outputs": [],
   "source": [
    "p.get_full_name()\n"
   ]
  },
  {
   "cell_type": "code",
   "execution_count": null,
   "metadata": {
    "collapsed": false
   },
   "outputs": [],
   "source": [
    "import random\n",
    "random.random()"
   ]
  },
  {
   "cell_type": "code",
   "execution_count": null,
   "metadata": {
    "collapsed": true
   },
   "outputs": [],
   "source": []
  }
 ],
 "metadata": {
  "kernelspec": {
   "display_name": "Python 2",
   "language": "python",
   "name": "python2"
  },
  "language_info": {
   "codemirror_mode": {
    "name": "ipython",
    "version": 2
   },
   "file_extension": ".py",
   "mimetype": "text/x-python",
   "name": "python",
   "nbconvert_exporter": "python",
   "pygments_lexer": "ipython2",
   "version": "2.7.13"
  }
 },
 "nbformat": 4,
 "nbformat_minor": 2
}
