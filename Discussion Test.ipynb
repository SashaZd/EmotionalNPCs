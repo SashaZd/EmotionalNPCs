{
 "cells": [
  {
   "cell_type": "markdown",
   "metadata": {},
   "source": [
    "# Dummy Group"
   ]
  },
  {
   "cell_type": "code",
   "execution_count": 1,
   "metadata": {
    "collapsed": true
   },
   "outputs": [],
   "source": [
    "%load_ext autoreload\n",
    "%autoreload 2"
   ]
  },
  {
   "cell_type": "code",
   "execution_count": 2,
   "metadata": {},
   "outputs": [
    {
     "name": "stdout",
     "output_type": "stream",
     "text": [
      "Big Bang!\n"
     ]
    }
   ],
   "source": [
    "import random\n",
    "from World import World\n",
    "world = World()"
   ]
  },
  {
   "cell_type": "code",
   "execution_count": null,
   "metadata": {},
   "outputs": [],
   "source": []
  },
  {
   "cell_type": "code",
   "execution_count": null,
   "metadata": {
    "collapsed": true
   },
   "outputs": [],
   "source": []
  },
  {
   "cell_type": "code",
   "execution_count": 3,
   "metadata": {},
   "outputs": [],
   "source": [
    "def create_opinion():\n",
    "    attitude = random.uniform(-1.0, 1.0)\n",
    "    opinion = random.uniform(attitude-0.5, attitude+0.5)\n",
    "    opinion = -1 if opinion < -1 else opinion\n",
    "    opinion = 1 if opinion > 1 else opinion\n",
    "    unc = abs(attitude - opinion)\n",
    "    pub_thr = 0.6\n",
    "    pri_thr = random.uniform(0.0, 1.0)\n",
    "    \n",
    "    return {\n",
    "        'attitude': attitude,\n",
    "        'opinion': opinion,\n",
    "        'unc': unc,\n",
    "        'pub_thr': pub_thr,\n",
    "        'pri_thr': pri_thr,\n",
    "    }"
   ]
  },
  {
   "cell_type": "code",
   "execution_count": 4,
   "metadata": {
    "collapsed": true
   },
   "outputs": [],
   "source": [
    "def create_people(number): \n",
    "    people = random.sample(world.living_population, number)\n",
    "    group = []\n",
    "    for person in people:\n",
    "        individual = {\n",
    "            'person': person, \n",
    "            'opinions': create_opinion()\n",
    "        }\n",
    "        group.append(individual)\n",
    "        \n",
    "    return group"
   ]
  },
  {
   "cell_type": "code",
   "execution_count": 5,
   "metadata": {},
   "outputs": [
    {
     "data": {
      "text/plain": [
       "[{'opinions': {'attitude': 0.5705262364846178,\n",
       "   'opinion': 0.5372221182656145,\n",
       "   'pri_thr': 0.6583271802898341,\n",
       "   'pub_thr': 0.6,\n",
       "   'unc': 0.033304118219003254},\n",
       "  'person': Caleb Dexter},\n",
       " {'opinions': {'attitude': 0.5483147171680871,\n",
       "   'opinion': 0.2215457383559022,\n",
       "   'pri_thr': 0.49241865496876647,\n",
       "   'pub_thr': 0.6,\n",
       "   'unc': 0.3267689788121849},\n",
       "  'person': Lanny Smith-Burkholder},\n",
       " {'opinions': {'attitude': 0.354920147368174,\n",
       "   'opinion': 0.8123434769413135,\n",
       "   'pri_thr': 0.6763544258552209,\n",
       "   'pub_thr': 0.6,\n",
       "   'unc': 0.45742332957313947},\n",
       "  'person': Thomas Brown},\n",
       " {'opinions': {'attitude': -0.3853184592412171,\n",
       "   'opinion': -0.8222492349166912,\n",
       "   'pri_thr': 0.565053627708084,\n",
       "   'pub_thr': 0.6,\n",
       "   'unc': 0.4369307756754741},\n",
       "  'person': Frances Mckee-Robinson},\n",
       " {'opinions': {'attitude': -0.8524160774022196,\n",
       "   'opinion': -1,\n",
       "   'pri_thr': 0.6745317527197026,\n",
       "   'pub_thr': 0.6,\n",
       "   'unc': 0.14758392259778041},\n",
       "  'person': Angelo Barnas}]"
      ]
     },
     "execution_count": 5,
     "metadata": {},
     "output_type": "execute_result"
    }
   ],
   "source": [
    "group = create_people(5)\n",
    "group"
   ]
  },
  {
   "cell_type": "code",
   "execution_count": 6,
   "metadata": {},
   "outputs": [],
   "source": [
    "from Discussion import Discussion\n",
    "discussion = Discussion(group)"
   ]
  },
  {
   "cell_type": "code",
   "execution_count": 7,
   "metadata": {},
   "outputs": [
    {
     "data": {
      "text/plain": [
       "0.5705262364846178"
      ]
     },
     "execution_count": 7,
     "metadata": {},
     "output_type": "execute_result"
    }
   ],
   "source": [
    "group[0]['opinions']['attitude']"
   ]
  },
  {
   "cell_type": "code",
   "execution_count": 9,
   "metadata": {},
   "outputs": [
    {
     "data": {
      "text/plain": [
       "[{'opinions': {'attitude': 0.5705262364846178,\n",
       "   'opinion': 0.5372221182656145,\n",
       "   'pri_thr': 0.6583271802898341,\n",
       "   'pub_thr': 0.6,\n",
       "   'unc': 0.033304118219003254},\n",
       "  'person': Caleb Dexter},\n",
       " {'opinions': {'attitude': 0.5483147171680871,\n",
       "   'opinion': 0.2215457383559022,\n",
       "   'pri_thr': 0.49241865496876647,\n",
       "   'pub_thr': 0.6,\n",
       "   'unc': 0.3267689788121849},\n",
       "  'person': Lanny Smith-Burkholder},\n",
       " {'opinions': {'attitude': 0.5110697175251051,\n",
       "   'opinion': 0.29413123460425716,\n",
       "   'pri_thr': 0.6763544258552209,\n",
       "   'pub_thr': 0.6,\n",
       "   'unc': 0.21693848292084794},\n",
       "  'person': Thomas Brown},\n",
       " {'opinions': {'attitude': -0.19614184628075054,\n",
       "   'opinion': -0.05022758027077221,\n",
       "   'pri_thr': 0.565053627708084,\n",
       "   'pub_thr': 0.6,\n",
       "   'unc': 0.14591426600997834},\n",
       "  'person': Frances Mckee-Robinson},\n",
       " {'opinions': {'attitude': -0.19614184628075054,\n",
       "   'opinion': -0.05022758027077221,\n",
       "   'pri_thr': 0.6745317527197026,\n",
       "   'pub_thr': 0.6,\n",
       "   'unc': 0.14591426600997834},\n",
       "  'person': Angelo Barnas}]"
      ]
     },
     "execution_count": 9,
     "metadata": {},
     "output_type": "execute_result"
    }
   ],
   "source": [
    "discussion.discuss\n",
    "discussion.discuss\n",
    "discussion.discuss\n",
    "discussion.discuss\n",
    "discussion.discuss\n",
    "discussion.discuss\n",
    "discussion.group"
   ]
  },
  {
   "cell_type": "code",
   "execution_count": null,
   "metadata": {
    "collapsed": true
   },
   "outputs": [],
   "source": []
  },
  {
   "cell_type": "code",
   "execution_count": null,
   "metadata": {
    "collapsed": true
   },
   "outputs": [],
   "source": []
  }
 ],
 "metadata": {
  "kernelspec": {
   "display_name": "Python 2",
   "language": "python",
   "name": "python2"
  },
  "language_info": {
   "codemirror_mode": {
    "name": "ipython",
    "version": 2
   },
   "file_extension": ".py",
   "mimetype": "text/x-python",
   "name": "python",
   "nbconvert_exporter": "python",
   "pygments_lexer": "ipython2",
   "version": "2.7.13"
  }
 },
 "nbformat": 4,
 "nbformat_minor": 2
}
