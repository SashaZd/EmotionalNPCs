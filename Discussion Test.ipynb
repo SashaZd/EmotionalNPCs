{
 "cells": [
  {
   "cell_type": "markdown",
   "metadata": {},
   "source": [
    "# Dummy Group"
   ]
  },
  {
   "cell_type": "code",
   "execution_count": 1,
   "metadata": {
    "collapsed": true
   },
   "outputs": [],
   "source": [
    "%load_ext autoreload\n",
    "%autoreload 2"
   ]
  },
  {
   "cell_type": "code",
   "execution_count": 2,
   "metadata": {
    "collapsed": false
   },
   "outputs": [
    {
     "name": "stdout",
     "output_type": "stream",
     "text": [
      "{'vaccination': vaccination(15 facts), 'heterosexuality': heterosexuality(10 facts), 'abortion': abortion(5 facts), 'democrat': democrat(20 facts), 'death_penalty': death_penalty(5 facts)}\n",
      "Big Bang!\n"
     ]
    }
   ],
   "source": [
    "import random\n",
    "from World import World\n",
    "world = World()"
   ]
  },
  {
   "cell_type": "code",
   "execution_count": 3,
   "metadata": {
    "collapsed": false
   },
   "outputs": [
    {
     "data": {
      "text/plain": [
       "[{'opinions': {'attitude': -0.08560279891477118,\n",
       "   'opinion': 0.4531257373097721,\n",
       "   'pri_thr': 0.8899472575325715,\n",
       "   'pub_thr': 0.6,\n",
       "   'unc': 0.5387285362245433},\n",
       "  'person': Jason Alvarado},\n",
       " {'opinions': {'attitude': -0.12248803473452718,\n",
       "   'opinion': 0.11755951039733659,\n",
       "   'pri_thr': 0.4643089523682873,\n",
       "   'pub_thr': 0.6,\n",
       "   'unc': 0.24004754513186377},\n",
       "  'person': Dorothy Sylvester},\n",
       " {'opinions': {'attitude': -0.5622130330745234,\n",
       "   'opinion': -0.6980099346530309,\n",
       "   'pri_thr': 0.04292645507315773,\n",
       "   'pub_thr': 0.6,\n",
       "   'unc': 0.13579690157850743},\n",
       "  'person': Sherry Jennings},\n",
       " {'opinions': {'attitude': 0.7323561073491633,\n",
       "   'opinion': 0.9670147890008177,\n",
       "   'pri_thr': 0.4155341730858282,\n",
       "   'pub_thr': 0.6,\n",
       "   'unc': 0.23465868165165438},\n",
       "  'person': Sherman Skelley-Freedman},\n",
       " {'opinions': {'attitude': 0.7808356355993131,\n",
       "   'opinion': 0.4843832967355101,\n",
       "   'pri_thr': 0.06937810500165653,\n",
       "   'pub_thr': 0.6,\n",
       "   'unc': 0.296452338863803},\n",
       "  'person': Phyllis Scroggins},\n",
       " {'opinions': {'attitude': -0.311833493064112,\n",
       "   'opinion': -0.9817815680021741,\n",
       "   'pri_thr': 0.23844644232283618,\n",
       "   'pub_thr': 0.6,\n",
       "   'unc': 0.6699480749380621},\n",
       "  'person': Arleen Brown},\n",
       " {'opinions': {'attitude': -0.20876625156643946,\n",
       "   'opinion': -0.007334283667845165,\n",
       "   'pri_thr': 0.3907328639229789,\n",
       "   'pub_thr': 0.6,\n",
       "   'unc': 0.2014319678985943},\n",
       "  'person': Jennifer Douglas},\n",
       " {'opinions': {'attitude': -0.11753832334078118,\n",
       "   'opinion': -0.4394260176996783,\n",
       "   'pri_thr': 0.19190006172424123,\n",
       "   'pub_thr': 0.6,\n",
       "   'unc': 0.32188769435889714},\n",
       "  'person': Evelyn Hayes},\n",
       " {'opinions': {'attitude': -0.296410256871124,\n",
       "   'opinion': -0.6480685444625258,\n",
       "   'pri_thr': 0.5254158919400177,\n",
       "   'pub_thr': 0.6,\n",
       "   'unc': 0.35165828759140183},\n",
       "  'person': Amy Stewart},\n",
       " {'opinions': {'attitude': -0.32711115157656767,\n",
       "   'opinion': 0.19231253587176056,\n",
       "   'pri_thr': 0.7278294035477941,\n",
       "   'pub_thr': 0.6,\n",
       "   'unc': 0.5194236874483282},\n",
       "  'person': Dorothy Elliott}]"
      ]
     },
     "execution_count": 3,
     "metadata": {},
     "output_type": "execute_result"
    }
   ],
   "source": [
    "def create_opinion():\n",
    "    attitude = random.uniform(-1.0, 1.0)\n",
    "    opinion = random.uniform(attitude-0.7, attitude+0.7)\n",
    "    opinion = -1 if opinion < -1 else opinion\n",
    "    opinion = 1 if opinion > 1 else opinion\n",
    "    unc = abs(attitude - opinion)\n",
    "    pub_thr = 0.6\n",
    "    pri_thr = random.uniform(0.0, 1.0)\n",
    "    \n",
    "    return {\n",
    "        'attitude': attitude,\n",
    "        'opinion': opinion,\n",
    "        'unc': unc,\n",
    "        'pub_thr': pub_thr,\n",
    "        'pri_thr': pri_thr,\n",
    "    }\n",
    "\n",
    "def create_people(number): \n",
    "    people = random.sample(world.living_population, number)\n",
    "    group = []\n",
    "    for person in people:\n",
    "        individual = {\n",
    "            'person': person, \n",
    "            'opinion': create_opinion()\n",
    "        }\n",
    "        group.append(individual)\n",
    "    return group\n",
    "\n",
    "def test_opinion(): \n",
    "    print round(discussion.group[0]['opinion']['attitude'],2), round(discussion.group[0]['opinion']['opinion'],2)\n",
    "\n",
    "group = create_people(10)\n",
    "group"
   ]
  },
  {
   "cell_type": "code",
   "execution_count": 4,
   "metadata": {},
   "outputs": [],
   "source": [
    "from Discussion import Discussion\n",
    "discussion = Discussion(group)"
   ]
  },
  {
   "cell_type": "code",
   "execution_count": 5,
   "metadata": {
    "collapsed": true
   },
   "outputs": [],
   "source": [
    "# discussion.discuss\n",
    "# discussion.discuss\n",
    "# discussion.discuss\n",
    "# discussion.discuss\n",
    "# discussion.discuss\n",
    "# discussion.discuss\n",
    "# # discussion.group"
   ]
  },
  {
   "cell_type": "code",
   "execution_count": null,
   "metadata": {
    "collapsed": true
   },
   "outputs": [],
   "source": []
  },
  {
   "cell_type": "code",
   "execution_count": 6,
   "metadata": {
    "collapsed": false
   },
   "outputs": [
    {
     "data": {
      "text/plain": [
       "[{'opinions': {'attitude': -0.05,\n",
       "   'opinion': -0.06,\n",
       "   'pri_thr': 0.8899472575325715,\n",
       "   'pub_thr': 0.6,\n",
       "   'unc': 0.009999999999999995},\n",
       "  'person': Jason Alvarado},\n",
       " {'opinions': {'attitude': -0.12248803473452718,\n",
       "   'opinion': 0.11755951039733659,\n",
       "   'pri_thr': 0.4643089523682873,\n",
       "   'pub_thr': 0.6,\n",
       "   'unc': 0.24004754513186377},\n",
       "  'person': Dorothy Sylvester},\n",
       " {'opinions': {'attitude': -0.5622130330745234,\n",
       "   'opinion': -0.6980099346530309,\n",
       "   'pri_thr': 0.04292645507315773,\n",
       "   'pub_thr': 0.6,\n",
       "   'unc': 0.13579690157850743},\n",
       "  'person': Sherry Jennings},\n",
       " {'opinions': {'attitude': 0.7323561073491633,\n",
       "   'opinion': 0.9670147890008177,\n",
       "   'pri_thr': 0.4155341730858282,\n",
       "   'pub_thr': 0.6,\n",
       "   'unc': 0.23465868165165438},\n",
       "  'person': Sherman Skelley-Freedman},\n",
       " {'opinions': {'attitude': 0.7808356355993131,\n",
       "   'opinion': 0.4843832967355101,\n",
       "   'pri_thr': 0.06937810500165653,\n",
       "   'pub_thr': 0.6,\n",
       "   'unc': 0.296452338863803},\n",
       "  'person': Phyllis Scroggins},\n",
       " {'opinions': {'attitude': -0.05,\n",
       "   'opinion': -0.06,\n",
       "   'pri_thr': 0.23844644232283618,\n",
       "   'pub_thr': 0.6,\n",
       "   'unc': 0.009999999999999995},\n",
       "  'person': Arleen Brown},\n",
       " {'opinions': {'attitude': -0.20876625156643946,\n",
       "   'opinion': -0.007334283667845165,\n",
       "   'pri_thr': 0.3907328639229789,\n",
       "   'pub_thr': 0.6,\n",
       "   'unc': 0.2014319678985943},\n",
       "  'person': Jennifer Douglas},\n",
       " {'opinions': {'attitude': -0.11753832334078118,\n",
       "   'opinion': -0.4394260176996783,\n",
       "   'pri_thr': 0.19190006172424123,\n",
       "   'pub_thr': 0.6,\n",
       "   'unc': 0.32188769435889714},\n",
       "  'person': Evelyn Hayes},\n",
       " {'opinions': {'attitude': -0.296410256871124,\n",
       "   'opinion': -0.6480685444625258,\n",
       "   'pri_thr': 0.5254158919400177,\n",
       "   'pub_thr': 0.6,\n",
       "   'unc': 0.35165828759140183},\n",
       "  'person': Amy Stewart},\n",
       " {'opinions': {'attitude': -0.05,\n",
       "   'opinion': -0.06,\n",
       "   'pri_thr': 0.7278294035477941,\n",
       "   'pub_thr': 0.6,\n",
       "   'unc': 0.009999999999999995},\n",
       "  'person': Dorothy Elliott}]"
      ]
     },
     "execution_count": 6,
     "metadata": {},
     "output_type": "execute_result"
    }
   ],
   "source": [
    "discussion.discuss()\n",
    "discussion.group"
   ]
  },
  {
   "cell_type": "code",
   "execution_count": 7,
   "metadata": {},
   "outputs": [
    {
     "data": {
      "text/plain": [
       "[{'opinions': {'attitude': -0.05,\n",
       "   'opinion': -0.06,\n",
       "   'pri_thr': 0.8899472575325715,\n",
       "   'pub_thr': 0.6,\n",
       "   'unc': 0.009999999999999995},\n",
       "  'person': Jason Alvarado},\n",
       " {'opinions': {'attitude': -0.12248803473452718,\n",
       "   'opinion': 0.11755951039733659,\n",
       "   'pri_thr': 0.4643089523682873,\n",
       "   'pub_thr': 0.6,\n",
       "   'unc': 0.24004754513186377},\n",
       "  'person': Dorothy Sylvester},\n",
       " {'opinions': {'attitude': -0.2761065165372617,\n",
       "   'opinion': -0.04,\n",
       "   'pri_thr': 0.04292645507315773,\n",
       "   'pub_thr': 0.6,\n",
       "   'unc': 0.2361065165372617},\n",
       "  'person': Sherry Jennings},\n",
       " {'opinions': {'attitude': 0.17558902683729083,\n",
       "   'opinion': -0.03,\n",
       "   'pri_thr': 0.4155341730858282,\n",
       "   'pub_thr': 0.6,\n",
       "   'unc': 0.20558902683729083},\n",
       "  'person': Sherman Skelley-Freedman},\n",
       " {'opinions': {'attitude': 0.18770890889982828,\n",
       "   'opinion': -0.03,\n",
       "   'pri_thr': 0.06937810500165653,\n",
       "   'pub_thr': 0.6,\n",
       "   'unc': 0.21770890889982827},\n",
       "  'person': Phyllis Scroggins},\n",
       " {'opinions': {'attitude': -0.05,\n",
       "   'opinion': -0.06,\n",
       "   'pri_thr': 0.23844644232283618,\n",
       "   'pub_thr': 0.6,\n",
       "   'unc': 0.009999999999999995},\n",
       "  'person': Arleen Brown},\n",
       " {'opinions': {'attitude': -0.20876625156643946,\n",
       "   'opinion': -0.007334283667845165,\n",
       "   'pri_thr': 0.3907328639229789,\n",
       "   'pub_thr': 0.6,\n",
       "   'unc': 0.2014319678985943},\n",
       "  'person': Jennifer Douglas},\n",
       " {'opinions': {'attitude': -0.053769161670390586,\n",
       "   'opinion': -0.04,\n",
       "   'pri_thr': 0.19190006172424123,\n",
       "   'pub_thr': 0.6,\n",
       "   'unc': 0.013769161670390585},\n",
       "  'person': Evelyn Hayes},\n",
       " {'opinions': {'attitude': -0.143205128435562,\n",
       "   'opinion': -0.04,\n",
       "   'pri_thr': 0.5254158919400177,\n",
       "   'pub_thr': 0.6,\n",
       "   'unc': 0.10320512843556198},\n",
       "  'person': Amy Stewart},\n",
       " {'opinions': {'attitude': -0.05,\n",
       "   'opinion': -0.06,\n",
       "   'pri_thr': 0.7278294035477941,\n",
       "   'pub_thr': 0.6,\n",
       "   'unc': 0.009999999999999995},\n",
       "  'person': Dorothy Elliott}]"
      ]
     },
     "execution_count": 7,
     "metadata": {},
     "output_type": "execute_result"
    }
   ],
   "source": [
    "for interact in range(10):\n",
    "    discussion.discuss()\n",
    "discussion.group"
   ]
  }
 ],
 "metadata": {
  "kernelspec": {
   "display_name": "Python 2",
   "language": "python",
   "name": "python2"
  },
  "language_info": {
   "codemirror_mode": {
    "name": "ipython",
    "version": 2
   },
   "file_extension": ".py",
   "mimetype": "text/x-python",
   "name": "python",
   "nbconvert_exporter": "python",
   "pygments_lexer": "ipython2",
   "version": "2.7.13"
  }
 },
 "nbformat": 4,
 "nbformat_minor": 2
}
