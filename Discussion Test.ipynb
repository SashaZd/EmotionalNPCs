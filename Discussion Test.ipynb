{
 "cells": [
  {
   "cell_type": "markdown",
   "metadata": {},
   "source": [
    "# Dummy Group"
   ]
  },
  {
   "cell_type": "code",
   "execution_count": 1,
   "metadata": {
    "collapsed": true
   },
   "outputs": [],
   "source": [
    "%load_ext autoreload\n",
    "%autoreload 2"
   ]
  },
  {
   "cell_type": "code",
   "execution_count": 2,
   "metadata": {
    "collapsed": false
   },
   "outputs": [
    {
     "name": "stdout",
     "output_type": "stream",
     "text": [
      "{'vaccination': vaccination(15 facts), 'heterosexuality': heterosexuality(10 facts), 'abortion': abortion(5 facts), 'democrat': democrat(20 facts), 'death_penalty': death_penalty(5 facts)}\n",
      "Big Bang!\n"
     ]
    }
   ],
   "source": [
    "import random\n",
    "from World import World\n",
    "world = World()"
   ]
  },
  {
   "cell_type": "code",
   "execution_count": 3,
   "metadata": {
    "collapsed": false
   },
   "outputs": [
    {
     "data": {
      "text/plain": [
       "[{'opinion': {'attitude': 0.7471427806853626,\n",
       "   'opinion': 0.9171654680633026,\n",
       "   'pri_thr': 0.6015632155639553,\n",
       "   'pub_thr': 0.6,\n",
       "   'unc': 0.17002268737794002},\n",
       "  'person': Edwin Gonzalez},\n",
       " {'opinion': {'attitude': 0.40012304506980323,\n",
       "   'opinion': 0.2178743766192216,\n",
       "   'pri_thr': 0.14573063475944947,\n",
       "   'pub_thr': 0.6,\n",
       "   'unc': 0.18224866845058163},\n",
       "  'person': Beulah Arevalo-Mckinney},\n",
       " {'opinion': {'attitude': 0.7801749856109377,\n",
       "   'opinion': 1,\n",
       "   'pri_thr': 0.33237317905697883,\n",
       "   'pub_thr': 0.6,\n",
       "   'unc': 0.21982501438906232},\n",
       "  'person': Linda Sidney},\n",
       " {'opinion': {'attitude': 0.816616815353161,\n",
       "   'opinion': 0.3177679189825069,\n",
       "   'pri_thr': 0.8002989586667707,\n",
       "   'pub_thr': 0.6,\n",
       "   'unc': 0.4988488963706541},\n",
       "  'person': Michael Pinkerton},\n",
       " {'opinion': {'attitude': 0.5320801836405893,\n",
       "   'opinion': 0.9418698576106598,\n",
       "   'pri_thr': 0.2413734552676431,\n",
       "   'pub_thr': 0.6,\n",
       "   'unc': 0.4097896739700705},\n",
       "  'person': Eric Jackson}]"
      ]
     },
     "execution_count": 3,
     "metadata": {},
     "output_type": "execute_result"
    }
   ],
   "source": [
    "def create_opinion():\n",
    "    attitude = random.uniform(-1.0, 1.0)\n",
    "    opinion = random.uniform(attitude-0.5, attitude+0.5)\n",
    "    opinion = -1 if opinion < -1 else opinion\n",
    "    opinion = 1 if opinion > 1 else opinion\n",
    "    unc = abs(attitude - opinion)\n",
    "    pub_thr = 0.6\n",
    "    pri_thr = random.uniform(0.0, 1.0)\n",
    "    \n",
    "    return {\n",
    "        'attitude': attitude,\n",
    "        'opinion': opinion,\n",
    "        'unc': unc,\n",
    "        'pub_thr': pub_thr,\n",
    "        'pri_thr': pri_thr,\n",
    "    }\n",
    "\n",
    "def create_people(number): \n",
    "    people = random.sample(world.living_population, number)\n",
    "    group = []\n",
    "    for person in people:\n",
    "        individual = {\n",
    "            'person': person, \n",
    "            'opinion': create_opinion()\n",
    "        }\n",
    "        group.append(individual)\n",
    "    return group\n",
    "\n",
    "def test_opinion(): \n",
    "    print round(discussion.group[0]['opinion']['attitude'],2), round(discussion.group[0]['opinion']['opinion'],2)\n",
    "\n",
    "group = create_people(5)\n",
    "group"
   ]
  },
  {
   "cell_type": "code",
   "execution_count": 4,
   "metadata": {
    "collapsed": true
   },
   "outputs": [],
   "source": [
    "from Discussion import Discussion\n",
    "discussion = Discussion(group)"
   ]
  },
  {
   "cell_type": "code",
   "execution_count": 5,
   "metadata": {
    "collapsed": false
   },
   "outputs": [],
   "source": [
    "# discussion.discuss\n",
    "# discussion.discuss\n",
    "# discussion.discuss\n",
    "# discussion.discuss\n",
    "# discussion.discuss\n",
    "# discussion.discuss\n",
    "# # discussion.group"
   ]
  },
  {
   "cell_type": "code",
   "execution_count": 6,
   "metadata": {
    "collapsed": false
   },
   "outputs": [
    {
     "name": "stdout",
     "output_type": "stream",
     "text": [
      "0.75 0.92\n",
      "0.75 0.92\n",
      "0.75 0.92\n",
      "0.75 0.92\n",
      "0.75 0.92\n",
      "0.75 0.92\n",
      "0.75 0.92\n",
      "0.75 0.92\n",
      "0.75 0.92\n",
      "0.75 0.92\n"
     ]
    }
   ],
   "source": [
    "for interact in range(10):\n",
    "    discussion.discuss()\n",
    "    test_opinion()"
   ]
  },
  {
   "cell_type": "code",
   "execution_count": null,
   "metadata": {
    "collapsed": false
   },
   "outputs": [],
   "source": [
    "discussion.group"
   ]
  },
  {
   "cell_type": "code",
   "execution_count": null,
   "metadata": {
    "collapsed": true
   },
   "outputs": [],
   "source": []
  }
 ],
 "metadata": {
  "kernelspec": {
   "display_name": "Python 2",
   "language": "python",
   "name": "python2"
  },
  "language_info": {
   "codemirror_mode": {
    "name": "ipython",
    "version": 2
   },
   "file_extension": ".py",
   "mimetype": "text/x-python",
   "name": "python",
   "nbconvert_exporter": "python",
   "pygments_lexer": "ipython2",
   "version": "2.7.13"
  }
 },
 "nbformat": 4,
 "nbformat_minor": 2
}
