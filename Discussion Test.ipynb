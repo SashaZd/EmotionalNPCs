{
 "cells": [
  {
   "cell_type": "markdown",
   "metadata": {},
   "source": [
    "# Dummy Group"
   ]
  },
  {
   "cell_type": "code",
   "execution_count": 1,
   "metadata": {
    "collapsed": true
   },
   "outputs": [],
   "source": [
    "%load_ext autoreload\n",
    "%autoreload 2"
   ]
  },
  {
   "cell_type": "code",
   "execution_count": 2,
   "metadata": {
    "collapsed": false
   },
   "outputs": [
    {
     "name": "stdout",
     "output_type": "stream",
     "text": [
      "Big Bang!\n"
     ]
    }
   ],
   "source": [
    "import random\n",
    "from World import World\n",
    "world = World()"
   ]
  },
  {
   "cell_type": "code",
   "execution_count": 3,
   "metadata": {
    "collapsed": false
   },
   "outputs": [
    {
     "data": {
      "text/plain": [
       "[{'opinions': {'attitude': -0.8402284177124721,\n",
       "   'opinion': -1,\n",
       "   'pri_thr': 0.7959256594104793,\n",
       "   'pub_thr': 0.6,\n",
       "   'unc': 0.15977158228752786},\n",
       "  'person': Scott Fitzgerald},\n",
       " {'opinions': {'attitude': 0.8736893548361495,\n",
       "   'opinion': 0.8355223629070987,\n",
       "   'pri_thr': 0.8077730696025993,\n",
       "   'pub_thr': 0.6,\n",
       "   'unc': 0.03816699192905082},\n",
       "  'person': Eduardo Christian},\n",
       " {'opinions': {'attitude': -0.4120384242191357,\n",
       "   'opinion': -0.7653030817478866,\n",
       "   'pri_thr': 0.1048199823500976,\n",
       "   'pub_thr': 0.6,\n",
       "   'unc': 0.3532646575287509},\n",
       "  'person': Nancy Lundin},\n",
       " {'opinions': {'attitude': -0.6325712530555956,\n",
       "   'opinion': -0.7389356977068878,\n",
       "   'pri_thr': 0.5674738561776506,\n",
       "   'pub_thr': 0.6,\n",
       "   'unc': 0.10636444465129224},\n",
       "  'person': Katherine Lighthill},\n",
       " {'opinions': {'attitude': 0.0006039206768291283,\n",
       "   'opinion': -0.4553478158205434,\n",
       "   'pri_thr': 0.7692074608052302,\n",
       "   'pub_thr': 0.6,\n",
       "   'unc': 0.45595173649737253},\n",
       "  'person': Mark Mcclain}]"
      ]
     },
     "execution_count": 3,
     "metadata": {},
     "output_type": "execute_result"
    }
   ],
   "source": [
    "def create_opinion():\n",
    "    attitude = random.uniform(-1.0, 1.0)\n",
    "    opinion = random.uniform(attitude-0.5, attitude+0.5)\n",
    "    opinion = -1 if opinion < -1 else opinion\n",
    "    opinion = 1 if opinion > 1 else opinion\n",
    "    unc = abs(attitude - opinion)\n",
    "    pub_thr = 0.6\n",
    "    pri_thr = random.uniform(0.0, 1.0)\n",
    "    \n",
    "    return {\n",
    "        'attitude': attitude,\n",
    "        'opinion': opinion,\n",
    "        'unc': unc,\n",
    "        'pub_thr': pub_thr,\n",
    "        'pri_thr': pri_thr,\n",
    "    }\n",
    "\n",
    "def create_people(number): \n",
    "    people = random.sample(world.living_population, number)\n",
    "    group = []\n",
    "    for person in people:\n",
    "        individual = {\n",
    "            'person': person, \n",
    "            'opinions': create_opinion()\n",
    "        }\n",
    "        group.append(individual)\n",
    "    return group\n",
    "\n",
    "def test_opinion(): \n",
    "    print round(discussion.group[0]['opinions']['attitude'],2), round(discussion.group[0]['opinions']['opinion'],2)\n",
    "\n",
    "group = create_people(5)\n",
    "group"
   ]
  },
  {
   "cell_type": "code",
   "execution_count": null,
   "metadata": {
    "collapsed": false
   },
   "outputs": [],
   "source": []
  },
  {
   "cell_type": "code",
   "execution_count": null,
   "metadata": {
    "collapsed": true
   },
   "outputs": [],
   "source": []
  },
  {
   "cell_type": "code",
   "execution_count": 4,
   "metadata": {
    "collapsed": true
   },
   "outputs": [],
   "source": [
    "from Discussion import Discussion\n",
    "discussion = Discussion(group)"
   ]
  },
  {
   "cell_type": "code",
   "execution_count": 5,
   "metadata": {
    "collapsed": false
   },
   "outputs": [
    {
     "name": "stdout",
     "output_type": "stream",
     "text": [
      "-0.84 -1.0\n"
     ]
    }
   ],
   "source": [
    "test_opinion()"
   ]
  },
  {
   "cell_type": "code",
   "execution_count": 6,
   "metadata": {
    "collapsed": false
   },
   "outputs": [
    {
     "name": "stdout",
     "output_type": "stream",
     "text": [
      "-0.84 -1.0\n"
     ]
    }
   ],
   "source": [
    "discussion.discuss()\n",
    "test_opinion()"
   ]
  },
  {
   "cell_type": "code",
   "execution_count": null,
   "metadata": {
    "collapsed": false
   },
   "outputs": [],
   "source": [
    "# discussion.discuss\n",
    "# discussion.discuss\n",
    "# discussion.discuss\n",
    "# discussion.discuss\n",
    "# discussion.discuss\n",
    "# discussion.discuss\n",
    "# discussion.group"
   ]
  },
  {
   "cell_type": "code",
   "execution_count": 7,
   "metadata": {
    "collapsed": false
   },
   "outputs": [
    {
     "name": "stdout",
     "output_type": "stream",
     "text": [
      "-0.84 -1.0\n",
      "-0.84 -1.0\n",
      "-0.84 -1.0\n",
      "-0.84 -1.0\n",
      "-0.84 -1.0\n",
      "-0.84 -1.0\n",
      "-0.84 -1.0\n",
      "-0.84 -1.0\n",
      "-0.84 -1.0\n",
      "-0.84 -1.0\n"
     ]
    }
   ],
   "source": [
    "for interact in range(10):\n",
    "    discussion.discuss()\n",
    "    test_opinion()"
   ]
  },
  {
   "cell_type": "code",
   "execution_count": null,
   "metadata": {
    "collapsed": false
   },
   "outputs": [],
   "source": [
    "discussion.group"
   ]
  },
  {
   "cell_type": "code",
   "execution_count": null,
   "metadata": {
    "collapsed": true
   },
   "outputs": [],
   "source": []
  }
 ],
 "metadata": {
  "kernelspec": {
   "display_name": "Python 2",
   "language": "python",
   "name": "python2"
  },
  "language_info": {
   "codemirror_mode": {
    "name": "ipython",
    "version": 2
   },
   "file_extension": ".py",
   "mimetype": "text/x-python",
   "name": "python",
   "nbconvert_exporter": "python",
   "pygments_lexer": "ipython2",
   "version": "2.7.13"
  }
 },
 "nbformat": 4,
 "nbformat_minor": 2
}
