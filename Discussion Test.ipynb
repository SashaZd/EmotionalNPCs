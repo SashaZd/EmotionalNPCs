{
 "cells": [
  {
   "cell_type": "markdown",
   "metadata": {},
   "source": [
    "# Dummy Group"
   ]
  },
  {
   "cell_type": "code",
   "execution_count": 1,
   "metadata": {
    "collapsed": true
   },
   "outputs": [],
   "source": [
    "%load_ext autoreload\n",
    "%autoreload 2"
   ]
  },
  {
   "cell_type": "code",
   "execution_count": 2,
   "metadata": {},
   "outputs": [
    {
     "name": "stdout",
     "output_type": "stream",
     "text": [
      "Big Bang!\n"
     ]
    }
   ],
   "source": [
    "import random\n",
    "from World import World\n",
    "world = World()"
   ]
  },
  {
   "cell_type": "code",
   "execution_count": 3,
   "metadata": {},
   "outputs": [
    {
     "data": {
      "text/plain": [
       "[{'opinions': {'attitude': -0.8654108502352638,\n",
       "   'opinion': -0.8369425864979672,\n",
       "   'pri_thr': 0.14211764757359413,\n",
       "   'pub_thr': 0.6,\n",
       "   'unc': 0.028468263737296606},\n",
       "  'person': Ruth Szabat},\n",
       " {'opinions': {'attitude': 0.8844245586592687,\n",
       "   'opinion': 1,\n",
       "   'pri_thr': 0.2873881142970486,\n",
       "   'pub_thr': 0.6,\n",
       "   'unc': 0.11557544134073128},\n",
       "  'person': Horacio Plyler},\n",
       " {'opinions': {'attitude': 0.6023030034852666,\n",
       "   'opinion': 0.8923544831499514,\n",
       "   'pri_thr': 0.6468033214359087,\n",
       "   'pub_thr': 0.6,\n",
       "   'unc': 0.2900514796646848},\n",
       "  'person': Jessica Dipasquale},\n",
       " {'opinions': {'attitude': -0.2970346198787155,\n",
       "   'opinion': -0.42224126256225336,\n",
       "   'pri_thr': 0.33106921736650197,\n",
       "   'pub_thr': 0.6,\n",
       "   'unc': 0.12520664268353787},\n",
       "  'person': Tracey Bond},\n",
       " {'opinions': {'attitude': -0.25382951457641,\n",
       "   'opinion': -0.2253235145354484,\n",
       "   'pri_thr': 0.678542584731901,\n",
       "   'pub_thr': 0.6,\n",
       "   'unc': 0.0285060000409616},\n",
       "  'person': Jaime Ruppe}]"
      ]
     },
     "execution_count": 3,
     "metadata": {},
     "output_type": "execute_result"
    }
   ],
   "source": [
    "def create_opinion():\n",
    "    attitude = random.uniform(-1.0, 1.0)\n",
    "    opinion = random.uniform(attitude-0.5, attitude+0.5)\n",
    "    opinion = -1 if opinion < -1 else opinion\n",
    "    opinion = 1 if opinion > 1 else opinion\n",
    "    unc = abs(attitude - opinion)\n",
    "    pub_thr = 0.6\n",
    "    pri_thr = random.uniform(0.0, 1.0)\n",
    "    \n",
    "    return {\n",
    "        'attitude': attitude,\n",
    "        'opinion': opinion,\n",
    "        'unc': unc,\n",
    "        'pub_thr': pub_thr,\n",
    "        'pri_thr': pri_thr,\n",
    "    }\n",
    "\n",
    "def create_people(number): \n",
    "    people = random.sample(world.living_population, number)\n",
    "    group = []\n",
    "    for person in people:\n",
    "        individual = {\n",
    "            'person': person, \n",
    "            'opinions': create_opinion()\n",
    "        }\n",
    "        group.append(individual)\n",
    "    return group\n",
    "\n",
    "def test_opinion(): \n",
    "    print round(discussion.group[0]['opinions']['attitude'],2), round(discussion.group[0]['opinions']['opinion'],2)\n",
    "\n",
    "group = create_people(5)\n",
    "group"
   ]
  },
  {
   "cell_type": "code",
   "execution_count": 4,
   "metadata": {
    "collapsed": true
   },
   "outputs": [],
   "source": [
    "from Discussion import Discussion\n",
    "discussion = Discussion(group)"
   ]
  },
  {
   "cell_type": "code",
   "execution_count": 5,
   "metadata": {},
   "outputs": [],
   "source": [
    "# discussion.discuss\n",
    "# discussion.discuss\n",
    "# discussion.discuss\n",
    "# discussion.discuss\n",
    "# discussion.discuss\n",
    "# discussion.discuss\n",
    "# discussion.group"
   ]
  },
  {
   "cell_type": "code",
   "execution_count": 6,
   "metadata": {},
   "outputs": [
    {
     "name": "stdout",
     "output_type": "stream",
     "text": [
      "-0.87 -0.84\n",
      "-0.87 -0.84\n",
      "-0.87 -0.84\n",
      "-0.87 -0.84\n",
      "-0.87 -0.84\n",
      "-0.87 -0.84\n",
      "-0.87 -0.84\n",
      "-0.87 -0.84\n",
      "-0.87 -0.84\n",
      "-0.87 -0.84\n"
     ]
    }
   ],
   "source": [
    "for interact in range(10):\n",
    "    discussion.discuss()\n",
    "    test_opinion()"
   ]
  },
  {
   "cell_type": "code",
   "execution_count": 7,
   "metadata": {},
   "outputs": [
    {
     "data": {
      "text/plain": [
       "[{'opinions': {'attitude': -0.8654108502352638,\n",
       "   'opinion': -0.8369425864979672,\n",
       "   'pri_thr': 0.14211764757359413,\n",
       "   'pub_thr': 0.6,\n",
       "   'unc': 0.028468263737296606},\n",
       "  'person': Ruth Szabat},\n",
       " {'opinions': {'attitude': 0.01,\n",
       "   'opinion': -0.33,\n",
       "   'pri_thr': 0.2873881142970486,\n",
       "   'pub_thr': 0.6,\n",
       "   'unc': 0.34},\n",
       "  'person': Horacio Plyler},\n",
       " {'opinions': {'attitude': 0.07,\n",
       "   'opinion': -0.08,\n",
       "   'pri_thr': 0.6468033214359087,\n",
       "   'pub_thr': 0.6,\n",
       "   'unc': 0.15000000000000002},\n",
       "  'person': Jessica Dipasquale},\n",
       " {'opinions': {'attitude': -0.2970346198787155,\n",
       "   'opinion': -0.42224126256225336,\n",
       "   'pri_thr': 0.33106921736650197,\n",
       "   'pub_thr': 0.6,\n",
       "   'unc': 0.12520664268353787},\n",
       "  'person': Tracey Bond},\n",
       " {'opinions': {'attitude': -0.25382951457641,\n",
       "   'opinion': -0.2253235145354484,\n",
       "   'pri_thr': 0.678542584731901,\n",
       "   'pub_thr': 0.6,\n",
       "   'unc': 0.0285060000409616},\n",
       "  'person': Jaime Ruppe}]"
      ]
     },
     "execution_count": 7,
     "metadata": {},
     "output_type": "execute_result"
    }
   ],
   "source": [
    "discussion.group"
   ]
  },
  {
   "cell_type": "code",
   "execution_count": null,
   "metadata": {
    "collapsed": true
   },
   "outputs": [],
   "source": []
  }
 ],
 "metadata": {
  "kernelspec": {
   "display_name": "Python 2",
   "language": "python",
   "name": "python2"
  },
  "language_info": {
   "codemirror_mode": {
    "name": "ipython",
    "version": 2
   },
   "file_extension": ".py",
   "mimetype": "text/x-python",
   "name": "python",
   "nbconvert_exporter": "python",
   "pygments_lexer": "ipython2",
   "version": "2.7.13"
  }
 },
 "nbformat": 4,
 "nbformat_minor": 2
}
