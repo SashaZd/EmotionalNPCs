{
 "cells": [
  {
   "cell_type": "markdown",
   "metadata": {},
   "source": [
    "# Dummy Group"
   ]
  },
  {
   "cell_type": "code",
   "execution_count": 1,
   "metadata": {
    "collapsed": true
   },
   "outputs": [],
   "source": [
    "%load_ext autoreload\n",
    "%autoreload 2"
   ]
  },
  {
   "cell_type": "code",
   "execution_count": 2,
   "metadata": {
    "collapsed": false
   },
   "outputs": [
    {
     "name": "stdout",
     "output_type": "stream",
     "text": [
      "{'vaccination': vaccination(15 facts), 'heterosexuality': heterosexuality(10 facts), 'abortion': abortion(5 facts), 'democrat': democrat(20 facts), 'death_penalty': death_penalty(5 facts)}\n",
      "Big Bang!\n"
     ]
    }
   ],
   "source": [
    "import random\n",
    "from World import World\n",
    "world = World()"
   ]
  },
  {
   "cell_type": "code",
   "execution_count": 4,
   "metadata": {
    "collapsed": false
   },
   "outputs": [],
   "source": [
    "def create_opinion():\n",
    "    attitude = random.uniform(-1.0, 1.0)\n",
    "    opinion = random.uniform(attitude-0.7, attitude+0.7)\n",
    "    opinion = -1 if opinion < -1 else opinion\n",
    "    opinion = 1 if opinion > 1 else opinion\n",
    "    unc = abs(attitude - opinion)\n",
    "    pub_thr = 0.6\n",
    "    pri_thr = random.uniform(0.0, 1.0)\n",
    "    \n",
    "    return {\n",
    "        'attitude': attitude,\n",
    "        'opinion': opinion,\n",
    "        'unc': unc,\n",
    "        'pub_thr': pub_thr,\n",
    "        'pri_thr': pri_thr,\n",
    "    }\n",
    "\n",
    "def create_people(number): \n",
    "    people = random.sample(world.living_population, number)\n",
    "    group = []\n",
    "    for person in people:\n",
    "        individual = {\n",
    "            'person': person, \n",
    "            'opinion': create_opinion()\n",
    "        }\n",
    "        group.append(individual)\n",
    "    return group\n",
    "\n",
    "def test_opinion(discussion1): \n",
    "    print round(discussion1.group[3]['opinion']['attitude'],2), round(discussion1.group[3]['opinion']['opinion'],2)\n",
    "    return discussion1\n",
    "\n",
    "group = create_people(10)"
   ]
  },
  {
   "cell_type": "code",
   "execution_count": 6,
   "metadata": {
    "collapsed": false
   },
   "outputs": [
    {
     "name": "stdout",
     "output_type": "stream",
     "text": [
      "-0.07 0.29\n"
     ]
    }
   ],
   "source": [
    "from Discussion import Discussion\n",
    "discussion = Discussion(group)\n",
    "test_opinion(discussion)"
   ]
  },
  {
   "cell_type": "code",
   "execution_count": null,
   "metadata": {
    "collapsed": true
   },
   "outputs": [],
   "source": [
    "# discussion.discuss\n",
    "# discussion.discuss\n",
    "# discussion.discuss\n",
    "# discussion.discuss\n",
    "# discussion.discuss\n",
    "# discussion.discuss\n",
    "# # discussion.group"
   ]
  },
  {
   "cell_type": "code",
   "execution_count": null,
   "metadata": {
    "collapsed": true
   },
   "outputs": [],
   "source": []
  },
  {
   "cell_type": "code",
   "execution_count": null,
   "metadata": {
    "collapsed": false
   },
   "outputs": [],
   "source": [
    "discussion.discuss()\n",
    "discussion.group"
   ]
  },
  {
   "cell_type": "code",
   "execution_count": 8,
   "metadata": {
    "collapsed": false
   },
   "outputs": [
    {
     "name": "stdout",
     "output_type": "stream",
     "text": [
      "-0.07 -0.06\n",
      "-0.07 -0.06\n",
      "-0.07 -0.06\n",
      "-0.07 -0.06\n",
      "-0.07 -0.06\n",
      "-0.07 -0.06\n",
      "-0.07 -0.06\n",
      "-0.07 -0.06\n",
      "-0.07 -0.06\n",
      "-0.07 -0.06\n"
     ]
    }
   ],
   "source": [
    "for interact in range(10):\n",
    "    discussion.discuss()\n",
    "    test_opinion(discussion)\n"
   ]
  },
  {
   "cell_type": "code",
   "execution_count": null,
   "metadata": {
    "collapsed": true
   },
   "outputs": [],
   "source": []
  }
 ],
 "metadata": {
  "kernelspec": {
   "display_name": "Python 2",
   "language": "python",
   "name": "python2"
  },
  "language_info": {
   "codemirror_mode": {
    "name": "ipython",
    "version": 2
   },
   "file_extension": ".py",
   "mimetype": "text/x-python",
   "name": "python",
   "nbconvert_exporter": "python",
   "pygments_lexer": "ipython2",
   "version": "2.7.13"
  }
 },
 "nbformat": 4,
 "nbformat_minor": 2
}
